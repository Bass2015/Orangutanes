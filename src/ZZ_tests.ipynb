{
 "cells": [
  {
   "cell_type": "code",
   "execution_count": 4,
   "metadata": {},
   "outputs": [],
   "source": [
    "import pandas as pd\n",
    "import plotly.express as px\n",
    "import plotly.graph_objects as go\n",
    "from plotly.subplots import make_subplots\n",
    "\n",
    "whole_df = pd.read_csv('../data/clean_df.csv', index_col=[0])"
   ]
  },
  {
   "cell_type": "code",
   "execution_count": 2,
   "metadata": {},
   "outputs": [
    {
     "data": {
      "text/plain": [
       "array(['Individual', 'Social', 'Social-Ludic', 'Agonistic', nan, 'Public',\n",
       "       'Ludic', 'Sexual'], dtype=object)"
      ]
     },
     "execution_count": 2,
     "metadata": {},
     "output_type": "execute_result"
    }
   ],
   "source": [
    "whole_df['macro_bhv'].unique()"
   ]
  },
  {
   "cell_type": "code",
   "execution_count": 33,
   "metadata": {},
   "outputs": [
    {
     "data": {
      "text/html": [
       "<div>\n",
       "<style scoped>\n",
       "    .dataframe tbody tr th:only-of-type {\n",
       "        vertical-align: middle;\n",
       "    }\n",
       "\n",
       "    .dataframe tbody tr th {\n",
       "        vertical-align: top;\n",
       "    }\n",
       "\n",
       "    .dataframe thead th {\n",
       "        text-align: right;\n",
       "    }\n",
       "</style>\n",
       "<table border=\"1\" class=\"dataframe\">\n",
       "  <thead>\n",
       "    <tr style=\"text-align: right;\">\n",
       "      <th></th>\n",
       "      <th>date</th>\n",
       "      <th>subject</th>\n",
       "      <th>period</th>\n",
       "      <th>reg</th>\n",
       "      <th>behavior</th>\n",
       "      <th>receptor</th>\n",
       "      <th>duration</th>\n",
       "      <th>bhv_category</th>\n",
       "      <th>macro_bhv</th>\n",
       "      <th>rel_duration</th>\n",
       "    </tr>\n",
       "  </thead>\n",
       "  <tbody>\n",
       "    <tr>\n",
       "      <th>0</th>\n",
       "      <td>2019-04-15</td>\n",
       "      <td>Karl</td>\n",
       "      <td>pregame</td>\n",
       "      <td>1</td>\n",
       "      <td>cam</td>\n",
       "      <td>[]</td>\n",
       "      <td>15.0</td>\n",
       "      <td>moving</td>\n",
       "      <td>Individual</td>\n",
       "      <td>0.024671</td>\n",
       "    </tr>\n",
       "    <tr>\n",
       "      <th>1</th>\n",
       "      <td>2019-04-15</td>\n",
       "      <td>Karl</td>\n",
       "      <td>pregame</td>\n",
       "      <td>1</td>\n",
       "      <td>forr</td>\n",
       "      <td>[]</td>\n",
       "      <td>34.0</td>\n",
       "      <td>feeding</td>\n",
       "      <td>Individual</td>\n",
       "      <td>0.055921</td>\n",
       "    </tr>\n",
       "    <tr>\n",
       "      <th>2</th>\n",
       "      <td>2019-04-15</td>\n",
       "      <td>Karl</td>\n",
       "      <td>pregame</td>\n",
       "      <td>1</td>\n",
       "      <td>sen</td>\n",
       "      <td>[]</td>\n",
       "      <td>52.0</td>\n",
       "      <td>resting</td>\n",
       "      <td>Individual</td>\n",
       "      <td>0.085526</td>\n",
       "    </tr>\n",
       "    <tr>\n",
       "      <th>3</th>\n",
       "      <td>2019-04-15</td>\n",
       "      <td>Karl</td>\n",
       "      <td>pregame</td>\n",
       "      <td>1</td>\n",
       "      <td>cam</td>\n",
       "      <td>[]</td>\n",
       "      <td>5.0</td>\n",
       "      <td>moving</td>\n",
       "      <td>Individual</td>\n",
       "      <td>0.008224</td>\n",
       "    </tr>\n",
       "    <tr>\n",
       "      <th>4</th>\n",
       "      <td>2019-04-15</td>\n",
       "      <td>Karl</td>\n",
       "      <td>pregame</td>\n",
       "      <td>1</td>\n",
       "      <td>sen</td>\n",
       "      <td>[]</td>\n",
       "      <td>34.0</td>\n",
       "      <td>resting</td>\n",
       "      <td>Individual</td>\n",
       "      <td>0.055921</td>\n",
       "    </tr>\n",
       "    <tr>\n",
       "      <th>5</th>\n",
       "      <td>2019-04-15</td>\n",
       "      <td>Karl</td>\n",
       "      <td>pregame</td>\n",
       "      <td>1</td>\n",
       "      <td>cam</td>\n",
       "      <td>[]</td>\n",
       "      <td>22.0</td>\n",
       "      <td>moving</td>\n",
       "      <td>Individual</td>\n",
       "      <td>0.036184</td>\n",
       "    </tr>\n",
       "    <tr>\n",
       "      <th>6</th>\n",
       "      <td>2019-04-15</td>\n",
       "      <td>Karl</td>\n",
       "      <td>pregame</td>\n",
       "      <td>1</td>\n",
       "      <td>alim</td>\n",
       "      <td>[]</td>\n",
       "      <td>34.0</td>\n",
       "      <td>feeding</td>\n",
       "      <td>Individual</td>\n",
       "      <td>0.055921</td>\n",
       "    </tr>\n",
       "    <tr>\n",
       "      <th>7</th>\n",
       "      <td>2019-04-15</td>\n",
       "      <td>Karl</td>\n",
       "      <td>pregame</td>\n",
       "      <td>1</td>\n",
       "      <td>ras</td>\n",
       "      <td>[]</td>\n",
       "      <td>4.0</td>\n",
       "      <td>grooming</td>\n",
       "      <td>Individual</td>\n",
       "      <td>0.006579</td>\n",
       "    </tr>\n",
       "    <tr>\n",
       "      <th>8</th>\n",
       "      <td>2019-04-15</td>\n",
       "      <td>Karl</td>\n",
       "      <td>pregame</td>\n",
       "      <td>1</td>\n",
       "      <td>sen</td>\n",
       "      <td>[]</td>\n",
       "      <td>44.0</td>\n",
       "      <td>resting</td>\n",
       "      <td>Individual</td>\n",
       "      <td>0.072368</td>\n",
       "    </tr>\n",
       "    <tr>\n",
       "      <th>10</th>\n",
       "      <td>2019-04-15</td>\n",
       "      <td>Karl</td>\n",
       "      <td>pregame</td>\n",
       "      <td>1</td>\n",
       "      <td>sen</td>\n",
       "      <td>[]</td>\n",
       "      <td>28.0</td>\n",
       "      <td>resting</td>\n",
       "      <td>Individual</td>\n",
       "      <td>0.046053</td>\n",
       "    </tr>\n",
       "    <tr>\n",
       "      <th>11</th>\n",
       "      <td>2019-04-15</td>\n",
       "      <td>Karl</td>\n",
       "      <td>pregame</td>\n",
       "      <td>1</td>\n",
       "      <td>cam</td>\n",
       "      <td>[]</td>\n",
       "      <td>13.0</td>\n",
       "      <td>moving</td>\n",
       "      <td>Individual</td>\n",
       "      <td>0.021382</td>\n",
       "    </tr>\n",
       "    <tr>\n",
       "      <th>12</th>\n",
       "      <td>2019-04-15</td>\n",
       "      <td>Karl</td>\n",
       "      <td>pregame</td>\n",
       "      <td>1</td>\n",
       "      <td>sen</td>\n",
       "      <td>[]</td>\n",
       "      <td>32.0</td>\n",
       "      <td>resting</td>\n",
       "      <td>Individual</td>\n",
       "      <td>0.052632</td>\n",
       "    </tr>\n",
       "    <tr>\n",
       "      <th>13</th>\n",
       "      <td>2019-04-15</td>\n",
       "      <td>Karl</td>\n",
       "      <td>pregame</td>\n",
       "      <td>1</td>\n",
       "      <td>forr</td>\n",
       "      <td>[]</td>\n",
       "      <td>49.0</td>\n",
       "      <td>feeding</td>\n",
       "      <td>Individual</td>\n",
       "      <td>0.080592</td>\n",
       "    </tr>\n",
       "    <tr>\n",
       "      <th>14</th>\n",
       "      <td>2019-04-15</td>\n",
       "      <td>Karl</td>\n",
       "      <td>pregame</td>\n",
       "      <td>1</td>\n",
       "      <td>cam</td>\n",
       "      <td>[]</td>\n",
       "      <td>6.0</td>\n",
       "      <td>moving</td>\n",
       "      <td>Individual</td>\n",
       "      <td>0.009868</td>\n",
       "    </tr>\n",
       "    <tr>\n",
       "      <th>15</th>\n",
       "      <td>2019-04-15</td>\n",
       "      <td>Karl</td>\n",
       "      <td>pregame</td>\n",
       "      <td>1</td>\n",
       "      <td>sen</td>\n",
       "      <td>[]</td>\n",
       "      <td>52.0</td>\n",
       "      <td>resting</td>\n",
       "      <td>Individual</td>\n",
       "      <td>0.085526</td>\n",
       "    </tr>\n",
       "    <tr>\n",
       "      <th>16</th>\n",
       "      <td>2019-04-15</td>\n",
       "      <td>Karl</td>\n",
       "      <td>pregame</td>\n",
       "      <td>1</td>\n",
       "      <td>cam</td>\n",
       "      <td>[]</td>\n",
       "      <td>12.0</td>\n",
       "      <td>moving</td>\n",
       "      <td>Individual</td>\n",
       "      <td>0.019737</td>\n",
       "    </tr>\n",
       "    <tr>\n",
       "      <th>17</th>\n",
       "      <td>2019-04-15</td>\n",
       "      <td>Karl</td>\n",
       "      <td>pregame</td>\n",
       "      <td>1</td>\n",
       "      <td>forr</td>\n",
       "      <td>[]</td>\n",
       "      <td>9.0</td>\n",
       "      <td>feeding</td>\n",
       "      <td>Individual</td>\n",
       "      <td>0.014803</td>\n",
       "    </tr>\n",
       "    <tr>\n",
       "      <th>18</th>\n",
       "      <td>2019-04-15</td>\n",
       "      <td>Karl</td>\n",
       "      <td>pregame</td>\n",
       "      <td>1</td>\n",
       "      <td>cam</td>\n",
       "      <td>[]</td>\n",
       "      <td>68.0</td>\n",
       "      <td>moving</td>\n",
       "      <td>Individual</td>\n",
       "      <td>0.111842</td>\n",
       "    </tr>\n",
       "    <tr>\n",
       "      <th>19</th>\n",
       "      <td>2019-04-15</td>\n",
       "      <td>Karl</td>\n",
       "      <td>pregame</td>\n",
       "      <td>1</td>\n",
       "      <td>sen</td>\n",
       "      <td>[]</td>\n",
       "      <td>95.0</td>\n",
       "      <td>resting</td>\n",
       "      <td>Individual</td>\n",
       "      <td>0.156250</td>\n",
       "    </tr>\n",
       "    <tr>\n",
       "      <th>20</th>\n",
       "      <td>2019-04-15</td>\n",
       "      <td>Karl</td>\n",
       "      <td>pregame</td>\n",
       "      <td>2</td>\n",
       "      <td>tum</td>\n",
       "      <td>[]</td>\n",
       "      <td>66.0</td>\n",
       "      <td>resting</td>\n",
       "      <td>Individual</td>\n",
       "      <td>0.110000</td>\n",
       "    </tr>\n",
       "    <tr>\n",
       "      <th>21</th>\n",
       "      <td>2019-04-15</td>\n",
       "      <td>Karl</td>\n",
       "      <td>pregame</td>\n",
       "      <td>2</td>\n",
       "      <td>alim</td>\n",
       "      <td>[]</td>\n",
       "      <td>9.0</td>\n",
       "      <td>feeding</td>\n",
       "      <td>Individual</td>\n",
       "      <td>0.015000</td>\n",
       "    </tr>\n",
       "    <tr>\n",
       "      <th>22</th>\n",
       "      <td>2019-04-15</td>\n",
       "      <td>Karl</td>\n",
       "      <td>pregame</td>\n",
       "      <td>2</td>\n",
       "      <td>tum</td>\n",
       "      <td>[]</td>\n",
       "      <td>525.0</td>\n",
       "      <td>resting</td>\n",
       "      <td>Individual</td>\n",
       "      <td>0.875000</td>\n",
       "    </tr>\n",
       "  </tbody>\n",
       "</table>\n",
       "</div>"
      ],
      "text/plain": [
       "          date subject   period  reg behavior receptor  duration bhv_category  \\\n",
       "0   2019-04-15    Karl  pregame    1      cam       []      15.0       moving   \n",
       "1   2019-04-15    Karl  pregame    1     forr       []      34.0      feeding   \n",
       "2   2019-04-15    Karl  pregame    1      sen       []      52.0      resting   \n",
       "3   2019-04-15    Karl  pregame    1      cam       []       5.0       moving   \n",
       "4   2019-04-15    Karl  pregame    1      sen       []      34.0      resting   \n",
       "5   2019-04-15    Karl  pregame    1      cam       []      22.0       moving   \n",
       "6   2019-04-15    Karl  pregame    1     alim       []      34.0      feeding   \n",
       "7   2019-04-15    Karl  pregame    1      ras       []       4.0     grooming   \n",
       "8   2019-04-15    Karl  pregame    1      sen       []      44.0      resting   \n",
       "10  2019-04-15    Karl  pregame    1      sen       []      28.0      resting   \n",
       "11  2019-04-15    Karl  pregame    1      cam       []      13.0       moving   \n",
       "12  2019-04-15    Karl  pregame    1      sen       []      32.0      resting   \n",
       "13  2019-04-15    Karl  pregame    1     forr       []      49.0      feeding   \n",
       "14  2019-04-15    Karl  pregame    1      cam       []       6.0       moving   \n",
       "15  2019-04-15    Karl  pregame    1      sen       []      52.0      resting   \n",
       "16  2019-04-15    Karl  pregame    1      cam       []      12.0       moving   \n",
       "17  2019-04-15    Karl  pregame    1     forr       []       9.0      feeding   \n",
       "18  2019-04-15    Karl  pregame    1      cam       []      68.0       moving   \n",
       "19  2019-04-15    Karl  pregame    1      sen       []      95.0      resting   \n",
       "20  2019-04-15    Karl  pregame    2      tum       []      66.0      resting   \n",
       "21  2019-04-15    Karl  pregame    2     alim       []       9.0      feeding   \n",
       "22  2019-04-15    Karl  pregame    2      tum       []     525.0      resting   \n",
       "\n",
       "     macro_bhv  rel_duration  \n",
       "0   Individual      0.024671  \n",
       "1   Individual      0.055921  \n",
       "2   Individual      0.085526  \n",
       "3   Individual      0.008224  \n",
       "4   Individual      0.055921  \n",
       "5   Individual      0.036184  \n",
       "6   Individual      0.055921  \n",
       "7   Individual      0.006579  \n",
       "8   Individual      0.072368  \n",
       "10  Individual      0.046053  \n",
       "11  Individual      0.021382  \n",
       "12  Individual      0.052632  \n",
       "13  Individual      0.080592  \n",
       "14  Individual      0.009868  \n",
       "15  Individual      0.085526  \n",
       "16  Individual      0.019737  \n",
       "17  Individual      0.014803  \n",
       "18  Individual      0.111842  \n",
       "19  Individual      0.156250  \n",
       "20  Individual      0.110000  \n",
       "21  Individual      0.015000  \n",
       "22  Individual      0.875000  "
      ]
     },
     "execution_count": 33,
     "metadata": {},
     "output_type": "execute_result"
    }
   ],
   "source": [
    "from queries import where_subject_and_date\n",
    "where_subject_and_date(whole_df, 'Karl', '2019-04-15')"
   ]
  },
  {
   "cell_type": "code",
   "execution_count": 36,
   "metadata": {},
   "outputs": [
    {
     "data": {
      "text/html": [
       "<div>\n",
       "<style scoped>\n",
       "    .dataframe tbody tr th:only-of-type {\n",
       "        vertical-align: middle;\n",
       "    }\n",
       "\n",
       "    .dataframe tbody tr th {\n",
       "        vertical-align: top;\n",
       "    }\n",
       "\n",
       "    .dataframe thead th {\n",
       "        text-align: right;\n",
       "    }\n",
       "</style>\n",
       "<table border=\"1\" class=\"dataframe\">\n",
       "  <thead>\n",
       "    <tr style=\"text-align: right;\">\n",
       "      <th></th>\n",
       "      <th>date</th>\n",
       "      <th>reg</th>\n",
       "      <th>subject</th>\n",
       "      <th>macro_bhv</th>\n",
       "      <th>period</th>\n",
       "      <th>duration</th>\n",
       "    </tr>\n",
       "  </thead>\n",
       "  <tbody>\n",
       "    <tr>\n",
       "      <th>0</th>\n",
       "      <td>2019-04-15</td>\n",
       "      <td>1</td>\n",
       "      <td>Hadia</td>\n",
       "      <td>Individual</td>\n",
       "      <td>pregame</td>\n",
       "      <td>46.0</td>\n",
       "    </tr>\n",
       "    <tr>\n",
       "      <th>1</th>\n",
       "      <td>2019-04-15</td>\n",
       "      <td>1</td>\n",
       "      <td>Hadia</td>\n",
       "      <td>Social</td>\n",
       "      <td>pregame</td>\n",
       "      <td>359.0</td>\n",
       "    </tr>\n",
       "    <tr>\n",
       "      <th>2</th>\n",
       "      <td>2019-04-15</td>\n",
       "      <td>1</td>\n",
       "      <td>Hadia</td>\n",
       "      <td>Social-Ludic</td>\n",
       "      <td>pregame</td>\n",
       "      <td>195.0</td>\n",
       "    </tr>\n",
       "    <tr>\n",
       "      <th>3</th>\n",
       "      <td>2019-04-15</td>\n",
       "      <td>1</td>\n",
       "      <td>Jawie</td>\n",
       "      <td>Individual</td>\n",
       "      <td>pregame</td>\n",
       "      <td>419.0</td>\n",
       "    </tr>\n",
       "    <tr>\n",
       "      <th>4</th>\n",
       "      <td>2019-04-15</td>\n",
       "      <td>1</td>\n",
       "      <td>Jawie</td>\n",
       "      <td>Ludic</td>\n",
       "      <td>pregame</td>\n",
       "      <td>40.0</td>\n",
       "    </tr>\n",
       "    <tr>\n",
       "      <th>...</th>\n",
       "      <td>...</td>\n",
       "      <td>...</td>\n",
       "      <td>...</td>\n",
       "      <td>...</td>\n",
       "      <td>...</td>\n",
       "      <td>...</td>\n",
       "    </tr>\n",
       "    <tr>\n",
       "      <th>1249</th>\n",
       "      <td>2019-07-19</td>\n",
       "      <td>2</td>\n",
       "      <td>Popo</td>\n",
       "      <td>Social</td>\n",
       "      <td>postgame</td>\n",
       "      <td>161.0</td>\n",
       "    </tr>\n",
       "    <tr>\n",
       "      <th>1250</th>\n",
       "      <td>2019-07-19</td>\n",
       "      <td>2</td>\n",
       "      <td>Storma</td>\n",
       "      <td>Individual</td>\n",
       "      <td>postgame</td>\n",
       "      <td>500.0</td>\n",
       "    </tr>\n",
       "    <tr>\n",
       "      <th>1251</th>\n",
       "      <td>2019-07-19</td>\n",
       "      <td>2</td>\n",
       "      <td>Storma</td>\n",
       "      <td>Ludic</td>\n",
       "      <td>postgame</td>\n",
       "      <td>12.0</td>\n",
       "    </tr>\n",
       "    <tr>\n",
       "      <th>1252</th>\n",
       "      <td>2019-07-19</td>\n",
       "      <td>2</td>\n",
       "      <td>Storma</td>\n",
       "      <td>Social</td>\n",
       "      <td>postgame</td>\n",
       "      <td>78.0</td>\n",
       "    </tr>\n",
       "    <tr>\n",
       "      <th>1253</th>\n",
       "      <td>2019-07-19</td>\n",
       "      <td>2</td>\n",
       "      <td>Storma</td>\n",
       "      <td>Social-Ludic</td>\n",
       "      <td>postgame</td>\n",
       "      <td>12.0</td>\n",
       "    </tr>\n",
       "  </tbody>\n",
       "</table>\n",
       "<p>1254 rows × 6 columns</p>\n",
       "</div>"
      ],
      "text/plain": [
       "            date  reg subject     macro_bhv    period  duration\n",
       "0     2019-04-15    1   Hadia    Individual   pregame      46.0\n",
       "1     2019-04-15    1   Hadia        Social   pregame     359.0\n",
       "2     2019-04-15    1   Hadia  Social-Ludic   pregame     195.0\n",
       "3     2019-04-15    1   Jawie    Individual   pregame     419.0\n",
       "4     2019-04-15    1   Jawie         Ludic   pregame      40.0\n",
       "...          ...  ...     ...           ...       ...       ...\n",
       "1249  2019-07-19    2    Popo        Social  postgame     161.0\n",
       "1250  2019-07-19    2  Storma    Individual  postgame     500.0\n",
       "1251  2019-07-19    2  Storma         Ludic  postgame      12.0\n",
       "1252  2019-07-19    2  Storma        Social  postgame      78.0\n",
       "1253  2019-07-19    2  Storma  Social-Ludic  postgame      12.0\n",
       "\n",
       "[1254 rows x 6 columns]"
      ]
     },
     "execution_count": 36,
     "metadata": {},
     "output_type": "execute_result"
    }
   ],
   "source": [
    "macro_df = whole_df.groupby(['date', 'reg','subject','macro_bhv', 'period'])['duration'].sum().reset_index()\n",
    "macro_df"
   ]
  },
  {
   "cell_type": "code",
   "execution_count": 55,
   "metadata": {},
   "outputs": [
    {
     "data": {
      "text/html": [
       "<div>\n",
       "<style scoped>\n",
       "    .dataframe tbody tr th:only-of-type {\n",
       "        vertical-align: middle;\n",
       "    }\n",
       "\n",
       "    .dataframe tbody tr th {\n",
       "        vertical-align: top;\n",
       "    }\n",
       "\n",
       "    .dataframe thead th {\n",
       "        text-align: right;\n",
       "    }\n",
       "</style>\n",
       "<table border=\"1\" class=\"dataframe\">\n",
       "  <thead>\n",
       "    <tr style=\"text-align: right;\">\n",
       "      <th></th>\n",
       "      <th>date</th>\n",
       "      <th>subject</th>\n",
       "      <th>period</th>\n",
       "      <th>reg</th>\n",
       "      <th>behavior</th>\n",
       "      <th>receptor</th>\n",
       "      <th>duration</th>\n",
       "      <th>bhv_category</th>\n",
       "      <th>macro_bhv</th>\n",
       "      <th>rel_duration</th>\n",
       "    </tr>\n",
       "  </thead>\n",
       "  <tbody>\n",
       "    <tr>\n",
       "      <th>5413</th>\n",
       "      <td>2019-05-06</td>\n",
       "      <td>Popo</td>\n",
       "      <td>pregame</td>\n",
       "      <td>1</td>\n",
       "      <td>sex</td>\n",
       "      <td>['Jawie']</td>\n",
       "      <td>19.0</td>\n",
       "      <td>sex</td>\n",
       "      <td>Sexual</td>\n",
       "      <td>0.031667</td>\n",
       "    </tr>\n",
       "    <tr>\n",
       "      <th>5415</th>\n",
       "      <td>2019-05-06</td>\n",
       "      <td>Popo</td>\n",
       "      <td>pregame</td>\n",
       "      <td>1</td>\n",
       "      <td>sex</td>\n",
       "      <td>['Jawie']</td>\n",
       "      <td>19.0</td>\n",
       "      <td>sex</td>\n",
       "      <td>Sexual</td>\n",
       "      <td>0.031667</td>\n",
       "    </tr>\n",
       "    <tr>\n",
       "      <th>5418</th>\n",
       "      <td>2019-05-06</td>\n",
       "      <td>Popo</td>\n",
       "      <td>pregame</td>\n",
       "      <td>1</td>\n",
       "      <td>sex</td>\n",
       "      <td>['Jawie']</td>\n",
       "      <td>60.0</td>\n",
       "      <td>sex</td>\n",
       "      <td>Sexual</td>\n",
       "      <td>0.100000</td>\n",
       "    </tr>\n",
       "    <tr>\n",
       "      <th>5422</th>\n",
       "      <td>2019-05-06</td>\n",
       "      <td>Popo</td>\n",
       "      <td>pregame</td>\n",
       "      <td>1</td>\n",
       "      <td>sex</td>\n",
       "      <td>['Jawie']</td>\n",
       "      <td>30.0</td>\n",
       "      <td>sex</td>\n",
       "      <td>Sexual</td>\n",
       "      <td>0.050000</td>\n",
       "    </tr>\n",
       "    <tr>\n",
       "      <th>5424</th>\n",
       "      <td>2019-05-06</td>\n",
       "      <td>Popo</td>\n",
       "      <td>pregame</td>\n",
       "      <td>1</td>\n",
       "      <td>sex</td>\n",
       "      <td>['Jawie']</td>\n",
       "      <td>163.0</td>\n",
       "      <td>sex</td>\n",
       "      <td>Sexual</td>\n",
       "      <td>0.271667</td>\n",
       "    </tr>\n",
       "    <tr>\n",
       "      <th>5426</th>\n",
       "      <td>2019-05-06</td>\n",
       "      <td>Popo</td>\n",
       "      <td>pregame</td>\n",
       "      <td>1</td>\n",
       "      <td>sex</td>\n",
       "      <td>['Jawie']</td>\n",
       "      <td>137.0</td>\n",
       "      <td>sex</td>\n",
       "      <td>Sexual</td>\n",
       "      <td>0.228333</td>\n",
       "    </tr>\n",
       "  </tbody>\n",
       "</table>\n",
       "</div>"
      ],
      "text/plain": [
       "            date subject   period  reg behavior   receptor  duration  \\\n",
       "5413  2019-05-06    Popo  pregame    1      sex  ['Jawie']      19.0   \n",
       "5415  2019-05-06    Popo  pregame    1      sex  ['Jawie']      19.0   \n",
       "5418  2019-05-06    Popo  pregame    1      sex  ['Jawie']      60.0   \n",
       "5422  2019-05-06    Popo  pregame    1      sex  ['Jawie']      30.0   \n",
       "5424  2019-05-06    Popo  pregame    1      sex  ['Jawie']     163.0   \n",
       "5426  2019-05-06    Popo  pregame    1      sex  ['Jawie']     137.0   \n",
       "\n",
       "     bhv_category macro_bhv  rel_duration  \n",
       "5413          sex    Sexual      0.031667  \n",
       "5415          sex    Sexual      0.031667  \n",
       "5418          sex    Sexual      0.100000  \n",
       "5422          sex    Sexual      0.050000  \n",
       "5424          sex    Sexual      0.271667  \n",
       "5426          sex    Sexual      0.228333  "
      ]
     },
     "execution_count": 55,
     "metadata": {},
     "output_type": "execute_result"
    }
   ],
   "source": [
    "whole_df[(whole_df['subject']=='Popo')&(whole_df['macro_bhv']=='Sexual')]"
   ]
  },
  {
   "cell_type": "code",
   "execution_count": 59,
   "metadata": {},
   "outputs": [
    {
     "data": {
      "application/vnd.plotly.v1+json": {
       "config": {
        "plotlyServerURL": "https://plot.ly"
       },
       "data": [
        {
         "domain": {
          "x": [
           0,
           1
          ],
          "y": [
           0,
           1
          ]
         },
         "hovertemplate": "macro_bhv=%{label}<br>duration=%{value}<extra></extra>",
         "labels": [
          "Agonistic",
          "Individual",
          "Ludic",
          "Public",
          "Social",
          "Social-Ludic"
         ],
         "legendgroup": "",
         "name": "",
         "showlegend": true,
         "type": "pie",
         "values": [
          123,
          11283,
          831,
          122,
          5090,
          54
         ]
        }
       ],
       "layout": {
        "legend": {
         "tracegroupgap": 0
        },
        "margin": {
         "t": 60
        },
        "template": {
         "data": {
          "bar": [
           {
            "error_x": {
             "color": "#2a3f5f"
            },
            "error_y": {
             "color": "#2a3f5f"
            },
            "marker": {
             "line": {
              "color": "#E5ECF6",
              "width": 0.5
             },
             "pattern": {
              "fillmode": "overlay",
              "size": 10,
              "solidity": 0.2
             }
            },
            "type": "bar"
           }
          ],
          "barpolar": [
           {
            "marker": {
             "line": {
              "color": "#E5ECF6",
              "width": 0.5
             },
             "pattern": {
              "fillmode": "overlay",
              "size": 10,
              "solidity": 0.2
             }
            },
            "type": "barpolar"
           }
          ],
          "carpet": [
           {
            "aaxis": {
             "endlinecolor": "#2a3f5f",
             "gridcolor": "white",
             "linecolor": "white",
             "minorgridcolor": "white",
             "startlinecolor": "#2a3f5f"
            },
            "baxis": {
             "endlinecolor": "#2a3f5f",
             "gridcolor": "white",
             "linecolor": "white",
             "minorgridcolor": "white",
             "startlinecolor": "#2a3f5f"
            },
            "type": "carpet"
           }
          ],
          "choropleth": [
           {
            "colorbar": {
             "outlinewidth": 0,
             "ticks": ""
            },
            "type": "choropleth"
           }
          ],
          "contour": [
           {
            "colorbar": {
             "outlinewidth": 0,
             "ticks": ""
            },
            "colorscale": [
             [
              0,
              "#0d0887"
             ],
             [
              0.1111111111111111,
              "#46039f"
             ],
             [
              0.2222222222222222,
              "#7201a8"
             ],
             [
              0.3333333333333333,
              "#9c179e"
             ],
             [
              0.4444444444444444,
              "#bd3786"
             ],
             [
              0.5555555555555556,
              "#d8576b"
             ],
             [
              0.6666666666666666,
              "#ed7953"
             ],
             [
              0.7777777777777778,
              "#fb9f3a"
             ],
             [
              0.8888888888888888,
              "#fdca26"
             ],
             [
              1,
              "#f0f921"
             ]
            ],
            "type": "contour"
           }
          ],
          "contourcarpet": [
           {
            "colorbar": {
             "outlinewidth": 0,
             "ticks": ""
            },
            "type": "contourcarpet"
           }
          ],
          "heatmap": [
           {
            "colorbar": {
             "outlinewidth": 0,
             "ticks": ""
            },
            "colorscale": [
             [
              0,
              "#0d0887"
             ],
             [
              0.1111111111111111,
              "#46039f"
             ],
             [
              0.2222222222222222,
              "#7201a8"
             ],
             [
              0.3333333333333333,
              "#9c179e"
             ],
             [
              0.4444444444444444,
              "#bd3786"
             ],
             [
              0.5555555555555556,
              "#d8576b"
             ],
             [
              0.6666666666666666,
              "#ed7953"
             ],
             [
              0.7777777777777778,
              "#fb9f3a"
             ],
             [
              0.8888888888888888,
              "#fdca26"
             ],
             [
              1,
              "#f0f921"
             ]
            ],
            "type": "heatmap"
           }
          ],
          "heatmapgl": [
           {
            "colorbar": {
             "outlinewidth": 0,
             "ticks": ""
            },
            "colorscale": [
             [
              0,
              "#0d0887"
             ],
             [
              0.1111111111111111,
              "#46039f"
             ],
             [
              0.2222222222222222,
              "#7201a8"
             ],
             [
              0.3333333333333333,
              "#9c179e"
             ],
             [
              0.4444444444444444,
              "#bd3786"
             ],
             [
              0.5555555555555556,
              "#d8576b"
             ],
             [
              0.6666666666666666,
              "#ed7953"
             ],
             [
              0.7777777777777778,
              "#fb9f3a"
             ],
             [
              0.8888888888888888,
              "#fdca26"
             ],
             [
              1,
              "#f0f921"
             ]
            ],
            "type": "heatmapgl"
           }
          ],
          "histogram": [
           {
            "marker": {
             "pattern": {
              "fillmode": "overlay",
              "size": 10,
              "solidity": 0.2
             }
            },
            "type": "histogram"
           }
          ],
          "histogram2d": [
           {
            "colorbar": {
             "outlinewidth": 0,
             "ticks": ""
            },
            "colorscale": [
             [
              0,
              "#0d0887"
             ],
             [
              0.1111111111111111,
              "#46039f"
             ],
             [
              0.2222222222222222,
              "#7201a8"
             ],
             [
              0.3333333333333333,
              "#9c179e"
             ],
             [
              0.4444444444444444,
              "#bd3786"
             ],
             [
              0.5555555555555556,
              "#d8576b"
             ],
             [
              0.6666666666666666,
              "#ed7953"
             ],
             [
              0.7777777777777778,
              "#fb9f3a"
             ],
             [
              0.8888888888888888,
              "#fdca26"
             ],
             [
              1,
              "#f0f921"
             ]
            ],
            "type": "histogram2d"
           }
          ],
          "histogram2dcontour": [
           {
            "colorbar": {
             "outlinewidth": 0,
             "ticks": ""
            },
            "colorscale": [
             [
              0,
              "#0d0887"
             ],
             [
              0.1111111111111111,
              "#46039f"
             ],
             [
              0.2222222222222222,
              "#7201a8"
             ],
             [
              0.3333333333333333,
              "#9c179e"
             ],
             [
              0.4444444444444444,
              "#bd3786"
             ],
             [
              0.5555555555555556,
              "#d8576b"
             ],
             [
              0.6666666666666666,
              "#ed7953"
             ],
             [
              0.7777777777777778,
              "#fb9f3a"
             ],
             [
              0.8888888888888888,
              "#fdca26"
             ],
             [
              1,
              "#f0f921"
             ]
            ],
            "type": "histogram2dcontour"
           }
          ],
          "mesh3d": [
           {
            "colorbar": {
             "outlinewidth": 0,
             "ticks": ""
            },
            "type": "mesh3d"
           }
          ],
          "parcoords": [
           {
            "line": {
             "colorbar": {
              "outlinewidth": 0,
              "ticks": ""
             }
            },
            "type": "parcoords"
           }
          ],
          "pie": [
           {
            "automargin": true,
            "type": "pie"
           }
          ],
          "scatter": [
           {
            "fillpattern": {
             "fillmode": "overlay",
             "size": 10,
             "solidity": 0.2
            },
            "type": "scatter"
           }
          ],
          "scatter3d": [
           {
            "line": {
             "colorbar": {
              "outlinewidth": 0,
              "ticks": ""
             }
            },
            "marker": {
             "colorbar": {
              "outlinewidth": 0,
              "ticks": ""
             }
            },
            "type": "scatter3d"
           }
          ],
          "scattercarpet": [
           {
            "marker": {
             "colorbar": {
              "outlinewidth": 0,
              "ticks": ""
             }
            },
            "type": "scattercarpet"
           }
          ],
          "scattergeo": [
           {
            "marker": {
             "colorbar": {
              "outlinewidth": 0,
              "ticks": ""
             }
            },
            "type": "scattergeo"
           }
          ],
          "scattergl": [
           {
            "marker": {
             "colorbar": {
              "outlinewidth": 0,
              "ticks": ""
             }
            },
            "type": "scattergl"
           }
          ],
          "scattermapbox": [
           {
            "marker": {
             "colorbar": {
              "outlinewidth": 0,
              "ticks": ""
             }
            },
            "type": "scattermapbox"
           }
          ],
          "scatterpolar": [
           {
            "marker": {
             "colorbar": {
              "outlinewidth": 0,
              "ticks": ""
             }
            },
            "type": "scatterpolar"
           }
          ],
          "scatterpolargl": [
           {
            "marker": {
             "colorbar": {
              "outlinewidth": 0,
              "ticks": ""
             }
            },
            "type": "scatterpolargl"
           }
          ],
          "scatterternary": [
           {
            "marker": {
             "colorbar": {
              "outlinewidth": 0,
              "ticks": ""
             }
            },
            "type": "scatterternary"
           }
          ],
          "surface": [
           {
            "colorbar": {
             "outlinewidth": 0,
             "ticks": ""
            },
            "colorscale": [
             [
              0,
              "#0d0887"
             ],
             [
              0.1111111111111111,
              "#46039f"
             ],
             [
              0.2222222222222222,
              "#7201a8"
             ],
             [
              0.3333333333333333,
              "#9c179e"
             ],
             [
              0.4444444444444444,
              "#bd3786"
             ],
             [
              0.5555555555555556,
              "#d8576b"
             ],
             [
              0.6666666666666666,
              "#ed7953"
             ],
             [
              0.7777777777777778,
              "#fb9f3a"
             ],
             [
              0.8888888888888888,
              "#fdca26"
             ],
             [
              1,
              "#f0f921"
             ]
            ],
            "type": "surface"
           }
          ],
          "table": [
           {
            "cells": {
             "fill": {
              "color": "#EBF0F8"
             },
             "line": {
              "color": "white"
             }
            },
            "header": {
             "fill": {
              "color": "#C8D4E3"
             },
             "line": {
              "color": "white"
             }
            },
            "type": "table"
           }
          ]
         },
         "layout": {
          "annotationdefaults": {
           "arrowcolor": "#2a3f5f",
           "arrowhead": 0,
           "arrowwidth": 1
          },
          "autotypenumbers": "strict",
          "coloraxis": {
           "colorbar": {
            "outlinewidth": 0,
            "ticks": ""
           }
          },
          "colorscale": {
           "diverging": [
            [
             0,
             "#8e0152"
            ],
            [
             0.1,
             "#c51b7d"
            ],
            [
             0.2,
             "#de77ae"
            ],
            [
             0.3,
             "#f1b6da"
            ],
            [
             0.4,
             "#fde0ef"
            ],
            [
             0.5,
             "#f7f7f7"
            ],
            [
             0.6,
             "#e6f5d0"
            ],
            [
             0.7,
             "#b8e186"
            ],
            [
             0.8,
             "#7fbc41"
            ],
            [
             0.9,
             "#4d9221"
            ],
            [
             1,
             "#276419"
            ]
           ],
           "sequential": [
            [
             0,
             "#0d0887"
            ],
            [
             0.1111111111111111,
             "#46039f"
            ],
            [
             0.2222222222222222,
             "#7201a8"
            ],
            [
             0.3333333333333333,
             "#9c179e"
            ],
            [
             0.4444444444444444,
             "#bd3786"
            ],
            [
             0.5555555555555556,
             "#d8576b"
            ],
            [
             0.6666666666666666,
             "#ed7953"
            ],
            [
             0.7777777777777778,
             "#fb9f3a"
            ],
            [
             0.8888888888888888,
             "#fdca26"
            ],
            [
             1,
             "#f0f921"
            ]
           ],
           "sequentialminus": [
            [
             0,
             "#0d0887"
            ],
            [
             0.1111111111111111,
             "#46039f"
            ],
            [
             0.2222222222222222,
             "#7201a8"
            ],
            [
             0.3333333333333333,
             "#9c179e"
            ],
            [
             0.4444444444444444,
             "#bd3786"
            ],
            [
             0.5555555555555556,
             "#d8576b"
            ],
            [
             0.6666666666666666,
             "#ed7953"
            ],
            [
             0.7777777777777778,
             "#fb9f3a"
            ],
            [
             0.8888888888888888,
             "#fdca26"
            ],
            [
             1,
             "#f0f921"
            ]
           ]
          },
          "colorway": [
           "#636efa",
           "#EF553B",
           "#00cc96",
           "#ab63fa",
           "#FFA15A",
           "#19d3f3",
           "#FF6692",
           "#B6E880",
           "#FF97FF",
           "#FECB52"
          ],
          "font": {
           "color": "#2a3f5f"
          },
          "geo": {
           "bgcolor": "white",
           "lakecolor": "white",
           "landcolor": "#E5ECF6",
           "showlakes": true,
           "showland": true,
           "subunitcolor": "white"
          },
          "hoverlabel": {
           "align": "left"
          },
          "hovermode": "closest",
          "mapbox": {
           "style": "light"
          },
          "paper_bgcolor": "white",
          "plot_bgcolor": "#E5ECF6",
          "polar": {
           "angularaxis": {
            "gridcolor": "white",
            "linecolor": "white",
            "ticks": ""
           },
           "bgcolor": "#E5ECF6",
           "radialaxis": {
            "gridcolor": "white",
            "linecolor": "white",
            "ticks": ""
           }
          },
          "scene": {
           "xaxis": {
            "backgroundcolor": "#E5ECF6",
            "gridcolor": "white",
            "gridwidth": 2,
            "linecolor": "white",
            "showbackground": true,
            "ticks": "",
            "zerolinecolor": "white"
           },
           "yaxis": {
            "backgroundcolor": "#E5ECF6",
            "gridcolor": "white",
            "gridwidth": 2,
            "linecolor": "white",
            "showbackground": true,
            "ticks": "",
            "zerolinecolor": "white"
           },
           "zaxis": {
            "backgroundcolor": "#E5ECF6",
            "gridcolor": "white",
            "gridwidth": 2,
            "linecolor": "white",
            "showbackground": true,
            "ticks": "",
            "zerolinecolor": "white"
           }
          },
          "shapedefaults": {
           "line": {
            "color": "#2a3f5f"
           }
          },
          "ternary": {
           "aaxis": {
            "gridcolor": "white",
            "linecolor": "white",
            "ticks": ""
           },
           "baxis": {
            "gridcolor": "white",
            "linecolor": "white",
            "ticks": ""
           },
           "bgcolor": "#E5ECF6",
           "caxis": {
            "gridcolor": "white",
            "linecolor": "white",
            "ticks": ""
           }
          },
          "title": {
           "x": 0.05
          },
          "xaxis": {
           "automargin": true,
           "gridcolor": "white",
           "linecolor": "white",
           "ticks": "",
           "title": {
            "standoff": 15
           },
           "zerolinecolor": "white",
           "zerolinewidth": 2
          },
          "yaxis": {
           "automargin": true,
           "gridcolor": "white",
           "linecolor": "white",
           "ticks": "",
           "title": {
            "standoff": 15
           },
           "zerolinecolor": "white",
           "zerolinewidth": 2
          }
         }
        }
       }
      }
     },
     "metadata": {},
     "output_type": "display_data"
    }
   ],
   "source": [
    "bhvsas=macro_df[(macro_df['subject']=='Locky')&(macro_df['period']=='postgame')].groupby('macro_bhv')['duration'].sum()\n",
    "\n",
    "px.pie(bhvsas.reset_index(), values='duration', names='macro_bhv')"
   ]
  },
  {
   "cell_type": "code",
   "execution_count": 48,
   "metadata": {},
   "outputs": [
    {
     "data": {
      "text/html": [
       "<div>\n",
       "<style scoped>\n",
       "    .dataframe tbody tr th:only-of-type {\n",
       "        vertical-align: middle;\n",
       "    }\n",
       "\n",
       "    .dataframe tbody tr th {\n",
       "        vertical-align: top;\n",
       "    }\n",
       "\n",
       "    .dataframe thead th {\n",
       "        text-align: right;\n",
       "    }\n",
       "</style>\n",
       "<table border=\"1\" class=\"dataframe\">\n",
       "  <thead>\n",
       "    <tr style=\"text-align: right;\">\n",
       "      <th></th>\n",
       "      <th>macro_bhv</th>\n",
       "      <th>duration</th>\n",
       "    </tr>\n",
       "  </thead>\n",
       "  <tbody>\n",
       "    <tr>\n",
       "      <th>0</th>\n",
       "      <td>Agonistic</td>\n",
       "      <td>66.0</td>\n",
       "    </tr>\n",
       "    <tr>\n",
       "      <th>1</th>\n",
       "      <td>Individual</td>\n",
       "      <td>5310.0</td>\n",
       "    </tr>\n",
       "    <tr>\n",
       "      <th>2</th>\n",
       "      <td>Ludic</td>\n",
       "      <td>5054.0</td>\n",
       "    </tr>\n",
       "    <tr>\n",
       "      <th>3</th>\n",
       "      <td>Social</td>\n",
       "      <td>4686.0</td>\n",
       "    </tr>\n",
       "    <tr>\n",
       "      <th>4</th>\n",
       "      <td>Social-Ludic</td>\n",
       "      <td>1715.0</td>\n",
       "    </tr>\n",
       "  </tbody>\n",
       "</table>\n",
       "</div>"
      ],
      "text/plain": [
       "      macro_bhv  duration\n",
       "0     Agonistic      66.0\n",
       "1    Individual    5310.0\n",
       "2         Ludic    5054.0\n",
       "3        Social    4686.0\n",
       "4  Social-Ludic    1715.0"
      ]
     },
     "execution_count": 48,
     "metadata": {},
     "output_type": "execute_result"
    }
   ],
   "source": [
    "bhvsas.reset_index()"
   ]
  },
  {
   "attachments": {},
   "cell_type": "markdown",
   "metadata": {},
   "source": [
    "# Histogram for all behaviors"
   ]
  },
  {
   "cell_type": "code",
   "execution_count": 4,
   "metadata": {},
   "outputs": [
    {
     "data": {
      "application/vnd.plotly.v1+json": {
       "config": {
        "plotlyServerURL": "https://plot.ly"
       },
       "data": [
        {
         "marker": {
          "color": "#C5D845"
         },
         "name": "cam",
         "type": "histogram",
         "x": [
          15,
          5,
          22,
          13,
          6,
          12,
          68,
          4,
          36,
          2,
          18,
          12,
          4,
          31,
          7,
          39,
          14,
          14,
          5,
          12,
          16,
          7,
          15,
          8,
          14,
          2,
          3,
          5,
          17,
          10,
          8,
          11,
          11,
          14,
          6,
          10,
          11,
          13,
          25,
          3,
          3,
          26,
          49,
          14,
          2,
          7,
          10,
          8,
          45,
          4,
          6,
          67,
          9,
          11,
          19,
          26,
          10,
          15,
          51,
          7,
          5,
          9,
          11,
          8,
          15,
          14,
          38,
          19,
          14,
          22,
          10,
          26,
          48,
          9,
          37,
          26,
          92,
          20,
          18,
          3,
          5,
          3,
          35,
          25,
          15,
          6,
          45,
          24,
          17,
          31,
          7,
          12,
          40,
          21,
          49,
          7,
          3,
          12,
          8,
          22,
          16,
          6,
          42,
          13,
          5,
          7,
          20,
          18,
          6,
          11,
          13,
          18,
          34,
          10,
          19,
          7,
          7,
          1,
          5,
          8,
          35,
          6,
          31,
          39,
          38,
          52,
          31,
          8,
          17,
          19,
          2,
          15,
          20,
          45,
          16,
          16,
          19,
          12,
          20,
          47,
          2,
          18,
          59,
          5,
          15,
          11,
          16,
          30,
          10,
          19,
          29,
          46,
          40,
          40,
          22,
          18,
          7,
          33,
          14,
          15,
          8,
          10,
          10,
          15,
          70,
          86,
          44,
          38,
          45,
          23,
          4,
          23,
          35,
          14,
          27,
          29,
          15,
          5,
          15,
          35,
          15,
          27,
          16,
          16,
          19,
          18,
          30,
          54,
          4,
          21,
          39,
          37,
          10,
          15,
          16,
          11,
          1,
          12,
          53,
          5,
          18,
          7,
          15,
          11,
          22,
          10,
          21,
          5,
          16,
          26,
          9,
          50,
          8,
          16,
          20,
          33,
          2,
          30,
          31,
          44,
          9,
          31,
          6,
          47,
          16,
          17,
          14,
          10,
          9,
          6,
          6,
          10,
          31,
          11,
          27,
          5,
          78,
          24,
          15,
          2,
          41,
          14,
          8,
          13,
          18,
          15,
          24,
          7,
          4,
          6,
          6,
          11,
          12,
          14,
          16,
          20,
          9,
          4,
          10,
          19,
          11,
          28,
          11,
          5,
          10,
          8,
          10,
          12,
          10,
          20,
          5,
          4,
          55,
          5,
          9,
          28,
          29,
          8,
          12,
          38,
          4,
          4,
          5,
          7,
          11,
          2,
          15,
          10,
          3,
          19,
          17,
          30,
          23,
          14,
          4,
          4,
          23,
          6,
          12,
          9,
          7,
          5,
          7,
          1,
          2,
          12,
          2,
          26,
          12,
          5,
          2,
          26,
          8,
          15,
          23,
          3,
          8,
          8,
          16,
          14,
          11,
          8,
          31,
          26,
          15,
          5,
          2,
          15,
          15,
          41,
          19,
          22,
          12,
          11,
          3,
          5,
          8,
          11,
          15,
          5,
          9,
          9,
          11,
          16,
          11,
          19,
          22,
          6,
          6,
          15,
          4,
          8,
          25,
          4,
          11,
          9,
          12,
          12,
          14,
          9,
          30,
          17,
          4,
          14,
          2,
          13,
          10,
          11,
          6,
          18,
          9,
          4,
          7,
          8,
          9,
          30,
          11,
          9,
          2,
          2,
          6,
          5,
          3,
          7,
          10,
          2,
          2,
          4,
          61,
          2,
          60,
          12,
          5,
          8,
          20,
          12,
          6,
          8,
          7,
          8,
          43,
          71,
          7,
          5,
          20,
          9,
          4,
          3,
          1,
          7,
          6,
          3,
          8,
          2,
          31,
          5,
          13,
          9,
          18,
          4,
          6,
          12,
          4,
          5,
          7,
          8,
          7,
          19,
          2,
          8,
          1,
          10,
          5,
          9,
          15,
          23,
          4,
          7,
          10,
          4,
          19,
          7,
          2,
          4,
          2,
          8,
          1,
          21,
          8,
          30,
          7,
          7,
          10,
          1,
          3,
          2,
          12,
          16,
          5,
          5,
          31,
          9,
          2,
          4,
          27,
          9,
          7,
          2,
          17,
          8,
          6,
          19,
          9,
          7,
          4,
          5,
          12,
          2,
          3,
          16,
          18,
          4,
          9,
          2,
          1,
          1,
          29,
          2,
          50,
          7,
          6,
          30,
          21,
          12,
          30,
          25,
          14,
          12,
          16,
          24,
          8,
          5,
          7,
          4,
          3,
          2,
          8,
          2,
          15,
          5,
          16,
          8,
          40,
          10,
          5,
          9,
          6,
          7,
          4,
          12,
          2,
          13,
          1,
          8,
          3,
          2,
          9,
          12,
          10,
          10,
          4,
          14,
          8,
          33,
          7,
          7,
          13,
          10,
          7,
          3,
          10,
          3,
          9,
          9,
          17,
          13,
          5,
          7,
          9,
          2,
          21,
          51,
          8,
          20,
          6,
          3,
          63,
          12,
          37,
          5,
          33,
          15,
          3,
          21,
          10,
          9,
          23,
          5,
          2,
          28,
          9,
          9,
          20,
          7,
          3,
          7,
          5,
          37,
          4,
          16,
          20,
          20,
          15,
          3,
          7,
          23,
          7,
          26,
          5,
          11,
          10,
          8,
          6,
          8,
          10,
          6,
          16,
          2,
          6,
          10,
          18,
          11,
          4,
          8,
          8,
          17,
          6,
          10,
          5,
          2,
          11,
          3,
          12,
          5,
          15,
          9,
          7,
          36,
          20,
          6,
          9,
          5,
          9,
          2,
          2,
          4,
          11,
          7,
          9,
          10,
          21,
          6,
          4,
          24,
          3,
          7,
          8,
          16,
          24,
          1,
          6,
          8,
          15,
          2,
          10,
          5,
          16,
          10,
          15,
          6,
          6,
          8,
          4,
          12,
          2,
          14,
          2,
          3,
          1,
          13,
          2,
          2,
          2,
          8,
          4,
          9,
          4,
          2,
          7,
          3,
          19,
          7,
          3,
          5,
          11,
          13,
          7,
          10,
          6,
          5,
          6,
          32,
          9,
          8,
          20,
          15,
          35,
          8,
          6,
          12,
          15,
          23,
          24,
          16,
          15,
          31,
          28,
          10,
          28,
          23,
          19,
          8,
          15,
          23,
          5,
          16,
          14,
          2,
          29,
          11,
          11,
          4,
          7,
          6,
          4,
          12,
          7,
          10,
          14,
          6,
          21,
          11,
          3,
          10,
          4,
          20,
          34,
          10,
          6,
          2,
          2,
          14,
          6,
          9,
          21,
          5,
          12,
          10,
          10,
          3,
          13,
          5,
          24,
          4,
          10,
          8,
          3,
          9,
          7,
          6,
          6,
          7,
          6,
          7,
          5,
          2,
          5,
          14,
          10,
          8,
          15,
          7,
          34,
          9,
          2,
          12,
          10,
          57,
          5,
          8,
          5,
          11,
          2,
          7,
          17,
          2,
          4,
          4,
          44,
          15,
          12,
          6,
          8,
          23,
          28,
          10,
          6,
          8,
          2,
          12,
          10,
          5,
          10,
          4,
          9,
          8,
          32,
          20,
          8,
          22,
          7,
          2,
          1,
          3,
          9,
          21,
          2,
          11,
          18,
          7,
          8,
          8,
          4,
          8,
          2,
          2,
          14,
          3,
          22,
          10,
          11,
          5,
          16,
          3,
          27,
          9,
          10,
          3,
          9,
          17,
          4,
          11,
          5,
          11,
          3,
          35,
          3,
          10,
          9,
          6,
          3,
          10,
          6,
          30,
          5,
          8,
          2,
          14,
          9,
          6,
          23,
          7,
          2,
          16,
          4,
          24,
          1,
          6,
          1,
          12,
          2,
          8,
          2,
          5,
          6,
          10,
          3,
          3,
          23,
          2,
          10,
          7,
          11,
          5,
          9,
          7,
          26,
          18,
          3,
          9,
          10,
          20,
          2,
          13,
          5,
          3,
          16,
          5,
          8,
          12,
          10,
          14,
          21,
          2,
          6,
          15,
          1,
          20,
          8,
          6,
          2,
          14,
          4,
          11,
          13,
          4,
          23,
          12,
          2,
          10,
          4,
          12,
          10,
          18,
          4,
          3,
          35,
          13,
          11,
          4,
          6,
          9,
          6,
          10,
          4,
          2,
          4,
          13,
          6,
          3,
          10,
          7,
          11,
          9,
          17,
          3,
          2,
          2,
          6,
          10,
          7,
          8,
          16,
          6,
          4,
          12,
          13,
          3,
          16,
          14,
          5,
          3,
          19,
          2,
          21,
          2,
          7,
          2,
          9,
          22,
          3,
          8,
          4,
          36,
          11,
          11,
          6,
          4,
          19,
          21,
          3,
          15,
          5,
          9,
          13,
          3,
          12,
          10,
          19,
          3,
          11,
          3,
          15,
          12,
          8,
          4,
          29,
          3,
          6,
          3,
          10
         ],
         "xaxis": "x",
         "yaxis": "y"
        },
        {
         "marker": {
          "color": "#C5D845"
         },
         "name": "forr",
         "type": "histogram",
         "x": [
          34,
          49,
          9,
          12,
          8,
          15,
          16,
          16,
          22,
          11,
          12,
          9,
          45,
          80,
          112,
          5,
          19,
          5,
          6,
          7,
          18,
          32,
          15,
          17,
          4,
          15,
          17,
          7,
          110,
          4,
          17,
          5,
          19,
          34,
          13,
          10,
          15,
          10,
          35,
          21,
          27,
          15,
          12,
          4,
          26,
          23,
          16,
          19,
          10,
          9,
          13,
          8,
          15,
          5,
          12,
          5,
          5,
          17,
          16,
          2,
          37,
          19,
          80,
          2,
          11,
          29,
          19,
          30,
          145,
          20,
          28,
          5,
          4,
          21,
          28,
          16,
          43,
          14,
          31,
          14,
          86,
          28,
          12,
          15,
          17,
          19,
          5,
          10,
          28,
          28,
          24,
          13,
          63,
          15,
          25,
          21,
          16,
          15,
          17,
          6,
          12,
          39,
          7,
          8,
          7,
          14,
          21,
          15,
          24,
          3,
          53,
          9,
          87,
          11,
          23,
          32,
          10,
          18,
          18,
          54,
          30,
          76,
          46,
          8,
          55,
          18,
          61,
          7,
          9,
          21,
          51,
          56,
          28,
          18,
          20,
          11,
          17,
          26,
          8,
          4,
          22,
          16,
          36,
          4,
          7,
          15,
          2,
          28,
          20,
          23,
          13,
          16,
          15,
          15,
          10,
          11,
          3,
          10,
          33,
          47,
          16,
          34,
          11,
          7,
          6,
          45,
          5,
          10,
          19,
          10,
          8,
          2,
          8,
          25,
          35,
          14,
          9,
          7,
          20,
          40,
          13,
          40,
          15,
          17,
          24,
          14,
          21,
          5,
          0.018,
          24,
          19,
          15,
          61,
          57,
          44,
          33,
          12,
          26,
          4,
          14,
          60,
          38,
          18,
          3,
          7,
          3,
          5,
          4,
          1,
          2,
          42,
          7,
          10,
          51,
          21,
          3,
          17,
          25,
          7,
          16,
          7,
          5,
          12,
          4,
          6,
          9,
          38,
          36,
          26,
          26,
          41,
          13,
          12,
          11,
          9,
          8,
          12,
          5,
          25,
          12,
          23,
          11,
          10,
          6,
          30,
          7,
          4,
          6,
          2,
          11,
          12,
          20,
          13,
          6,
          15,
          3,
          39,
          7,
          12,
          17,
          12,
          10,
          15,
          25,
          25,
          4,
          26,
          39,
          16,
          5,
          10,
          19,
          2,
          5,
          1,
          8,
          3,
          37,
          19,
          24,
          2,
          6,
          33,
          17,
          23,
          17,
          11,
          15,
          75,
          68,
          9,
          48,
          75,
          49,
          30,
          3,
          2,
          26,
          12,
          36,
          30,
          16,
          29,
          30,
          13,
          42,
          115,
          20,
          23,
          22,
          16,
          29,
          6,
          22,
          7,
          23,
          25,
          133,
          13,
          11,
          4,
          26,
          7,
          80,
          20,
          12,
          49,
          75,
          72,
          67,
          14,
          14,
          12,
          75,
          56,
          15,
          31,
          10,
          42,
          31,
          25,
          29,
          76,
          21,
          25,
          11,
          2,
          2,
          5,
          28,
          67,
          6,
          15,
          27,
          55,
          13,
          20,
          8,
          8,
          22,
          13,
          16,
          15,
          15,
          108,
          10,
          27,
          15,
          58,
          48,
          9,
          15,
          31,
          13,
          27,
          36,
          10,
          15,
          25,
          35,
          17,
          30,
          29,
          32,
          10,
          16,
          19,
          9,
          4,
          4,
          95,
          13,
          14,
          21,
          28,
          7,
          30,
          7,
          11,
          39,
          6,
          2,
          82,
          62,
          30,
          16,
          6,
          51,
          3,
          57,
          9,
          6,
          5,
          43,
          5,
          21,
          9,
          23,
          11,
          27,
          48,
          5,
          11,
          32,
          2,
          21,
          27,
          24,
          13,
          36,
          10
         ],
         "xaxis": "x2",
         "yaxis": "y2"
        },
        {
         "marker": {
          "color": "#C5D845"
         },
         "name": "sen",
         "type": "histogram",
         "x": [
          52,
          34,
          44,
          28,
          32,
          52,
          95,
          91,
          47,
          53,
          102,
          24,
          32,
          88,
          45,
          60,
          60,
          56,
          23,
          35,
          23,
          25,
          30,
          10,
          16,
          12,
          103,
          64,
          12,
          118,
          24,
          24,
          19,
          7,
          78,
          15,
          14,
          39,
          45,
          20,
          20,
          11,
          15,
          50,
          73,
          56,
          55,
          19,
          147,
          39,
          28,
          87,
          34,
          50,
          10,
          35,
          2,
          66,
          134,
          2,
          7,
          43,
          19,
          69,
          51,
          43,
          40,
          35,
          52,
          89,
          19,
          27,
          23,
          3,
          113,
          110,
          34,
          14,
          62,
          104,
          29,
          31,
          82,
          124,
          70,
          78,
          18,
          25,
          96,
          124,
          135,
          81,
          83,
          20,
          55,
          12,
          7,
          67,
          63,
          6,
          128,
          80,
          22,
          47,
          13,
          103,
          47,
          1,
          17,
          96,
          67,
          35,
          44,
          12,
          29,
          70,
          28,
          83,
          143,
          21,
          21,
          17,
          23,
          37,
          64,
          89,
          20,
          100,
          21,
          35,
          37,
          142,
          47,
          15,
          76,
          62,
          2,
          144,
          37,
          108,
          141,
          10,
          97,
          54,
          10,
          15,
          10,
          59,
          46,
          84,
          40,
          87,
          33,
          37,
          18,
          26,
          35,
          14,
          15,
          13,
          31,
          30,
          47,
          103,
          18,
          48,
          44,
          29,
          61,
          129,
          48,
          63,
          2,
          24,
          3,
          87,
          17,
          8,
          94,
          15,
          48,
          31,
          84,
          10,
          33,
          48,
          48,
          19,
          18,
          5,
          19,
          38,
          112,
          34,
          21,
          38,
          9,
          46,
          6,
          59,
          97,
          13,
          3,
          2,
          13,
          20,
          20,
          11,
          105,
          41,
          28,
          38,
          112,
          55,
          4,
          77,
          23,
          35,
          19,
          17,
          17,
          100,
          10,
          54,
          47,
          53,
          107,
          39,
          18,
          81,
          55,
          6,
          4,
          10,
          20,
          38,
          37,
          6,
          13,
          68,
          13,
          53,
          43,
          35,
          20,
          54,
          14,
          50,
          41,
          57,
          124,
          33,
          35,
          18,
          22,
          29,
          30,
          12,
          13,
          20,
          33,
          25,
          96,
          33,
          110,
          47,
          69,
          67,
          10,
          14,
          20,
          46,
          4,
          44,
          60,
          136,
          86,
          40,
          76,
          5,
          14,
          22,
          21,
          22,
          32,
          35,
          21,
          8,
          41,
          96,
          20,
          30,
          14,
          30,
          63,
          42,
          51,
          21,
          20,
          25,
          40,
          60,
          60,
          27,
          38,
          34,
          17,
          80,
          101,
          32,
          19,
          23,
          17,
          22,
          64,
          6,
          33,
          16,
          47,
          27,
          16,
          80,
          73,
          38,
          3,
          14,
          20,
          66,
          82,
          111,
          30,
          6,
          12,
          7,
          18,
          23,
          9,
          29,
          25,
          14,
          2,
          31,
          10,
          46,
          5,
          20,
          10,
          16,
          112,
          149,
          117,
          17,
          78,
          96,
          37,
          50,
          36,
          15,
          56,
          37,
          15,
          71,
          32,
          34,
          14,
          57,
          30,
          16,
          110,
          4,
          73,
          37,
          35,
          10,
          18,
          120,
          46,
          48,
          24,
          50,
          28,
          32,
          12,
          39,
          5,
          41,
          38,
          35,
          9,
          45,
          78,
          11,
          32,
          35,
          44,
          80,
          10,
          12,
          45,
          22,
          80,
          10,
          112,
          12,
          76,
          118,
          33,
          68,
          19,
          114,
          60,
          34,
          130,
          97,
          124,
          57,
          59,
          67,
          44,
          50,
          57,
          13,
          24,
          17,
          65,
          49,
          101,
          128,
          4,
          62,
          47,
          24,
          49,
          30,
          8,
          37,
          18,
          43,
          3,
          45,
          4,
          38,
          20,
          14,
          5,
          36,
          37,
          26,
          26,
          9,
          45,
          70,
          64,
          42,
          39,
          13,
          87,
          52,
          36,
          12,
          25,
          30,
          23,
          49,
          130,
          23,
          28,
          34,
          61,
          5,
          21,
          46,
          1,
          17,
          15,
          37,
          43,
          13,
          78,
          8,
          61,
          21,
          8,
          10,
          3,
          27,
          7,
          18,
          42,
          15,
          45,
          114,
          103,
          48,
          147,
          107,
          13,
          10,
          10,
          17,
          12,
          22,
          67,
          5,
          16,
          13,
          14,
          5,
          12,
          16,
          86,
          9,
          10,
          23,
          1,
          21,
          23,
          26,
          27,
          15,
          41,
          10,
          51,
          16,
          11,
          7,
          40,
          16,
          35,
          6,
          12,
          20,
          1,
          2,
          6,
          39,
          25,
          21,
          11,
          2,
          7,
          5,
          10,
          14,
          5,
          13,
          49,
          33,
          100,
          67,
          35,
          21,
          47,
          50,
          9,
          50,
          9,
          6,
          57,
          3,
          8,
          9,
          20,
          9,
          53,
          5,
          16,
          36,
          7,
          44,
          42,
          82,
          16,
          48,
          4,
          18,
          25,
          31,
          21,
          28,
          121,
          54,
          28,
          55,
          53,
          14,
          8,
          8,
          16,
          7,
          31,
          16,
          28,
          87,
          13,
          16,
          3,
          38,
          39,
          13,
          29,
          42,
          12,
          13,
          112,
          4,
          24,
          8,
          46,
          90,
          5,
          16,
          10,
          123,
          60,
          23,
          28,
          24,
          8,
          7,
          14,
          17,
          109,
          2,
          59,
          15,
          16,
          30,
          15,
          10,
          6,
          12,
          7,
          4,
          4,
          21,
          8,
          22,
          84,
          5,
          118,
          54,
          37,
          143,
          97,
          25,
          8,
          20,
          12,
          24,
          8,
          2,
          22,
          21,
          52,
          21,
          8,
          15,
          19,
          6,
          5,
          53,
          2,
          10,
          5,
          5,
          45,
          7,
          8,
          11,
          22,
          7,
          12,
          51,
          46,
          31,
          34,
          12,
          16,
          13,
          10,
          11,
          39,
          25,
          93,
          6,
          10,
          10,
          8,
          29,
          61,
          27,
          42,
          62,
          4,
          14,
          7,
          2,
          4,
          5,
          35,
          44,
          20,
          30,
          26,
          70,
          15,
          20,
          19,
          12,
          15,
          9,
          31,
          12,
          21,
          9,
          13,
          60,
          42,
          50,
          24,
          5,
          7,
          8,
          10,
          30,
          10,
          5,
          1,
          3,
          9,
          34,
          16,
          18,
          11,
          2,
          33,
          25,
          12,
          7,
          12,
          73,
          4,
          11,
          3,
          20,
          46,
          6,
          14,
          36,
          13,
          33,
          51,
          7,
          7,
          23,
          99,
          5,
          40,
          4,
          3,
          10,
          20,
          27,
          8,
          12,
          11,
          6,
          11,
          8,
          11,
          100,
          12,
          30,
          24,
          25,
          5,
          21,
          6,
          23,
          36,
          20,
          16,
          23,
          30,
          8,
          2,
          13,
          13,
          7,
          21,
          3,
          15,
          5,
          10,
          26,
          24,
          31,
          40,
          21,
          31,
          4,
          6,
          7,
          18,
          2,
          3,
          117,
          4,
          16,
          3,
          8,
          14,
          8,
          3,
          19,
          27,
          4,
          6,
          33,
          13,
          45,
          4,
          2,
          20,
          26,
          8,
          10,
          21,
          11,
          37,
          12,
          27,
          10,
          37,
          6,
          5,
          3,
          14,
          10,
          14,
          30,
          4,
          29,
          25,
          26,
          20,
          12,
          24,
          30,
          2,
          5,
          9,
          18,
          12,
          3,
          25,
          8,
          6,
          22,
          3,
          16,
          12,
          34,
          37,
          31,
          5,
          2,
          26,
          5,
          32,
          8,
          17,
          24,
          4,
          12,
          25,
          13,
          12,
          13,
          12,
          54,
          77,
          34,
          19,
          4,
          2,
          23,
          10,
          12,
          7,
          15
         ],
         "xaxis": "x3",
         "yaxis": "y3"
        },
        {
         "marker": {
          "color": "#C5D845"
         },
         "name": "alim",
         "type": "histogram",
         "x": [
          34,
          9,
          31,
          15,
          77,
          20,
          7,
          22,
          23,
          12,
          17,
          12,
          124,
          41,
          33,
          22,
          30,
          103,
          86,
          7,
          69,
          120,
          33,
          27,
          23,
          8,
          95,
          136,
          50,
          32,
          43,
          43,
          26,
          41,
          114,
          96,
          61,
          9,
          57,
          14,
          22,
          15,
          108,
          10,
          39,
          12,
          21,
          139,
          37,
          40,
          70,
          30,
          37,
          56,
          15,
          31,
          64,
          40,
          88,
          10,
          10,
          60,
          65,
          75,
          73,
          51,
          108,
          29,
          109,
          9,
          10,
          82,
          22,
          10,
          32,
          75,
          149,
          37,
          25,
          47,
          83,
          87,
          30,
          115,
          29,
          69,
          40,
          47,
          64,
          54,
          30,
          15,
          54,
          36,
          23,
          48,
          35,
          130,
          98,
          28,
          40,
          125,
          40,
          108,
          40,
          24,
          66,
          119,
          40,
          145,
          73,
          38,
          5,
          78,
          41,
          49,
          46,
          4,
          30,
          19,
          80,
          62,
          18,
          100,
          20,
          39,
          5,
          21,
          11,
          91,
          33,
          23,
          96,
          73,
          61,
          104,
          5,
          104,
          23,
          29,
          6,
          48,
          51,
          92,
          43,
          53,
          76,
          76,
          25,
          23,
          86,
          50,
          113,
          95,
          70,
          91,
          98,
          32,
          1,
          30,
          61,
          27,
          87,
          70,
          35,
          5,
          59,
          19,
          63,
          30,
          24,
          30,
          87,
          88,
          49,
          7,
          17,
          21,
          48,
          9,
          8,
          3,
          19,
          8,
          40,
          99,
          55,
          27,
          128,
          19,
          34,
          51,
          50,
          104,
          26,
          12,
          49,
          10,
          38,
          13,
          24,
          68,
          42,
          79,
          79,
          12,
          18,
          34,
          14,
          54,
          38,
          24,
          40,
          20,
          20,
          17,
          39,
          38,
          7,
          22,
          25,
          18,
          14,
          15,
          19,
          1,
          2,
          1,
          15,
          3,
          26,
          47,
          15,
          11,
          8,
          12,
          14,
          5,
          33,
          31,
          10,
          12,
          36,
          26,
          30,
          26,
          62,
          54,
          21,
          43,
          15,
          24,
          26,
          47,
          12,
          22,
          64,
          17,
          5,
          57,
          17,
          9,
          50,
          26,
          21,
          11,
          31,
          14,
          10,
          41,
          36,
          10,
          24,
          37,
          12,
          10,
          22,
          144,
          21,
          11,
          69,
          40,
          68,
          13,
          9,
          56,
          13,
          17,
          56,
          1,
          62,
          8,
          12,
          28,
          49,
          56,
          15,
          40,
          4,
          73,
          71,
          10,
          7,
          18,
          2,
          30,
          4,
          12,
          37,
          17,
          54,
          50,
          20,
          9,
          12,
          46,
          7,
          14,
          12,
          22,
          30,
          19,
          11,
          27,
          80,
          55,
          16,
          35,
          25,
          15,
          13,
          20,
          8,
          53,
          21,
          42,
          90,
          10,
          5,
          19,
          38,
          17,
          20,
          10,
          24,
          41,
          10,
          63,
          92,
          52,
          20,
          8,
          11,
          38,
          72,
          25,
          4,
          14,
          21,
          87,
          27,
          20,
          17,
          11,
          105,
          25,
          28,
          8,
          34,
          8,
          9,
          45,
          44,
          79,
          94,
          10,
          37,
          7,
          11,
          10,
          27,
          30,
          6,
          76,
          55,
          26,
          28,
          29,
          20,
          17,
          7,
          3,
          39,
          3,
          44,
          6,
          48,
          56,
          44,
          50,
          41,
          44,
          26,
          31,
          34,
          133,
          7,
          30,
          8,
          12,
          10,
          9,
          22,
          12,
          19,
          20,
          62,
          11,
          110,
          45,
          60,
          17,
          22,
          27,
          5,
          11,
          14,
          31,
          5,
          25,
          28,
          127,
          11,
          13,
          25,
          12,
          47,
          34,
          18,
          30,
          19,
          123,
          33,
          43,
          13,
          15,
          48,
          25,
          26,
          44,
          34,
          28,
          11,
          70,
          38,
          19,
          26,
          38,
          30,
          59,
          12,
          60,
          13,
          15,
          86,
          71,
          54,
          12,
          23,
          10,
          55,
          11,
          108,
          15,
          11,
          12,
          3,
          8,
          20,
          32,
          130,
          25,
          16,
          74,
          80,
          34,
          45,
          57,
          98,
          74,
          35,
          59,
          21,
          34,
          13,
          2,
          55,
          27,
          102,
          22,
          10,
          16,
          32,
          63,
          14,
          17,
          5,
          21,
          13,
          16,
          53,
          28,
          4,
          19,
          14,
          4,
          20,
          10,
          3,
          21,
          36,
          61,
          20,
          5,
          10,
          32,
          33,
          88,
          37,
          103,
          26,
          24,
          50,
          3,
          18,
          20,
          23,
          14,
          13,
          39,
          71,
          47,
          29,
          12,
          42,
          5,
          10,
          78,
          25,
          9,
          116,
          23,
          13,
          36,
          13,
          12,
          36,
          16,
          66,
          42,
          22,
          22,
          15,
          10,
          26,
          48,
          30,
          9,
          60,
          39,
          38,
          31,
          34,
          123,
          60,
          89,
          43,
          19,
          15,
          3,
          9,
          8,
          2,
          19,
          47,
          68,
          58,
          24,
          34,
          30,
          9,
          39,
          8,
          7,
          9,
          19,
          40,
          60,
          12,
          11,
          16,
          6,
          65,
          10,
          16,
          12,
          6,
          51,
          5,
          8,
          18,
          15,
          23,
          9,
          61,
          59,
          7,
          8,
          110,
          30,
          47,
          79,
          1,
          94
         ],
         "xaxis": "x4",
         "yaxis": "y4"
        },
        {
         "marker": {
          "color": "#C5D845"
         },
         "name": "ras",
         "type": "histogram",
         "x": [
          4,
          7,
          5,
          5,
          5,
          4,
          10,
          12,
          2,
          4,
          5,
          4,
          4,
          8,
          6,
          2,
          5,
          5,
          5,
          5,
          5,
          5,
          4,
          4,
          3,
          5,
          5,
          3,
          5,
          10,
          5,
          8,
          2,
          4,
          3,
          3,
          3,
          2,
          6,
          5,
          2,
          2,
          11,
          4,
          3,
          4,
          2,
          4,
          3,
          9,
          4,
          2,
          3,
          5,
          5,
          5,
          5,
          10,
          4,
          6,
          17,
          6,
          23,
          2,
          2,
          8,
          2,
          7,
          5,
          16,
          6,
          9,
          2,
          14,
          7,
          22,
          15,
          4,
          3,
          5,
          7,
          6,
          2,
          5,
          2,
          5,
          9,
          3,
          11,
          10,
          4,
          3,
          3,
          14,
          2,
          12,
          5,
          2,
          6,
          5,
          3,
          14,
          2,
          3,
          10,
          6,
          5,
          22,
          14,
          3,
          11,
          7,
          11,
          9,
          3,
          2,
          2,
          3,
          5,
          6,
          4,
          10,
          4,
          9,
          6,
          4,
          8,
          6,
          4,
          10,
          2,
          8,
          5,
          6,
          3,
          10,
          9,
          10,
          7,
          3,
          3,
          10,
          7,
          3,
          3,
          5,
          6,
          5,
          5,
          4,
          4,
          5,
          4,
          7,
          5,
          8,
          5,
          4,
          15,
          6,
          9,
          14,
          9,
          5,
          3,
          5,
          22,
          10,
          7,
          7,
          5,
          3,
          6,
          2,
          4,
          2,
          8,
          6,
          7,
          15,
          3,
          9,
          2,
          5,
          3,
          3,
          5,
          9,
          4,
          6,
          5,
          3,
          2,
          8,
          7,
          6,
          5,
          5,
          5,
          7,
          12,
          11,
          3,
          2,
          10,
          2,
          7,
          9,
          6,
          6,
          5,
          4,
          9,
          4,
          5,
          2,
          17,
          8,
          4,
          4,
          4,
          2,
          5,
          5,
          3,
          10,
          4,
          6
         ],
         "xaxis": "x5",
         "yaxis": "y5"
        },
        {
         "marker": {
          "color": "#C5D845"
         },
         "name": "tum",
         "type": "histogram",
         "x": [
          66,
          24,
          80,
          103,
          76,
          41,
          56,
          102,
          29,
          51,
          95,
          12,
          60,
          2,
          53,
          55,
          35,
          13,
          55,
          24,
          90,
          66,
          61,
          59,
          32,
          111,
          60,
          75,
          68,
          61,
          90,
          20,
          16,
          42,
          117,
          62,
          3,
          32,
          144,
          39,
          123,
          57,
          65,
          99,
          87,
          58,
          122,
          103,
          53,
          75,
          47,
          35,
          3,
          2,
          110,
          127,
          107,
          52,
          87,
          31,
          31,
          52,
          44,
          146,
          15,
          22,
          59,
          20,
          34,
          27,
          8,
          21,
          11,
          32,
          73,
          47,
          141,
          11,
          8,
          91,
          12,
          15,
          25,
          53,
          10,
          15,
          71,
          38,
          65,
          29,
          12,
          74,
          33,
          8,
          103,
          32,
          93,
          136,
          56,
          34,
          15,
          6,
          141,
          8,
          41,
          22,
          24,
          4,
          81,
          12,
          14,
          23,
          60,
          43,
          33,
          117,
          7,
          12,
          31,
          36,
          22,
          10,
          77,
          21,
          70,
          40,
          34,
          48,
          34,
          36,
          13,
          71,
          147,
          34,
          99,
          26,
          55,
          22,
          88,
          19,
          50,
          19,
          25,
          32,
          109,
          74,
          58,
          10,
          74,
          22,
          28,
          52,
          121,
          46,
          83,
          118,
          111,
          39,
          131,
          43,
          127,
          124,
          46,
          8,
          28,
          2,
          24,
          8,
          38,
          102,
          24,
          68,
          24,
          22,
          18,
          30,
          38,
          15,
          10,
          12,
          40,
          64,
          41,
          29,
          101,
          12,
          93,
          52,
          10,
          5,
          102,
          14,
          22,
          45,
          50,
          70,
          30,
          141,
          35,
          139,
          12,
          58,
          67,
          56,
          95,
          14,
          15,
          32,
          15,
          48,
          3,
          56,
          40,
          12,
          43,
          18,
          53,
          64,
          9,
          6,
          24,
          66,
          54,
          16,
          48,
          34,
          18,
          12,
          9,
          14,
          25,
          9,
          16,
          1,
          41,
          20,
          42,
          3,
          10,
          6,
          21,
          28,
          7,
          14,
          2,
          25,
          16,
          33,
          17,
          34,
          10,
          16,
          11,
          22,
          30,
          14,
          3,
          103,
          26,
          37,
          57,
          49,
          36,
          8,
          15,
          69,
          16
         ],
         "xaxis": "x6",
         "yaxis": "y6"
        },
        {
         "marker": {
          "color": "#C5D845"
         },
         "name": "tre",
         "type": "histogram",
         "x": [
          2,
          5,
          5,
          16,
          3,
          4,
          42,
          50,
          9,
          2,
          8,
          2,
          26,
          6,
          1,
          3,
          13,
          20,
          10,
          3,
          2,
          5,
          12,
          12,
          5,
          10,
          9,
          19,
          8,
          4,
          21,
          3,
          25,
          5,
          18,
          3,
          4,
          10,
          5,
          13,
          8,
          26,
          5,
          19,
          10,
          9,
          4,
          9,
          19,
          4,
          13,
          14,
          15,
          4,
          3,
          3,
          7,
          2,
          4,
          4,
          8,
          3,
          6,
          2,
          7,
          8,
          8,
          6,
          7,
          3,
          10,
          6,
          12,
          14,
          15,
          3,
          4,
          1,
          1,
          20,
          14,
          2,
          10,
          5,
          17,
          4,
          5,
          5,
          2,
          13,
          4,
          1,
          13,
          3,
          3,
          3,
          5,
          2,
          1,
          7,
          10,
          1,
          5,
          18,
          1,
          1,
          1,
          9,
          1,
          1,
          2,
          2,
          11,
          3,
          5,
          2,
          2,
          3,
          6,
          12,
          5,
          11,
          30,
          9,
          3,
          10,
          7,
          11,
          1,
          9,
          9,
          10,
          3,
          4,
          10,
          6,
          24,
          8,
          2,
          14,
          2,
          7,
          26,
          3,
          4,
          2,
          33,
          23,
          7,
          5,
          10,
          30,
          6,
          12,
          3,
          2,
          6,
          5,
          13,
          14,
          18,
          1,
          22,
          5,
          7,
          5,
          3,
          12,
          5,
          6,
          15,
          2,
          1,
          3,
          14,
          2,
          3,
          10,
          2,
          5,
          2,
          10,
          17,
          7,
          6,
          8,
          3,
          3,
          7,
          23,
          12,
          44,
          12,
          8,
          74,
          7,
          30,
          4,
          5,
          9,
          6,
          7,
          5,
          8,
          4,
          21,
          12,
          3,
          22,
          9,
          6,
          15,
          3,
          2,
          2,
          5,
          6,
          5,
          14,
          7,
          6,
          2,
          5,
          13,
          8,
          2,
          2,
          1,
          8,
          2,
          2,
          2,
          5,
          9,
          4,
          2,
          7,
          5,
          7,
          26,
          10,
          1,
          8,
          4,
          7,
          4,
          5,
          12,
          2,
          1,
          4,
          2,
          2,
          2,
          8,
          8,
          6,
          6,
          10,
          9,
          10,
          9
         ],
         "xaxis": "x7",
         "yaxis": "y7"
        },
        {
         "marker": {
          "color": "#C5D845"
         },
         "name": "jun",
         "type": "histogram",
         "x": [
          20,
          37,
          20,
          11,
          28,
          52,
          96,
          40,
          125,
          40,
          17,
          5,
          58,
          30,
          55,
          43,
          43,
          50,
          108,
          69,
          87,
          96,
          28,
          12,
          49,
          28,
          27,
          63,
          137,
          37,
          8,
          61,
          8,
          122,
          13,
          58,
          25,
          25,
          23,
          6,
          28,
          0.0153,
          137,
          30,
          10,
          135,
          2,
          80,
          26,
          20,
          21,
          114,
          17,
          56,
          29,
          21,
          15,
          21,
          23,
          9,
          24,
          27,
          32,
          38,
          78,
          44,
          72,
          12,
          15,
          6,
          47,
          29,
          62,
          23,
          48,
          22,
          95,
          82,
          16,
          21,
          16,
          9,
          22,
          20,
          20,
          69,
          45,
          15,
          49,
          149,
          65,
          66,
          10,
          26,
          84,
          40,
          16,
          95,
          25,
          27,
          6,
          14,
          24,
          52,
          72,
          60,
          24,
          34,
          50,
          59,
          141,
          14,
          60,
          15,
          75,
          46,
          41,
          7,
          93,
          15,
          11,
          13,
          21,
          23,
          9,
          99,
          14,
          4,
          70,
          14,
          54,
          101,
          101,
          64,
          10,
          14,
          139,
          74,
          45,
          142,
          145,
          104,
          12,
          18,
          16,
          12,
          30,
          15,
          13,
          11,
          7,
          2,
          35,
          24,
          21,
          4,
          24,
          18,
          15,
          4,
          12,
          32,
          47,
          22,
          45,
          33,
          24,
          55,
          44,
          41,
          14,
          32,
          31,
          45,
          16,
          8,
          30,
          26,
          61,
          27,
          11,
          5,
          4,
          21,
          39,
          18,
          7,
          41,
          40,
          5,
          50,
          108,
          48,
          19,
          97,
          29,
          31,
          106,
          5,
          19,
          26,
          62,
          30,
          20,
          62,
          40,
          77,
          20,
          81,
          18,
          84,
          15,
          116,
          30,
          50,
          36,
          49,
          30,
          21,
          8,
          20,
          2,
          25,
          71,
          37,
          23,
          87,
          10,
          9,
          36,
          60,
          5,
          50,
          18,
          130,
          59,
          49,
          52,
          7,
          91,
          15,
          65,
          49,
          6,
          30,
          83,
          4,
          20,
          46,
          34,
          30,
          4,
          33,
          54,
          57,
          138,
          30,
          19,
          75,
          51,
          82,
          12,
          27,
          51,
          21,
          12,
          39,
          25,
          42,
          13,
          72,
          45,
          8,
          26,
          54,
          59,
          52,
          57,
          17,
          21,
          24,
          31,
          60,
          15,
          114,
          17,
          75,
          89,
          98,
          3,
          9,
          24,
          59,
          58,
          72,
          31,
          65,
          56,
          19,
          11,
          44,
          8,
          41,
          4,
          56,
          80,
          40,
          120,
          30,
          80,
          12,
          32,
          22,
          82,
          4,
          40,
          57,
          59,
          8,
          27,
          30,
          35,
          51,
          35,
          70,
          70,
          46,
          49,
          4,
          21,
          38,
          23,
          55,
          38,
          21,
          23,
          57,
          23,
          18,
          44,
          17,
          45,
          15,
          55,
          92,
          26,
          3,
          91,
          33,
          36,
          68,
          50,
          20,
          3,
          43,
          8,
          17,
          33,
          17,
          3,
          70,
          3,
          100,
          7,
          10,
          18,
          22,
          35,
          43,
          0.002,
          10,
          0,
          34,
          49,
          7,
          23,
          41,
          70,
          13,
          18,
          25,
          20,
          37,
          10,
          10,
          15,
          17,
          31,
          50,
          16,
          11,
          31,
          42,
          4,
          18,
          12,
          51,
          31,
          4,
          41,
          30,
          57,
          20,
          77,
          30,
          15,
          73,
          18,
          14,
          15,
          18,
          5,
          7,
          3,
          57,
          63,
          14,
          5,
          40,
          17,
          35,
          26,
          16,
          25,
          7,
          9,
          5,
          19,
          47,
          12,
          8,
          33,
          10,
          87,
          75,
          53,
          5,
          31,
          14,
          3,
          98,
          26,
          12,
          39,
          12,
          72,
          58,
          15,
          38,
          12,
          32,
          16,
          19,
          39,
          24,
          16,
          27,
          25,
          47,
          17,
          12,
          52,
          10,
          24,
          15,
          60,
          133,
          17,
          47,
          71,
          10,
          33,
          40,
          11,
          60,
          12,
          105,
          25,
          47,
          32,
          17,
          88,
          21,
          22,
          29,
          10,
          15,
          40,
          3,
          11,
          11,
          20,
          15,
          15,
          9,
          54,
          38,
          34,
          13,
          3,
          60,
          31,
          39,
          15,
          30,
          10,
          6,
          105,
          108,
          37,
          23,
          17,
          3,
          10,
          8,
          67,
          2,
          12,
          21,
          35,
          118,
          31,
          11,
          30,
          67,
          9,
          9,
          23,
          11,
          16,
          16,
          61,
          27,
          15,
          11,
          18,
          20,
          16,
          15,
          12,
          7,
          28,
          22,
          27,
          8,
          67,
          59,
          57,
          46,
          88,
          23,
          14,
          28,
          20,
          7,
          12,
          30,
          15,
          3,
          28,
          22,
          14,
          9,
          38,
          95,
          139,
          20,
          26,
          6,
          6,
          26,
          34,
          4,
          22,
          24,
          34,
          11,
          107,
          30,
          0,
          78,
          40,
          7,
          18,
          25,
          19,
          28,
          38,
          49,
          29,
          5,
          27,
          16,
          17,
          52,
          16,
          39,
          3,
          27,
          37,
          27,
          27,
          29,
          48,
          10,
          36,
          56,
          18,
          26,
          42,
          52,
          7,
          19,
          2,
          34,
          59,
          16,
          19,
          80,
          78,
          29,
          134,
          93,
          4,
          15,
          20,
          104,
          101,
          28,
          29,
          32,
          33,
          10,
          111,
          96,
          34,
          51,
          128,
          7,
          65,
          23,
          41,
          37,
          7,
          12,
          26,
          42,
          30,
          16,
          64,
          12,
          19,
          37,
          40,
          11,
          28,
          19,
          19,
          37,
          28,
          22,
          17,
          32,
          47,
          18,
          14,
          5,
          20,
          12,
          2,
          23,
          28,
          36,
          148,
          18,
          15,
          22,
          5,
          17,
          6,
          2,
          68,
          122,
          20,
          35,
          2,
          7,
          38,
          40,
          31,
          53,
          55,
          8,
          17,
          5,
          5,
          6,
          58,
          16,
          4,
          24,
          5,
          10,
          6,
          21,
          65,
          64,
          8,
          8,
          66,
          12,
          10,
          5,
          3,
          71,
          10,
          20,
          119,
          21,
          61,
          19,
          31,
          12,
          3,
          77,
          120,
          58,
          10,
          49,
          1,
          10,
          1,
          15,
          22,
          30,
          10,
          20,
          7,
          22,
          8,
          21,
          79,
          44,
          27,
          22,
          44,
          32,
          42,
          82,
          24,
          15,
          87,
          55,
          81,
          10,
          126,
          22,
          143,
          6,
          3,
          10,
          16,
          13,
          81,
          25,
          45,
          12,
          81,
          85,
          48,
          20,
          8,
          98,
          14,
          52,
          40,
          40,
          30,
          10,
          40,
          39,
          4,
          10,
          25,
          56,
          60,
          33,
          20,
          4,
          22,
          50,
          16,
          24,
          39,
          57,
          37,
          16,
          36,
          9,
          37,
          5,
          55,
          31,
          9,
          14,
          22,
          9,
          108,
          18,
          62,
          7,
          48,
          4,
          12,
          32,
          19,
          35,
          55,
          120,
          30,
          118,
          49,
          62,
          73,
          33,
          14,
          62,
          29,
          10,
          30,
          55,
          42,
          75,
          30,
          5,
          29,
          21,
          15,
          33,
          30,
          17,
          14,
          8,
          19,
          6,
          31,
          9,
          38,
          54,
          45,
          17,
          19,
          14,
          14,
          11,
          71,
          4,
          26,
          25,
          57,
          20,
          44,
          46,
          49,
          72,
          41,
          34,
          10,
          15,
          100,
          22,
          19,
          28,
          100,
          46,
          26,
          40,
          74,
          15,
          11,
          20,
          28,
          100,
          22,
          16,
          29,
          2,
          21,
          36,
          8,
          24,
          25,
          15,
          43,
          19,
          2,
          29,
          22,
          17,
          8,
          75,
          7,
          20,
          16,
          14,
          113,
          33,
          72,
          34,
          60,
          35,
          53,
          23,
          3,
          11,
          38,
          31,
          2,
          18,
          29,
          53,
          45,
          21,
          35,
          17,
          61,
          48,
          11,
          10,
          10,
          16,
          24,
          16,
          21,
          55,
          13,
          18,
          12,
          34,
          58,
          86,
          113,
          17,
          14,
          19,
          26,
          25,
          95,
          33,
          3,
          20,
          46,
          123,
          16,
          7,
          62,
          60,
          20,
          10,
          30,
          30,
          120
         ],
         "xaxis": "x8",
         "yaxis": "y8"
        },
        {
         "marker": {
          "color": "#C5D845"
         },
         "name": "alogroo",
         "type": "histogram",
         "x": [
          50,
          36,
          8,
          18,
          75,
          28,
          2,
          22,
          144,
          54,
          6,
          81,
          46,
          20,
          16,
          26,
          11,
          3,
          43,
          37,
          82,
          23,
          58,
          57,
          25,
          17,
          36,
          8,
          30,
          71,
          70,
          44,
          41,
          7,
          41,
          40,
          41,
          13,
          105,
          8,
          30,
          13,
          9,
          8,
          33,
          123,
          129,
          26,
          17,
          37,
          31,
          25,
          65,
          69,
          68,
          97,
          13,
          126,
          20,
          22,
          99,
          10,
          30,
          77,
          13,
          51,
          38,
          86,
          32,
          8,
          20,
          21,
          10,
          99,
          47,
          14,
          73,
          3,
          25,
          39,
          15,
          40,
          34,
          75,
          36,
          37,
          19,
          41,
          24,
          22,
          129,
          27,
          52,
          138,
          27,
          19,
          29,
          16,
          12,
          10,
          30,
          95,
          24,
          28,
          4,
          20,
          8,
          15,
          70,
          2,
          13,
          62,
          120,
          62,
          52,
          105,
          15,
          34,
          35,
          10,
          21,
          29,
          20,
          44,
          6,
          59,
          42,
          15,
          32,
          129,
          57,
          3,
          27,
          53,
          26,
          14,
          90,
          30,
          75,
          60,
          56,
          14,
          15,
          4,
          20,
          7,
          40,
          19,
          100,
          42,
          2,
          25,
          40,
          25,
          137,
          81,
          29,
          16,
          27,
          60,
          100,
          56,
          41,
          19,
          43,
          47,
          54,
          129,
          120,
          2,
          17,
          4,
          8,
          115,
          13,
          50,
          26,
          32,
          105,
          64,
          63,
          31,
          54,
          52,
          105,
          18,
          12,
          100,
          95,
          34,
          30,
          66,
          73,
          32,
          110,
          18,
          118,
          27,
          66,
          50,
          53,
          50,
          42,
          60,
          46,
          116,
          23,
          73,
          22
         ],
         "xaxis": "x9",
         "yaxis": "y9"
        },
        {
         "marker": {
          "color": "#C5D845"
         },
         "name": "lucha",
         "type": "histogram",
         "x": [
          47,
          54,
          2,
          27,
          35,
          7,
          40,
          12,
          10,
          16,
          16,
          36,
          45,
          36,
          72,
          19,
          56,
          135,
          63,
          5,
          8,
          29,
          14,
          26,
          5,
          3,
          105,
          69,
          41,
          17,
          9,
          42,
          33,
          79,
          25,
          7,
          49,
          72,
          107,
          76,
          1,
          13,
          4,
          84,
          27,
          65,
          2,
          11,
          37,
          11,
          3,
          40,
          26,
          123,
          44,
          12,
          49,
          11,
          5,
          20,
          132,
          92,
          12,
          67,
          39,
          48,
          10,
          18,
          75,
          21,
          19,
          12,
          31,
          5,
          24,
          102,
          6,
          4,
          49,
          10,
          20,
          106,
          21,
          12,
          12,
          14,
          100,
          111,
          14,
          19,
          35,
          69,
          136,
          19,
          32,
          81,
          4,
          7,
          8,
          58,
          8,
          6,
          8,
          5,
          56,
          74,
          9,
          20,
          20,
          11,
          38,
          38,
          27,
          31,
          13,
          14,
          36,
          13,
          12,
          3,
          10,
          72,
          25,
          8,
          78,
          2,
          30,
          35,
          30,
          65,
          81,
          4,
          19,
          57,
          37,
          127,
          16,
          18,
          25,
          100,
          2,
          104,
          86,
          30,
          40,
          12,
          59,
          67,
          73,
          50,
          23,
          17,
          55,
          7,
          92,
          24,
          13,
          8,
          8,
          44,
          14,
          144,
          39,
          20,
          10,
          15,
          55,
          20,
          20,
          113,
          12,
          141,
          28,
          31,
          46,
          116,
          34,
          33,
          87,
          20,
          2,
          16,
          12,
          10,
          8,
          10,
          37,
          47,
          5,
          7,
          47,
          54,
          46,
          3,
          38,
          26,
          77,
          22,
          83,
          10,
          5,
          45,
          5,
          3,
          55,
          17,
          29,
          97,
          119,
          18,
          9,
          127,
          149,
          132,
          50,
          73,
          27,
          63,
          17,
          16
         ],
         "xaxis": "x10",
         "yaxis": "y10"
        },
        {
         "marker": {
          "color": "#C5D845"
         },
         "name": "con",
         "type": "histogram",
         "x": [
          5,
          3,
          5,
          23,
          8,
          4,
          24,
          10,
          3,
          6,
          6,
          103,
          12,
          44,
          4,
          24,
          18,
          16,
          10,
          5,
          20,
          7,
          3,
          12,
          22,
          23,
          5,
          29,
          3,
          7,
          30,
          11,
          11,
          2,
          12,
          2,
          12,
          49,
          30,
          32,
          73,
          17,
          24,
          11,
          24,
          6
         ],
         "xaxis": "x11",
         "yaxis": "y11"
        },
        {
         "marker": {
          "color": "#C5D845"
         },
         "name": "groo",
         "type": "histogram",
         "x": [
          27,
          16,
          41,
          8,
          27,
          3,
          3,
          4,
          21,
          11,
          16,
          15,
          13,
          33,
          31,
          65,
          12,
          58,
          97,
          11,
          82,
          43,
          11,
          12,
          30,
          30,
          35,
          38,
          13,
          53,
          37,
          41,
          23,
          26,
          25,
          11,
          24,
          20,
          31,
          58,
          61,
          12,
          79,
          21,
          19,
          11,
          38,
          99,
          56,
          33,
          4,
          45,
          28,
          15,
          45,
          23,
          25,
          13,
          10,
          13,
          35,
          4,
          19,
          14,
          12,
          33,
          39,
          36,
          7,
          42,
          1,
          18,
          26,
          18,
          21,
          12,
          24,
          30,
          17,
          7,
          48,
          7,
          74,
          34,
          22,
          14,
          34,
          16,
          30,
          23,
          62,
          49,
          6,
          12,
          10,
          28,
          29,
          17,
          11,
          37,
          57,
          28,
          3,
          15,
          15,
          35,
          14,
          5,
          16,
          1,
          11,
          4,
          40,
          4,
          9,
          5,
          40,
          18,
          27,
          55,
          10,
          8,
          37,
          18,
          75,
          39,
          26,
          86,
          126,
          17,
          12,
          3,
          5,
          84,
          10,
          25,
          19,
          140,
          15,
          11,
          23,
          12,
          32,
          19,
          14,
          31,
          22,
          41,
          47,
          36,
          58,
          42,
          10,
          13,
          8,
          3,
          26,
          4,
          14,
          9,
          4,
          3,
          10,
          3,
          4,
          8,
          6,
          16,
          14,
          17,
          5,
          18,
          4,
          40,
          11
         ],
         "xaxis": "x12",
         "yaxis": "y12"
        },
        {
         "marker": {
          "color": "#C5D845"
         },
         "name": "marc",
         "type": "histogram",
         "x": [
          8,
          10,
          5,
          2,
          4,
          5,
          6,
          5,
          11,
          5,
          0.053,
          3,
          2,
          10,
          3,
          15,
          2,
          2,
          12
         ],
         "xaxis": "x13",
         "yaxis": "y13"
        },
        {
         "marker": {
          "color": "#C5D845"
         },
         "name": "solj",
         "type": "histogram",
         "x": [
          7,
          5,
          5,
          2,
          5,
          17,
          6,
          11,
          2,
          9,
          5,
          9,
          28,
          7,
          4,
          6,
          5,
          10,
          5,
          30,
          5,
          6,
          2,
          2,
          5,
          10,
          6,
          12,
          2,
          8,
          4,
          10,
          6,
          5,
          12,
          11,
          6,
          10,
          10,
          9,
          16,
          5,
          2,
          5,
          5,
          5,
          5,
          29,
          2,
          15,
          2,
          3,
          5,
          5,
          6,
          9,
          5,
          10,
          5,
          4,
          2,
          2,
          5,
          2,
          2,
          11,
          2,
          7,
          5,
          2,
          2,
          3,
          7,
          8,
          3,
          3,
          4,
          4,
          2,
          44,
          4,
          14,
          2,
          30,
          5,
          6,
          9,
          6,
          20,
          50,
          13,
          12,
          12,
          5,
          8,
          9,
          5,
          3,
          3,
          4,
          14,
          17,
          4,
          6,
          5,
          28,
          6,
          4,
          4,
          16,
          5,
          9,
          4,
          12,
          4,
          12,
          5,
          5,
          5,
          5,
          8,
          7,
          10,
          6,
          10,
          14,
          4,
          5,
          3,
          7,
          14,
          12,
          2,
          4,
          2,
          3,
          3,
          7,
          14,
          6,
          5,
          2,
          13,
          5,
          5,
          25,
          2,
          18,
          5,
          4,
          8,
          16,
          4,
          3,
          20,
          3,
          6,
          5,
          15,
          16,
          7,
          12,
          6,
          4,
          9,
          2,
          24,
          12,
          7,
          26,
          9,
          2,
          10,
          9,
          5,
          3,
          22,
          6,
          3,
          28,
          20,
          2,
          9,
          7,
          6,
          20,
          2,
          4,
          8,
          1,
          35,
          18,
          20,
          49,
          10,
          4,
          4,
          5,
          2,
          5,
          11,
          6,
          6,
          10,
          14,
          2,
          7,
          5,
          8,
          4,
          1,
          8,
          9,
          6,
          2,
          15,
          3,
          14,
          3,
          7,
          4,
          2,
          6,
          6,
          5,
          19,
          8,
          12,
          2,
          5,
          14,
          5,
          12,
          3,
          14,
          5,
          8,
          5,
          5,
          4,
          5,
          5,
          4,
          5,
          4,
          2,
          5,
          4,
          5,
          4,
          1,
          1,
          6,
          4,
          2,
          4,
          4,
          1,
          8,
          5,
          3,
          3,
          2,
          2,
          5,
          2,
          2,
          8,
          2,
          2,
          1,
          8,
          5,
          4,
          7,
          6,
          3,
          5,
          5,
          15,
          15,
          5,
          24,
          5,
          8,
          5,
          7,
          10,
          3,
          4,
          5,
          4,
          3,
          6,
          2,
          17,
          5,
          3,
          10,
          5,
          1,
          5,
          5,
          5,
          10,
          2,
          3,
          5,
          3,
          3,
          2,
          5,
          5,
          5,
          2,
          26,
          39,
          1,
          13,
          3,
          5,
          6,
          5,
          2,
          5,
          1
         ],
         "xaxis": "x14",
         "yaxis": "y14"
        },
        {
         "marker": {
          "color": "#C5D845"
         },
         "name": "cuad",
         "type": "histogram",
         "x": [
          33,
          20,
          13,
          11,
          13,
          8,
          28,
          38,
          21,
          35,
          12,
          13,
          24,
          17,
          28,
          17,
          21,
          55,
          10,
          20,
          33,
          7,
          28,
          27,
          12,
          13,
          27,
          17,
          11,
          2,
          15,
          17,
          18,
          5,
          10,
          15,
          13,
          17,
          14,
          37,
          14,
          10,
          17,
          9,
          7,
          13,
          32,
          15,
          7,
          25,
          5,
          13,
          8,
          11,
          12,
          15,
          5,
          27,
          17,
          37,
          31,
          3,
          8,
          20,
          12,
          5,
          41,
          3,
          14,
          7,
          11,
          37,
          4,
          12,
          5,
          5,
          25,
          7,
          7,
          10,
          17,
          5,
          7,
          17,
          7,
          5,
          14,
          5,
          12,
          17,
          24,
          6,
          5,
          10,
          16,
          21,
          10
         ],
         "xaxis": "x15",
         "yaxis": "y15"
        },
        {
         "marker": {
          "color": "#C5D845"
         },
         "name": "pub",
         "type": "histogram",
         "x": [
          4,
          12,
          14,
          10,
          10,
          25,
          12,
          13,
          5,
          6,
          12,
          45,
          15,
          15,
          62,
          5,
          6,
          127,
          20,
          16,
          18,
          31,
          29,
          34,
          5,
          2,
          2,
          1,
          2,
          6,
          5,
          2,
          2,
          3,
          2,
          8,
          2,
          1,
          3,
          28,
          7,
          4,
          4,
          6,
          2,
          1,
          2,
          4,
          4,
          3,
          2,
          3,
          16,
          77,
          16,
          11,
          2,
          3,
          2,
          3,
          7,
          34,
          18,
          17,
          33,
          8,
          3,
          3,
          7,
          5,
          5,
          5,
          5,
          2,
          35,
          7,
          29,
          107,
          29,
          5
         ],
         "xaxis": "x16",
         "yaxis": "y16"
        },
        {
         "marker": {
          "color": "#C5D845"
         },
         "name": "corr",
         "type": "histogram",
         "x": [
          4,
          3,
          6
         ],
         "xaxis": "x17",
         "yaxis": "y17"
        },
        {
         "marker": {
          "color": "#C5D845"
         },
         "name": "hur",
         "type": "histogram",
         "x": [
          3,
          14,
          90,
          18,
          69,
          20,
          11,
          62,
          8,
          3,
          4,
          8,
          6,
          15,
          10,
          10,
          31,
          6,
          9,
          8,
          2,
          4,
          59,
          6,
          6,
          5,
          5,
          4,
          9,
          6,
          38,
          8,
          27,
          2,
          14,
          8,
          7,
          2,
          18,
          12,
          7,
          20,
          11,
          4
         ],
         "xaxis": "x18",
         "yaxis": "y18"
        },
        {
         "marker": {
          "color": "#C5D845"
         },
         "name": "aprox",
         "type": "histogram",
         "x": [
          5,
          5,
          5,
          5,
          5,
          5,
          5,
          5,
          5,
          5,
          5,
          5,
          16,
          5,
          5,
          5,
          5,
          5,
          5,
          5,
          5,
          5,
          5,
          5,
          5,
          5,
          5,
          5,
          5,
          5,
          5,
          5,
          5,
          5,
          5,
          5,
          5,
          5,
          5,
          5,
          5,
          5,
          5,
          5,
          5,
          5,
          5,
          5,
          5,
          5,
          5,
          5,
          5,
          5,
          4,
          5,
          5,
          5,
          6,
          3,
          2,
          5,
          5,
          5,
          5,
          5,
          3,
          5,
          5,
          5,
          5,
          5,
          5,
          5,
          5,
          5,
          5,
          5,
          5,
          5,
          5,
          5,
          5,
          5,
          5,
          5,
          5,
          5,
          5,
          5,
          5,
          5,
          2,
          5,
          2,
          5,
          5,
          5,
          5,
          5,
          5,
          5,
          5,
          3,
          8,
          2,
          2,
          5,
          5,
          5,
          5,
          2,
          5,
          5,
          5,
          4,
          1,
          2,
          2,
          5,
          5,
          5,
          5,
          5,
          5,
          5,
          5,
          5,
          5,
          5,
          5,
          5,
          5,
          0,
          4,
          5,
          5,
          15,
          5,
          8,
          5,
          6,
          5,
          5,
          5,
          5,
          5,
          5,
          5,
          5,
          5,
          5,
          10,
          5,
          5,
          5,
          5,
          5,
          3,
          5,
          5,
          5,
          5,
          5,
          5,
          5,
          5,
          5,
          5,
          5,
          5,
          5,
          5,
          4,
          5,
          3,
          5,
          5,
          2,
          2,
          2,
          5,
          5,
          5,
          5,
          5,
          4,
          5,
          5,
          5,
          5,
          5,
          5,
          5,
          5,
          5,
          5,
          5,
          5,
          5,
          5,
          2,
          5,
          5,
          5,
          5,
          4,
          5,
          5,
          7,
          5,
          5,
          2,
          8,
          3,
          5,
          5,
          5,
          5,
          5,
          5,
          5,
          5,
          3,
          3,
          5,
          5,
          5,
          5,
          5,
          5,
          5,
          5,
          5,
          5,
          5,
          5,
          5,
          2,
          3,
          6,
          4,
          5,
          5,
          1,
          3,
          5,
          5,
          5,
          5,
          5,
          5,
          5,
          5,
          5,
          5,
          6,
          5,
          5,
          5,
          5,
          4,
          5,
          5,
          4,
          5,
          5,
          5,
          5,
          5,
          9,
          4,
          5,
          5,
          5,
          5,
          5,
          5,
          5,
          3,
          5,
          5,
          5,
          5,
          5,
          5,
          5,
          5,
          5,
          5,
          5,
          5,
          5,
          6,
          5,
          5,
          5,
          5,
          4,
          1,
          5,
          2,
          5,
          5,
          5,
          5,
          5,
          5,
          10,
          2,
          5,
          5,
          5,
          5,
          5,
          5,
          5,
          5,
          5,
          5,
          5,
          5,
          2,
          5,
          5,
          5,
          5,
          5,
          5,
          2,
          7,
          5,
          2,
          2,
          2,
          2,
          3,
          2,
          5,
          2,
          5,
          3,
          5,
          2,
          2,
          2,
          13,
          2,
          2,
          2,
          2,
          3,
          5,
          2,
          5,
          2,
          2,
          5,
          2,
          3,
          2,
          2,
          9,
          5,
          2,
          5,
          2,
          2,
          2,
          2,
          2,
          2,
          5,
          3,
          2,
          2,
          2,
          2,
          2,
          2,
          2,
          2,
          3,
          2,
          2,
          3,
          2,
          2,
          2,
          5,
          5,
          3,
          3,
          5,
          5,
          5,
          5,
          5,
          5,
          5,
          5,
          5,
          5,
          5,
          4,
          5,
          5,
          5,
          3,
          5,
          5,
          5,
          3,
          5,
          6,
          5,
          2,
          4,
          5,
          5,
          5,
          5,
          5,
          2,
          5,
          7,
          5,
          5,
          3,
          5,
          5,
          3,
          4,
          4,
          9,
          2,
          3,
          5,
          5,
          2,
          2,
          3,
          5,
          5,
          3,
          2,
          5,
          5,
          2,
          5,
          2,
          2,
          5,
          2,
          3,
          2,
          5,
          5,
          2,
          5,
          3,
          2,
          5,
          5,
          5,
          5,
          2,
          3,
          2,
          5,
          2,
          2,
          2,
          2,
          2,
          3,
          5,
          5,
          5,
          5,
          5,
          5,
          5,
          2,
          5,
          5,
          5,
          5,
          5,
          5,
          5,
          5,
          5,
          5,
          5,
          5,
          5,
          5,
          5,
          5,
          3,
          2,
          5,
          2,
          2,
          2,
          3,
          4,
          10,
          5,
          5,
          4,
          5,
          4,
          5,
          5,
          5,
          5,
          5,
          5,
          5,
          5,
          5,
          5,
          5,
          5,
          5,
          6,
          3,
          12,
          5,
          5,
          5,
          5,
          5,
          3,
          5,
          3,
          5,
          3,
          5,
          1,
          5,
          6,
          5,
          5,
          2,
          2,
          2,
          5,
          4,
          4,
          5,
          2,
          5,
          2,
          1,
          2,
          2,
          2,
          4,
          2,
          2,
          2,
          2,
          4,
          2,
          6,
          2,
          2,
          4,
          2,
          1,
          2,
          2,
          2,
          5,
          3,
          2,
          2,
          5,
          5,
          4,
          3,
          2
         ],
         "xaxis": "x19",
         "yaxis": "y19"
        },
        {
         "marker": {
          "color": "#C5D845"
         },
         "name": "ins",
         "type": "histogram",
         "x": [
          18,
          10,
          32,
          4,
          25,
          53,
          11,
          19,
          20,
          3,
          28,
          12,
          19,
          5,
          130,
          13,
          16,
          4,
          11,
          29,
          12,
          113,
          10,
          22,
          19,
          2,
          6,
          14,
          31,
          14,
          18,
          38,
          15,
          55,
          58,
          3,
          109,
          4,
          7,
          41,
          54,
          10,
          34,
          97,
          118,
          10,
          34,
          14,
          40,
          25,
          22,
          27,
          40,
          10,
          9,
          10,
          12,
          3,
          46,
          10,
          14,
          20,
          5,
          6,
          4,
          17,
          9,
          33,
          8,
          29,
          17,
          6,
          7,
          17,
          20,
          30,
          13,
          16,
          32,
          9,
          2,
          23,
          60,
          9,
          34,
          9,
          95,
          12,
          5,
          75,
          13,
          6,
          9,
          14,
          5,
          12,
          80,
          14,
          52,
          51,
          64,
          97,
          31,
          36,
          9
         ],
         "xaxis": "x20",
         "yaxis": "y20"
        },
        {
         "marker": {
          "color": "#C5D845"
         },
         "name": "huir",
         "type": "histogram",
         "x": [
          36,
          10,
          7,
          3,
          19,
          8,
          18,
          10,
          14,
          8,
          2,
          4,
          4,
          5
         ],
         "xaxis": "x21",
         "yaxis": "y21"
        },
        {
         "marker": {
          "color": "#C5D845"
         },
         "name": "bra",
         "type": "histogram",
         "x": [
          5,
          2,
          8,
          2,
          40,
          60,
          21,
          50,
          5,
          71,
          27,
          15,
          28,
          16,
          146,
          21,
          8,
          25,
          73,
          66,
          113,
          57,
          54,
          40,
          77,
          20,
          18,
          45,
          26,
          91,
          146,
          144,
          8,
          25,
          12,
          109,
          8,
          57,
          10,
          3,
          92,
          70,
          109,
          9,
          84,
          66,
          27,
          44,
          37,
          101,
          11,
          90,
          113,
          72,
          23,
          69,
          20,
          40,
          70,
          16,
          14,
          6,
          17,
          2,
          16,
          8,
          2,
          55,
          75,
          93,
          83,
          1,
          76,
          21,
          13,
          110,
          100,
          65,
          51,
          1,
          9,
          128,
          19,
          10,
          2,
          33,
          32,
          45,
          10,
          55,
          8,
          5,
          24,
          11,
          7,
          6,
          1,
          2,
          59,
          45,
          6,
          16,
          3,
          21,
          35,
          8,
          19,
          4,
          21,
          8,
          54,
          25,
          82,
          7,
          42,
          35,
          12,
          9,
          26,
          16,
          28,
          7,
          11,
          2,
          23,
          10,
          15,
          3,
          13,
          138,
          35,
          5,
          8,
          41,
          10,
          45,
          5,
          13,
          3,
          19,
          2,
          2,
          4,
          5,
          6,
          14,
          8,
          48,
          12,
          13,
          17,
          21,
          3,
          8,
          1,
          3,
          26,
          6,
          10,
          31,
          26,
          30,
          7,
          4,
          4,
          11,
          20,
          2,
          17,
          8,
          37,
          44,
          20,
          11,
          21,
          16,
          4,
          7,
          3,
          16,
          14,
          81,
          3,
          2,
          10,
          29,
          35,
          8,
          36,
          47,
          45,
          6,
          2,
          9,
          7,
          21,
          2,
          8,
          25,
          46,
          4,
          6,
          12,
          2,
          9,
          20,
          17,
          3,
          3,
          2,
          25,
          32,
          1,
          7,
          18,
          8,
          4,
          7,
          6,
          14,
          3,
          3,
          16,
          31,
          27,
          137,
          8,
          8,
          20,
          17,
          6,
          8,
          12,
          12,
          7,
          5,
          6,
          23,
          34,
          3,
          8,
          14,
          17,
          14,
          6,
          13,
          22,
          19,
          5,
          22,
          10,
          11,
          30,
          10,
          55,
          19,
          25,
          5,
          2,
          34,
          19,
          36,
          24,
          18,
          12,
          45,
          7,
          18,
          6,
          2,
          10,
          2,
          23,
          15,
          36,
          45,
          23,
          7,
          32,
          24,
          25,
          30,
          5,
          13,
          20,
          3,
          29,
          11,
          2,
          13,
          37,
          32,
          60,
          4,
          6,
          26,
          17,
          12,
          30,
          3,
          20,
          17,
          3,
          29,
          15,
          18,
          53,
          4,
          34,
          21,
          22,
          21,
          23,
          7,
          7,
          4,
          8,
          12,
          2,
          3,
          11,
          24,
          9,
          39,
          1,
          5,
          1,
          8,
          13,
          45,
          20,
          9,
          21,
          9,
          30,
          2,
          7,
          6,
          4,
          2,
          5,
          6,
          1,
          4,
          16,
          1,
          10,
          13,
          8,
          10,
          1,
          4,
          90,
          2,
          15,
          2,
          12,
          21,
          30,
          1,
          1,
          3
         ],
         "xaxis": "x22",
         "yaxis": "y22"
        },
        {
         "marker": {
          "color": "#C5D845"
         },
         "name": "mama",
         "type": "histogram",
         "x": [
          69,
          49,
          14,
          7,
          26,
          26,
          32,
          48,
          30,
          55,
          58,
          22,
          26,
          35,
          98,
          14,
          70,
          13,
          28,
          28,
          16,
          24,
          40,
          38,
          30,
          77,
          22,
          3,
          98,
          10,
          21,
          52,
          27,
          40,
          29,
          11,
          27,
          96,
          57,
          60,
          13,
          47,
          18,
          59,
          27,
          55,
          68,
          89,
          49,
          13,
          60,
          44,
          39,
          11,
          86,
          46,
          43,
          70,
          61,
          15,
          4,
          67,
          6,
          68,
          36,
          17,
          13,
          90,
          51,
          38,
          10,
          50,
          10,
          41,
          17,
          30,
          38,
          31,
          75,
          30,
          25,
          14,
          20,
          23,
          46,
          10,
          22,
          4,
          45,
          73,
          20,
          97,
          4
         ],
         "xaxis": "x23",
         "yaxis": "y23"
        },
        {
         "marker": {
          "color": "#C5D845"
         },
         "name": "jexp",
         "type": "histogram",
         "x": [
          20,
          76,
          4,
          6,
          48,
          56,
          39,
          5,
          61,
          116,
          34,
          86,
          13,
          53,
          13,
          67,
          116,
          33,
          19,
          10,
          11,
          20,
          15,
          20,
          8,
          3,
          40,
          9,
          40,
          123,
          77,
          20,
          28,
          25,
          18,
          109,
          30,
          64,
          119,
          31,
          15,
          5,
          10,
          60,
          10,
          25,
          14,
          39,
          83,
          56,
          4,
          62,
          7,
          56,
          57,
          25,
          3,
          50,
          39,
          7,
          24,
          47,
          93,
          5,
          16,
          21,
          16,
          9,
          15,
          10,
          6,
          25,
          100,
          23,
          133,
          14,
          5,
          16,
          25,
          86,
          18,
          76,
          20,
          2,
          33,
          21,
          23,
          36,
          82,
          12,
          21,
          23,
          34,
          9,
          27,
          47,
          80,
          65,
          111,
          25,
          37,
          45,
          24,
          22,
          15,
          8,
          8,
          15,
          30,
          8,
          4,
          97,
          65,
          30,
          45,
          15,
          35,
          5,
          15,
          23,
          20,
          29,
          34,
          21,
          46,
          17,
          20,
          31,
          102,
          64,
          4,
          12,
          9,
          18,
          5,
          28,
          68,
          5,
          50,
          32,
          58,
          58,
          24,
          10,
          45,
          17,
          70,
          29,
          4,
          15,
          40,
          35,
          67,
          62,
          35,
          31,
          62,
          48,
          26,
          75,
          29,
          24,
          16,
          57,
          26,
          19,
          82,
          88,
          78,
          58,
          20,
          89,
          30,
          40,
          120,
          13,
          18,
          27,
          32,
          25,
          44,
          9,
          22,
          5,
          10,
          46,
          71,
          40,
          15,
          35,
          84,
          11,
          12,
          145,
          135,
          85,
          68,
          10,
          30,
          5,
          87,
          35,
          10,
          40,
          32,
          60,
          27,
          140,
          48,
          19,
          42,
          40,
          63,
          102,
          132,
          9,
          2,
          3,
          11,
          11,
          26,
          14,
          6,
          58,
          25,
          21,
          18,
          21,
          30,
          37,
          9,
          21,
          15,
          8,
          64,
          31,
          39,
          15,
          33,
          31,
          92,
          71,
          10,
          21,
          136,
          42,
          44,
          56,
          18,
          23,
          21,
          33,
          42,
          29,
          131,
          14,
          8,
          17,
          21,
          49,
          26,
          40,
          45,
          37,
          30,
          37,
          9,
          46,
          127,
          40,
          33,
          27,
          95,
          59,
          65,
          13,
          8,
          132,
          56,
          109,
          20,
          51,
          35,
          106,
          28,
          31,
          91,
          22,
          16,
          22,
          33,
          10,
          27,
          52,
          29,
          22,
          86,
          66,
          43,
          28,
          29,
          32,
          21
         ],
         "xaxis": "x24",
         "yaxis": "y24"
        },
        {
         "marker": {
          "color": "#C5D845"
         },
         "name": "roba",
         "type": "histogram",
         "x": [
          5,
          4,
          1,
          6,
          2,
          5,
          13,
          2,
          6,
          9,
          10,
          6,
          8,
          10,
          2,
          28,
          5,
          13,
          2,
          4,
          20,
          31,
          3,
          2,
          2,
          6,
          30,
          2,
          5,
          4,
          2,
          2,
          4,
          5,
          5,
          10
         ],
         "xaxis": "x25",
         "yaxis": "y25"
        },
        {
         "marker": {
          "color": "#C5D845"
         },
         "name": "jacrob",
         "type": "histogram",
         "x": [
          1,
          3,
          3,
          37,
          21,
          10,
          11,
          51,
          9,
          4,
          8,
          8,
          16,
          30,
          2,
          14,
          22,
          2,
          6,
          30,
          5,
          15,
          12,
          11,
          2,
          30,
          16,
          30,
          9,
          8,
          83,
          64,
          2,
          22,
          5,
          3,
          4,
          8,
          10,
          5,
          15,
          18,
          33,
          25,
          3,
          33,
          25,
          25,
          8,
          16,
          20,
          14,
          10,
          10,
          3,
          4,
          16,
          2,
          2,
          5,
          5,
          5,
          15,
          8,
          6,
          9,
          3,
          7,
          6,
          47,
          4,
          2,
          13,
          12,
          13,
          6,
          28,
          134,
          4,
          24,
          34,
          21,
          2,
          1,
          5,
          22,
          8,
          17,
          1,
          6,
          2,
          5,
          45,
          46,
          138,
          41,
          16,
          2,
          84,
          4,
          6,
          2,
          4,
          1,
          22,
          12,
          4,
          12,
          2,
          13,
          8,
          25,
          2,
          8,
          16,
          9,
          13,
          2,
          6,
          17,
          7,
          29,
          10,
          4,
          14,
          49,
          14,
          42,
          27,
          25,
          15,
          27,
          5,
          11,
          3,
          27,
          25,
          4,
          18,
          20,
          2,
          12,
          16,
          16,
          33,
          37,
          11,
          22,
          3,
          9,
          6,
          19,
          22,
          45,
          5,
          6,
          11,
          7,
          45,
          34,
          51,
          5,
          10,
          13,
          47,
          20,
          40,
          20,
          17,
          63,
          5,
          7,
          16,
          7,
          13,
          2,
          12,
          14,
          10,
          10,
          5,
          7,
          13,
          15,
          19,
          24,
          14,
          27,
          33,
          14,
          23,
          13,
          11,
          8,
          15,
          117,
          105,
          15,
          4,
          10,
          7,
          29,
          10,
          4,
          7,
          42,
          40,
          11,
          15,
          8,
          14,
          17,
          48,
          29,
          6,
          6,
          6,
          8,
          3,
          4,
          13,
          3,
          5,
          50,
          34,
          75,
          10,
          14,
          45,
          19,
          7,
          18,
          50,
          3,
          41,
          55,
          12,
          19,
          40,
          18,
          2,
          90,
          2,
          34,
          49,
          29,
          112,
          46,
          34,
          41,
          12,
          4,
          1,
          2,
          17,
          93,
          17,
          51,
          10,
          6,
          117,
          19,
          23,
          5,
          38,
          16,
          45,
          8,
          7,
          33,
          12,
          9,
          19,
          53,
          12,
          24,
          4,
          31,
          15,
          3,
          114,
          18,
          16,
          15,
          19,
          45,
          20,
          4,
          28,
          57,
          74,
          22,
          9,
          6,
          7,
          15,
          50,
          3,
          11,
          9,
          21
         ],
         "xaxis": "x26",
         "yaxis": "y26"
        },
        {
         "marker": {
          "color": "#C5D845"
         },
         "name": "trans",
         "type": "histogram",
         "x": [
          19
         ],
         "xaxis": "x27",
         "yaxis": "y27"
        },
        {
         "marker": {
          "color": "#C5D845"
         },
         "name": "chup",
         "type": "histogram",
         "x": [
          22,
          18,
          20,
          32,
          4,
          5,
          1,
          3,
          4,
          2,
          18,
          20,
          2,
          5,
          2,
          17
         ],
         "xaxis": "x28",
         "yaxis": "y28"
        },
        {
         "marker": {
          "color": "#C5D845"
         },
         "name": "perj",
         "type": "histogram",
         "x": [
          44,
          20
         ],
         "xaxis": "x29",
         "yaxis": "y29"
        },
        {
         "marker": {
          "color": "#C5D845"
         },
         "name": "jsol",
         "type": "histogram",
         "x": [
          11
         ],
         "xaxis": "x30",
         "yaxis": "y30"
        },
        {
         "marker": {
          "color": "#C5D845"
         },
         "name": "toca",
         "type": "histogram",
         "x": [
          9
         ],
         "xaxis": "x31",
         "yaxis": "y31"
        },
        {
         "marker": {
          "color": "#C5D845"
         },
         "name": "sex",
         "type": "histogram",
         "x": [
          19,
          19,
          60,
          30,
          137
         ],
         "xaxis": "x32",
         "yaxis": "y32"
        }
       ],
       "layout": {
        "annotations": [
         {
          "font": {
           "size": 16
          },
          "showarrow": false,
          "text": "cam",
          "x": 0.0515625,
          "xanchor": "center",
          "xref": "paper",
          "y": 1,
          "yanchor": "bottom",
          "yref": "paper"
         },
         {
          "font": {
           "size": 16
          },
          "showarrow": false,
          "text": "forr",
          "x": 0.1796875,
          "xanchor": "center",
          "xref": "paper",
          "y": 1,
          "yanchor": "bottom",
          "yref": "paper"
         },
         {
          "font": {
           "size": 16
          },
          "showarrow": false,
          "text": "sen",
          "x": 0.3078125,
          "xanchor": "center",
          "xref": "paper",
          "y": 1,
          "yanchor": "bottom",
          "yref": "paper"
         },
         {
          "font": {
           "size": 16
          },
          "showarrow": false,
          "text": "alim",
          "x": 0.4359375,
          "xanchor": "center",
          "xref": "paper",
          "y": 1,
          "yanchor": "bottom",
          "yref": "paper"
         },
         {
          "font": {
           "size": 16
          },
          "showarrow": false,
          "text": "ras",
          "x": 0.5640624999999999,
          "xanchor": "center",
          "xref": "paper",
          "y": 1,
          "yanchor": "bottom",
          "yref": "paper"
         },
         {
          "font": {
           "size": 16
          },
          "showarrow": false,
          "text": "tum",
          "x": 0.6921875,
          "xanchor": "center",
          "xref": "paper",
          "y": 1,
          "yanchor": "bottom",
          "yref": "paper"
         },
         {
          "font": {
           "size": 16
          },
          "showarrow": false,
          "text": "tre",
          "x": 0.8203125,
          "xanchor": "center",
          "xref": "paper",
          "y": 1,
          "yanchor": "bottom",
          "yref": "paper"
         },
         {
          "font": {
           "size": 16
          },
          "showarrow": false,
          "text": "jun",
          "x": 0.9484375,
          "xanchor": "center",
          "xref": "paper",
          "y": 1,
          "yanchor": "bottom",
          "yref": "paper"
         },
         {
          "font": {
           "size": 16
          },
          "showarrow": false,
          "text": "alogroo",
          "x": 0.0515625,
          "xanchor": "center",
          "xref": "paper",
          "y": 0.7,
          "yanchor": "bottom",
          "yref": "paper"
         },
         {
          "font": {
           "size": 16
          },
          "showarrow": false,
          "text": "lucha",
          "x": 0.1796875,
          "xanchor": "center",
          "xref": "paper",
          "y": 0.7,
          "yanchor": "bottom",
          "yref": "paper"
         },
         {
          "font": {
           "size": 16
          },
          "showarrow": false,
          "text": "con",
          "x": 0.3078125,
          "xanchor": "center",
          "xref": "paper",
          "y": 0.7,
          "yanchor": "bottom",
          "yref": "paper"
         },
         {
          "font": {
           "size": 16
          },
          "showarrow": false,
          "text": "groo",
          "x": 0.4359375,
          "xanchor": "center",
          "xref": "paper",
          "y": 0.7,
          "yanchor": "bottom",
          "yref": "paper"
         },
         {
          "font": {
           "size": 16
          },
          "showarrow": false,
          "text": "marc",
          "x": 0.5640624999999999,
          "xanchor": "center",
          "xref": "paper",
          "y": 0.7,
          "yanchor": "bottom",
          "yref": "paper"
         },
         {
          "font": {
           "size": 16
          },
          "showarrow": false,
          "text": "solj",
          "x": 0.6921875,
          "xanchor": "center",
          "xref": "paper",
          "y": 0.7,
          "yanchor": "bottom",
          "yref": "paper"
         },
         {
          "font": {
           "size": 16
          },
          "showarrow": false,
          "text": "cuad",
          "x": 0.8203125,
          "xanchor": "center",
          "xref": "paper",
          "y": 0.7,
          "yanchor": "bottom",
          "yref": "paper"
         },
         {
          "font": {
           "size": 16
          },
          "showarrow": false,
          "text": "pub",
          "x": 0.9484375,
          "xanchor": "center",
          "xref": "paper",
          "y": 0.7,
          "yanchor": "bottom",
          "yref": "paper"
         },
         {
          "font": {
           "size": 16
          },
          "showarrow": false,
          "text": "corr",
          "x": 0.0515625,
          "xanchor": "center",
          "xref": "paper",
          "y": 0.39999999999999997,
          "yanchor": "bottom",
          "yref": "paper"
         },
         {
          "font": {
           "size": 16
          },
          "showarrow": false,
          "text": "hur",
          "x": 0.1796875,
          "xanchor": "center",
          "xref": "paper",
          "y": 0.39999999999999997,
          "yanchor": "bottom",
          "yref": "paper"
         },
         {
          "font": {
           "size": 16
          },
          "showarrow": false,
          "text": "aprox",
          "x": 0.3078125,
          "xanchor": "center",
          "xref": "paper",
          "y": 0.39999999999999997,
          "yanchor": "bottom",
          "yref": "paper"
         },
         {
          "font": {
           "size": 16
          },
          "showarrow": false,
          "text": "ins",
          "x": 0.4359375,
          "xanchor": "center",
          "xref": "paper",
          "y": 0.39999999999999997,
          "yanchor": "bottom",
          "yref": "paper"
         },
         {
          "font": {
           "size": 16
          },
          "showarrow": false,
          "text": "huir",
          "x": 0.5640624999999999,
          "xanchor": "center",
          "xref": "paper",
          "y": 0.39999999999999997,
          "yanchor": "bottom",
          "yref": "paper"
         },
         {
          "font": {
           "size": 16
          },
          "showarrow": false,
          "text": "bra",
          "x": 0.6921875,
          "xanchor": "center",
          "xref": "paper",
          "y": 0.39999999999999997,
          "yanchor": "bottom",
          "yref": "paper"
         },
         {
          "font": {
           "size": 16
          },
          "showarrow": false,
          "text": "mama",
          "x": 0.8203125,
          "xanchor": "center",
          "xref": "paper",
          "y": 0.39999999999999997,
          "yanchor": "bottom",
          "yref": "paper"
         },
         {
          "font": {
           "size": 16
          },
          "showarrow": false,
          "text": "jexp",
          "x": 0.9484375,
          "xanchor": "center",
          "xref": "paper",
          "y": 0.39999999999999997,
          "yanchor": "bottom",
          "yref": "paper"
         },
         {
          "font": {
           "size": 16
          },
          "showarrow": false,
          "text": "roba",
          "x": 0.0515625,
          "xanchor": "center",
          "xref": "paper",
          "y": 0.09999999999999998,
          "yanchor": "bottom",
          "yref": "paper"
         },
         {
          "font": {
           "size": 16
          },
          "showarrow": false,
          "text": "jacrob",
          "x": 0.1796875,
          "xanchor": "center",
          "xref": "paper",
          "y": 0.09999999999999998,
          "yanchor": "bottom",
          "yref": "paper"
         },
         {
          "font": {
           "size": 16
          },
          "showarrow": false,
          "text": "trans",
          "x": 0.3078125,
          "xanchor": "center",
          "xref": "paper",
          "y": 0.09999999999999998,
          "yanchor": "bottom",
          "yref": "paper"
         },
         {
          "font": {
           "size": 16
          },
          "showarrow": false,
          "text": "chup",
          "x": 0.4359375,
          "xanchor": "center",
          "xref": "paper",
          "y": 0.09999999999999998,
          "yanchor": "bottom",
          "yref": "paper"
         },
         {
          "font": {
           "size": 16
          },
          "showarrow": false,
          "text": "perj",
          "x": 0.5640624999999999,
          "xanchor": "center",
          "xref": "paper",
          "y": 0.09999999999999998,
          "yanchor": "bottom",
          "yref": "paper"
         },
         {
          "font": {
           "size": 16
          },
          "showarrow": false,
          "text": "jsol",
          "x": 0.6921875,
          "xanchor": "center",
          "xref": "paper",
          "y": 0.09999999999999998,
          "yanchor": "bottom",
          "yref": "paper"
         },
         {
          "font": {
           "size": 16
          },
          "showarrow": false,
          "text": "toca",
          "x": 0.8203125,
          "xanchor": "center",
          "xref": "paper",
          "y": 0.09999999999999998,
          "yanchor": "bottom",
          "yref": "paper"
         },
         {
          "font": {
           "size": 16
          },
          "showarrow": false,
          "text": "sex",
          "x": 0.9484375,
          "xanchor": "center",
          "xref": "paper",
          "y": 0.09999999999999998,
          "yanchor": "bottom",
          "yref": "paper"
         }
        ],
        "font": {
         "color": "rgba(230,230,230,255)"
        },
        "height": 600,
        "paper_bgcolor": "rgba(21, 47, 18, 255)",
        "plot_bgcolor": "rgba(21, 47, 18, 255)",
        "showlegend": false,
        "template": {
         "data": {
          "bar": [
           {
            "error_x": {
             "color": "#2a3f5f"
            },
            "error_y": {
             "color": "#2a3f5f"
            },
            "marker": {
             "line": {
              "color": "#E5ECF6",
              "width": 0.5
             },
             "pattern": {
              "fillmode": "overlay",
              "size": 10,
              "solidity": 0.2
             }
            },
            "type": "bar"
           }
          ],
          "barpolar": [
           {
            "marker": {
             "line": {
              "color": "#E5ECF6",
              "width": 0.5
             },
             "pattern": {
              "fillmode": "overlay",
              "size": 10,
              "solidity": 0.2
             }
            },
            "type": "barpolar"
           }
          ],
          "carpet": [
           {
            "aaxis": {
             "endlinecolor": "#2a3f5f",
             "gridcolor": "white",
             "linecolor": "white",
             "minorgridcolor": "white",
             "startlinecolor": "#2a3f5f"
            },
            "baxis": {
             "endlinecolor": "#2a3f5f",
             "gridcolor": "white",
             "linecolor": "white",
             "minorgridcolor": "white",
             "startlinecolor": "#2a3f5f"
            },
            "type": "carpet"
           }
          ],
          "choropleth": [
           {
            "colorbar": {
             "outlinewidth": 0,
             "ticks": ""
            },
            "type": "choropleth"
           }
          ],
          "contour": [
           {
            "colorbar": {
             "outlinewidth": 0,
             "ticks": ""
            },
            "colorscale": [
             [
              0,
              "#0d0887"
             ],
             [
              0.1111111111111111,
              "#46039f"
             ],
             [
              0.2222222222222222,
              "#7201a8"
             ],
             [
              0.3333333333333333,
              "#9c179e"
             ],
             [
              0.4444444444444444,
              "#bd3786"
             ],
             [
              0.5555555555555556,
              "#d8576b"
             ],
             [
              0.6666666666666666,
              "#ed7953"
             ],
             [
              0.7777777777777778,
              "#fb9f3a"
             ],
             [
              0.8888888888888888,
              "#fdca26"
             ],
             [
              1,
              "#f0f921"
             ]
            ],
            "type": "contour"
           }
          ],
          "contourcarpet": [
           {
            "colorbar": {
             "outlinewidth": 0,
             "ticks": ""
            },
            "type": "contourcarpet"
           }
          ],
          "heatmap": [
           {
            "colorbar": {
             "outlinewidth": 0,
             "ticks": ""
            },
            "colorscale": [
             [
              0,
              "#0d0887"
             ],
             [
              0.1111111111111111,
              "#46039f"
             ],
             [
              0.2222222222222222,
              "#7201a8"
             ],
             [
              0.3333333333333333,
              "#9c179e"
             ],
             [
              0.4444444444444444,
              "#bd3786"
             ],
             [
              0.5555555555555556,
              "#d8576b"
             ],
             [
              0.6666666666666666,
              "#ed7953"
             ],
             [
              0.7777777777777778,
              "#fb9f3a"
             ],
             [
              0.8888888888888888,
              "#fdca26"
             ],
             [
              1,
              "#f0f921"
             ]
            ],
            "type": "heatmap"
           }
          ],
          "heatmapgl": [
           {
            "colorbar": {
             "outlinewidth": 0,
             "ticks": ""
            },
            "colorscale": [
             [
              0,
              "#0d0887"
             ],
             [
              0.1111111111111111,
              "#46039f"
             ],
             [
              0.2222222222222222,
              "#7201a8"
             ],
             [
              0.3333333333333333,
              "#9c179e"
             ],
             [
              0.4444444444444444,
              "#bd3786"
             ],
             [
              0.5555555555555556,
              "#d8576b"
             ],
             [
              0.6666666666666666,
              "#ed7953"
             ],
             [
              0.7777777777777778,
              "#fb9f3a"
             ],
             [
              0.8888888888888888,
              "#fdca26"
             ],
             [
              1,
              "#f0f921"
             ]
            ],
            "type": "heatmapgl"
           }
          ],
          "histogram": [
           {
            "marker": {
             "pattern": {
              "fillmode": "overlay",
              "size": 10,
              "solidity": 0.2
             }
            },
            "type": "histogram"
           }
          ],
          "histogram2d": [
           {
            "colorbar": {
             "outlinewidth": 0,
             "ticks": ""
            },
            "colorscale": [
             [
              0,
              "#0d0887"
             ],
             [
              0.1111111111111111,
              "#46039f"
             ],
             [
              0.2222222222222222,
              "#7201a8"
             ],
             [
              0.3333333333333333,
              "#9c179e"
             ],
             [
              0.4444444444444444,
              "#bd3786"
             ],
             [
              0.5555555555555556,
              "#d8576b"
             ],
             [
              0.6666666666666666,
              "#ed7953"
             ],
             [
              0.7777777777777778,
              "#fb9f3a"
             ],
             [
              0.8888888888888888,
              "#fdca26"
             ],
             [
              1,
              "#f0f921"
             ]
            ],
            "type": "histogram2d"
           }
          ],
          "histogram2dcontour": [
           {
            "colorbar": {
             "outlinewidth": 0,
             "ticks": ""
            },
            "colorscale": [
             [
              0,
              "#0d0887"
             ],
             [
              0.1111111111111111,
              "#46039f"
             ],
             [
              0.2222222222222222,
              "#7201a8"
             ],
             [
              0.3333333333333333,
              "#9c179e"
             ],
             [
              0.4444444444444444,
              "#bd3786"
             ],
             [
              0.5555555555555556,
              "#d8576b"
             ],
             [
              0.6666666666666666,
              "#ed7953"
             ],
             [
              0.7777777777777778,
              "#fb9f3a"
             ],
             [
              0.8888888888888888,
              "#fdca26"
             ],
             [
              1,
              "#f0f921"
             ]
            ],
            "type": "histogram2dcontour"
           }
          ],
          "mesh3d": [
           {
            "colorbar": {
             "outlinewidth": 0,
             "ticks": ""
            },
            "type": "mesh3d"
           }
          ],
          "parcoords": [
           {
            "line": {
             "colorbar": {
              "outlinewidth": 0,
              "ticks": ""
             }
            },
            "type": "parcoords"
           }
          ],
          "pie": [
           {
            "automargin": true,
            "type": "pie"
           }
          ],
          "scatter": [
           {
            "fillpattern": {
             "fillmode": "overlay",
             "size": 10,
             "solidity": 0.2
            },
            "type": "scatter"
           }
          ],
          "scatter3d": [
           {
            "line": {
             "colorbar": {
              "outlinewidth": 0,
              "ticks": ""
             }
            },
            "marker": {
             "colorbar": {
              "outlinewidth": 0,
              "ticks": ""
             }
            },
            "type": "scatter3d"
           }
          ],
          "scattercarpet": [
           {
            "marker": {
             "colorbar": {
              "outlinewidth": 0,
              "ticks": ""
             }
            },
            "type": "scattercarpet"
           }
          ],
          "scattergeo": [
           {
            "marker": {
             "colorbar": {
              "outlinewidth": 0,
              "ticks": ""
             }
            },
            "type": "scattergeo"
           }
          ],
          "scattergl": [
           {
            "marker": {
             "colorbar": {
              "outlinewidth": 0,
              "ticks": ""
             }
            },
            "type": "scattergl"
           }
          ],
          "scattermapbox": [
           {
            "marker": {
             "colorbar": {
              "outlinewidth": 0,
              "ticks": ""
             }
            },
            "type": "scattermapbox"
           }
          ],
          "scatterpolar": [
           {
            "marker": {
             "colorbar": {
              "outlinewidth": 0,
              "ticks": ""
             }
            },
            "type": "scatterpolar"
           }
          ],
          "scatterpolargl": [
           {
            "marker": {
             "colorbar": {
              "outlinewidth": 0,
              "ticks": ""
             }
            },
            "type": "scatterpolargl"
           }
          ],
          "scatterternary": [
           {
            "marker": {
             "colorbar": {
              "outlinewidth": 0,
              "ticks": ""
             }
            },
            "type": "scatterternary"
           }
          ],
          "surface": [
           {
            "colorbar": {
             "outlinewidth": 0,
             "ticks": ""
            },
            "colorscale": [
             [
              0,
              "#0d0887"
             ],
             [
              0.1111111111111111,
              "#46039f"
             ],
             [
              0.2222222222222222,
              "#7201a8"
             ],
             [
              0.3333333333333333,
              "#9c179e"
             ],
             [
              0.4444444444444444,
              "#bd3786"
             ],
             [
              0.5555555555555556,
              "#d8576b"
             ],
             [
              0.6666666666666666,
              "#ed7953"
             ],
             [
              0.7777777777777778,
              "#fb9f3a"
             ],
             [
              0.8888888888888888,
              "#fdca26"
             ],
             [
              1,
              "#f0f921"
             ]
            ],
            "type": "surface"
           }
          ],
          "table": [
           {
            "cells": {
             "fill": {
              "color": "#EBF0F8"
             },
             "line": {
              "color": "white"
             }
            },
            "header": {
             "fill": {
              "color": "#C8D4E3"
             },
             "line": {
              "color": "white"
             }
            },
            "type": "table"
           }
          ]
         },
         "layout": {
          "annotationdefaults": {
           "arrowcolor": "#2a3f5f",
           "arrowhead": 0,
           "arrowwidth": 1
          },
          "autotypenumbers": "strict",
          "coloraxis": {
           "colorbar": {
            "outlinewidth": 0,
            "ticks": ""
           }
          },
          "colorscale": {
           "diverging": [
            [
             0,
             "#8e0152"
            ],
            [
             0.1,
             "#c51b7d"
            ],
            [
             0.2,
             "#de77ae"
            ],
            [
             0.3,
             "#f1b6da"
            ],
            [
             0.4,
             "#fde0ef"
            ],
            [
             0.5,
             "#f7f7f7"
            ],
            [
             0.6,
             "#e6f5d0"
            ],
            [
             0.7,
             "#b8e186"
            ],
            [
             0.8,
             "#7fbc41"
            ],
            [
             0.9,
             "#4d9221"
            ],
            [
             1,
             "#276419"
            ]
           ],
           "sequential": [
            [
             0,
             "#0d0887"
            ],
            [
             0.1111111111111111,
             "#46039f"
            ],
            [
             0.2222222222222222,
             "#7201a8"
            ],
            [
             0.3333333333333333,
             "#9c179e"
            ],
            [
             0.4444444444444444,
             "#bd3786"
            ],
            [
             0.5555555555555556,
             "#d8576b"
            ],
            [
             0.6666666666666666,
             "#ed7953"
            ],
            [
             0.7777777777777778,
             "#fb9f3a"
            ],
            [
             0.8888888888888888,
             "#fdca26"
            ],
            [
             1,
             "#f0f921"
            ]
           ],
           "sequentialminus": [
            [
             0,
             "#0d0887"
            ],
            [
             0.1111111111111111,
             "#46039f"
            ],
            [
             0.2222222222222222,
             "#7201a8"
            ],
            [
             0.3333333333333333,
             "#9c179e"
            ],
            [
             0.4444444444444444,
             "#bd3786"
            ],
            [
             0.5555555555555556,
             "#d8576b"
            ],
            [
             0.6666666666666666,
             "#ed7953"
            ],
            [
             0.7777777777777778,
             "#fb9f3a"
            ],
            [
             0.8888888888888888,
             "#fdca26"
            ],
            [
             1,
             "#f0f921"
            ]
           ]
          },
          "colorway": [
           "#636efa",
           "#EF553B",
           "#00cc96",
           "#ab63fa",
           "#FFA15A",
           "#19d3f3",
           "#FF6692",
           "#B6E880",
           "#FF97FF",
           "#FECB52"
          ],
          "font": {
           "color": "#2a3f5f"
          },
          "geo": {
           "bgcolor": "white",
           "lakecolor": "white",
           "landcolor": "#E5ECF6",
           "showlakes": true,
           "showland": true,
           "subunitcolor": "white"
          },
          "hoverlabel": {
           "align": "left"
          },
          "hovermode": "closest",
          "mapbox": {
           "style": "light"
          },
          "paper_bgcolor": "white",
          "plot_bgcolor": "#E5ECF6",
          "polar": {
           "angularaxis": {
            "gridcolor": "white",
            "linecolor": "white",
            "ticks": ""
           },
           "bgcolor": "#E5ECF6",
           "radialaxis": {
            "gridcolor": "white",
            "linecolor": "white",
            "ticks": ""
           }
          },
          "scene": {
           "xaxis": {
            "backgroundcolor": "#E5ECF6",
            "gridcolor": "white",
            "gridwidth": 2,
            "linecolor": "white",
            "showbackground": true,
            "ticks": "",
            "zerolinecolor": "white"
           },
           "yaxis": {
            "backgroundcolor": "#E5ECF6",
            "gridcolor": "white",
            "gridwidth": 2,
            "linecolor": "white",
            "showbackground": true,
            "ticks": "",
            "zerolinecolor": "white"
           },
           "zaxis": {
            "backgroundcolor": "#E5ECF6",
            "gridcolor": "white",
            "gridwidth": 2,
            "linecolor": "white",
            "showbackground": true,
            "ticks": "",
            "zerolinecolor": "white"
           }
          },
          "shapedefaults": {
           "line": {
            "color": "#2a3f5f"
           }
          },
          "ternary": {
           "aaxis": {
            "gridcolor": "white",
            "linecolor": "white",
            "ticks": ""
           },
           "baxis": {
            "gridcolor": "white",
            "linecolor": "white",
            "ticks": ""
           },
           "bgcolor": "#E5ECF6",
           "caxis": {
            "gridcolor": "white",
            "linecolor": "white",
            "ticks": ""
           }
          },
          "title": {
           "x": 0.05
          },
          "xaxis": {
           "automargin": true,
           "gridcolor": "white",
           "linecolor": "white",
           "ticks": "",
           "title": {
            "standoff": 15
           },
           "zerolinecolor": "white",
           "zerolinewidth": 2
          },
          "yaxis": {
           "automargin": true,
           "gridcolor": "white",
           "linecolor": "white",
           "ticks": "",
           "title": {
            "standoff": 15
           },
           "zerolinecolor": "white",
           "zerolinewidth": 2
          }
         }
        },
        "xaxis": {
         "anchor": "y",
         "domain": [
          0,
          0.103125
         ],
         "showticklabels": false
        },
        "xaxis10": {
         "anchor": "y10",
         "domain": [
          0.128125,
          0.23124999999999998
         ],
         "showticklabels": false
        },
        "xaxis11": {
         "anchor": "y11",
         "domain": [
          0.25625,
          0.359375
         ],
         "showticklabels": false
        },
        "xaxis12": {
         "anchor": "y12",
         "domain": [
          0.38437499999999997,
          0.48749999999999993
         ],
         "showticklabels": false
        },
        "xaxis13": {
         "anchor": "y13",
         "domain": [
          0.5125,
          0.615625
         ],
         "showticklabels": false
        },
        "xaxis14": {
         "anchor": "y14",
         "domain": [
          0.640625,
          0.74375
         ],
         "showticklabels": false
        },
        "xaxis15": {
         "anchor": "y15",
         "domain": [
          0.76875,
          0.8718750000000001
         ],
         "showticklabels": false
        },
        "xaxis16": {
         "anchor": "y16",
         "domain": [
          0.8968750000000001,
          1
         ],
         "showticklabels": false
        },
        "xaxis17": {
         "anchor": "y17",
         "domain": [
          0,
          0.103125
         ],
         "showticklabels": false
        },
        "xaxis18": {
         "anchor": "y18",
         "domain": [
          0.128125,
          0.23124999999999998
         ],
         "showticklabels": false
        },
        "xaxis19": {
         "anchor": "y19",
         "domain": [
          0.25625,
          0.359375
         ],
         "showticklabels": false
        },
        "xaxis2": {
         "anchor": "y2",
         "domain": [
          0.128125,
          0.23124999999999998
         ],
         "showticklabels": false
        },
        "xaxis20": {
         "anchor": "y20",
         "domain": [
          0.38437499999999997,
          0.48749999999999993
         ],
         "showticklabels": false
        },
        "xaxis21": {
         "anchor": "y21",
         "domain": [
          0.5125,
          0.615625
         ],
         "showticklabels": false
        },
        "xaxis22": {
         "anchor": "y22",
         "domain": [
          0.640625,
          0.74375
         ],
         "showticklabels": false
        },
        "xaxis23": {
         "anchor": "y23",
         "domain": [
          0.76875,
          0.8718750000000001
         ],
         "showticklabels": false
        },
        "xaxis24": {
         "anchor": "y24",
         "domain": [
          0.8968750000000001,
          1
         ],
         "showticklabels": false
        },
        "xaxis25": {
         "anchor": "y25",
         "domain": [
          0,
          0.103125
         ],
         "showticklabels": false
        },
        "xaxis26": {
         "anchor": "y26",
         "domain": [
          0.128125,
          0.23124999999999998
         ],
         "showticklabels": false
        },
        "xaxis27": {
         "anchor": "y27",
         "domain": [
          0.25625,
          0.359375
         ],
         "showticklabels": false
        },
        "xaxis28": {
         "anchor": "y28",
         "domain": [
          0.38437499999999997,
          0.48749999999999993
         ],
         "showticklabels": false
        },
        "xaxis29": {
         "anchor": "y29",
         "domain": [
          0.5125,
          0.615625
         ],
         "showticklabels": false
        },
        "xaxis3": {
         "anchor": "y3",
         "domain": [
          0.25625,
          0.359375
         ],
         "showticklabels": false
        },
        "xaxis30": {
         "anchor": "y30",
         "domain": [
          0.640625,
          0.74375
         ],
         "showticklabels": false
        },
        "xaxis31": {
         "anchor": "y31",
         "domain": [
          0.76875,
          0.8718750000000001
         ],
         "showticklabels": false
        },
        "xaxis32": {
         "anchor": "y32",
         "domain": [
          0.8968750000000001,
          1
         ],
         "showticklabels": false
        },
        "xaxis4": {
         "anchor": "y4",
         "domain": [
          0.38437499999999997,
          0.48749999999999993
         ],
         "showticklabels": false
        },
        "xaxis5": {
         "anchor": "y5",
         "domain": [
          0.5125,
          0.615625
         ],
         "showticklabels": false
        },
        "xaxis6": {
         "anchor": "y6",
         "domain": [
          0.640625,
          0.74375
         ],
         "showticklabels": false
        },
        "xaxis7": {
         "anchor": "y7",
         "domain": [
          0.76875,
          0.8718750000000001
         ],
         "showticklabels": false
        },
        "xaxis8": {
         "anchor": "y8",
         "domain": [
          0.8968750000000001,
          1
         ],
         "showticklabels": false
        },
        "xaxis9": {
         "anchor": "y9",
         "domain": [
          0,
          0.103125
         ],
         "showticklabels": false
        },
        "yaxis": {
         "anchor": "x",
         "domain": [
          0.9,
          1
         ],
         "showgrid": false,
         "showticklabels": false
        },
        "yaxis10": {
         "anchor": "x10",
         "domain": [
          0.6,
          0.7
         ],
         "showgrid": false,
         "showticklabels": false
        },
        "yaxis11": {
         "anchor": "x11",
         "domain": [
          0.6,
          0.7
         ],
         "showgrid": false,
         "showticklabels": false
        },
        "yaxis12": {
         "anchor": "x12",
         "domain": [
          0.6,
          0.7
         ],
         "showgrid": false,
         "showticklabels": false
        },
        "yaxis13": {
         "anchor": "x13",
         "domain": [
          0.6,
          0.7
         ],
         "showgrid": false,
         "showticklabels": false
        },
        "yaxis14": {
         "anchor": "x14",
         "domain": [
          0.6,
          0.7
         ],
         "showgrid": false,
         "showticklabels": false
        },
        "yaxis15": {
         "anchor": "x15",
         "domain": [
          0.6,
          0.7
         ],
         "showgrid": false,
         "showticklabels": false
        },
        "yaxis16": {
         "anchor": "x16",
         "domain": [
          0.6,
          0.7
         ],
         "showgrid": false,
         "showticklabels": false
        },
        "yaxis17": {
         "anchor": "x17",
         "domain": [
          0.3,
          0.39999999999999997
         ],
         "showgrid": false,
         "showticklabels": false
        },
        "yaxis18": {
         "anchor": "x18",
         "domain": [
          0.3,
          0.39999999999999997
         ],
         "showgrid": false,
         "showticklabels": false
        },
        "yaxis19": {
         "anchor": "x19",
         "domain": [
          0.3,
          0.39999999999999997
         ],
         "showgrid": false,
         "showticklabels": false
        },
        "yaxis2": {
         "anchor": "x2",
         "domain": [
          0.9,
          1
         ],
         "showgrid": false,
         "showticklabels": false
        },
        "yaxis20": {
         "anchor": "x20",
         "domain": [
          0.3,
          0.39999999999999997
         ],
         "showgrid": false,
         "showticklabels": false
        },
        "yaxis21": {
         "anchor": "x21",
         "domain": [
          0.3,
          0.39999999999999997
         ],
         "showgrid": false,
         "showticklabels": false
        },
        "yaxis22": {
         "anchor": "x22",
         "domain": [
          0.3,
          0.39999999999999997
         ],
         "showgrid": false,
         "showticklabels": false
        },
        "yaxis23": {
         "anchor": "x23",
         "domain": [
          0.3,
          0.39999999999999997
         ],
         "showgrid": false,
         "showticklabels": false
        },
        "yaxis24": {
         "anchor": "x24",
         "domain": [
          0.3,
          0.39999999999999997
         ],
         "showgrid": false,
         "showticklabels": false
        },
        "yaxis25": {
         "anchor": "x25",
         "domain": [
          0,
          0.09999999999999998
         ],
         "showgrid": false,
         "showticklabels": false
        },
        "yaxis26": {
         "anchor": "x26",
         "domain": [
          0,
          0.09999999999999998
         ],
         "showgrid": false,
         "showticklabels": false
        },
        "yaxis27": {
         "anchor": "x27",
         "domain": [
          0,
          0.09999999999999998
         ],
         "showgrid": false,
         "showticklabels": false
        },
        "yaxis28": {
         "anchor": "x28",
         "domain": [
          0,
          0.09999999999999998
         ],
         "showgrid": false,
         "showticklabels": false
        },
        "yaxis29": {
         "anchor": "x29",
         "domain": [
          0,
          0.09999999999999998
         ],
         "showgrid": false,
         "showticklabels": false
        },
        "yaxis3": {
         "anchor": "x3",
         "domain": [
          0.9,
          1
         ],
         "showgrid": false,
         "showticklabels": false
        },
        "yaxis30": {
         "anchor": "x30",
         "domain": [
          0,
          0.09999999999999998
         ],
         "showgrid": false,
         "showticklabels": false
        },
        "yaxis31": {
         "anchor": "x31",
         "domain": [
          0,
          0.09999999999999998
         ],
         "showgrid": false,
         "showticklabels": false
        },
        "yaxis32": {
         "anchor": "x32",
         "domain": [
          0,
          0.09999999999999998
         ],
         "showgrid": false,
         "showticklabels": false
        },
        "yaxis4": {
         "anchor": "x4",
         "domain": [
          0.9,
          1
         ],
         "showgrid": false,
         "showticklabels": false
        },
        "yaxis5": {
         "anchor": "x5",
         "domain": [
          0.9,
          1
         ],
         "showgrid": false,
         "showticklabels": false
        },
        "yaxis6": {
         "anchor": "x6",
         "domain": [
          0.9,
          1
         ],
         "showgrid": false,
         "showticklabels": false
        },
        "yaxis7": {
         "anchor": "x7",
         "domain": [
          0.9,
          1
         ],
         "showgrid": false,
         "showticklabels": false
        },
        "yaxis8": {
         "anchor": "x8",
         "domain": [
          0.9,
          1
         ],
         "showgrid": false,
         "showticklabels": false
        },
        "yaxis9": {
         "anchor": "x9",
         "domain": [
          0.6,
          0.7
         ],
         "showgrid": false,
         "showticklabels": false
        }
       }
      }
     },
     "metadata": {},
     "output_type": "display_data"
    }
   ],
   "source": [
    "import math\n",
    "beh=(whole_df['behavior'].unique())\n",
    "def behavior_histogram(behavior):\n",
    "    return go.Histogram(x=whole_df[(whole_df['behavior']==behavior)&(whole_df['duration']<150)]['duration'],\n",
    "    name=behavior,\n",
    "    marker={'color':'#C5D845'})\n",
    "fig = make_subplots(rows=4, cols=8, subplot_titles=beh, vertical_spacing=0.2)\n",
    "for b in range(len(beh)):\n",
    "    row = math.floor(b/8+1)\n",
    "    col = b%8+1\n",
    "    fig.append_trace(behavior_histogram(beh[b]), row, col)\n",
    "fig.update_layout({'height':600,\n",
    "                   'showlegend':False, \n",
    "                   'plot_bgcolor': 'rgba(21, 47, 18, 255)',\n",
    "                   'paper_bgcolor': 'rgba(21, 47, 18, 255)',\n",
    "                   'font':{'color': 'rgba(230,230,230,255)'},\n",
    "                   'yaxis':{'showgrid':False}\n",
    "                   })\n",
    "fig.update_xaxes(showticklabels=False)\n",
    "fig.update_yaxes(showticklabels=False, showgrid=False)\n",
    "fig.show()"
   ]
  },
  {
   "cell_type": "code",
   "execution_count": 37,
   "metadata": {},
   "outputs": [
    {
     "data": {
      "application/vnd.plotly.v1+json": {
       "config": {
        "plotlyServerURL": "https://plot.ly"
       },
       "data": [
        {
         "marker": {
          "color": "#C5D845"
         },
         "name": "Individual",
         "type": "histogram",
         "x": [
          46,
          7,
          67,
          131,
          148,
          77,
          9,
          114,
          132,
          136,
          103,
          63,
          2,
          144,
          86,
          131,
          109,
          34,
          8,
          41,
          81,
          94,
          38,
          6,
          25,
          120,
          95,
          71,
          72,
          35,
          109,
          105,
          143,
          2,
          56,
          113,
          4,
          122,
          88,
          63,
          14,
          35,
          14,
          99,
          87,
          148,
          124,
          18,
          76,
          52,
          8,
          75,
          56,
          30,
          11,
          56,
          106,
          81,
          145,
          99,
          117,
          36,
          55,
          50,
          81,
          7,
          95,
          84,
          24,
          62,
          15,
          65,
          149,
          47,
          63,
          100,
          108,
          61,
          92,
          47,
          41,
          69,
          139,
          33,
          17,
          146,
          136,
          77,
          106,
          57,
          70,
          109,
          72,
          109,
          98,
          33,
          9,
          44,
          63
         ],
         "xaxis": "x",
         "yaxis": "y"
        },
        {
         "marker": {
          "color": "#C5D845"
         },
         "name": "Social",
         "type": "histogram",
         "x": [
          115,
          39,
          88,
          96,
          125,
          121,
          81,
          104,
          43,
          84,
          70,
          107,
          72,
          109,
          129,
          89,
          101,
          17,
          64,
          66,
          103,
          10,
          47,
          146,
          56,
          88,
          75,
          102,
          70,
          75,
          14,
          117,
          18,
          92,
          54,
          20,
          88,
          41,
          19,
          5,
          125,
          102,
          98,
          80,
          16,
          102,
          46,
          29,
          32,
          116,
          55,
          5,
          142,
          54,
          37,
          116,
          68,
          38,
          138,
          19,
          131,
          94,
          5,
          2,
          4,
          78,
          17,
          38,
          69,
          43,
          46,
          97,
          91,
          25,
          97,
          96,
          103,
          27,
          26,
          27,
          7,
          144,
          25,
          13,
          84,
          135,
          48,
          49,
          77,
          11,
          133,
          134,
          74,
          35,
          56,
          90,
          45,
          7,
          71,
          131,
          61,
          129,
          42,
          15,
          16,
          5,
          4,
          16,
          78,
          82,
          70,
          10,
          14,
          63,
          61,
          5,
          60,
          100,
          74,
          20,
          37,
          68,
          114,
          142,
          19,
          25,
          111,
          37,
          32,
          78,
          82,
          122,
          5,
          42,
          17,
          149,
          142,
          65,
          16,
          75,
          129,
          123,
          110,
          51,
          51,
          38,
          21,
          106,
          129,
          17,
          19,
          81,
          2,
          44,
          39,
          47,
          13,
          63,
          41,
          56,
          2,
          73,
          7,
          18,
          97,
          13,
          35,
          70,
          83,
          128,
          69,
          149,
          82,
          49,
          129,
          28,
          56,
          15,
          70,
          70,
          60,
          64,
          12,
          48,
          99,
          71,
          76,
          8,
          82,
          56,
          32,
          23,
          57,
          34,
          19,
          31,
          73,
          32,
          78
         ],
         "xaxis": "x2",
         "yaxis": "y2"
        },
        {
         "marker": {
          "color": "#C5D845"
         },
         "name": "Social-Ludic",
         "type": "histogram",
         "x": [
          39,
          82,
          48,
          39,
          47,
          59,
          140,
          63,
          56,
          135,
          132,
          28,
          11,
          31,
          58,
          8,
          51,
          34,
          33,
          33,
          14,
          79,
          16,
          11,
          25,
          12,
          134,
          20,
          10,
          27,
          49,
          7,
          18,
          12,
          2,
          49,
          100,
          3,
          64,
          85,
          99,
          19,
          72,
          83,
          60,
          27,
          54,
          2,
          18,
          18,
          9,
          30,
          67,
          40,
          11,
          12,
          37,
          149,
          59,
          60,
          132,
          140,
          5,
          123,
          50,
          20,
          102,
          27,
          37,
          8,
          92,
          12
         ],
         "xaxis": "x3",
         "yaxis": "y3"
        },
        {
         "marker": {
          "color": "#C5D845"
         },
         "name": "Agonistic",
         "type": "histogram",
         "x": [
          14,
          11,
          5,
          3,
          8,
          10,
          5,
          39,
          39,
          57,
          12,
          23,
          8,
          10,
          4,
          5,
          12,
          9,
          24,
          15,
          20,
          10,
          58,
          16,
          110,
          41,
          22,
          11,
          2,
          14,
          6,
          4,
          2,
          4,
          5,
          10,
          2,
          0.053,
          118,
          5,
          5,
          5,
          10,
          10,
          2,
          3
         ],
         "xaxis": "x4",
         "yaxis": "y4"
        },
        {
         "marker": {
          "color": "#C5D845"
         },
         "name": "nan",
         "type": "histogram",
         "x": [],
         "xaxis": "x5",
         "yaxis": "y5"
        },
        {
         "marker": {
          "color": "#C5D845"
         },
         "name": "Public",
         "type": "histogram",
         "x": [
          24,
          10,
          37,
          7,
          29,
          15,
          20,
          13,
          5,
          6,
          4,
          57,
          97,
          6,
          136,
          127,
          36,
          112,
          12,
          50,
          5,
          14,
          13,
          52,
          22,
          6,
          39,
          19,
          12,
          2,
          5,
          35,
          120,
          7,
          2
         ],
         "xaxis": "x6",
         "yaxis": "y6"
        },
        {
         "marker": {
          "color": "#C5D845"
         },
         "name": "Ludic",
         "type": "histogram",
         "x": [
          40,
          9,
          25,
          58,
          55,
          141,
          99,
          3,
          37,
          149,
          20,
          146,
          81,
          36,
          9,
          40,
          20,
          48,
          44,
          69,
          11,
          30,
          114,
          144,
          70,
          25,
          42,
          24,
          104,
          61,
          35,
          38,
          13,
          25,
          82,
          14,
          148,
          8,
          20,
          39,
          107,
          14,
          4,
          109,
          34,
          138,
          77,
          139,
          3,
          4,
          69,
          128,
          136,
          113,
          99,
          89,
          25,
          5,
          8,
          13,
          63,
          3,
          96,
          110,
          80,
          49,
          10,
          16,
          8,
          4,
          3,
          9,
          16,
          86,
          1,
          108,
          76,
          4,
          6,
          113,
          40,
          13,
          130,
          120,
          123,
          146,
          73,
          60,
          67,
          45,
          71,
          2,
          7,
          139,
          12,
          3,
          70,
          86,
          11,
          30,
          69,
          34,
          5,
          28,
          24,
          92,
          41,
          5,
          94,
          33,
          12
         ],
         "xaxis": "x7",
         "yaxis": "y7"
        },
        {
         "marker": {
          "color": "#C5D845"
         },
         "name": "Sexual",
         "type": "histogram",
         "x": [],
         "xaxis": "x8",
         "yaxis": "y8"
        }
       ],
       "layout": {
        "annotations": [
         {
          "font": {
           "size": 16
          },
          "showarrow": false,
          "text": "Individual",
          "x": 0.225,
          "xanchor": "center",
          "xref": "paper",
          "y": 1,
          "yanchor": "bottom",
          "yref": "paper"
         },
         {
          "font": {
           "size": 16
          },
          "showarrow": false,
          "text": "Social",
          "x": 0.775,
          "xanchor": "center",
          "xref": "paper",
          "y": 1,
          "yanchor": "bottom",
          "yref": "paper"
         },
         {
          "font": {
           "size": 16
          },
          "showarrow": false,
          "text": "Social-Ludic",
          "x": 0.225,
          "xanchor": "center",
          "xref": "paper",
          "y": 0.7,
          "yanchor": "bottom",
          "yref": "paper"
         },
         {
          "font": {
           "size": 16
          },
          "showarrow": false,
          "text": "Agonistic",
          "x": 0.775,
          "xanchor": "center",
          "xref": "paper",
          "y": 0.7,
          "yanchor": "bottom",
          "yref": "paper"
         },
         {
          "font": {
           "size": 16
          },
          "showarrow": false,
          "text": "nan",
          "x": 0.225,
          "xanchor": "center",
          "xref": "paper",
          "y": 0.39999999999999997,
          "yanchor": "bottom",
          "yref": "paper"
         },
         {
          "font": {
           "size": 16
          },
          "showarrow": false,
          "text": "Public",
          "x": 0.775,
          "xanchor": "center",
          "xref": "paper",
          "y": 0.39999999999999997,
          "yanchor": "bottom",
          "yref": "paper"
         },
         {
          "font": {
           "size": 16
          },
          "showarrow": false,
          "text": "Ludic",
          "x": 0.225,
          "xanchor": "center",
          "xref": "paper",
          "y": 0.09999999999999998,
          "yanchor": "bottom",
          "yref": "paper"
         },
         {
          "font": {
           "size": 16
          },
          "showarrow": false,
          "text": "Sexual",
          "x": 0.775,
          "xanchor": "center",
          "xref": "paper",
          "y": 0.09999999999999998,
          "yanchor": "bottom",
          "yref": "paper"
         }
        ],
        "font": {
         "color": "rgba(230,230,230,255)"
        },
        "height": 600,
        "paper_bgcolor": "rgba(21, 47, 18, 255)",
        "plot_bgcolor": "rgba(21, 47, 18, 255)",
        "showlegend": false,
        "template": {
         "data": {
          "bar": [
           {
            "error_x": {
             "color": "#2a3f5f"
            },
            "error_y": {
             "color": "#2a3f5f"
            },
            "marker": {
             "line": {
              "color": "#E5ECF6",
              "width": 0.5
             },
             "pattern": {
              "fillmode": "overlay",
              "size": 10,
              "solidity": 0.2
             }
            },
            "type": "bar"
           }
          ],
          "barpolar": [
           {
            "marker": {
             "line": {
              "color": "#E5ECF6",
              "width": 0.5
             },
             "pattern": {
              "fillmode": "overlay",
              "size": 10,
              "solidity": 0.2
             }
            },
            "type": "barpolar"
           }
          ],
          "carpet": [
           {
            "aaxis": {
             "endlinecolor": "#2a3f5f",
             "gridcolor": "white",
             "linecolor": "white",
             "minorgridcolor": "white",
             "startlinecolor": "#2a3f5f"
            },
            "baxis": {
             "endlinecolor": "#2a3f5f",
             "gridcolor": "white",
             "linecolor": "white",
             "minorgridcolor": "white",
             "startlinecolor": "#2a3f5f"
            },
            "type": "carpet"
           }
          ],
          "choropleth": [
           {
            "colorbar": {
             "outlinewidth": 0,
             "ticks": ""
            },
            "type": "choropleth"
           }
          ],
          "contour": [
           {
            "colorbar": {
             "outlinewidth": 0,
             "ticks": ""
            },
            "colorscale": [
             [
              0,
              "#0d0887"
             ],
             [
              0.1111111111111111,
              "#46039f"
             ],
             [
              0.2222222222222222,
              "#7201a8"
             ],
             [
              0.3333333333333333,
              "#9c179e"
             ],
             [
              0.4444444444444444,
              "#bd3786"
             ],
             [
              0.5555555555555556,
              "#d8576b"
             ],
             [
              0.6666666666666666,
              "#ed7953"
             ],
             [
              0.7777777777777778,
              "#fb9f3a"
             ],
             [
              0.8888888888888888,
              "#fdca26"
             ],
             [
              1,
              "#f0f921"
             ]
            ],
            "type": "contour"
           }
          ],
          "contourcarpet": [
           {
            "colorbar": {
             "outlinewidth": 0,
             "ticks": ""
            },
            "type": "contourcarpet"
           }
          ],
          "heatmap": [
           {
            "colorbar": {
             "outlinewidth": 0,
             "ticks": ""
            },
            "colorscale": [
             [
              0,
              "#0d0887"
             ],
             [
              0.1111111111111111,
              "#46039f"
             ],
             [
              0.2222222222222222,
              "#7201a8"
             ],
             [
              0.3333333333333333,
              "#9c179e"
             ],
             [
              0.4444444444444444,
              "#bd3786"
             ],
             [
              0.5555555555555556,
              "#d8576b"
             ],
             [
              0.6666666666666666,
              "#ed7953"
             ],
             [
              0.7777777777777778,
              "#fb9f3a"
             ],
             [
              0.8888888888888888,
              "#fdca26"
             ],
             [
              1,
              "#f0f921"
             ]
            ],
            "type": "heatmap"
           }
          ],
          "heatmapgl": [
           {
            "colorbar": {
             "outlinewidth": 0,
             "ticks": ""
            },
            "colorscale": [
             [
              0,
              "#0d0887"
             ],
             [
              0.1111111111111111,
              "#46039f"
             ],
             [
              0.2222222222222222,
              "#7201a8"
             ],
             [
              0.3333333333333333,
              "#9c179e"
             ],
             [
              0.4444444444444444,
              "#bd3786"
             ],
             [
              0.5555555555555556,
              "#d8576b"
             ],
             [
              0.6666666666666666,
              "#ed7953"
             ],
             [
              0.7777777777777778,
              "#fb9f3a"
             ],
             [
              0.8888888888888888,
              "#fdca26"
             ],
             [
              1,
              "#f0f921"
             ]
            ],
            "type": "heatmapgl"
           }
          ],
          "histogram": [
           {
            "marker": {
             "pattern": {
              "fillmode": "overlay",
              "size": 10,
              "solidity": 0.2
             }
            },
            "type": "histogram"
           }
          ],
          "histogram2d": [
           {
            "colorbar": {
             "outlinewidth": 0,
             "ticks": ""
            },
            "colorscale": [
             [
              0,
              "#0d0887"
             ],
             [
              0.1111111111111111,
              "#46039f"
             ],
             [
              0.2222222222222222,
              "#7201a8"
             ],
             [
              0.3333333333333333,
              "#9c179e"
             ],
             [
              0.4444444444444444,
              "#bd3786"
             ],
             [
              0.5555555555555556,
              "#d8576b"
             ],
             [
              0.6666666666666666,
              "#ed7953"
             ],
             [
              0.7777777777777778,
              "#fb9f3a"
             ],
             [
              0.8888888888888888,
              "#fdca26"
             ],
             [
              1,
              "#f0f921"
             ]
            ],
            "type": "histogram2d"
           }
          ],
          "histogram2dcontour": [
           {
            "colorbar": {
             "outlinewidth": 0,
             "ticks": ""
            },
            "colorscale": [
             [
              0,
              "#0d0887"
             ],
             [
              0.1111111111111111,
              "#46039f"
             ],
             [
              0.2222222222222222,
              "#7201a8"
             ],
             [
              0.3333333333333333,
              "#9c179e"
             ],
             [
              0.4444444444444444,
              "#bd3786"
             ],
             [
              0.5555555555555556,
              "#d8576b"
             ],
             [
              0.6666666666666666,
              "#ed7953"
             ],
             [
              0.7777777777777778,
              "#fb9f3a"
             ],
             [
              0.8888888888888888,
              "#fdca26"
             ],
             [
              1,
              "#f0f921"
             ]
            ],
            "type": "histogram2dcontour"
           }
          ],
          "mesh3d": [
           {
            "colorbar": {
             "outlinewidth": 0,
             "ticks": ""
            },
            "type": "mesh3d"
           }
          ],
          "parcoords": [
           {
            "line": {
             "colorbar": {
              "outlinewidth": 0,
              "ticks": ""
             }
            },
            "type": "parcoords"
           }
          ],
          "pie": [
           {
            "automargin": true,
            "type": "pie"
           }
          ],
          "scatter": [
           {
            "fillpattern": {
             "fillmode": "overlay",
             "size": 10,
             "solidity": 0.2
            },
            "type": "scatter"
           }
          ],
          "scatter3d": [
           {
            "line": {
             "colorbar": {
              "outlinewidth": 0,
              "ticks": ""
             }
            },
            "marker": {
             "colorbar": {
              "outlinewidth": 0,
              "ticks": ""
             }
            },
            "type": "scatter3d"
           }
          ],
          "scattercarpet": [
           {
            "marker": {
             "colorbar": {
              "outlinewidth": 0,
              "ticks": ""
             }
            },
            "type": "scattercarpet"
           }
          ],
          "scattergeo": [
           {
            "marker": {
             "colorbar": {
              "outlinewidth": 0,
              "ticks": ""
             }
            },
            "type": "scattergeo"
           }
          ],
          "scattergl": [
           {
            "marker": {
             "colorbar": {
              "outlinewidth": 0,
              "ticks": ""
             }
            },
            "type": "scattergl"
           }
          ],
          "scattermapbox": [
           {
            "marker": {
             "colorbar": {
              "outlinewidth": 0,
              "ticks": ""
             }
            },
            "type": "scattermapbox"
           }
          ],
          "scatterpolar": [
           {
            "marker": {
             "colorbar": {
              "outlinewidth": 0,
              "ticks": ""
             }
            },
            "type": "scatterpolar"
           }
          ],
          "scatterpolargl": [
           {
            "marker": {
             "colorbar": {
              "outlinewidth": 0,
              "ticks": ""
             }
            },
            "type": "scatterpolargl"
           }
          ],
          "scatterternary": [
           {
            "marker": {
             "colorbar": {
              "outlinewidth": 0,
              "ticks": ""
             }
            },
            "type": "scatterternary"
           }
          ],
          "surface": [
           {
            "colorbar": {
             "outlinewidth": 0,
             "ticks": ""
            },
            "colorscale": [
             [
              0,
              "#0d0887"
             ],
             [
              0.1111111111111111,
              "#46039f"
             ],
             [
              0.2222222222222222,
              "#7201a8"
             ],
             [
              0.3333333333333333,
              "#9c179e"
             ],
             [
              0.4444444444444444,
              "#bd3786"
             ],
             [
              0.5555555555555556,
              "#d8576b"
             ],
             [
              0.6666666666666666,
              "#ed7953"
             ],
             [
              0.7777777777777778,
              "#fb9f3a"
             ],
             [
              0.8888888888888888,
              "#fdca26"
             ],
             [
              1,
              "#f0f921"
             ]
            ],
            "type": "surface"
           }
          ],
          "table": [
           {
            "cells": {
             "fill": {
              "color": "#EBF0F8"
             },
             "line": {
              "color": "white"
             }
            },
            "header": {
             "fill": {
              "color": "#C8D4E3"
             },
             "line": {
              "color": "white"
             }
            },
            "type": "table"
           }
          ]
         },
         "layout": {
          "annotationdefaults": {
           "arrowcolor": "#2a3f5f",
           "arrowhead": 0,
           "arrowwidth": 1
          },
          "autotypenumbers": "strict",
          "coloraxis": {
           "colorbar": {
            "outlinewidth": 0,
            "ticks": ""
           }
          },
          "colorscale": {
           "diverging": [
            [
             0,
             "#8e0152"
            ],
            [
             0.1,
             "#c51b7d"
            ],
            [
             0.2,
             "#de77ae"
            ],
            [
             0.3,
             "#f1b6da"
            ],
            [
             0.4,
             "#fde0ef"
            ],
            [
             0.5,
             "#f7f7f7"
            ],
            [
             0.6,
             "#e6f5d0"
            ],
            [
             0.7,
             "#b8e186"
            ],
            [
             0.8,
             "#7fbc41"
            ],
            [
             0.9,
             "#4d9221"
            ],
            [
             1,
             "#276419"
            ]
           ],
           "sequential": [
            [
             0,
             "#0d0887"
            ],
            [
             0.1111111111111111,
             "#46039f"
            ],
            [
             0.2222222222222222,
             "#7201a8"
            ],
            [
             0.3333333333333333,
             "#9c179e"
            ],
            [
             0.4444444444444444,
             "#bd3786"
            ],
            [
             0.5555555555555556,
             "#d8576b"
            ],
            [
             0.6666666666666666,
             "#ed7953"
            ],
            [
             0.7777777777777778,
             "#fb9f3a"
            ],
            [
             0.8888888888888888,
             "#fdca26"
            ],
            [
             1,
             "#f0f921"
            ]
           ],
           "sequentialminus": [
            [
             0,
             "#0d0887"
            ],
            [
             0.1111111111111111,
             "#46039f"
            ],
            [
             0.2222222222222222,
             "#7201a8"
            ],
            [
             0.3333333333333333,
             "#9c179e"
            ],
            [
             0.4444444444444444,
             "#bd3786"
            ],
            [
             0.5555555555555556,
             "#d8576b"
            ],
            [
             0.6666666666666666,
             "#ed7953"
            ],
            [
             0.7777777777777778,
             "#fb9f3a"
            ],
            [
             0.8888888888888888,
             "#fdca26"
            ],
            [
             1,
             "#f0f921"
            ]
           ]
          },
          "colorway": [
           "#636efa",
           "#EF553B",
           "#00cc96",
           "#ab63fa",
           "#FFA15A",
           "#19d3f3",
           "#FF6692",
           "#B6E880",
           "#FF97FF",
           "#FECB52"
          ],
          "font": {
           "color": "#2a3f5f"
          },
          "geo": {
           "bgcolor": "white",
           "lakecolor": "white",
           "landcolor": "#E5ECF6",
           "showlakes": true,
           "showland": true,
           "subunitcolor": "white"
          },
          "hoverlabel": {
           "align": "left"
          },
          "hovermode": "closest",
          "mapbox": {
           "style": "light"
          },
          "paper_bgcolor": "white",
          "plot_bgcolor": "#E5ECF6",
          "polar": {
           "angularaxis": {
            "gridcolor": "white",
            "linecolor": "white",
            "ticks": ""
           },
           "bgcolor": "#E5ECF6",
           "radialaxis": {
            "gridcolor": "white",
            "linecolor": "white",
            "ticks": ""
           }
          },
          "scene": {
           "xaxis": {
            "backgroundcolor": "#E5ECF6",
            "gridcolor": "white",
            "gridwidth": 2,
            "linecolor": "white",
            "showbackground": true,
            "ticks": "",
            "zerolinecolor": "white"
           },
           "yaxis": {
            "backgroundcolor": "#E5ECF6",
            "gridcolor": "white",
            "gridwidth": 2,
            "linecolor": "white",
            "showbackground": true,
            "ticks": "",
            "zerolinecolor": "white"
           },
           "zaxis": {
            "backgroundcolor": "#E5ECF6",
            "gridcolor": "white",
            "gridwidth": 2,
            "linecolor": "white",
            "showbackground": true,
            "ticks": "",
            "zerolinecolor": "white"
           }
          },
          "shapedefaults": {
           "line": {
            "color": "#2a3f5f"
           }
          },
          "ternary": {
           "aaxis": {
            "gridcolor": "white",
            "linecolor": "white",
            "ticks": ""
           },
           "baxis": {
            "gridcolor": "white",
            "linecolor": "white",
            "ticks": ""
           },
           "bgcolor": "#E5ECF6",
           "caxis": {
            "gridcolor": "white",
            "linecolor": "white",
            "ticks": ""
           }
          },
          "title": {
           "x": 0.05
          },
          "xaxis": {
           "automargin": true,
           "gridcolor": "white",
           "linecolor": "white",
           "ticks": "",
           "title": {
            "standoff": 15
           },
           "zerolinecolor": "white",
           "zerolinewidth": 2
          },
          "yaxis": {
           "automargin": true,
           "gridcolor": "white",
           "linecolor": "white",
           "ticks": "",
           "title": {
            "standoff": 15
           },
           "zerolinecolor": "white",
           "zerolinewidth": 2
          }
         }
        },
        "xaxis": {
         "anchor": "y",
         "domain": [
          0,
          0.45
         ],
         "showticklabels": false
        },
        "xaxis2": {
         "anchor": "y2",
         "domain": [
          0.55,
          1
         ],
         "showticklabels": false
        },
        "xaxis3": {
         "anchor": "y3",
         "domain": [
          0,
          0.45
         ],
         "showticklabels": false
        },
        "xaxis4": {
         "anchor": "y4",
         "domain": [
          0.55,
          1
         ],
         "showticklabels": false
        },
        "xaxis5": {
         "anchor": "y5",
         "domain": [
          0,
          0.45
         ],
         "showticklabels": false
        },
        "xaxis6": {
         "anchor": "y6",
         "domain": [
          0.55,
          1
         ],
         "showticklabels": false
        },
        "xaxis7": {
         "anchor": "y7",
         "domain": [
          0,
          0.45
         ],
         "showticklabels": false
        },
        "xaxis8": {
         "anchor": "y8",
         "domain": [
          0.55,
          1
         ],
         "showticklabels": false
        },
        "yaxis": {
         "anchor": "x",
         "domain": [
          0.9,
          1
         ],
         "showgrid": false,
         "showticklabels": false
        },
        "yaxis2": {
         "anchor": "x2",
         "domain": [
          0.9,
          1
         ],
         "showgrid": false,
         "showticklabels": false
        },
        "yaxis3": {
         "anchor": "x3",
         "domain": [
          0.6,
          0.7
         ],
         "showgrid": false,
         "showticklabels": false
        },
        "yaxis4": {
         "anchor": "x4",
         "domain": [
          0.6,
          0.7
         ],
         "showgrid": false,
         "showticklabels": false
        },
        "yaxis5": {
         "anchor": "x5",
         "domain": [
          0.3,
          0.39999999999999997
         ],
         "showgrid": false,
         "showticklabels": false
        },
        "yaxis6": {
         "anchor": "x6",
         "domain": [
          0.3,
          0.39999999999999997
         ],
         "showgrid": false,
         "showticklabels": false
        },
        "yaxis7": {
         "anchor": "x7",
         "domain": [
          0,
          0.09999999999999998
         ],
         "showgrid": false,
         "showticklabels": false
        },
        "yaxis8": {
         "anchor": "x8",
         "domain": [
          0,
          0.09999999999999998
         ],
         "showgrid": false,
         "showticklabels": false
        }
       }
      }
     },
     "metadata": {},
     "output_type": "display_data"
    }
   ],
   "source": [
    "import math\n",
    "beh=(whole_df['macro_bhv'].unique())\n",
    "def behavior_histogram(behavior):\n",
    "    return go.Histogram(x=macro_df[(macro_df['macro_bhv']==behavior)&(macro_df['duration']<150)]['duration'],\n",
    "    name=behavior,\n",
    "    marker={'color':'#C5D845'})\n",
    "fig = make_subplots(rows=4, cols=2, subplot_titles=beh, vertical_spacing=0.2)\n",
    "for b in range(len(beh)):\n",
    "    row = math.floor(b/2+1)\n",
    "    col = b%2+1\n",
    "    fig.append_trace(behavior_histogram(beh[b]), row, col)\n",
    "fig.update_layout({'height':600,\n",
    "                   'showlegend':False, \n",
    "                   'plot_bgcolor': 'rgba(21, 47, 18, 255)',\n",
    "                   'paper_bgcolor': 'rgba(21, 47, 18, 255)',\n",
    "                   'font':{'color': 'rgba(230,230,230,255)'},\n",
    "                   'yaxis':{'showgrid':False}\n",
    "                   })\n",
    "fig.update_xaxes(showticklabels=False)\n",
    "fig.update_yaxes(showticklabels=False, showgrid=False)\n",
    "fig.show()"
   ]
  },
  {
   "attachments": {},
   "cell_type": "markdown",
   "metadata": {},
   "source": [
    "# Boxplot by Behavior and monkey"
   ]
  },
  {
   "cell_type": "code",
   "execution_count": 74,
   "metadata": {},
   "outputs": [
    {
     "data": {
      "application/vnd.plotly.v1+json": {
       "config": {
        "plotlyServerURL": "https://plot.ly"
       },
       "data": [
        {
         "alignmentgroup": "True",
         "hovertemplate": "period=%{x}<br>duration=%{y}<extra></extra>",
         "legendgroup": "pregame",
         "marker": {
          "color": "#636efa"
         },
         "name": "pregame",
         "notched": false,
         "offsetgroup": "pregame",
         "orientation": "v",
         "showlegend": true,
         "type": "box",
         "x": [
          "pregame",
          "pregame",
          "pregame",
          "pregame",
          "pregame",
          "pregame",
          "pregame",
          "pregame",
          "pregame",
          "pregame",
          "pregame",
          "pregame",
          "pregame",
          "pregame",
          "pregame",
          "pregame",
          "pregame",
          "pregame",
          "pregame",
          "pregame"
         ],
         "x0": " ",
         "xaxis": "x",
         "y": [
          14,
          11,
          5,
          3,
          8,
          10,
          5,
          39,
          39,
          57,
          12,
          23,
          8,
          10,
          4,
          5,
          12,
          9,
          24,
          15
         ],
         "y0": " ",
         "yaxis": "y"
        },
        {
         "alignmentgroup": "True",
         "hovertemplate": "period=%{x}<br>duration=%{y}<extra></extra>",
         "legendgroup": "game",
         "marker": {
          "color": "#EF553B"
         },
         "name": "game",
         "notched": false,
         "offsetgroup": "game",
         "orientation": "v",
         "showlegend": true,
         "type": "box",
         "x": [
          "game",
          "game",
          "game",
          "game",
          "game",
          "game",
          "game",
          "game",
          "game",
          "game",
          "game",
          "game",
          "game",
          "game",
          "game",
          "game"
         ],
         "x0": " ",
         "xaxis": "x",
         "y": [
          20,
          10,
          58,
          16,
          260,
          110,
          41,
          22,
          11,
          2,
          14,
          6,
          4,
          2,
          4,
          5
         ],
         "y0": " ",
         "yaxis": "y"
        },
        {
         "alignmentgroup": "True",
         "hovertemplate": "period=%{x}<br>duration=%{y}<extra></extra>",
         "legendgroup": "postgame",
         "marker": {
          "color": "#00cc96"
         },
         "name": "postgame",
         "notched": false,
         "offsetgroup": "postgame",
         "orientation": "v",
         "showlegend": true,
         "type": "box",
         "x": [
          "postgame",
          "postgame",
          "postgame",
          "postgame",
          "postgame",
          "postgame",
          "postgame",
          "postgame",
          "postgame",
          "postgame",
          "postgame"
         ],
         "x0": " ",
         "xaxis": "x",
         "y": [
          10,
          2,
          0.053,
          118,
          5,
          5,
          5,
          10,
          10,
          2,
          3
         ],
         "y0": " ",
         "yaxis": "y"
        }
       ],
       "layout": {
        "boxmode": "overlay",
        "legend": {
         "title": {
          "text": "period"
         },
         "tracegroupgap": 0
        },
        "template": {
         "data": {
          "bar": [
           {
            "error_x": {
             "color": "#2a3f5f"
            },
            "error_y": {
             "color": "#2a3f5f"
            },
            "marker": {
             "line": {
              "color": "#E5ECF6",
              "width": 0.5
             },
             "pattern": {
              "fillmode": "overlay",
              "size": 10,
              "solidity": 0.2
             }
            },
            "type": "bar"
           }
          ],
          "barpolar": [
           {
            "marker": {
             "line": {
              "color": "#E5ECF6",
              "width": 0.5
             },
             "pattern": {
              "fillmode": "overlay",
              "size": 10,
              "solidity": 0.2
             }
            },
            "type": "barpolar"
           }
          ],
          "carpet": [
           {
            "aaxis": {
             "endlinecolor": "#2a3f5f",
             "gridcolor": "white",
             "linecolor": "white",
             "minorgridcolor": "white",
             "startlinecolor": "#2a3f5f"
            },
            "baxis": {
             "endlinecolor": "#2a3f5f",
             "gridcolor": "white",
             "linecolor": "white",
             "minorgridcolor": "white",
             "startlinecolor": "#2a3f5f"
            },
            "type": "carpet"
           }
          ],
          "choropleth": [
           {
            "colorbar": {
             "outlinewidth": 0,
             "ticks": ""
            },
            "type": "choropleth"
           }
          ],
          "contour": [
           {
            "colorbar": {
             "outlinewidth": 0,
             "ticks": ""
            },
            "colorscale": [
             [
              0,
              "#0d0887"
             ],
             [
              0.1111111111111111,
              "#46039f"
             ],
             [
              0.2222222222222222,
              "#7201a8"
             ],
             [
              0.3333333333333333,
              "#9c179e"
             ],
             [
              0.4444444444444444,
              "#bd3786"
             ],
             [
              0.5555555555555556,
              "#d8576b"
             ],
             [
              0.6666666666666666,
              "#ed7953"
             ],
             [
              0.7777777777777778,
              "#fb9f3a"
             ],
             [
              0.8888888888888888,
              "#fdca26"
             ],
             [
              1,
              "#f0f921"
             ]
            ],
            "type": "contour"
           }
          ],
          "contourcarpet": [
           {
            "colorbar": {
             "outlinewidth": 0,
             "ticks": ""
            },
            "type": "contourcarpet"
           }
          ],
          "heatmap": [
           {
            "colorbar": {
             "outlinewidth": 0,
             "ticks": ""
            },
            "colorscale": [
             [
              0,
              "#0d0887"
             ],
             [
              0.1111111111111111,
              "#46039f"
             ],
             [
              0.2222222222222222,
              "#7201a8"
             ],
             [
              0.3333333333333333,
              "#9c179e"
             ],
             [
              0.4444444444444444,
              "#bd3786"
             ],
             [
              0.5555555555555556,
              "#d8576b"
             ],
             [
              0.6666666666666666,
              "#ed7953"
             ],
             [
              0.7777777777777778,
              "#fb9f3a"
             ],
             [
              0.8888888888888888,
              "#fdca26"
             ],
             [
              1,
              "#f0f921"
             ]
            ],
            "type": "heatmap"
           }
          ],
          "heatmapgl": [
           {
            "colorbar": {
             "outlinewidth": 0,
             "ticks": ""
            },
            "colorscale": [
             [
              0,
              "#0d0887"
             ],
             [
              0.1111111111111111,
              "#46039f"
             ],
             [
              0.2222222222222222,
              "#7201a8"
             ],
             [
              0.3333333333333333,
              "#9c179e"
             ],
             [
              0.4444444444444444,
              "#bd3786"
             ],
             [
              0.5555555555555556,
              "#d8576b"
             ],
             [
              0.6666666666666666,
              "#ed7953"
             ],
             [
              0.7777777777777778,
              "#fb9f3a"
             ],
             [
              0.8888888888888888,
              "#fdca26"
             ],
             [
              1,
              "#f0f921"
             ]
            ],
            "type": "heatmapgl"
           }
          ],
          "histogram": [
           {
            "marker": {
             "pattern": {
              "fillmode": "overlay",
              "size": 10,
              "solidity": 0.2
             }
            },
            "type": "histogram"
           }
          ],
          "histogram2d": [
           {
            "colorbar": {
             "outlinewidth": 0,
             "ticks": ""
            },
            "colorscale": [
             [
              0,
              "#0d0887"
             ],
             [
              0.1111111111111111,
              "#46039f"
             ],
             [
              0.2222222222222222,
              "#7201a8"
             ],
             [
              0.3333333333333333,
              "#9c179e"
             ],
             [
              0.4444444444444444,
              "#bd3786"
             ],
             [
              0.5555555555555556,
              "#d8576b"
             ],
             [
              0.6666666666666666,
              "#ed7953"
             ],
             [
              0.7777777777777778,
              "#fb9f3a"
             ],
             [
              0.8888888888888888,
              "#fdca26"
             ],
             [
              1,
              "#f0f921"
             ]
            ],
            "type": "histogram2d"
           }
          ],
          "histogram2dcontour": [
           {
            "colorbar": {
             "outlinewidth": 0,
             "ticks": ""
            },
            "colorscale": [
             [
              0,
              "#0d0887"
             ],
             [
              0.1111111111111111,
              "#46039f"
             ],
             [
              0.2222222222222222,
              "#7201a8"
             ],
             [
              0.3333333333333333,
              "#9c179e"
             ],
             [
              0.4444444444444444,
              "#bd3786"
             ],
             [
              0.5555555555555556,
              "#d8576b"
             ],
             [
              0.6666666666666666,
              "#ed7953"
             ],
             [
              0.7777777777777778,
              "#fb9f3a"
             ],
             [
              0.8888888888888888,
              "#fdca26"
             ],
             [
              1,
              "#f0f921"
             ]
            ],
            "type": "histogram2dcontour"
           }
          ],
          "mesh3d": [
           {
            "colorbar": {
             "outlinewidth": 0,
             "ticks": ""
            },
            "type": "mesh3d"
           }
          ],
          "parcoords": [
           {
            "line": {
             "colorbar": {
              "outlinewidth": 0,
              "ticks": ""
             }
            },
            "type": "parcoords"
           }
          ],
          "pie": [
           {
            "automargin": true,
            "type": "pie"
           }
          ],
          "scatter": [
           {
            "fillpattern": {
             "fillmode": "overlay",
             "size": 10,
             "solidity": 0.2
            },
            "type": "scatter"
           }
          ],
          "scatter3d": [
           {
            "line": {
             "colorbar": {
              "outlinewidth": 0,
              "ticks": ""
             }
            },
            "marker": {
             "colorbar": {
              "outlinewidth": 0,
              "ticks": ""
             }
            },
            "type": "scatter3d"
           }
          ],
          "scattercarpet": [
           {
            "marker": {
             "colorbar": {
              "outlinewidth": 0,
              "ticks": ""
             }
            },
            "type": "scattercarpet"
           }
          ],
          "scattergeo": [
           {
            "marker": {
             "colorbar": {
              "outlinewidth": 0,
              "ticks": ""
             }
            },
            "type": "scattergeo"
           }
          ],
          "scattergl": [
           {
            "marker": {
             "colorbar": {
              "outlinewidth": 0,
              "ticks": ""
             }
            },
            "type": "scattergl"
           }
          ],
          "scattermapbox": [
           {
            "marker": {
             "colorbar": {
              "outlinewidth": 0,
              "ticks": ""
             }
            },
            "type": "scattermapbox"
           }
          ],
          "scatterpolar": [
           {
            "marker": {
             "colorbar": {
              "outlinewidth": 0,
              "ticks": ""
             }
            },
            "type": "scatterpolar"
           }
          ],
          "scatterpolargl": [
           {
            "marker": {
             "colorbar": {
              "outlinewidth": 0,
              "ticks": ""
             }
            },
            "type": "scatterpolargl"
           }
          ],
          "scatterternary": [
           {
            "marker": {
             "colorbar": {
              "outlinewidth": 0,
              "ticks": ""
             }
            },
            "type": "scatterternary"
           }
          ],
          "surface": [
           {
            "colorbar": {
             "outlinewidth": 0,
             "ticks": ""
            },
            "colorscale": [
             [
              0,
              "#0d0887"
             ],
             [
              0.1111111111111111,
              "#46039f"
             ],
             [
              0.2222222222222222,
              "#7201a8"
             ],
             [
              0.3333333333333333,
              "#9c179e"
             ],
             [
              0.4444444444444444,
              "#bd3786"
             ],
             [
              0.5555555555555556,
              "#d8576b"
             ],
             [
              0.6666666666666666,
              "#ed7953"
             ],
             [
              0.7777777777777778,
              "#fb9f3a"
             ],
             [
              0.8888888888888888,
              "#fdca26"
             ],
             [
              1,
              "#f0f921"
             ]
            ],
            "type": "surface"
           }
          ],
          "table": [
           {
            "cells": {
             "fill": {
              "color": "#EBF0F8"
             },
             "line": {
              "color": "white"
             }
            },
            "header": {
             "fill": {
              "color": "#C8D4E3"
             },
             "line": {
              "color": "white"
             }
            },
            "type": "table"
           }
          ]
         },
         "layout": {
          "annotationdefaults": {
           "arrowcolor": "#2a3f5f",
           "arrowhead": 0,
           "arrowwidth": 1
          },
          "autotypenumbers": "strict",
          "coloraxis": {
           "colorbar": {
            "outlinewidth": 0,
            "ticks": ""
           }
          },
          "colorscale": {
           "diverging": [
            [
             0,
             "#8e0152"
            ],
            [
             0.1,
             "#c51b7d"
            ],
            [
             0.2,
             "#de77ae"
            ],
            [
             0.3,
             "#f1b6da"
            ],
            [
             0.4,
             "#fde0ef"
            ],
            [
             0.5,
             "#f7f7f7"
            ],
            [
             0.6,
             "#e6f5d0"
            ],
            [
             0.7,
             "#b8e186"
            ],
            [
             0.8,
             "#7fbc41"
            ],
            [
             0.9,
             "#4d9221"
            ],
            [
             1,
             "#276419"
            ]
           ],
           "sequential": [
            [
             0,
             "#0d0887"
            ],
            [
             0.1111111111111111,
             "#46039f"
            ],
            [
             0.2222222222222222,
             "#7201a8"
            ],
            [
             0.3333333333333333,
             "#9c179e"
            ],
            [
             0.4444444444444444,
             "#bd3786"
            ],
            [
             0.5555555555555556,
             "#d8576b"
            ],
            [
             0.6666666666666666,
             "#ed7953"
            ],
            [
             0.7777777777777778,
             "#fb9f3a"
            ],
            [
             0.8888888888888888,
             "#fdca26"
            ],
            [
             1,
             "#f0f921"
            ]
           ],
           "sequentialminus": [
            [
             0,
             "#0d0887"
            ],
            [
             0.1111111111111111,
             "#46039f"
            ],
            [
             0.2222222222222222,
             "#7201a8"
            ],
            [
             0.3333333333333333,
             "#9c179e"
            ],
            [
             0.4444444444444444,
             "#bd3786"
            ],
            [
             0.5555555555555556,
             "#d8576b"
            ],
            [
             0.6666666666666666,
             "#ed7953"
            ],
            [
             0.7777777777777778,
             "#fb9f3a"
            ],
            [
             0.8888888888888888,
             "#fdca26"
            ],
            [
             1,
             "#f0f921"
            ]
           ]
          },
          "colorway": [
           "#636efa",
           "#EF553B",
           "#00cc96",
           "#ab63fa",
           "#FFA15A",
           "#19d3f3",
           "#FF6692",
           "#B6E880",
           "#FF97FF",
           "#FECB52"
          ],
          "font": {
           "color": "#2a3f5f"
          },
          "geo": {
           "bgcolor": "white",
           "lakecolor": "white",
           "landcolor": "#E5ECF6",
           "showlakes": true,
           "showland": true,
           "subunitcolor": "white"
          },
          "hoverlabel": {
           "align": "left"
          },
          "hovermode": "closest",
          "mapbox": {
           "style": "light"
          },
          "paper_bgcolor": "white",
          "plot_bgcolor": "#E5ECF6",
          "polar": {
           "angularaxis": {
            "gridcolor": "white",
            "linecolor": "white",
            "ticks": ""
           },
           "bgcolor": "#E5ECF6",
           "radialaxis": {
            "gridcolor": "white",
            "linecolor": "white",
            "ticks": ""
           }
          },
          "scene": {
           "xaxis": {
            "backgroundcolor": "#E5ECF6",
            "gridcolor": "white",
            "gridwidth": 2,
            "linecolor": "white",
            "showbackground": true,
            "ticks": "",
            "zerolinecolor": "white"
           },
           "yaxis": {
            "backgroundcolor": "#E5ECF6",
            "gridcolor": "white",
            "gridwidth": 2,
            "linecolor": "white",
            "showbackground": true,
            "ticks": "",
            "zerolinecolor": "white"
           },
           "zaxis": {
            "backgroundcolor": "#E5ECF6",
            "gridcolor": "white",
            "gridwidth": 2,
            "linecolor": "white",
            "showbackground": true,
            "ticks": "",
            "zerolinecolor": "white"
           }
          },
          "shapedefaults": {
           "line": {
            "color": "#2a3f5f"
           }
          },
          "ternary": {
           "aaxis": {
            "gridcolor": "white",
            "linecolor": "white",
            "ticks": ""
           },
           "baxis": {
            "gridcolor": "white",
            "linecolor": "white",
            "ticks": ""
           },
           "bgcolor": "#E5ECF6",
           "caxis": {
            "gridcolor": "white",
            "linecolor": "white",
            "ticks": ""
           }
          },
          "title": {
           "x": 0.05
          },
          "xaxis": {
           "automargin": true,
           "gridcolor": "white",
           "linecolor": "white",
           "ticks": "",
           "title": {
            "standoff": 15
           },
           "zerolinecolor": "white",
           "zerolinewidth": 2
          },
          "yaxis": {
           "automargin": true,
           "gridcolor": "white",
           "linecolor": "white",
           "ticks": "",
           "title": {
            "standoff": 15
           },
           "zerolinecolor": "white",
           "zerolinewidth": 2
          }
         }
        },
        "title": {
         "text": "Agonistic"
        },
        "width": 500,
        "xaxis": {
         "anchor": "y",
         "categoryarray": [
          "pregame",
          "game",
          "postgame"
         ],
         "categoryorder": "array",
         "domain": [
          0,
          1
         ],
         "title": {
          "text": "period"
         }
        },
        "yaxis": {
         "anchor": "x",
         "domain": [
          0,
          1
         ],
         "title": {
          "text": "duration"
         }
        }
       }
      }
     },
     "metadata": {},
     "output_type": "display_data"
    }
   ],
   "source": [
    "DATA = macro_df\n",
    "def box_by_behavior(subjects, behavior):\n",
    "    if not isinstance(subjects, list):\n",
    "        subjects=[subjects]\n",
    "    df = DATA[(DATA['subject'].isin(subjects))&(DATA['macro_bhv']==behavior)]\n",
    "    fig = px.box(df, x='period', y='duration', color='period', width=500, title=behavior)\n",
    "    return fig\n",
    "\n",
    "fig = box_by_behavior(list(DATA['subject'].unique()), 'Agonistic')\n",
    "fig.show()\n",
    "\n",
    "def pie_by_period(subjects, period):\n",
    "    pass"
   ]
  },
  {
   "cell_type": "code",
   "execution_count": 7,
   "metadata": {},
   "outputs": [],
   "source": [
    "whole_df.to_csv('../data/clean_df.csv')"
   ]
  },
  {
   "cell_type": "code",
   "execution_count": null,
   "metadata": {},
   "outputs": [],
   "source": []
  },
  {
   "attachments": {},
   "cell_type": "markdown",
   "metadata": {},
   "source": [
    "# Relative durations"
   ]
  },
  {
   "cell_type": "code",
   "execution_count": 14,
   "metadata": {},
   "outputs": [
    {
     "data": {
      "text/html": [
       "<div>\n",
       "<style scoped>\n",
       "    .dataframe tbody tr th:only-of-type {\n",
       "        vertical-align: middle;\n",
       "    }\n",
       "\n",
       "    .dataframe tbody tr th {\n",
       "        vertical-align: top;\n",
       "    }\n",
       "\n",
       "    .dataframe thead th {\n",
       "        text-align: right;\n",
       "    }\n",
       "</style>\n",
       "<table border=\"1\" class=\"dataframe\">\n",
       "  <thead>\n",
       "    <tr style=\"text-align: right;\">\n",
       "      <th></th>\n",
       "      <th>date</th>\n",
       "      <th>subject</th>\n",
       "      <th>period</th>\n",
       "      <th>reg</th>\n",
       "      <th>behavior</th>\n",
       "      <th>receptor</th>\n",
       "      <th>duration</th>\n",
       "      <th>bhv_category</th>\n",
       "      <th>macro_bhv</th>\n",
       "      <th>rel_duration</th>\n",
       "    </tr>\n",
       "  </thead>\n",
       "  <tbody>\n",
       "    <tr>\n",
       "      <th>0</th>\n",
       "      <td>2019-04-15</td>\n",
       "      <td>Karl</td>\n",
       "      <td>pregame</td>\n",
       "      <td>1</td>\n",
       "      <td>cam</td>\n",
       "      <td>[]</td>\n",
       "      <td>15.0</td>\n",
       "      <td>moving</td>\n",
       "      <td>Individual</td>\n",
       "      <td>0.024671</td>\n",
       "    </tr>\n",
       "    <tr>\n",
       "      <th>1</th>\n",
       "      <td>2019-04-15</td>\n",
       "      <td>Karl</td>\n",
       "      <td>pregame</td>\n",
       "      <td>1</td>\n",
       "      <td>forr</td>\n",
       "      <td>[]</td>\n",
       "      <td>34.0</td>\n",
       "      <td>feeding</td>\n",
       "      <td>Individual</td>\n",
       "      <td>0.055921</td>\n",
       "    </tr>\n",
       "    <tr>\n",
       "      <th>2</th>\n",
       "      <td>2019-04-15</td>\n",
       "      <td>Karl</td>\n",
       "      <td>pregame</td>\n",
       "      <td>1</td>\n",
       "      <td>sen</td>\n",
       "      <td>[]</td>\n",
       "      <td>52.0</td>\n",
       "      <td>resting</td>\n",
       "      <td>Individual</td>\n",
       "      <td>0.085526</td>\n",
       "    </tr>\n",
       "    <tr>\n",
       "      <th>3</th>\n",
       "      <td>2019-04-15</td>\n",
       "      <td>Karl</td>\n",
       "      <td>pregame</td>\n",
       "      <td>1</td>\n",
       "      <td>cam</td>\n",
       "      <td>[]</td>\n",
       "      <td>5.0</td>\n",
       "      <td>moving</td>\n",
       "      <td>Individual</td>\n",
       "      <td>0.008224</td>\n",
       "    </tr>\n",
       "    <tr>\n",
       "      <th>4</th>\n",
       "      <td>2019-04-15</td>\n",
       "      <td>Karl</td>\n",
       "      <td>pregame</td>\n",
       "      <td>1</td>\n",
       "      <td>sen</td>\n",
       "      <td>[]</td>\n",
       "      <td>34.0</td>\n",
       "      <td>resting</td>\n",
       "      <td>Individual</td>\n",
       "      <td>0.055921</td>\n",
       "    </tr>\n",
       "    <tr>\n",
       "      <th>...</th>\n",
       "      <td>...</td>\n",
       "      <td>...</td>\n",
       "      <td>...</td>\n",
       "      <td>...</td>\n",
       "      <td>...</td>\n",
       "      <td>...</td>\n",
       "      <td>...</td>\n",
       "      <td>...</td>\n",
       "      <td>...</td>\n",
       "      <td>...</td>\n",
       "    </tr>\n",
       "    <tr>\n",
       "      <th>8109</th>\n",
       "      <td>2019-07-19</td>\n",
       "      <td>Hadia</td>\n",
       "      <td>postgame</td>\n",
       "      <td>2</td>\n",
       "      <td>alim</td>\n",
       "      <td>[]</td>\n",
       "      <td>94.0</td>\n",
       "      <td>feeding</td>\n",
       "      <td>Individual</td>\n",
       "      <td>0.156667</td>\n",
       "    </tr>\n",
       "    <tr>\n",
       "      <th>8110</th>\n",
       "      <td>2019-07-19</td>\n",
       "      <td>Hadia</td>\n",
       "      <td>postgame</td>\n",
       "      <td>2</td>\n",
       "      <td>jacrob</td>\n",
       "      <td>[]</td>\n",
       "      <td>21.0</td>\n",
       "      <td>playing</td>\n",
       "      <td>Ludic</td>\n",
       "      <td>0.035000</td>\n",
       "    </tr>\n",
       "    <tr>\n",
       "      <th>8111</th>\n",
       "      <td>2019-07-19</td>\n",
       "      <td>Hadia</td>\n",
       "      <td>postgame</td>\n",
       "      <td>2</td>\n",
       "      <td>bra</td>\n",
       "      <td>[]</td>\n",
       "      <td>3.0</td>\n",
       "      <td>moving</td>\n",
       "      <td>Individual</td>\n",
       "      <td>0.005000</td>\n",
       "    </tr>\n",
       "    <tr>\n",
       "      <th>8112</th>\n",
       "      <td>2019-07-19</td>\n",
       "      <td>Hadia</td>\n",
       "      <td>postgame</td>\n",
       "      <td>2</td>\n",
       "      <td>alim</td>\n",
       "      <td>[]</td>\n",
       "      <td>192.0</td>\n",
       "      <td>feeding</td>\n",
       "      <td>Individual</td>\n",
       "      <td>0.320000</td>\n",
       "    </tr>\n",
       "    <tr>\n",
       "      <th>5128</th>\n",
       "      <td>2019-04-22</td>\n",
       "      <td>Popo</td>\n",
       "      <td>pregame</td>\n",
       "      <td>1</td>\n",
       "      <td>jun</td>\n",
       "      <td>['Locky']</td>\n",
       "      <td>120.0</td>\n",
       "      <td>social</td>\n",
       "      <td>Social</td>\n",
       "      <td>0.189274</td>\n",
       "    </tr>\n",
       "  </tbody>\n",
       "</table>\n",
       "<p>8106 rows × 10 columns</p>\n",
       "</div>"
      ],
      "text/plain": [
       "            date subject    period  reg behavior   receptor  duration  \\\n",
       "0     2019-04-15    Karl   pregame    1      cam         []      15.0   \n",
       "1     2019-04-15    Karl   pregame    1     forr         []      34.0   \n",
       "2     2019-04-15    Karl   pregame    1      sen         []      52.0   \n",
       "3     2019-04-15    Karl   pregame    1      cam         []       5.0   \n",
       "4     2019-04-15    Karl   pregame    1      sen         []      34.0   \n",
       "...          ...     ...       ...  ...      ...        ...       ...   \n",
       "8109  2019-07-19   Hadia  postgame    2     alim         []      94.0   \n",
       "8110  2019-07-19   Hadia  postgame    2   jacrob         []      21.0   \n",
       "8111  2019-07-19   Hadia  postgame    2      bra         []       3.0   \n",
       "8112  2019-07-19   Hadia  postgame    2     alim         []     192.0   \n",
       "5128  2019-04-22    Popo   pregame    1      jun  ['Locky']     120.0   \n",
       "\n",
       "     bhv_category   macro_bhv  rel_duration  \n",
       "0          moving  Individual      0.024671  \n",
       "1         feeding  Individual      0.055921  \n",
       "2         resting  Individual      0.085526  \n",
       "3          moving  Individual      0.008224  \n",
       "4         resting  Individual      0.055921  \n",
       "...           ...         ...           ...  \n",
       "8109      feeding  Individual      0.156667  \n",
       "8110      playing       Ludic      0.035000  \n",
       "8111       moving  Individual      0.005000  \n",
       "8112      feeding  Individual      0.320000  \n",
       "5128       social      Social      0.189274  \n",
       "\n",
       "[8106 rows x 10 columns]"
      ]
     },
     "execution_count": 14,
     "metadata": {},
     "output_type": "execute_result"
    }
   ],
   "source": [
    "whole_df\n"
   ]
  },
  {
   "cell_type": "code",
   "execution_count": 9,
   "metadata": {},
   "outputs": [],
   "source": [
    "whole_df['rel_duration'] = whole_df.groupby(['date', 'subject', 'reg', 'period'])['duration'].apply(lambda x:x/x.sum())\n"
   ]
  },
  {
   "cell_type": "code",
   "execution_count": 10,
   "metadata": {},
   "outputs": [],
   "source": [
    "from queries import *\n"
   ]
  },
  {
   "cell_type": "code",
   "execution_count": 11,
   "metadata": {},
   "outputs": [
    {
     "data": {
      "text/plain": [
       "0.9999999999999999"
      ]
     },
     "execution_count": 11,
     "metadata": {},
     "output_type": "execute_result"
    }
   ],
   "source": [
    "df = where_subject_and_date(whole_df, 'Karl', '2019-04-15')\n",
    "df[df['reg']==1]['rel_duration'].sum()"
   ]
  },
  {
   "cell_type": "code",
   "execution_count": 12,
   "metadata": {},
   "outputs": [],
   "source": [
    "whole_df.to_csv('../data/clean_df.csv')"
   ]
  },
  {
   "attachments": {},
   "cell_type": "markdown",
   "metadata": {},
   "source": [
    "# Frequencies\n",
    "\n",
    "Filtrar por mono"
   ]
  },
  {
   "cell_type": "code",
   "execution_count": 13,
   "metadata": {},
   "outputs": [
    {
     "data": {
      "text/html": [
       "<div>\n",
       "<style scoped>\n",
       "    .dataframe tbody tr th:only-of-type {\n",
       "        vertical-align: middle;\n",
       "    }\n",
       "\n",
       "    .dataframe tbody tr th {\n",
       "        vertical-align: top;\n",
       "    }\n",
       "\n",
       "    .dataframe thead th {\n",
       "        text-align: right;\n",
       "    }\n",
       "</style>\n",
       "<table border=\"1\" class=\"dataframe\">\n",
       "  <thead>\n",
       "    <tr style=\"text-align: right;\">\n",
       "      <th></th>\n",
       "      <th>date</th>\n",
       "      <th>reg</th>\n",
       "      <th>subject</th>\n",
       "      <th>period</th>\n",
       "      <th>macro_bhv</th>\n",
       "      <th>freq</th>\n",
       "    </tr>\n",
       "  </thead>\n",
       "  <tbody>\n",
       "    <tr>\n",
       "      <th>9</th>\n",
       "      <td>2019-04-15</td>\n",
       "      <td>1</td>\n",
       "      <td>Popo</td>\n",
       "      <td>pregame</td>\n",
       "      <td>Individual</td>\n",
       "      <td>1</td>\n",
       "    </tr>\n",
       "    <tr>\n",
       "      <th>10</th>\n",
       "      <td>2019-04-15</td>\n",
       "      <td>1</td>\n",
       "      <td>Popo</td>\n",
       "      <td>pregame</td>\n",
       "      <td>Social</td>\n",
       "      <td>2</td>\n",
       "    </tr>\n",
       "    <tr>\n",
       "      <th>11</th>\n",
       "      <td>2019-04-15</td>\n",
       "      <td>1</td>\n",
       "      <td>Popo</td>\n",
       "      <td>pregame</td>\n",
       "      <td>Social-Ludic</td>\n",
       "      <td>2</td>\n",
       "    </tr>\n",
       "    <tr>\n",
       "      <th>23</th>\n",
       "      <td>2019-04-15</td>\n",
       "      <td>2</td>\n",
       "      <td>Popo</td>\n",
       "      <td>pregame</td>\n",
       "      <td>Individual</td>\n",
       "      <td>8</td>\n",
       "    </tr>\n",
       "    <tr>\n",
       "      <th>24</th>\n",
       "      <td>2019-04-15</td>\n",
       "      <td>2</td>\n",
       "      <td>Popo</td>\n",
       "      <td>pregame</td>\n",
       "      <td>Ludic</td>\n",
       "      <td>2</td>\n",
       "    </tr>\n",
       "  </tbody>\n",
       "</table>\n",
       "</div>"
      ],
      "text/plain": [
       "          date  reg subject   period     macro_bhv  freq\n",
       "9   2019-04-15    1    Popo  pregame    Individual     1\n",
       "10  2019-04-15    1    Popo  pregame        Social     2\n",
       "11  2019-04-15    1    Popo  pregame  Social-Ludic     2\n",
       "23  2019-04-15    2    Popo  pregame    Individual     8\n",
       "24  2019-04-15    2    Popo  pregame         Ludic     2"
      ]
     },
     "execution_count": 13,
     "metadata": {},
     "output_type": "execute_result"
    }
   ],
   "source": [
    "freq = pd.read_csv('../data/freqs_df.csv', index_col=[0])\n",
    "freq_popo_game = freq[(freq['subject']=='Popo')]\n",
    "freq_popo_game.head()"
   ]
  },
  {
   "attachments": {},
   "cell_type": "markdown",
   "metadata": {},
   "source": [
    "Sumar las frecuencias en cada periodo"
   ]
  },
  {
   "cell_type": "code",
   "execution_count": 14,
   "metadata": {},
   "outputs": [
    {
     "data": {
      "text/html": [
       "<div>\n",
       "<style scoped>\n",
       "    .dataframe tbody tr th:only-of-type {\n",
       "        vertical-align: middle;\n",
       "    }\n",
       "\n",
       "    .dataframe tbody tr th {\n",
       "        vertical-align: top;\n",
       "    }\n",
       "\n",
       "    .dataframe thead th {\n",
       "        text-align: right;\n",
       "    }\n",
       "</style>\n",
       "<table border=\"1\" class=\"dataframe\">\n",
       "  <thead>\n",
       "    <tr style=\"text-align: right;\">\n",
       "      <th></th>\n",
       "      <th>period</th>\n",
       "      <th>macro_bhv</th>\n",
       "      <th>freq</th>\n",
       "    </tr>\n",
       "  </thead>\n",
       "  <tbody>\n",
       "    <tr>\n",
       "      <th>0</th>\n",
       "      <td>game</td>\n",
       "      <td>Agonistic</td>\n",
       "      <td>5</td>\n",
       "    </tr>\n",
       "    <tr>\n",
       "      <th>1</th>\n",
       "      <td>game</td>\n",
       "      <td>Individual</td>\n",
       "      <td>232</td>\n",
       "    </tr>\n",
       "    <tr>\n",
       "      <th>2</th>\n",
       "      <td>game</td>\n",
       "      <td>Ludic</td>\n",
       "      <td>129</td>\n",
       "    </tr>\n",
       "    <tr>\n",
       "      <th>3</th>\n",
       "      <td>game</td>\n",
       "      <td>Social</td>\n",
       "      <td>116</td>\n",
       "    </tr>\n",
       "    <tr>\n",
       "      <th>4</th>\n",
       "      <td>game</td>\n",
       "      <td>Social-Ludic</td>\n",
       "      <td>34</td>\n",
       "    </tr>\n",
       "    <tr>\n",
       "      <th>5</th>\n",
       "      <td>postgame</td>\n",
       "      <td>Individual</td>\n",
       "      <td>225</td>\n",
       "    </tr>\n",
       "    <tr>\n",
       "      <th>6</th>\n",
       "      <td>postgame</td>\n",
       "      <td>Ludic</td>\n",
       "      <td>74</td>\n",
       "    </tr>\n",
       "    <tr>\n",
       "      <th>7</th>\n",
       "      <td>postgame</td>\n",
       "      <td>Public</td>\n",
       "      <td>3</td>\n",
       "    </tr>\n",
       "    <tr>\n",
       "      <th>8</th>\n",
       "      <td>postgame</td>\n",
       "      <td>Social</td>\n",
       "      <td>127</td>\n",
       "    </tr>\n",
       "    <tr>\n",
       "      <th>9</th>\n",
       "      <td>postgame</td>\n",
       "      <td>Social-Ludic</td>\n",
       "      <td>35</td>\n",
       "    </tr>\n",
       "    <tr>\n",
       "      <th>10</th>\n",
       "      <td>pregame</td>\n",
       "      <td>Agonistic</td>\n",
       "      <td>3</td>\n",
       "    </tr>\n",
       "    <tr>\n",
       "      <th>11</th>\n",
       "      <td>pregame</td>\n",
       "      <td>Individual</td>\n",
       "      <td>270</td>\n",
       "    </tr>\n",
       "    <tr>\n",
       "      <th>12</th>\n",
       "      <td>pregame</td>\n",
       "      <td>Ludic</td>\n",
       "      <td>76</td>\n",
       "    </tr>\n",
       "    <tr>\n",
       "      <th>13</th>\n",
       "      <td>pregame</td>\n",
       "      <td>Public</td>\n",
       "      <td>5</td>\n",
       "    </tr>\n",
       "    <tr>\n",
       "      <th>14</th>\n",
       "      <td>pregame</td>\n",
       "      <td>Sexual</td>\n",
       "      <td>6</td>\n",
       "    </tr>\n",
       "    <tr>\n",
       "      <th>15</th>\n",
       "      <td>pregame</td>\n",
       "      <td>Social</td>\n",
       "      <td>147</td>\n",
       "    </tr>\n",
       "    <tr>\n",
       "      <th>16</th>\n",
       "      <td>pregame</td>\n",
       "      <td>Social-Ludic</td>\n",
       "      <td>43</td>\n",
       "    </tr>\n",
       "  </tbody>\n",
       "</table>\n",
       "</div>"
      ],
      "text/plain": [
       "      period     macro_bhv  freq\n",
       "0       game     Agonistic     5\n",
       "1       game    Individual   232\n",
       "2       game         Ludic   129\n",
       "3       game        Social   116\n",
       "4       game  Social-Ludic    34\n",
       "5   postgame    Individual   225\n",
       "6   postgame         Ludic    74\n",
       "7   postgame        Public     3\n",
       "8   postgame        Social   127\n",
       "9   postgame  Social-Ludic    35\n",
       "10   pregame     Agonistic     3\n",
       "11   pregame    Individual   270\n",
       "12   pregame         Ludic    76\n",
       "13   pregame        Public     5\n",
       "14   pregame        Sexual     6\n",
       "15   pregame        Social   147\n",
       "16   pregame  Social-Ludic    43"
      ]
     },
     "execution_count": 14,
     "metadata": {},
     "output_type": "execute_result"
    }
   ],
   "source": [
    "aaa= freq_popo_game.groupby(['period','macro_bhv'])['freq'].sum().reset_index()\n",
    "aaa"
   ]
  },
  {
   "attachments": {},
   "cell_type": "markdown",
   "metadata": {},
   "source": [
    "Crear primero una nueva columna con todo a 0 y después calcular las frecuencias relativas"
   ]
  },
  {
   "cell_type": "code",
   "execution_count": 39,
   "metadata": {},
   "outputs": [
    {
     "data": {
      "text/html": [
       "<div>\n",
       "<style scoped>\n",
       "    .dataframe tbody tr th:only-of-type {\n",
       "        vertical-align: middle;\n",
       "    }\n",
       "\n",
       "    .dataframe tbody tr th {\n",
       "        vertical-align: top;\n",
       "    }\n",
       "\n",
       "    .dataframe thead th {\n",
       "        text-align: right;\n",
       "    }\n",
       "</style>\n",
       "<table border=\"1\" class=\"dataframe\">\n",
       "  <thead>\n",
       "    <tr style=\"text-align: right;\">\n",
       "      <th></th>\n",
       "      <th>period</th>\n",
       "      <th>macro_bhv</th>\n",
       "      <th>freq</th>\n",
       "      <th>relative_freq</th>\n",
       "    </tr>\n",
       "  </thead>\n",
       "  <tbody>\n",
       "    <tr>\n",
       "      <th>0</th>\n",
       "      <td>game</td>\n",
       "      <td>Agonistic</td>\n",
       "      <td>5</td>\n",
       "      <td>0.009690</td>\n",
       "    </tr>\n",
       "    <tr>\n",
       "      <th>1</th>\n",
       "      <td>game</td>\n",
       "      <td>Individual</td>\n",
       "      <td>232</td>\n",
       "      <td>0.449612</td>\n",
       "    </tr>\n",
       "    <tr>\n",
       "      <th>2</th>\n",
       "      <td>game</td>\n",
       "      <td>Ludic</td>\n",
       "      <td>129</td>\n",
       "      <td>0.250000</td>\n",
       "    </tr>\n",
       "    <tr>\n",
       "      <th>3</th>\n",
       "      <td>game</td>\n",
       "      <td>Social</td>\n",
       "      <td>116</td>\n",
       "      <td>0.224806</td>\n",
       "    </tr>\n",
       "    <tr>\n",
       "      <th>4</th>\n",
       "      <td>game</td>\n",
       "      <td>Social-Ludic</td>\n",
       "      <td>34</td>\n",
       "      <td>0.065891</td>\n",
       "    </tr>\n",
       "    <tr>\n",
       "      <th>5</th>\n",
       "      <td>postgame</td>\n",
       "      <td>Individual</td>\n",
       "      <td>225</td>\n",
       "      <td>0.484914</td>\n",
       "    </tr>\n",
       "    <tr>\n",
       "      <th>6</th>\n",
       "      <td>postgame</td>\n",
       "      <td>Ludic</td>\n",
       "      <td>74</td>\n",
       "      <td>0.159483</td>\n",
       "    </tr>\n",
       "    <tr>\n",
       "      <th>7</th>\n",
       "      <td>postgame</td>\n",
       "      <td>Public</td>\n",
       "      <td>3</td>\n",
       "      <td>0.006466</td>\n",
       "    </tr>\n",
       "    <tr>\n",
       "      <th>8</th>\n",
       "      <td>postgame</td>\n",
       "      <td>Social</td>\n",
       "      <td>127</td>\n",
       "      <td>0.273707</td>\n",
       "    </tr>\n",
       "    <tr>\n",
       "      <th>9</th>\n",
       "      <td>postgame</td>\n",
       "      <td>Social-Ludic</td>\n",
       "      <td>35</td>\n",
       "      <td>0.075431</td>\n",
       "    </tr>\n",
       "    <tr>\n",
       "      <th>10</th>\n",
       "      <td>pregame</td>\n",
       "      <td>Agonistic</td>\n",
       "      <td>3</td>\n",
       "      <td>0.005455</td>\n",
       "    </tr>\n",
       "    <tr>\n",
       "      <th>11</th>\n",
       "      <td>pregame</td>\n",
       "      <td>Individual</td>\n",
       "      <td>270</td>\n",
       "      <td>0.490909</td>\n",
       "    </tr>\n",
       "    <tr>\n",
       "      <th>12</th>\n",
       "      <td>pregame</td>\n",
       "      <td>Ludic</td>\n",
       "      <td>76</td>\n",
       "      <td>0.138182</td>\n",
       "    </tr>\n",
       "    <tr>\n",
       "      <th>13</th>\n",
       "      <td>pregame</td>\n",
       "      <td>Public</td>\n",
       "      <td>5</td>\n",
       "      <td>0.009091</td>\n",
       "    </tr>\n",
       "    <tr>\n",
       "      <th>14</th>\n",
       "      <td>pregame</td>\n",
       "      <td>Sexual</td>\n",
       "      <td>6</td>\n",
       "      <td>0.010909</td>\n",
       "    </tr>\n",
       "    <tr>\n",
       "      <th>15</th>\n",
       "      <td>pregame</td>\n",
       "      <td>Social</td>\n",
       "      <td>147</td>\n",
       "      <td>0.267273</td>\n",
       "    </tr>\n",
       "    <tr>\n",
       "      <th>16</th>\n",
       "      <td>pregame</td>\n",
       "      <td>Social-Ludic</td>\n",
       "      <td>43</td>\n",
       "      <td>0.078182</td>\n",
       "    </tr>\n",
       "  </tbody>\n",
       "</table>\n",
       "</div>"
      ],
      "text/plain": [
       "      period     macro_bhv  freq  relative_freq\n",
       "0       game     Agonistic     5       0.009690\n",
       "1       game    Individual   232       0.449612\n",
       "2       game         Ludic   129       0.250000\n",
       "3       game        Social   116       0.224806\n",
       "4       game  Social-Ludic    34       0.065891\n",
       "5   postgame    Individual   225       0.484914\n",
       "6   postgame         Ludic    74       0.159483\n",
       "7   postgame        Public     3       0.006466\n",
       "8   postgame        Social   127       0.273707\n",
       "9   postgame  Social-Ludic    35       0.075431\n",
       "10   pregame     Agonistic     3       0.005455\n",
       "11   pregame    Individual   270       0.490909\n",
       "12   pregame         Ludic    76       0.138182\n",
       "13   pregame        Public     5       0.009091\n",
       "14   pregame        Sexual     6       0.010909\n",
       "15   pregame        Social   147       0.267273\n",
       "16   pregame  Social-Ludic    43       0.078182"
      ]
     },
     "execution_count": 39,
     "metadata": {},
     "output_type": "execute_result"
    }
   ],
   "source": [
    "import numpy as np\n",
    "aaa['relative_freq'] = 0\n",
    "def d(x, period):\n",
    "    sum = x.groupby('period')['freq'].sum()\n",
    "    x['relative_freq'] += (x['period']==period).astype(int)*x['freq'] / sum[period]\n",
    "\n",
    "d(aaa,'pregame')\n",
    "d(aaa,'game')\n",
    "d(aaa,'postgame')\n",
    "aaa"
   ]
  },
  {
   "attachments": {},
   "cell_type": "markdown",
   "metadata": {},
   "source": [
    "Diagrama de barras con frecuencias relativas para cada mono"
   ]
  },
  {
   "cell_type": "code",
   "execution_count": 40,
   "metadata": {},
   "outputs": [
    {
     "data": {
      "application/vnd.plotly.v1+json": {
       "config": {
        "plotlyServerURL": "https://plot.ly"
       },
       "data": [
        {
         "alignmentgroup": "True",
         "hovertemplate": "macro_bhv=Agonistic<br>period=%{x}<br>relative_freq=%{y}<extra></extra>",
         "legendgroup": "Agonistic",
         "marker": {
          "color": "#636efa",
          "pattern": {
           "shape": ""
          }
         },
         "name": "Agonistic",
         "offsetgroup": "Agonistic",
         "orientation": "v",
         "showlegend": true,
         "textposition": "auto",
         "type": "bar",
         "x": [
          "game",
          "pregame"
         ],
         "xaxis": "x",
         "y": [
          0.009689922480620155,
          0.005454545454545455
         ],
         "yaxis": "y"
        },
        {
         "alignmentgroup": "True",
         "hovertemplate": "macro_bhv=Individual<br>period=%{x}<br>relative_freq=%{y}<extra></extra>",
         "legendgroup": "Individual",
         "marker": {
          "color": "#EF553B",
          "pattern": {
           "shape": ""
          }
         },
         "name": "Individual",
         "offsetgroup": "Individual",
         "orientation": "v",
         "showlegend": true,
         "textposition": "auto",
         "type": "bar",
         "x": [
          "game",
          "postgame",
          "pregame"
         ],
         "xaxis": "x",
         "y": [
          0.4496124031007752,
          0.4849137931034483,
          0.4909090909090909
         ],
         "yaxis": "y"
        },
        {
         "alignmentgroup": "True",
         "hovertemplate": "macro_bhv=Ludic<br>period=%{x}<br>relative_freq=%{y}<extra></extra>",
         "legendgroup": "Ludic",
         "marker": {
          "color": "#00cc96",
          "pattern": {
           "shape": ""
          }
         },
         "name": "Ludic",
         "offsetgroup": "Ludic",
         "orientation": "v",
         "showlegend": true,
         "textposition": "auto",
         "type": "bar",
         "x": [
          "game",
          "postgame",
          "pregame"
         ],
         "xaxis": "x",
         "y": [
          0.25,
          0.15948275862068967,
          0.13818181818181818
         ],
         "yaxis": "y"
        },
        {
         "alignmentgroup": "True",
         "hovertemplate": "macro_bhv=Social<br>period=%{x}<br>relative_freq=%{y}<extra></extra>",
         "legendgroup": "Social",
         "marker": {
          "color": "#ab63fa",
          "pattern": {
           "shape": ""
          }
         },
         "name": "Social",
         "offsetgroup": "Social",
         "orientation": "v",
         "showlegend": true,
         "textposition": "auto",
         "type": "bar",
         "x": [
          "game",
          "postgame",
          "pregame"
         ],
         "xaxis": "x",
         "y": [
          0.2248062015503876,
          0.27370689655172414,
          0.2672727272727273
         ],
         "yaxis": "y"
        },
        {
         "alignmentgroup": "True",
         "hovertemplate": "macro_bhv=Social-Ludic<br>period=%{x}<br>relative_freq=%{y}<extra></extra>",
         "legendgroup": "Social-Ludic",
         "marker": {
          "color": "#FFA15A",
          "pattern": {
           "shape": ""
          }
         },
         "name": "Social-Ludic",
         "offsetgroup": "Social-Ludic",
         "orientation": "v",
         "showlegend": true,
         "textposition": "auto",
         "type": "bar",
         "x": [
          "game",
          "postgame",
          "pregame"
         ],
         "xaxis": "x",
         "y": [
          0.06589147286821706,
          0.07543103448275862,
          0.07818181818181819
         ],
         "yaxis": "y"
        },
        {
         "alignmentgroup": "True",
         "hovertemplate": "macro_bhv=Public<br>period=%{x}<br>relative_freq=%{y}<extra></extra>",
         "legendgroup": "Public",
         "marker": {
          "color": "#19d3f3",
          "pattern": {
           "shape": ""
          }
         },
         "name": "Public",
         "offsetgroup": "Public",
         "orientation": "v",
         "showlegend": true,
         "textposition": "auto",
         "type": "bar",
         "x": [
          "postgame",
          "pregame"
         ],
         "xaxis": "x",
         "y": [
          0.00646551724137931,
          0.00909090909090909
         ],
         "yaxis": "y"
        },
        {
         "alignmentgroup": "True",
         "hovertemplate": "macro_bhv=Sexual<br>period=%{x}<br>relative_freq=%{y}<extra></extra>",
         "legendgroup": "Sexual",
         "marker": {
          "color": "#FF6692",
          "pattern": {
           "shape": ""
          }
         },
         "name": "Sexual",
         "offsetgroup": "Sexual",
         "orientation": "v",
         "showlegend": true,
         "textposition": "auto",
         "type": "bar",
         "x": [
          "pregame"
         ],
         "xaxis": "x",
         "y": [
          0.01090909090909091
         ],
         "yaxis": "y"
        }
       ],
       "layout": {
        "barmode": "relative",
        "legend": {
         "title": {
          "text": "macro_bhv"
         },
         "tracegroupgap": 0
        },
        "margin": {
         "t": 60
        },
        "template": {
         "data": {
          "bar": [
           {
            "error_x": {
             "color": "#2a3f5f"
            },
            "error_y": {
             "color": "#2a3f5f"
            },
            "marker": {
             "line": {
              "color": "#E5ECF6",
              "width": 0.5
             },
             "pattern": {
              "fillmode": "overlay",
              "size": 10,
              "solidity": 0.2
             }
            },
            "type": "bar"
           }
          ],
          "barpolar": [
           {
            "marker": {
             "line": {
              "color": "#E5ECF6",
              "width": 0.5
             },
             "pattern": {
              "fillmode": "overlay",
              "size": 10,
              "solidity": 0.2
             }
            },
            "type": "barpolar"
           }
          ],
          "carpet": [
           {
            "aaxis": {
             "endlinecolor": "#2a3f5f",
             "gridcolor": "white",
             "linecolor": "white",
             "minorgridcolor": "white",
             "startlinecolor": "#2a3f5f"
            },
            "baxis": {
             "endlinecolor": "#2a3f5f",
             "gridcolor": "white",
             "linecolor": "white",
             "minorgridcolor": "white",
             "startlinecolor": "#2a3f5f"
            },
            "type": "carpet"
           }
          ],
          "choropleth": [
           {
            "colorbar": {
             "outlinewidth": 0,
             "ticks": ""
            },
            "type": "choropleth"
           }
          ],
          "contour": [
           {
            "colorbar": {
             "outlinewidth": 0,
             "ticks": ""
            },
            "colorscale": [
             [
              0,
              "#0d0887"
             ],
             [
              0.1111111111111111,
              "#46039f"
             ],
             [
              0.2222222222222222,
              "#7201a8"
             ],
             [
              0.3333333333333333,
              "#9c179e"
             ],
             [
              0.4444444444444444,
              "#bd3786"
             ],
             [
              0.5555555555555556,
              "#d8576b"
             ],
             [
              0.6666666666666666,
              "#ed7953"
             ],
             [
              0.7777777777777778,
              "#fb9f3a"
             ],
             [
              0.8888888888888888,
              "#fdca26"
             ],
             [
              1,
              "#f0f921"
             ]
            ],
            "type": "contour"
           }
          ],
          "contourcarpet": [
           {
            "colorbar": {
             "outlinewidth": 0,
             "ticks": ""
            },
            "type": "contourcarpet"
           }
          ],
          "heatmap": [
           {
            "colorbar": {
             "outlinewidth": 0,
             "ticks": ""
            },
            "colorscale": [
             [
              0,
              "#0d0887"
             ],
             [
              0.1111111111111111,
              "#46039f"
             ],
             [
              0.2222222222222222,
              "#7201a8"
             ],
             [
              0.3333333333333333,
              "#9c179e"
             ],
             [
              0.4444444444444444,
              "#bd3786"
             ],
             [
              0.5555555555555556,
              "#d8576b"
             ],
             [
              0.6666666666666666,
              "#ed7953"
             ],
             [
              0.7777777777777778,
              "#fb9f3a"
             ],
             [
              0.8888888888888888,
              "#fdca26"
             ],
             [
              1,
              "#f0f921"
             ]
            ],
            "type": "heatmap"
           }
          ],
          "heatmapgl": [
           {
            "colorbar": {
             "outlinewidth": 0,
             "ticks": ""
            },
            "colorscale": [
             [
              0,
              "#0d0887"
             ],
             [
              0.1111111111111111,
              "#46039f"
             ],
             [
              0.2222222222222222,
              "#7201a8"
             ],
             [
              0.3333333333333333,
              "#9c179e"
             ],
             [
              0.4444444444444444,
              "#bd3786"
             ],
             [
              0.5555555555555556,
              "#d8576b"
             ],
             [
              0.6666666666666666,
              "#ed7953"
             ],
             [
              0.7777777777777778,
              "#fb9f3a"
             ],
             [
              0.8888888888888888,
              "#fdca26"
             ],
             [
              1,
              "#f0f921"
             ]
            ],
            "type": "heatmapgl"
           }
          ],
          "histogram": [
           {
            "marker": {
             "pattern": {
              "fillmode": "overlay",
              "size": 10,
              "solidity": 0.2
             }
            },
            "type": "histogram"
           }
          ],
          "histogram2d": [
           {
            "colorbar": {
             "outlinewidth": 0,
             "ticks": ""
            },
            "colorscale": [
             [
              0,
              "#0d0887"
             ],
             [
              0.1111111111111111,
              "#46039f"
             ],
             [
              0.2222222222222222,
              "#7201a8"
             ],
             [
              0.3333333333333333,
              "#9c179e"
             ],
             [
              0.4444444444444444,
              "#bd3786"
             ],
             [
              0.5555555555555556,
              "#d8576b"
             ],
             [
              0.6666666666666666,
              "#ed7953"
             ],
             [
              0.7777777777777778,
              "#fb9f3a"
             ],
             [
              0.8888888888888888,
              "#fdca26"
             ],
             [
              1,
              "#f0f921"
             ]
            ],
            "type": "histogram2d"
           }
          ],
          "histogram2dcontour": [
           {
            "colorbar": {
             "outlinewidth": 0,
             "ticks": ""
            },
            "colorscale": [
             [
              0,
              "#0d0887"
             ],
             [
              0.1111111111111111,
              "#46039f"
             ],
             [
              0.2222222222222222,
              "#7201a8"
             ],
             [
              0.3333333333333333,
              "#9c179e"
             ],
             [
              0.4444444444444444,
              "#bd3786"
             ],
             [
              0.5555555555555556,
              "#d8576b"
             ],
             [
              0.6666666666666666,
              "#ed7953"
             ],
             [
              0.7777777777777778,
              "#fb9f3a"
             ],
             [
              0.8888888888888888,
              "#fdca26"
             ],
             [
              1,
              "#f0f921"
             ]
            ],
            "type": "histogram2dcontour"
           }
          ],
          "mesh3d": [
           {
            "colorbar": {
             "outlinewidth": 0,
             "ticks": ""
            },
            "type": "mesh3d"
           }
          ],
          "parcoords": [
           {
            "line": {
             "colorbar": {
              "outlinewidth": 0,
              "ticks": ""
             }
            },
            "type": "parcoords"
           }
          ],
          "pie": [
           {
            "automargin": true,
            "type": "pie"
           }
          ],
          "scatter": [
           {
            "fillpattern": {
             "fillmode": "overlay",
             "size": 10,
             "solidity": 0.2
            },
            "type": "scatter"
           }
          ],
          "scatter3d": [
           {
            "line": {
             "colorbar": {
              "outlinewidth": 0,
              "ticks": ""
             }
            },
            "marker": {
             "colorbar": {
              "outlinewidth": 0,
              "ticks": ""
             }
            },
            "type": "scatter3d"
           }
          ],
          "scattercarpet": [
           {
            "marker": {
             "colorbar": {
              "outlinewidth": 0,
              "ticks": ""
             }
            },
            "type": "scattercarpet"
           }
          ],
          "scattergeo": [
           {
            "marker": {
             "colorbar": {
              "outlinewidth": 0,
              "ticks": ""
             }
            },
            "type": "scattergeo"
           }
          ],
          "scattergl": [
           {
            "marker": {
             "colorbar": {
              "outlinewidth": 0,
              "ticks": ""
             }
            },
            "type": "scattergl"
           }
          ],
          "scattermapbox": [
           {
            "marker": {
             "colorbar": {
              "outlinewidth": 0,
              "ticks": ""
             }
            },
            "type": "scattermapbox"
           }
          ],
          "scatterpolar": [
           {
            "marker": {
             "colorbar": {
              "outlinewidth": 0,
              "ticks": ""
             }
            },
            "type": "scatterpolar"
           }
          ],
          "scatterpolargl": [
           {
            "marker": {
             "colorbar": {
              "outlinewidth": 0,
              "ticks": ""
             }
            },
            "type": "scatterpolargl"
           }
          ],
          "scatterternary": [
           {
            "marker": {
             "colorbar": {
              "outlinewidth": 0,
              "ticks": ""
             }
            },
            "type": "scatterternary"
           }
          ],
          "surface": [
           {
            "colorbar": {
             "outlinewidth": 0,
             "ticks": ""
            },
            "colorscale": [
             [
              0,
              "#0d0887"
             ],
             [
              0.1111111111111111,
              "#46039f"
             ],
             [
              0.2222222222222222,
              "#7201a8"
             ],
             [
              0.3333333333333333,
              "#9c179e"
             ],
             [
              0.4444444444444444,
              "#bd3786"
             ],
             [
              0.5555555555555556,
              "#d8576b"
             ],
             [
              0.6666666666666666,
              "#ed7953"
             ],
             [
              0.7777777777777778,
              "#fb9f3a"
             ],
             [
              0.8888888888888888,
              "#fdca26"
             ],
             [
              1,
              "#f0f921"
             ]
            ],
            "type": "surface"
           }
          ],
          "table": [
           {
            "cells": {
             "fill": {
              "color": "#EBF0F8"
             },
             "line": {
              "color": "white"
             }
            },
            "header": {
             "fill": {
              "color": "#C8D4E3"
             },
             "line": {
              "color": "white"
             }
            },
            "type": "table"
           }
          ]
         },
         "layout": {
          "annotationdefaults": {
           "arrowcolor": "#2a3f5f",
           "arrowhead": 0,
           "arrowwidth": 1
          },
          "autotypenumbers": "strict",
          "coloraxis": {
           "colorbar": {
            "outlinewidth": 0,
            "ticks": ""
           }
          },
          "colorscale": {
           "diverging": [
            [
             0,
             "#8e0152"
            ],
            [
             0.1,
             "#c51b7d"
            ],
            [
             0.2,
             "#de77ae"
            ],
            [
             0.3,
             "#f1b6da"
            ],
            [
             0.4,
             "#fde0ef"
            ],
            [
             0.5,
             "#f7f7f7"
            ],
            [
             0.6,
             "#e6f5d0"
            ],
            [
             0.7,
             "#b8e186"
            ],
            [
             0.8,
             "#7fbc41"
            ],
            [
             0.9,
             "#4d9221"
            ],
            [
             1,
             "#276419"
            ]
           ],
           "sequential": [
            [
             0,
             "#0d0887"
            ],
            [
             0.1111111111111111,
             "#46039f"
            ],
            [
             0.2222222222222222,
             "#7201a8"
            ],
            [
             0.3333333333333333,
             "#9c179e"
            ],
            [
             0.4444444444444444,
             "#bd3786"
            ],
            [
             0.5555555555555556,
             "#d8576b"
            ],
            [
             0.6666666666666666,
             "#ed7953"
            ],
            [
             0.7777777777777778,
             "#fb9f3a"
            ],
            [
             0.8888888888888888,
             "#fdca26"
            ],
            [
             1,
             "#f0f921"
            ]
           ],
           "sequentialminus": [
            [
             0,
             "#0d0887"
            ],
            [
             0.1111111111111111,
             "#46039f"
            ],
            [
             0.2222222222222222,
             "#7201a8"
            ],
            [
             0.3333333333333333,
             "#9c179e"
            ],
            [
             0.4444444444444444,
             "#bd3786"
            ],
            [
             0.5555555555555556,
             "#d8576b"
            ],
            [
             0.6666666666666666,
             "#ed7953"
            ],
            [
             0.7777777777777778,
             "#fb9f3a"
            ],
            [
             0.8888888888888888,
             "#fdca26"
            ],
            [
             1,
             "#f0f921"
            ]
           ]
          },
          "colorway": [
           "#636efa",
           "#EF553B",
           "#00cc96",
           "#ab63fa",
           "#FFA15A",
           "#19d3f3",
           "#FF6692",
           "#B6E880",
           "#FF97FF",
           "#FECB52"
          ],
          "font": {
           "color": "#2a3f5f"
          },
          "geo": {
           "bgcolor": "white",
           "lakecolor": "white",
           "landcolor": "#E5ECF6",
           "showlakes": true,
           "showland": true,
           "subunitcolor": "white"
          },
          "hoverlabel": {
           "align": "left"
          },
          "hovermode": "closest",
          "mapbox": {
           "style": "light"
          },
          "paper_bgcolor": "white",
          "plot_bgcolor": "#E5ECF6",
          "polar": {
           "angularaxis": {
            "gridcolor": "white",
            "linecolor": "white",
            "ticks": ""
           },
           "bgcolor": "#E5ECF6",
           "radialaxis": {
            "gridcolor": "white",
            "linecolor": "white",
            "ticks": ""
           }
          },
          "scene": {
           "xaxis": {
            "backgroundcolor": "#E5ECF6",
            "gridcolor": "white",
            "gridwidth": 2,
            "linecolor": "white",
            "showbackground": true,
            "ticks": "",
            "zerolinecolor": "white"
           },
           "yaxis": {
            "backgroundcolor": "#E5ECF6",
            "gridcolor": "white",
            "gridwidth": 2,
            "linecolor": "white",
            "showbackground": true,
            "ticks": "",
            "zerolinecolor": "white"
           },
           "zaxis": {
            "backgroundcolor": "#E5ECF6",
            "gridcolor": "white",
            "gridwidth": 2,
            "linecolor": "white",
            "showbackground": true,
            "ticks": "",
            "zerolinecolor": "white"
           }
          },
          "shapedefaults": {
           "line": {
            "color": "#2a3f5f"
           }
          },
          "ternary": {
           "aaxis": {
            "gridcolor": "white",
            "linecolor": "white",
            "ticks": ""
           },
           "baxis": {
            "gridcolor": "white",
            "linecolor": "white",
            "ticks": ""
           },
           "bgcolor": "#E5ECF6",
           "caxis": {
            "gridcolor": "white",
            "linecolor": "white",
            "ticks": ""
           }
          },
          "title": {
           "x": 0.05
          },
          "xaxis": {
           "automargin": true,
           "gridcolor": "white",
           "linecolor": "white",
           "ticks": "",
           "title": {
            "standoff": 15
           },
           "zerolinecolor": "white",
           "zerolinewidth": 2
          },
          "yaxis": {
           "automargin": true,
           "gridcolor": "white",
           "linecolor": "white",
           "ticks": "",
           "title": {
            "standoff": 15
           },
           "zerolinecolor": "white",
           "zerolinewidth": 2
          }
         }
        },
        "width": 400,
        "xaxis": {
         "anchor": "y",
         "domain": [
          0,
          1
         ],
         "title": {
          "text": "period"
         }
        },
        "yaxis": {
         "anchor": "x",
         "domain": [
          0,
          1
         ],
         "title": {
          "text": "relative_freq"
         }
        }
       }
      }
     },
     "metadata": {},
     "output_type": "display_data"
    }
   ],
   "source": [
    "px.bar(aaa, x='period', y='relative_freq', color='macro_bhv', width=400)"
   ]
  },
  {
   "attachments": {},
   "cell_type": "markdown",
   "metadata": {},
   "source": [
    "# Histogram freqs"
   ]
  },
  {
   "cell_type": "code",
   "execution_count": 17,
   "metadata": {},
   "outputs": [],
   "source": [
    "import numpy as np\n",
    "beh=(freq['macro_bhv'].unique())\n",
    "beh =np.delete(beh, np.where(beh=='Sexual'))"
   ]
  },
  {
   "cell_type": "code",
   "execution_count": 72,
   "metadata": {},
   "outputs": [
    {
     "ename": "Exception",
     "evalue": "The (row, col) pair sent is out of range. Use Figure.print_grid to view the subplot grid. ",
     "output_type": "error",
     "traceback": [
      "\u001b[0;31m---------------------------------------------------------------------------\u001b[0m",
      "\u001b[0;31mIndexError\u001b[0m                                Traceback (most recent call last)",
      "File \u001b[0;32m~/anaconda3/envs/ds/lib/python3.10/site-packages/plotly/_subplots.py:1352\u001b[0m, in \u001b[0;36m_set_trace_grid_reference\u001b[0;34m(trace, layout, grid_ref, row, col, secondary_y)\u001b[0m\n\u001b[1;32m   1351\u001b[0m \u001b[39mtry\u001b[39;00m:\n\u001b[0;32m-> 1352\u001b[0m     subplot_refs \u001b[39m=\u001b[39m grid_ref[row \u001b[39m-\u001b[39;49m \u001b[39m1\u001b[39;49m][col \u001b[39m-\u001b[39m \u001b[39m1\u001b[39m]\n\u001b[1;32m   1353\u001b[0m \u001b[39mexcept\u001b[39;00m \u001b[39mIndexError\u001b[39;00m:\n",
      "\u001b[0;31mIndexError\u001b[0m: list index out of range",
      "\nDuring handling of the above exception, another exception occurred:\n",
      "\u001b[0;31mException\u001b[0m                                 Traceback (most recent call last)",
      "\u001b[1;32m/Users/wildbass/Documents/DataScience/Proyectos/Orangutanes/src/ZZ_tests.ipynb Celda 31\u001b[0m in \u001b[0;36m<cell line: 8>\u001b[0;34m()\u001b[0m\n\u001b[1;32m      <a href='vscode-notebook-cell:/Users/wildbass/Documents/DataScience/Proyectos/Orangutanes/src/ZZ_tests.ipynb#X34sZmlsZQ%3D%3D?line=8'>9</a>\u001b[0m     row \u001b[39m=\u001b[39m math\u001b[39m.\u001b[39mfloor(b\u001b[39m/\u001b[39m\u001b[39m2\u001b[39m\u001b[39m+\u001b[39m\u001b[39m1\u001b[39m)\n\u001b[1;32m     <a href='vscode-notebook-cell:/Users/wildbass/Documents/DataScience/Proyectos/Orangutanes/src/ZZ_tests.ipynb#X34sZmlsZQ%3D%3D?line=9'>10</a>\u001b[0m     col \u001b[39m=\u001b[39m b\u001b[39m%\u001b[39m\u001b[39m2\u001b[39m\u001b[39m+\u001b[39m\u001b[39m1\u001b[39m\n\u001b[0;32m---> <a href='vscode-notebook-cell:/Users/wildbass/Documents/DataScience/Proyectos/Orangutanes/src/ZZ_tests.ipynb#X34sZmlsZQ%3D%3D?line=10'>11</a>\u001b[0m     fig\u001b[39m.\u001b[39;49mappend_trace(behavior_histogram(beh[b]), row, col)\n\u001b[1;32m     <a href='vscode-notebook-cell:/Users/wildbass/Documents/DataScience/Proyectos/Orangutanes/src/ZZ_tests.ipynb#X34sZmlsZQ%3D%3D?line=11'>12</a>\u001b[0m fig\u001b[39m.\u001b[39mupdate_layout({\u001b[39m'\u001b[39m\u001b[39mheight\u001b[39m\u001b[39m'\u001b[39m:\u001b[39m800\u001b[39m,\n\u001b[1;32m     <a href='vscode-notebook-cell:/Users/wildbass/Documents/DataScience/Proyectos/Orangutanes/src/ZZ_tests.ipynb#X34sZmlsZQ%3D%3D?line=12'>13</a>\u001b[0m                    \u001b[39m'\u001b[39m\u001b[39mshowlegend\u001b[39m\u001b[39m'\u001b[39m:\u001b[39mFalse\u001b[39;00m, \n\u001b[1;32m     <a href='vscode-notebook-cell:/Users/wildbass/Documents/DataScience/Proyectos/Orangutanes/src/ZZ_tests.ipynb#X34sZmlsZQ%3D%3D?line=13'>14</a>\u001b[0m                    \u001b[39m'\u001b[39m\u001b[39mplot_bgcolor\u001b[39m\u001b[39m'\u001b[39m: \u001b[39m'\u001b[39m\u001b[39mrgba(21, 47, 18, 255)\u001b[39m\u001b[39m'\u001b[39m,\n\u001b[0;32m   (...)\u001b[0m\n\u001b[1;32m     <a href='vscode-notebook-cell:/Users/wildbass/Documents/DataScience/Proyectos/Orangutanes/src/ZZ_tests.ipynb#X34sZmlsZQ%3D%3D?line=16'>17</a>\u001b[0m                    \u001b[39m'\u001b[39m\u001b[39myaxis\u001b[39m\u001b[39m'\u001b[39m:{\u001b[39m'\u001b[39m\u001b[39mshowgrid\u001b[39m\u001b[39m'\u001b[39m:\u001b[39mFalse\u001b[39;00m}\n\u001b[1;32m     <a href='vscode-notebook-cell:/Users/wildbass/Documents/DataScience/Proyectos/Orangutanes/src/ZZ_tests.ipynb#X34sZmlsZQ%3D%3D?line=17'>18</a>\u001b[0m                    })\n\u001b[1;32m     <a href='vscode-notebook-cell:/Users/wildbass/Documents/DataScience/Proyectos/Orangutanes/src/ZZ_tests.ipynb#X34sZmlsZQ%3D%3D?line=18'>19</a>\u001b[0m fig\u001b[39m.\u001b[39mupdate_xaxes(showticklabels\u001b[39m=\u001b[39m\u001b[39mFalse\u001b[39;00m)\n",
      "File \u001b[0;32m~/anaconda3/envs/ds/lib/python3.10/site-packages/plotly/basedatatypes.py:2313\u001b[0m, in \u001b[0;36mBaseFigure.append_trace\u001b[0;34m(self, trace, row, col)\u001b[0m\n\u001b[1;32m   2273\u001b[0m         \u001b[39m\"\"\"\u001b[39;00m\n\u001b[1;32m   2274\u001b[0m \u001b[39m        Add a trace to the figure bound to axes at the specified row,\u001b[39;00m\n\u001b[1;32m   2275\u001b[0m \u001b[39m        col index.\u001b[39;00m\n\u001b[0;32m   (...)\u001b[0m\n\u001b[1;32m   2303\u001b[0m \u001b[39m        >>> fig.append_trace(go.Scatter(x=[1,2,3], y=[2,1,2]), row=2, col=1)\u001b[39;00m\n\u001b[1;32m   2304\u001b[0m \u001b[39m        \"\"\"\u001b[39;00m\n\u001b[1;32m   2305\u001b[0m         warnings\u001b[39m.\u001b[39mwarn(\n\u001b[1;32m   2306\u001b[0m             \u001b[39m\"\"\"\\\u001b[39;00m\n\u001b[1;32m   2307\u001b[0m \u001b[39mThe append_trace method is deprecated and will be removed in a future version.\u001b[39;00m\n\u001b[0;32m   (...)\u001b[0m\n\u001b[1;32m   2310\u001b[0m             \u001b[39mDeprecationWarning\u001b[39;00m,\n\u001b[1;32m   2311\u001b[0m         )\n\u001b[0;32m-> 2313\u001b[0m         \u001b[39mself\u001b[39;49m\u001b[39m.\u001b[39;49madd_trace(trace\u001b[39m=\u001b[39;49mtrace, row\u001b[39m=\u001b[39;49mrow, col\u001b[39m=\u001b[39;49mcol)\n",
      "File \u001b[0;32m~/anaconda3/envs/ds/lib/python3.10/site-packages/plotly/graph_objs/_figure.py:881\u001b[0m, in \u001b[0;36mFigure.add_trace\u001b[0;34m(self, trace, row, col, secondary_y, exclude_empty_subplots)\u001b[0m\n\u001b[1;32m    806\u001b[0m \u001b[39mdef\u001b[39;00m \u001b[39madd_trace\u001b[39m(\n\u001b[1;32m    807\u001b[0m     \u001b[39mself\u001b[39m, trace, row\u001b[39m=\u001b[39m\u001b[39mNone\u001b[39;00m, col\u001b[39m=\u001b[39m\u001b[39mNone\u001b[39;00m, secondary_y\u001b[39m=\u001b[39m\u001b[39mNone\u001b[39;00m, exclude_empty_subplots\u001b[39m=\u001b[39m\u001b[39mFalse\u001b[39;00m\n\u001b[1;32m    808\u001b[0m ) \u001b[39m-\u001b[39m\u001b[39m>\u001b[39m \u001b[39m\"\u001b[39m\u001b[39mFigure\u001b[39m\u001b[39m\"\u001b[39m:\n\u001b[1;32m    809\u001b[0m     \u001b[39m\"\"\"\u001b[39;00m\n\u001b[1;32m    810\u001b[0m \n\u001b[1;32m    811\u001b[0m \u001b[39m    Add a trace to the figure\u001b[39;00m\n\u001b[0;32m   (...)\u001b[0m\n\u001b[1;32m    879\u001b[0m \n\u001b[1;32m    880\u001b[0m \u001b[39m    \"\"\"\u001b[39;00m\n\u001b[0;32m--> 881\u001b[0m     \u001b[39mreturn\u001b[39;00m \u001b[39msuper\u001b[39;49m(Figure, \u001b[39mself\u001b[39;49m)\u001b[39m.\u001b[39;49madd_trace(\n\u001b[1;32m    882\u001b[0m         trace, row, col, secondary_y, exclude_empty_subplots\n\u001b[1;32m    883\u001b[0m     )\n",
      "File \u001b[0;32m~/anaconda3/envs/ds/lib/python3.10/site-packages/plotly/basedatatypes.py:2097\u001b[0m, in \u001b[0;36mBaseFigure.add_trace\u001b[0;34m(self, trace, row, col, secondary_y, exclude_empty_subplots)\u001b[0m\n\u001b[1;32m   2088\u001b[0m         \u001b[39mself\u001b[39m\u001b[39m.\u001b[39madd_trace(\n\u001b[1;32m   2089\u001b[0m             trace,\n\u001b[1;32m   2090\u001b[0m             row\u001b[39m=\u001b[39mr,\n\u001b[0;32m   (...)\u001b[0m\n\u001b[1;32m   2093\u001b[0m             exclude_empty_subplots\u001b[39m=\u001b[39mexclude_empty_subplots,\n\u001b[1;32m   2094\u001b[0m         )\n\u001b[1;32m   2095\u001b[0m     \u001b[39mreturn\u001b[39;00m \u001b[39mself\u001b[39m\n\u001b[0;32m-> 2097\u001b[0m \u001b[39mreturn\u001b[39;00m \u001b[39mself\u001b[39;49m\u001b[39m.\u001b[39;49madd_traces(\n\u001b[1;32m   2098\u001b[0m     data\u001b[39m=\u001b[39;49m[trace],\n\u001b[1;32m   2099\u001b[0m     rows\u001b[39m=\u001b[39;49m[row] \u001b[39mif\u001b[39;49;00m row \u001b[39mis\u001b[39;49;00m \u001b[39mnot\u001b[39;49;00m \u001b[39mNone\u001b[39;49;00m \u001b[39melse\u001b[39;49;00m \u001b[39mNone\u001b[39;49;00m,\n\u001b[1;32m   2100\u001b[0m     cols\u001b[39m=\u001b[39;49m[col] \u001b[39mif\u001b[39;49;00m col \u001b[39mis\u001b[39;49;00m \u001b[39mnot\u001b[39;49;00m \u001b[39mNone\u001b[39;49;00m \u001b[39melse\u001b[39;49;00m \u001b[39mNone\u001b[39;49;00m,\n\u001b[1;32m   2101\u001b[0m     secondary_ys\u001b[39m=\u001b[39;49m[secondary_y] \u001b[39mif\u001b[39;49;00m secondary_y \u001b[39mis\u001b[39;49;00m \u001b[39mnot\u001b[39;49;00m \u001b[39mNone\u001b[39;49;00m \u001b[39melse\u001b[39;49;00m \u001b[39mNone\u001b[39;49;00m,\n\u001b[1;32m   2102\u001b[0m     exclude_empty_subplots\u001b[39m=\u001b[39;49mexclude_empty_subplots,\n\u001b[1;32m   2103\u001b[0m )\n",
      "File \u001b[0;32m~/anaconda3/envs/ds/lib/python3.10/site-packages/plotly/graph_objs/_figure.py:961\u001b[0m, in \u001b[0;36mFigure.add_traces\u001b[0;34m(self, data, rows, cols, secondary_ys, exclude_empty_subplots)\u001b[0m\n\u001b[1;32m    885\u001b[0m \u001b[39mdef\u001b[39;00m \u001b[39madd_traces\u001b[39m(\n\u001b[1;32m    886\u001b[0m     \u001b[39mself\u001b[39m,\n\u001b[1;32m    887\u001b[0m     data,\n\u001b[0;32m   (...)\u001b[0m\n\u001b[1;32m    891\u001b[0m     exclude_empty_subplots\u001b[39m=\u001b[39m\u001b[39mFalse\u001b[39;00m,\n\u001b[1;32m    892\u001b[0m ) \u001b[39m-\u001b[39m\u001b[39m>\u001b[39m \u001b[39m\"\u001b[39m\u001b[39mFigure\u001b[39m\u001b[39m\"\u001b[39m:\n\u001b[1;32m    893\u001b[0m     \u001b[39m\"\"\"\u001b[39;00m\n\u001b[1;32m    894\u001b[0m \n\u001b[1;32m    895\u001b[0m \u001b[39m    Add traces to the figure\u001b[39;00m\n\u001b[0;32m   (...)\u001b[0m\n\u001b[1;32m    959\u001b[0m \n\u001b[1;32m    960\u001b[0m \u001b[39m    \"\"\"\u001b[39;00m\n\u001b[0;32m--> 961\u001b[0m     \u001b[39mreturn\u001b[39;00m \u001b[39msuper\u001b[39;49m(Figure, \u001b[39mself\u001b[39;49m)\u001b[39m.\u001b[39;49madd_traces(\n\u001b[1;32m    962\u001b[0m         data, rows, cols, secondary_ys, exclude_empty_subplots\n\u001b[1;32m    963\u001b[0m     )\n",
      "File \u001b[0;32m~/anaconda3/envs/ds/lib/python3.10/site-packages/plotly/basedatatypes.py:2227\u001b[0m, in \u001b[0;36mBaseFigure.add_traces\u001b[0;34m(self, data, rows, cols, secondary_ys, exclude_empty_subplots)\u001b[0m\n\u001b[1;32m   2225\u001b[0m \u001b[39mif\u001b[39;00m rows \u001b[39mis\u001b[39;00m \u001b[39mnot\u001b[39;00m \u001b[39mNone\u001b[39;00m:\n\u001b[1;32m   2226\u001b[0m     \u001b[39mfor\u001b[39;00m trace, row, col, secondary_y \u001b[39min\u001b[39;00m \u001b[39mzip\u001b[39m(data, rows, cols, secondary_ys):\n\u001b[0;32m-> 2227\u001b[0m         \u001b[39mself\u001b[39;49m\u001b[39m.\u001b[39;49m_set_trace_grid_position(trace, row, col, secondary_y)\n\u001b[1;32m   2229\u001b[0m \u001b[39mif\u001b[39;00m exclude_empty_subplots:\n\u001b[1;32m   2230\u001b[0m     data \u001b[39m=\u001b[39m \u001b[39mlist\u001b[39m(\n\u001b[1;32m   2231\u001b[0m         \u001b[39mfilter\u001b[39m(\n\u001b[1;32m   2232\u001b[0m             \u001b[39mlambda\u001b[39;00m trace: \u001b[39mself\u001b[39m\u001b[39m.\u001b[39m_subplot_not_empty(\n\u001b[0;32m   (...)\u001b[0m\n\u001b[1;32m   2236\u001b[0m         )\n\u001b[1;32m   2237\u001b[0m     )\n",
      "File \u001b[0;32m~/anaconda3/envs/ds/lib/python3.10/site-packages/plotly/basedatatypes.py:2319\u001b[0m, in \u001b[0;36mBaseFigure._set_trace_grid_position\u001b[0;34m(self, trace, row, col, secondary_y)\u001b[0m\n\u001b[1;32m   2316\u001b[0m \u001b[39mfrom\u001b[39;00m \u001b[39mplotly\u001b[39;00m\u001b[39m.\u001b[39;00m\u001b[39m_subplots\u001b[39;00m \u001b[39mimport\u001b[39;00m _set_trace_grid_reference\n\u001b[1;32m   2318\u001b[0m grid_ref \u001b[39m=\u001b[39m \u001b[39mself\u001b[39m\u001b[39m.\u001b[39m_validate_get_grid_ref()\n\u001b[0;32m-> 2319\u001b[0m \u001b[39mreturn\u001b[39;00m _set_trace_grid_reference(\n\u001b[1;32m   2320\u001b[0m     trace, \u001b[39mself\u001b[39;49m\u001b[39m.\u001b[39;49mlayout, grid_ref, row, col, secondary_y\n\u001b[1;32m   2321\u001b[0m )\n",
      "File \u001b[0;32m~/anaconda3/envs/ds/lib/python3.10/site-packages/plotly/_subplots.py:1354\u001b[0m, in \u001b[0;36m_set_trace_grid_reference\u001b[0;34m(trace, layout, grid_ref, row, col, secondary_y)\u001b[0m\n\u001b[1;32m   1352\u001b[0m         subplot_refs \u001b[39m=\u001b[39m grid_ref[row \u001b[39m-\u001b[39m \u001b[39m1\u001b[39m][col \u001b[39m-\u001b[39m \u001b[39m1\u001b[39m]\n\u001b[1;32m   1353\u001b[0m     \u001b[39mexcept\u001b[39;00m \u001b[39mIndexError\u001b[39;00m:\n\u001b[0;32m-> 1354\u001b[0m         \u001b[39mraise\u001b[39;00m \u001b[39mException\u001b[39;00m(\n\u001b[1;32m   1355\u001b[0m             \u001b[39m\"\u001b[39m\u001b[39mThe (row, col) pair sent is out of \u001b[39m\u001b[39m\"\u001b[39m\n\u001b[1;32m   1356\u001b[0m             \u001b[39m\"\u001b[39m\u001b[39mrange. Use Figure.print_grid to view the \u001b[39m\u001b[39m\"\u001b[39m\n\u001b[1;32m   1357\u001b[0m             \u001b[39m\"\u001b[39m\u001b[39msubplot grid. \u001b[39m\u001b[39m\"\u001b[39m\n\u001b[1;32m   1358\u001b[0m         )\n\u001b[1;32m   1360\u001b[0m     \u001b[39mif\u001b[39;00m \u001b[39mnot\u001b[39;00m subplot_refs:\n\u001b[1;32m   1361\u001b[0m         \u001b[39mraise\u001b[39;00m \u001b[39mValueError\u001b[39;00m(\n\u001b[1;32m   1362\u001b[0m             \u001b[39m\"\"\"\u001b[39;00m\n\u001b[1;32m   1363\u001b[0m \u001b[39mNo subplot specified at grid position ({row}, {col})\"\"\"\u001b[39;00m\u001b[39m.\u001b[39mformat(\n\u001b[1;32m   1364\u001b[0m                 row\u001b[39m=\u001b[39mrow, col\u001b[39m=\u001b[39mcol\n\u001b[1;32m   1365\u001b[0m             )\n\u001b[1;32m   1366\u001b[0m         )\n",
      "\u001b[0;31mException\u001b[0m: The (row, col) pair sent is out of range. Use Figure.print_grid to view the subplot grid. "
     ]
    }
   ],
   "source": [
    "import math\n",
    "\n",
    "def behavior_histogram(behavior):\n",
    "    return go.Histogram(x=freq[(freq['macro_bhv']==behavior)]['freq'],\n",
    "    name=behavior,\n",
    "    marker={'color':'#C5D845'})\n",
    "fig = make_subplots(rows=3, cols=2, subplot_titles=beh, vertical_spacing=0.2)\n",
    "for b in range(len(beh)):\n",
    "    row = math.floor(b/2+1)\n",
    "    col = b%2+1\n",
    "    fig.append_trace(behavior_histogram(beh[b]), row, col)\n",
    "fig.update_layout({'height':800,\n",
    "                   'showlegend':False, \n",
    "                   'plot_bgcolor': 'rgba(21, 47, 18, 255)',\n",
    "                   'paper_bgcolor': 'rgba(21, 47, 18, 255)',\n",
    "                   'font':{'color': 'rgba(230,230,230,255)'},\n",
    "                   'yaxis':{'showgrid':False}\n",
    "                   })\n",
    "fig.update_xaxes(showticklabels=False)\n",
    "fig.update_yaxes(showticklabels=False, showgrid=False)\n",
    "fig.show()"
   ]
  },
  {
   "cell_type": "code",
   "execution_count": 22,
   "metadata": {},
   "outputs": [
    {
     "data": {
      "application/vnd.plotly.v1+json": {
       "config": {
        "plotlyServerURL": "https://plot.ly"
       },
       "data": [
        {
         "opacity": 0.75,
         "type": "histogram",
         "x": [
          3,
          1,
          5,
          2,
          4,
          3,
          6,
          1,
          4,
          4,
          8,
          4,
          1,
          1,
          2,
          2,
          4,
          1,
          13,
          4,
          1,
          6,
          4,
          4,
          2,
          5,
          5,
          1,
          6,
          2,
          3,
          2,
          5,
          5,
          2,
          1,
          3,
          4,
          8,
          2,
          3,
          3,
          8,
          7
         ]
        },
        {
         "opacity": 0.75,
         "type": "histogram",
         "x": [
          2,
          14,
          5,
          2,
          2,
          4,
          8,
          4,
          3,
          2,
          2,
          5,
          1,
          8,
          10,
          4,
          1,
          5,
          4,
          7,
          1,
          1,
          6,
          1,
          10,
          8,
          1,
          2,
          1,
          2,
          1,
          2,
          2,
          5,
          2,
          2,
          1,
          7,
          2,
          3,
          3,
          2,
          11,
          2,
          5,
          1,
          8,
          10,
          1,
          8,
          6,
          4,
          7,
          1,
          3,
          5,
          1,
          4,
          7,
          3,
          2,
          1
         ]
        },
        {
         "opacity": 0.75,
         "type": "histogram",
         "x": [
          10,
          10,
          5,
          7,
          3,
          4,
          9,
          2,
          2,
          2,
          2,
          1,
          5,
          1,
          1,
          1,
          1,
          1,
          1,
          2,
          1,
          3,
          2,
          2,
          3,
          2,
          1,
          2,
          1,
          1,
          7,
          6,
          8,
          5,
          6,
          5,
          4,
          4,
          2,
          4,
          1,
          1,
          6,
          1,
          1,
          2,
          5,
          5,
          2,
          3,
          1,
          1,
          3,
          3,
          1,
          1,
          1,
          5,
          4,
          11,
          3,
          6,
          1,
          5,
          1,
          1
         ]
        }
       ],
       "layout": {
        "barmode": "overlay",
        "template": {
         "data": {
          "bar": [
           {
            "error_x": {
             "color": "#2a3f5f"
            },
            "error_y": {
             "color": "#2a3f5f"
            },
            "marker": {
             "line": {
              "color": "#E5ECF6",
              "width": 0.5
             },
             "pattern": {
              "fillmode": "overlay",
              "size": 10,
              "solidity": 0.2
             }
            },
            "type": "bar"
           }
          ],
          "barpolar": [
           {
            "marker": {
             "line": {
              "color": "#E5ECF6",
              "width": 0.5
             },
             "pattern": {
              "fillmode": "overlay",
              "size": 10,
              "solidity": 0.2
             }
            },
            "type": "barpolar"
           }
          ],
          "carpet": [
           {
            "aaxis": {
             "endlinecolor": "#2a3f5f",
             "gridcolor": "white",
             "linecolor": "white",
             "minorgridcolor": "white",
             "startlinecolor": "#2a3f5f"
            },
            "baxis": {
             "endlinecolor": "#2a3f5f",
             "gridcolor": "white",
             "linecolor": "white",
             "minorgridcolor": "white",
             "startlinecolor": "#2a3f5f"
            },
            "type": "carpet"
           }
          ],
          "choropleth": [
           {
            "colorbar": {
             "outlinewidth": 0,
             "ticks": ""
            },
            "type": "choropleth"
           }
          ],
          "contour": [
           {
            "colorbar": {
             "outlinewidth": 0,
             "ticks": ""
            },
            "colorscale": [
             [
              0,
              "#0d0887"
             ],
             [
              0.1111111111111111,
              "#46039f"
             ],
             [
              0.2222222222222222,
              "#7201a8"
             ],
             [
              0.3333333333333333,
              "#9c179e"
             ],
             [
              0.4444444444444444,
              "#bd3786"
             ],
             [
              0.5555555555555556,
              "#d8576b"
             ],
             [
              0.6666666666666666,
              "#ed7953"
             ],
             [
              0.7777777777777778,
              "#fb9f3a"
             ],
             [
              0.8888888888888888,
              "#fdca26"
             ],
             [
              1,
              "#f0f921"
             ]
            ],
            "type": "contour"
           }
          ],
          "contourcarpet": [
           {
            "colorbar": {
             "outlinewidth": 0,
             "ticks": ""
            },
            "type": "contourcarpet"
           }
          ],
          "heatmap": [
           {
            "colorbar": {
             "outlinewidth": 0,
             "ticks": ""
            },
            "colorscale": [
             [
              0,
              "#0d0887"
             ],
             [
              0.1111111111111111,
              "#46039f"
             ],
             [
              0.2222222222222222,
              "#7201a8"
             ],
             [
              0.3333333333333333,
              "#9c179e"
             ],
             [
              0.4444444444444444,
              "#bd3786"
             ],
             [
              0.5555555555555556,
              "#d8576b"
             ],
             [
              0.6666666666666666,
              "#ed7953"
             ],
             [
              0.7777777777777778,
              "#fb9f3a"
             ],
             [
              0.8888888888888888,
              "#fdca26"
             ],
             [
              1,
              "#f0f921"
             ]
            ],
            "type": "heatmap"
           }
          ],
          "heatmapgl": [
           {
            "colorbar": {
             "outlinewidth": 0,
             "ticks": ""
            },
            "colorscale": [
             [
              0,
              "#0d0887"
             ],
             [
              0.1111111111111111,
              "#46039f"
             ],
             [
              0.2222222222222222,
              "#7201a8"
             ],
             [
              0.3333333333333333,
              "#9c179e"
             ],
             [
              0.4444444444444444,
              "#bd3786"
             ],
             [
              0.5555555555555556,
              "#d8576b"
             ],
             [
              0.6666666666666666,
              "#ed7953"
             ],
             [
              0.7777777777777778,
              "#fb9f3a"
             ],
             [
              0.8888888888888888,
              "#fdca26"
             ],
             [
              1,
              "#f0f921"
             ]
            ],
            "type": "heatmapgl"
           }
          ],
          "histogram": [
           {
            "marker": {
             "pattern": {
              "fillmode": "overlay",
              "size": 10,
              "solidity": 0.2
             }
            },
            "type": "histogram"
           }
          ],
          "histogram2d": [
           {
            "colorbar": {
             "outlinewidth": 0,
             "ticks": ""
            },
            "colorscale": [
             [
              0,
              "#0d0887"
             ],
             [
              0.1111111111111111,
              "#46039f"
             ],
             [
              0.2222222222222222,
              "#7201a8"
             ],
             [
              0.3333333333333333,
              "#9c179e"
             ],
             [
              0.4444444444444444,
              "#bd3786"
             ],
             [
              0.5555555555555556,
              "#d8576b"
             ],
             [
              0.6666666666666666,
              "#ed7953"
             ],
             [
              0.7777777777777778,
              "#fb9f3a"
             ],
             [
              0.8888888888888888,
              "#fdca26"
             ],
             [
              1,
              "#f0f921"
             ]
            ],
            "type": "histogram2d"
           }
          ],
          "histogram2dcontour": [
           {
            "colorbar": {
             "outlinewidth": 0,
             "ticks": ""
            },
            "colorscale": [
             [
              0,
              "#0d0887"
             ],
             [
              0.1111111111111111,
              "#46039f"
             ],
             [
              0.2222222222222222,
              "#7201a8"
             ],
             [
              0.3333333333333333,
              "#9c179e"
             ],
             [
              0.4444444444444444,
              "#bd3786"
             ],
             [
              0.5555555555555556,
              "#d8576b"
             ],
             [
              0.6666666666666666,
              "#ed7953"
             ],
             [
              0.7777777777777778,
              "#fb9f3a"
             ],
             [
              0.8888888888888888,
              "#fdca26"
             ],
             [
              1,
              "#f0f921"
             ]
            ],
            "type": "histogram2dcontour"
           }
          ],
          "mesh3d": [
           {
            "colorbar": {
             "outlinewidth": 0,
             "ticks": ""
            },
            "type": "mesh3d"
           }
          ],
          "parcoords": [
           {
            "line": {
             "colorbar": {
              "outlinewidth": 0,
              "ticks": ""
             }
            },
            "type": "parcoords"
           }
          ],
          "pie": [
           {
            "automargin": true,
            "type": "pie"
           }
          ],
          "scatter": [
           {
            "fillpattern": {
             "fillmode": "overlay",
             "size": 10,
             "solidity": 0.2
            },
            "type": "scatter"
           }
          ],
          "scatter3d": [
           {
            "line": {
             "colorbar": {
              "outlinewidth": 0,
              "ticks": ""
             }
            },
            "marker": {
             "colorbar": {
              "outlinewidth": 0,
              "ticks": ""
             }
            },
            "type": "scatter3d"
           }
          ],
          "scattercarpet": [
           {
            "marker": {
             "colorbar": {
              "outlinewidth": 0,
              "ticks": ""
             }
            },
            "type": "scattercarpet"
           }
          ],
          "scattergeo": [
           {
            "marker": {
             "colorbar": {
              "outlinewidth": 0,
              "ticks": ""
             }
            },
            "type": "scattergeo"
           }
          ],
          "scattergl": [
           {
            "marker": {
             "colorbar": {
              "outlinewidth": 0,
              "ticks": ""
             }
            },
            "type": "scattergl"
           }
          ],
          "scattermapbox": [
           {
            "marker": {
             "colorbar": {
              "outlinewidth": 0,
              "ticks": ""
             }
            },
            "type": "scattermapbox"
           }
          ],
          "scatterpolar": [
           {
            "marker": {
             "colorbar": {
              "outlinewidth": 0,
              "ticks": ""
             }
            },
            "type": "scatterpolar"
           }
          ],
          "scatterpolargl": [
           {
            "marker": {
             "colorbar": {
              "outlinewidth": 0,
              "ticks": ""
             }
            },
            "type": "scatterpolargl"
           }
          ],
          "scatterternary": [
           {
            "marker": {
             "colorbar": {
              "outlinewidth": 0,
              "ticks": ""
             }
            },
            "type": "scatterternary"
           }
          ],
          "surface": [
           {
            "colorbar": {
             "outlinewidth": 0,
             "ticks": ""
            },
            "colorscale": [
             [
              0,
              "#0d0887"
             ],
             [
              0.1111111111111111,
              "#46039f"
             ],
             [
              0.2222222222222222,
              "#7201a8"
             ],
             [
              0.3333333333333333,
              "#9c179e"
             ],
             [
              0.4444444444444444,
              "#bd3786"
             ],
             [
              0.5555555555555556,
              "#d8576b"
             ],
             [
              0.6666666666666666,
              "#ed7953"
             ],
             [
              0.7777777777777778,
              "#fb9f3a"
             ],
             [
              0.8888888888888888,
              "#fdca26"
             ],
             [
              1,
              "#f0f921"
             ]
            ],
            "type": "surface"
           }
          ],
          "table": [
           {
            "cells": {
             "fill": {
              "color": "#EBF0F8"
             },
             "line": {
              "color": "white"
             }
            },
            "header": {
             "fill": {
              "color": "#C8D4E3"
             },
             "line": {
              "color": "white"
             }
            },
            "type": "table"
           }
          ]
         },
         "layout": {
          "annotationdefaults": {
           "arrowcolor": "#2a3f5f",
           "arrowhead": 0,
           "arrowwidth": 1
          },
          "autotypenumbers": "strict",
          "coloraxis": {
           "colorbar": {
            "outlinewidth": 0,
            "ticks": ""
           }
          },
          "colorscale": {
           "diverging": [
            [
             0,
             "#8e0152"
            ],
            [
             0.1,
             "#c51b7d"
            ],
            [
             0.2,
             "#de77ae"
            ],
            [
             0.3,
             "#f1b6da"
            ],
            [
             0.4,
             "#fde0ef"
            ],
            [
             0.5,
             "#f7f7f7"
            ],
            [
             0.6,
             "#e6f5d0"
            ],
            [
             0.7,
             "#b8e186"
            ],
            [
             0.8,
             "#7fbc41"
            ],
            [
             0.9,
             "#4d9221"
            ],
            [
             1,
             "#276419"
            ]
           ],
           "sequential": [
            [
             0,
             "#0d0887"
            ],
            [
             0.1111111111111111,
             "#46039f"
            ],
            [
             0.2222222222222222,
             "#7201a8"
            ],
            [
             0.3333333333333333,
             "#9c179e"
            ],
            [
             0.4444444444444444,
             "#bd3786"
            ],
            [
             0.5555555555555556,
             "#d8576b"
            ],
            [
             0.6666666666666666,
             "#ed7953"
            ],
            [
             0.7777777777777778,
             "#fb9f3a"
            ],
            [
             0.8888888888888888,
             "#fdca26"
            ],
            [
             1,
             "#f0f921"
            ]
           ],
           "sequentialminus": [
            [
             0,
             "#0d0887"
            ],
            [
             0.1111111111111111,
             "#46039f"
            ],
            [
             0.2222222222222222,
             "#7201a8"
            ],
            [
             0.3333333333333333,
             "#9c179e"
            ],
            [
             0.4444444444444444,
             "#bd3786"
            ],
            [
             0.5555555555555556,
             "#d8576b"
            ],
            [
             0.6666666666666666,
             "#ed7953"
            ],
            [
             0.7777777777777778,
             "#fb9f3a"
            ],
            [
             0.8888888888888888,
             "#fdca26"
            ],
            [
             1,
             "#f0f921"
            ]
           ]
          },
          "colorway": [
           "#636efa",
           "#EF553B",
           "#00cc96",
           "#ab63fa",
           "#FFA15A",
           "#19d3f3",
           "#FF6692",
           "#B6E880",
           "#FF97FF",
           "#FECB52"
          ],
          "font": {
           "color": "#2a3f5f"
          },
          "geo": {
           "bgcolor": "white",
           "lakecolor": "white",
           "landcolor": "#E5ECF6",
           "showlakes": true,
           "showland": true,
           "subunitcolor": "white"
          },
          "hoverlabel": {
           "align": "left"
          },
          "hovermode": "closest",
          "mapbox": {
           "style": "light"
          },
          "paper_bgcolor": "white",
          "plot_bgcolor": "#E5ECF6",
          "polar": {
           "angularaxis": {
            "gridcolor": "white",
            "linecolor": "white",
            "ticks": ""
           },
           "bgcolor": "#E5ECF6",
           "radialaxis": {
            "gridcolor": "white",
            "linecolor": "white",
            "ticks": ""
           }
          },
          "scene": {
           "xaxis": {
            "backgroundcolor": "#E5ECF6",
            "gridcolor": "white",
            "gridwidth": 2,
            "linecolor": "white",
            "showbackground": true,
            "ticks": "",
            "zerolinecolor": "white"
           },
           "yaxis": {
            "backgroundcolor": "#E5ECF6",
            "gridcolor": "white",
            "gridwidth": 2,
            "linecolor": "white",
            "showbackground": true,
            "ticks": "",
            "zerolinecolor": "white"
           },
           "zaxis": {
            "backgroundcolor": "#E5ECF6",
            "gridcolor": "white",
            "gridwidth": 2,
            "linecolor": "white",
            "showbackground": true,
            "ticks": "",
            "zerolinecolor": "white"
           }
          },
          "shapedefaults": {
           "line": {
            "color": "#2a3f5f"
           }
          },
          "ternary": {
           "aaxis": {
            "gridcolor": "white",
            "linecolor": "white",
            "ticks": ""
           },
           "baxis": {
            "gridcolor": "white",
            "linecolor": "white",
            "ticks": ""
           },
           "bgcolor": "#E5ECF6",
           "caxis": {
            "gridcolor": "white",
            "linecolor": "white",
            "ticks": ""
           }
          },
          "title": {
           "x": 0.05
          },
          "xaxis": {
           "automargin": true,
           "gridcolor": "white",
           "linecolor": "white",
           "ticks": "",
           "title": {
            "standoff": 15
           },
           "zerolinecolor": "white",
           "zerolinewidth": 2
          },
          "yaxis": {
           "automargin": true,
           "gridcolor": "white",
           "linecolor": "white",
           "ticks": "",
           "title": {
            "standoff": 15
           },
           "zerolinecolor": "white",
           "zerolinewidth": 2
          }
         }
        }
       }
      }
     },
     "metadata": {},
     "output_type": "display_data"
    }
   ],
   "source": [
    "fig = go.Figure()\n",
    "fig.add_trace(go.Histogram(x=freq[(freq['macro_bhv']=='Ludic')&(freq['period']=='pregame')]['freq']))\n",
    "fig.add_trace(go.Histogram(x=freq[(freq['macro_bhv']=='Ludic')&(freq['period']=='game')]['freq']))\n",
    "fig.add_trace(go.Histogram(x=freq[(freq['macro_bhv']=='Ludic')&(freq['period']=='postgame')]['freq']))\n",
    "\n",
    "\n",
    "\n",
    "\n",
    "# Overlay both histograms\n",
    "fig.update_layout(barmode='overlay')\n",
    "# Reduce opacity to see both histograms\n",
    "fig.update_traces(opacity=0.75)\n",
    "fig.show()"
   ]
  },
  {
   "cell_type": "code",
   "execution_count": 32,
   "metadata": {},
   "outputs": [
    {
     "data": {
      "application/vnd.plotly.v1+json": {
       "config": {
        "plotlyServerURL": "https://plot.ly"
       },
       "data": [
        {
         "marker": {
          "color": "#EB89B5"
         },
         "name": "Pregame",
         "opacity": 0.75,
         "type": "histogram",
         "x": [
          3,
          1,
          5,
          2,
          4,
          3,
          6,
          1,
          4,
          4,
          8,
          4,
          1,
          1,
          2,
          2,
          4,
          1,
          13,
          4,
          1,
          6,
          4,
          4,
          2,
          5,
          5,
          1,
          6,
          2,
          3,
          2,
          5,
          5,
          2,
          1,
          3,
          4,
          8,
          2,
          3,
          3,
          8,
          7
         ],
         "xbins": {
          "end": 30,
          "size": 0.5,
          "start": -4
         }
        },
        {
         "marker": {
          "color": "#330C73"
         },
         "name": "game",
         "opacity": 0.75,
         "type": "histogram",
         "x": [
          2,
          14,
          5,
          2,
          2,
          4,
          8,
          4,
          3,
          2,
          2,
          5,
          1,
          8,
          10,
          4,
          1,
          5,
          4,
          7,
          1,
          1,
          6,
          1,
          10,
          8,
          1,
          2,
          1,
          2,
          1,
          2,
          2,
          5,
          2,
          2,
          1,
          7,
          2,
          3,
          3,
          2,
          11,
          2,
          5,
          1,
          8,
          10,
          1,
          8,
          6,
          4,
          7,
          1,
          3,
          5,
          1,
          4,
          7,
          3,
          2,
          1
         ],
         "xbins": {
          "end": 31,
          "size": 0.5,
          "start": -3
         }
        }
       ],
       "layout": {
        "bargap": 0.2,
        "bargroupgap": 0.1,
        "template": {
         "data": {
          "bar": [
           {
            "error_x": {
             "color": "#2a3f5f"
            },
            "error_y": {
             "color": "#2a3f5f"
            },
            "marker": {
             "line": {
              "color": "#E5ECF6",
              "width": 0.5
             },
             "pattern": {
              "fillmode": "overlay",
              "size": 10,
              "solidity": 0.2
             }
            },
            "type": "bar"
           }
          ],
          "barpolar": [
           {
            "marker": {
             "line": {
              "color": "#E5ECF6",
              "width": 0.5
             },
             "pattern": {
              "fillmode": "overlay",
              "size": 10,
              "solidity": 0.2
             }
            },
            "type": "barpolar"
           }
          ],
          "carpet": [
           {
            "aaxis": {
             "endlinecolor": "#2a3f5f",
             "gridcolor": "white",
             "linecolor": "white",
             "minorgridcolor": "white",
             "startlinecolor": "#2a3f5f"
            },
            "baxis": {
             "endlinecolor": "#2a3f5f",
             "gridcolor": "white",
             "linecolor": "white",
             "minorgridcolor": "white",
             "startlinecolor": "#2a3f5f"
            },
            "type": "carpet"
           }
          ],
          "choropleth": [
           {
            "colorbar": {
             "outlinewidth": 0,
             "ticks": ""
            },
            "type": "choropleth"
           }
          ],
          "contour": [
           {
            "colorbar": {
             "outlinewidth": 0,
             "ticks": ""
            },
            "colorscale": [
             [
              0,
              "#0d0887"
             ],
             [
              0.1111111111111111,
              "#46039f"
             ],
             [
              0.2222222222222222,
              "#7201a8"
             ],
             [
              0.3333333333333333,
              "#9c179e"
             ],
             [
              0.4444444444444444,
              "#bd3786"
             ],
             [
              0.5555555555555556,
              "#d8576b"
             ],
             [
              0.6666666666666666,
              "#ed7953"
             ],
             [
              0.7777777777777778,
              "#fb9f3a"
             ],
             [
              0.8888888888888888,
              "#fdca26"
             ],
             [
              1,
              "#f0f921"
             ]
            ],
            "type": "contour"
           }
          ],
          "contourcarpet": [
           {
            "colorbar": {
             "outlinewidth": 0,
             "ticks": ""
            },
            "type": "contourcarpet"
           }
          ],
          "heatmap": [
           {
            "colorbar": {
             "outlinewidth": 0,
             "ticks": ""
            },
            "colorscale": [
             [
              0,
              "#0d0887"
             ],
             [
              0.1111111111111111,
              "#46039f"
             ],
             [
              0.2222222222222222,
              "#7201a8"
             ],
             [
              0.3333333333333333,
              "#9c179e"
             ],
             [
              0.4444444444444444,
              "#bd3786"
             ],
             [
              0.5555555555555556,
              "#d8576b"
             ],
             [
              0.6666666666666666,
              "#ed7953"
             ],
             [
              0.7777777777777778,
              "#fb9f3a"
             ],
             [
              0.8888888888888888,
              "#fdca26"
             ],
             [
              1,
              "#f0f921"
             ]
            ],
            "type": "heatmap"
           }
          ],
          "heatmapgl": [
           {
            "colorbar": {
             "outlinewidth": 0,
             "ticks": ""
            },
            "colorscale": [
             [
              0,
              "#0d0887"
             ],
             [
              0.1111111111111111,
              "#46039f"
             ],
             [
              0.2222222222222222,
              "#7201a8"
             ],
             [
              0.3333333333333333,
              "#9c179e"
             ],
             [
              0.4444444444444444,
              "#bd3786"
             ],
             [
              0.5555555555555556,
              "#d8576b"
             ],
             [
              0.6666666666666666,
              "#ed7953"
             ],
             [
              0.7777777777777778,
              "#fb9f3a"
             ],
             [
              0.8888888888888888,
              "#fdca26"
             ],
             [
              1,
              "#f0f921"
             ]
            ],
            "type": "heatmapgl"
           }
          ],
          "histogram": [
           {
            "marker": {
             "pattern": {
              "fillmode": "overlay",
              "size": 10,
              "solidity": 0.2
             }
            },
            "type": "histogram"
           }
          ],
          "histogram2d": [
           {
            "colorbar": {
             "outlinewidth": 0,
             "ticks": ""
            },
            "colorscale": [
             [
              0,
              "#0d0887"
             ],
             [
              0.1111111111111111,
              "#46039f"
             ],
             [
              0.2222222222222222,
              "#7201a8"
             ],
             [
              0.3333333333333333,
              "#9c179e"
             ],
             [
              0.4444444444444444,
              "#bd3786"
             ],
             [
              0.5555555555555556,
              "#d8576b"
             ],
             [
              0.6666666666666666,
              "#ed7953"
             ],
             [
              0.7777777777777778,
              "#fb9f3a"
             ],
             [
              0.8888888888888888,
              "#fdca26"
             ],
             [
              1,
              "#f0f921"
             ]
            ],
            "type": "histogram2d"
           }
          ],
          "histogram2dcontour": [
           {
            "colorbar": {
             "outlinewidth": 0,
             "ticks": ""
            },
            "colorscale": [
             [
              0,
              "#0d0887"
             ],
             [
              0.1111111111111111,
              "#46039f"
             ],
             [
              0.2222222222222222,
              "#7201a8"
             ],
             [
              0.3333333333333333,
              "#9c179e"
             ],
             [
              0.4444444444444444,
              "#bd3786"
             ],
             [
              0.5555555555555556,
              "#d8576b"
             ],
             [
              0.6666666666666666,
              "#ed7953"
             ],
             [
              0.7777777777777778,
              "#fb9f3a"
             ],
             [
              0.8888888888888888,
              "#fdca26"
             ],
             [
              1,
              "#f0f921"
             ]
            ],
            "type": "histogram2dcontour"
           }
          ],
          "mesh3d": [
           {
            "colorbar": {
             "outlinewidth": 0,
             "ticks": ""
            },
            "type": "mesh3d"
           }
          ],
          "parcoords": [
           {
            "line": {
             "colorbar": {
              "outlinewidth": 0,
              "ticks": ""
             }
            },
            "type": "parcoords"
           }
          ],
          "pie": [
           {
            "automargin": true,
            "type": "pie"
           }
          ],
          "scatter": [
           {
            "fillpattern": {
             "fillmode": "overlay",
             "size": 10,
             "solidity": 0.2
            },
            "type": "scatter"
           }
          ],
          "scatter3d": [
           {
            "line": {
             "colorbar": {
              "outlinewidth": 0,
              "ticks": ""
             }
            },
            "marker": {
             "colorbar": {
              "outlinewidth": 0,
              "ticks": ""
             }
            },
            "type": "scatter3d"
           }
          ],
          "scattercarpet": [
           {
            "marker": {
             "colorbar": {
              "outlinewidth": 0,
              "ticks": ""
             }
            },
            "type": "scattercarpet"
           }
          ],
          "scattergeo": [
           {
            "marker": {
             "colorbar": {
              "outlinewidth": 0,
              "ticks": ""
             }
            },
            "type": "scattergeo"
           }
          ],
          "scattergl": [
           {
            "marker": {
             "colorbar": {
              "outlinewidth": 0,
              "ticks": ""
             }
            },
            "type": "scattergl"
           }
          ],
          "scattermapbox": [
           {
            "marker": {
             "colorbar": {
              "outlinewidth": 0,
              "ticks": ""
             }
            },
            "type": "scattermapbox"
           }
          ],
          "scatterpolar": [
           {
            "marker": {
             "colorbar": {
              "outlinewidth": 0,
              "ticks": ""
             }
            },
            "type": "scatterpolar"
           }
          ],
          "scatterpolargl": [
           {
            "marker": {
             "colorbar": {
              "outlinewidth": 0,
              "ticks": ""
             }
            },
            "type": "scatterpolargl"
           }
          ],
          "scatterternary": [
           {
            "marker": {
             "colorbar": {
              "outlinewidth": 0,
              "ticks": ""
             }
            },
            "type": "scatterternary"
           }
          ],
          "surface": [
           {
            "colorbar": {
             "outlinewidth": 0,
             "ticks": ""
            },
            "colorscale": [
             [
              0,
              "#0d0887"
             ],
             [
              0.1111111111111111,
              "#46039f"
             ],
             [
              0.2222222222222222,
              "#7201a8"
             ],
             [
              0.3333333333333333,
              "#9c179e"
             ],
             [
              0.4444444444444444,
              "#bd3786"
             ],
             [
              0.5555555555555556,
              "#d8576b"
             ],
             [
              0.6666666666666666,
              "#ed7953"
             ],
             [
              0.7777777777777778,
              "#fb9f3a"
             ],
             [
              0.8888888888888888,
              "#fdca26"
             ],
             [
              1,
              "#f0f921"
             ]
            ],
            "type": "surface"
           }
          ],
          "table": [
           {
            "cells": {
             "fill": {
              "color": "#EBF0F8"
             },
             "line": {
              "color": "white"
             }
            },
            "header": {
             "fill": {
              "color": "#C8D4E3"
             },
             "line": {
              "color": "white"
             }
            },
            "type": "table"
           }
          ]
         },
         "layout": {
          "annotationdefaults": {
           "arrowcolor": "#2a3f5f",
           "arrowhead": 0,
           "arrowwidth": 1
          },
          "autotypenumbers": "strict",
          "coloraxis": {
           "colorbar": {
            "outlinewidth": 0,
            "ticks": ""
           }
          },
          "colorscale": {
           "diverging": [
            [
             0,
             "#8e0152"
            ],
            [
             0.1,
             "#c51b7d"
            ],
            [
             0.2,
             "#de77ae"
            ],
            [
             0.3,
             "#f1b6da"
            ],
            [
             0.4,
             "#fde0ef"
            ],
            [
             0.5,
             "#f7f7f7"
            ],
            [
             0.6,
             "#e6f5d0"
            ],
            [
             0.7,
             "#b8e186"
            ],
            [
             0.8,
             "#7fbc41"
            ],
            [
             0.9,
             "#4d9221"
            ],
            [
             1,
             "#276419"
            ]
           ],
           "sequential": [
            [
             0,
             "#0d0887"
            ],
            [
             0.1111111111111111,
             "#46039f"
            ],
            [
             0.2222222222222222,
             "#7201a8"
            ],
            [
             0.3333333333333333,
             "#9c179e"
            ],
            [
             0.4444444444444444,
             "#bd3786"
            ],
            [
             0.5555555555555556,
             "#d8576b"
            ],
            [
             0.6666666666666666,
             "#ed7953"
            ],
            [
             0.7777777777777778,
             "#fb9f3a"
            ],
            [
             0.8888888888888888,
             "#fdca26"
            ],
            [
             1,
             "#f0f921"
            ]
           ],
           "sequentialminus": [
            [
             0,
             "#0d0887"
            ],
            [
             0.1111111111111111,
             "#46039f"
            ],
            [
             0.2222222222222222,
             "#7201a8"
            ],
            [
             0.3333333333333333,
             "#9c179e"
            ],
            [
             0.4444444444444444,
             "#bd3786"
            ],
            [
             0.5555555555555556,
             "#d8576b"
            ],
            [
             0.6666666666666666,
             "#ed7953"
            ],
            [
             0.7777777777777778,
             "#fb9f3a"
            ],
            [
             0.8888888888888888,
             "#fdca26"
            ],
            [
             1,
             "#f0f921"
            ]
           ]
          },
          "colorway": [
           "#636efa",
           "#EF553B",
           "#00cc96",
           "#ab63fa",
           "#FFA15A",
           "#19d3f3",
           "#FF6692",
           "#B6E880",
           "#FF97FF",
           "#FECB52"
          ],
          "font": {
           "color": "#2a3f5f"
          },
          "geo": {
           "bgcolor": "white",
           "lakecolor": "white",
           "landcolor": "#E5ECF6",
           "showlakes": true,
           "showland": true,
           "subunitcolor": "white"
          },
          "hoverlabel": {
           "align": "left"
          },
          "hovermode": "closest",
          "mapbox": {
           "style": "light"
          },
          "paper_bgcolor": "white",
          "plot_bgcolor": "#E5ECF6",
          "polar": {
           "angularaxis": {
            "gridcolor": "white",
            "linecolor": "white",
            "ticks": ""
           },
           "bgcolor": "#E5ECF6",
           "radialaxis": {
            "gridcolor": "white",
            "linecolor": "white",
            "ticks": ""
           }
          },
          "scene": {
           "xaxis": {
            "backgroundcolor": "#E5ECF6",
            "gridcolor": "white",
            "gridwidth": 2,
            "linecolor": "white",
            "showbackground": true,
            "ticks": "",
            "zerolinecolor": "white"
           },
           "yaxis": {
            "backgroundcolor": "#E5ECF6",
            "gridcolor": "white",
            "gridwidth": 2,
            "linecolor": "white",
            "showbackground": true,
            "ticks": "",
            "zerolinecolor": "white"
           },
           "zaxis": {
            "backgroundcolor": "#E5ECF6",
            "gridcolor": "white",
            "gridwidth": 2,
            "linecolor": "white",
            "showbackground": true,
            "ticks": "",
            "zerolinecolor": "white"
           }
          },
          "shapedefaults": {
           "line": {
            "color": "#2a3f5f"
           }
          },
          "ternary": {
           "aaxis": {
            "gridcolor": "white",
            "linecolor": "white",
            "ticks": ""
           },
           "baxis": {
            "gridcolor": "white",
            "linecolor": "white",
            "ticks": ""
           },
           "bgcolor": "#E5ECF6",
           "caxis": {
            "gridcolor": "white",
            "linecolor": "white",
            "ticks": ""
           }
          },
          "title": {
           "x": 0.05
          },
          "xaxis": {
           "automargin": true,
           "gridcolor": "white",
           "linecolor": "white",
           "ticks": "",
           "title": {
            "standoff": 15
           },
           "zerolinecolor": "white",
           "zerolinewidth": 2
          },
          "yaxis": {
           "automargin": true,
           "gridcolor": "white",
           "linecolor": "white",
           "ticks": "",
           "title": {
            "standoff": 15
           },
           "zerolinecolor": "white",
           "zerolinewidth": 2
          }
         }
        },
        "title": {
         "text": "Ludic"
        },
        "width": 500,
        "xaxis": {
         "title": {
          "text": "Frequencies"
         }
        },
        "yaxis": {
         "title": {
          "text": "Count"
         }
        }
       }
      }
     },
     "metadata": {},
     "output_type": "display_data"
    }
   ],
   "source": [
    "fig = go.Figure()\n",
    "behavior = 'Ludic'\n",
    "fig.add_trace(go.Histogram(\n",
    "    x=freq[(freq['macro_bhv']==behavior)&(freq['period']=='pregame')]['freq'],\n",
    "    name='Pregame', # name used in legend and hover labels\n",
    "    xbins=dict( # bins used for histogram\n",
    "        start=-4.0,\n",
    "        end=30,\n",
    "        size=0.5\n",
    "    ),\n",
    "    marker_color='#EB89B5',\n",
    "    opacity=0.75\n",
    "))\n",
    "fig.add_trace(go.Histogram(\n",
    "    x=freq[(freq['macro_bhv']==behavior)&(freq['period']=='game')]['freq'],\n",
    "    name='game',\n",
    "    xbins=dict(\n",
    "        start=-3.0,\n",
    "        end=31,\n",
    "        size=0.5\n",
    "    ),\n",
    "    marker_color='#330C73',\n",
    "    opacity=0.75\n",
    "))\n",
    "\n",
    "fig.update_layout(\n",
    "    title_text=behavior, # title of plot\n",
    "    xaxis_title_text='Frequencies', # xaxis label\n",
    "    yaxis_title_text='Count', # yaxis label\n",
    "    bargap=0.2, # gap between bars of adjacent location coordinates\n",
    "    bargroupgap=0.1, # gap between bars of the same location coordinates\n",
    "    width=500\n",
    ")\n",
    "\n",
    "fig.show()"
   ]
  },
  {
   "attachments": {},
   "cell_type": "markdown",
   "metadata": {},
   "source": [
    "# Individual T tests\n",
    "La idea es poder ver si hay diferencias individuales en los periodos. Se puede hacer un T-test para cada individuo. "
   ]
  },
  {
   "cell_type": "code",
   "execution_count": 1,
   "metadata": {},
   "outputs": [
    {
     "data": {
      "text/html": [
       "<div>\n",
       "<style scoped>\n",
       "    .dataframe tbody tr th:only-of-type {\n",
       "        vertical-align: middle;\n",
       "    }\n",
       "\n",
       "    .dataframe tbody tr th {\n",
       "        vertical-align: top;\n",
       "    }\n",
       "\n",
       "    .dataframe thead th {\n",
       "        text-align: right;\n",
       "    }\n",
       "</style>\n",
       "<table border=\"1\" class=\"dataframe\">\n",
       "  <thead>\n",
       "    <tr style=\"text-align: right;\">\n",
       "      <th>macro_bhv</th>\n",
       "      <th>period</th>\n",
       "      <th>date</th>\n",
       "      <th>subject</th>\n",
       "      <th>reg</th>\n",
       "      <th>Agonistic</th>\n",
       "      <th>Individual</th>\n",
       "      <th>Ludic</th>\n",
       "      <th>Public</th>\n",
       "      <th>Sexual</th>\n",
       "      <th>Social</th>\n",
       "      <th>Social-Ludic</th>\n",
       "    </tr>\n",
       "  </thead>\n",
       "  <tbody>\n",
       "    <tr>\n",
       "      <th>0</th>\n",
       "      <td>game</td>\n",
       "      <td>2019-05-20</td>\n",
       "      <td>Hadia</td>\n",
       "      <td>1</td>\n",
       "      <td>0.0</td>\n",
       "      <td>448.0</td>\n",
       "      <td>24.0</td>\n",
       "      <td>0.0</td>\n",
       "      <td>0.0</td>\n",
       "      <td>138.0</td>\n",
       "      <td>0.0</td>\n",
       "    </tr>\n",
       "    <tr>\n",
       "      <th>1</th>\n",
       "      <td>game</td>\n",
       "      <td>2019-05-20</td>\n",
       "      <td>Hadia</td>\n",
       "      <td>2</td>\n",
       "      <td>0.0</td>\n",
       "      <td>297.0</td>\n",
       "      <td>0.0</td>\n",
       "      <td>136.0</td>\n",
       "      <td>0.0</td>\n",
       "      <td>131.0</td>\n",
       "      <td>33.0</td>\n",
       "    </tr>\n",
       "    <tr>\n",
       "      <th>2</th>\n",
       "      <td>game</td>\n",
       "      <td>2019-05-20</td>\n",
       "      <td>Jawie</td>\n",
       "      <td>1</td>\n",
       "      <td>0.0</td>\n",
       "      <td>0.0</td>\n",
       "      <td>0.0</td>\n",
       "      <td>0.0</td>\n",
       "      <td>0.0</td>\n",
       "      <td>600.0</td>\n",
       "      <td>0.0</td>\n",
       "    </tr>\n",
       "    <tr>\n",
       "      <th>3</th>\n",
       "      <td>game</td>\n",
       "      <td>2019-05-20</td>\n",
       "      <td>Jawie</td>\n",
       "      <td>2</td>\n",
       "      <td>0.0</td>\n",
       "      <td>489.0</td>\n",
       "      <td>0.0</td>\n",
       "      <td>0.0</td>\n",
       "      <td>0.0</td>\n",
       "      <td>94.0</td>\n",
       "      <td>0.0</td>\n",
       "    </tr>\n",
       "    <tr>\n",
       "      <th>4</th>\n",
       "      <td>game</td>\n",
       "      <td>2019-05-20</td>\n",
       "      <td>Karl</td>\n",
       "      <td>1</td>\n",
       "      <td>0.0</td>\n",
       "      <td>540.0</td>\n",
       "      <td>0.0</td>\n",
       "      <td>0.0</td>\n",
       "      <td>0.0</td>\n",
       "      <td>0.0</td>\n",
       "      <td>0.0</td>\n",
       "    </tr>\n",
       "  </tbody>\n",
       "</table>\n",
       "</div>"
      ],
      "text/plain": [
       "macro_bhv period        date subject  reg  Agonistic  Individual  Ludic  \\\n",
       "0           game  2019-05-20   Hadia    1        0.0       448.0   24.0   \n",
       "1           game  2019-05-20   Hadia    2        0.0       297.0    0.0   \n",
       "2           game  2019-05-20   Jawie    1        0.0         0.0    0.0   \n",
       "3           game  2019-05-20   Jawie    2        0.0       489.0    0.0   \n",
       "4           game  2019-05-20    Karl    1        0.0       540.0    0.0   \n",
       "\n",
       "macro_bhv  Public  Sexual  Social  Social-Ludic  \n",
       "0             0.0     0.0   138.0           0.0  \n",
       "1           136.0     0.0   131.0          33.0  \n",
       "2             0.0     0.0   600.0           0.0  \n",
       "3             0.0     0.0    94.0           0.0  \n",
       "4             0.0     0.0     0.0           0.0  "
      ]
     },
     "execution_count": 1,
     "metadata": {},
     "output_type": "execute_result"
    }
   ],
   "source": [
    "import pandas as pd\n",
    "import plotly.express as px\n",
    "import scipy.stats as stats\n",
    "import queries\n",
    "\n",
    "def individual_t_test(subject, periodA, periodB, bhv):\n",
    "    pass\n",
    "\n",
    "df = pd.read_csv('../data/clean_df.csv', index_col=[0])\\\n",
    "                        .groupby(['period', 'date','subject', 'reg','macro_bhv'])\\\n",
    "                        ['duration'] \\\n",
    "                        .sum() \\\n",
    "                        .unstack(level='macro_bhv', fill_value=0) \\\n",
    "                        .reset_index()\n",
    "df.head()"
   ]
  },
  {
   "cell_type": "code",
   "execution_count": 4,
   "metadata": {},
   "outputs": [
    {
     "data": {
      "text/html": [
       "<div>\n",
       "<style scoped>\n",
       "    .dataframe tbody tr th:only-of-type {\n",
       "        vertical-align: middle;\n",
       "    }\n",
       "\n",
       "    .dataframe tbody tr th {\n",
       "        vertical-align: top;\n",
       "    }\n",
       "\n",
       "    .dataframe thead th {\n",
       "        text-align: right;\n",
       "    }\n",
       "</style>\n",
       "<table border=\"1\" class=\"dataframe\">\n",
       "  <thead>\n",
       "    <tr style=\"text-align: right;\">\n",
       "      <th></th>\n",
       "      <th>means</th>\n",
       "      <th>stds</th>\n",
       "    </tr>\n",
       "  </thead>\n",
       "  <tbody>\n",
       "    <tr>\n",
       "      <th>pregame</th>\n",
       "      <td>103.266667</td>\n",
       "      <td>162.086170</td>\n",
       "    </tr>\n",
       "    <tr>\n",
       "      <th>game</th>\n",
       "      <td>57.166667</td>\n",
       "      <td>113.913180</td>\n",
       "    </tr>\n",
       "    <tr>\n",
       "      <th>postgame</th>\n",
       "      <td>110.333333</td>\n",
       "      <td>173.675546</td>\n",
       "    </tr>\n",
       "  </tbody>\n",
       "</table>\n",
       "</div>"
      ],
      "text/plain": [
       "               means        stds\n",
       "pregame   103.266667  162.086170\n",
       "game       57.166667  113.913180\n",
       "postgame  110.333333  173.675546"
      ]
     },
     "execution_count": 4,
     "metadata": {},
     "output_type": "execute_result"
    }
   ],
   "source": [
    "def behavior_means_stds(df, behavior):\n",
    "    return pd.DataFrame({\n",
    "            'means': [get_stat(df, 'pregame', behavior, 'mean',),\n",
    "                      get_stat(df, 'game', behavior, 'mean',),\n",
    "                      get_stat(df, 'postgame', behavior, 'mean',)],\n",
    "            'stds': [get_stat(df, 'pregame',behavior,  'std',),\n",
    "                      get_stat(df, 'game',behavior,  'std',),\n",
    "                      get_stat(df, 'postgame',behavior,  'std',)]\n",
    "                      },\n",
    "            index=['pregame', 'game', 'postgame'])\n",
    "\n",
    "\n",
    "def get_stat(df, period, bhv, stat):\n",
    "    return df.query(f\"period=='{period}'\") \\\n",
    "             .describe() \\\n",
    "             .loc[stat,bhv]\n",
    "\n",
    "popo = df.query(\"subject=='Popo'\")\n",
    "statis = behavior_means_stds(popo,'Social-Ludic')\n",
    "statis"
   ]
  },
  {
   "cell_type": "code",
   "execution_count": 5,
   "metadata": {},
   "outputs": [],
   "source": [
    "jaw_pre = queries.filter_subject_period(df, 'Popo', 'pregame').reset_index()\n",
    "jaw_game = queries.filter_subject_period(df, 'Popo', 'game').reset_index()"
   ]
  },
  {
   "attachments": {},
   "cell_type": "markdown",
   "metadata": {},
   "source": [
    "## Tests for normality\n",
    "### Calculate difference between one period and the other one\n",
    "\n",
    "With this we can see if the distribution of this differences is more or less normal, to decide which test statistic to conduct. "
   ]
  },
  {
   "cell_type": "code",
   "execution_count": 13,
   "metadata": {},
   "outputs": [],
   "source": [
    "ind_diff = jaw_pre['Ludic'] - jaw_game['Ludic']"
   ]
  },
  {
   "attachments": {},
   "cell_type": "markdown",
   "metadata": {},
   "source": [
    "### Plots\n",
    "\n",
    "With a histogram we can visually tell if the distribution is more or less normal. \n",
    "And then a QQ plot (buscar info de para qué carajo sirve)"
   ]
  },
  {
   "cell_type": "code",
   "execution_count": 12,
   "metadata": {},
   "outputs": [
    {
     "data": {
      "application/vnd.plotly.v1+json": {
       "config": {
        "plotlyServerURL": "https://plot.ly"
       },
       "data": [
        {
         "alignmentgroup": "True",
         "bingroup": "x",
         "hovertemplate": "variable=Social<br>value=%{x}<br>count=%{y}<extra></extra>",
         "legendgroup": "Social",
         "marker": {
          "color": "#636efa",
          "pattern": {
           "shape": ""
          }
         },
         "name": "Social",
         "offsetgroup": "Social",
         "orientation": "v",
         "showlegend": true,
         "type": "histogram",
         "x": [
          20,
          156,
          286,
          180,
          -118,
          79,
          -333,
          -364,
          125,
          10,
          492,
          290,
          92,
          162,
          -35,
          -433,
          -36,
          520,
          230,
          449,
          98,
          147,
          0,
          41,
          -555,
          578,
          316,
          -432,
          -199,
          -87
         ],
         "xaxis": "x",
         "yaxis": "y"
        }
       ],
       "layout": {
        "barmode": "relative",
        "legend": {
         "title": {
          "text": "variable"
         },
         "tracegroupgap": 0
        },
        "margin": {
         "t": 60
        },
        "template": {
         "data": {
          "bar": [
           {
            "error_x": {
             "color": "#2a3f5f"
            },
            "error_y": {
             "color": "#2a3f5f"
            },
            "marker": {
             "line": {
              "color": "#E5ECF6",
              "width": 0.5
             },
             "pattern": {
              "fillmode": "overlay",
              "size": 10,
              "solidity": 0.2
             }
            },
            "type": "bar"
           }
          ],
          "barpolar": [
           {
            "marker": {
             "line": {
              "color": "#E5ECF6",
              "width": 0.5
             },
             "pattern": {
              "fillmode": "overlay",
              "size": 10,
              "solidity": 0.2
             }
            },
            "type": "barpolar"
           }
          ],
          "carpet": [
           {
            "aaxis": {
             "endlinecolor": "#2a3f5f",
             "gridcolor": "white",
             "linecolor": "white",
             "minorgridcolor": "white",
             "startlinecolor": "#2a3f5f"
            },
            "baxis": {
             "endlinecolor": "#2a3f5f",
             "gridcolor": "white",
             "linecolor": "white",
             "minorgridcolor": "white",
             "startlinecolor": "#2a3f5f"
            },
            "type": "carpet"
           }
          ],
          "choropleth": [
           {
            "colorbar": {
             "outlinewidth": 0,
             "ticks": ""
            },
            "type": "choropleth"
           }
          ],
          "contour": [
           {
            "colorbar": {
             "outlinewidth": 0,
             "ticks": ""
            },
            "colorscale": [
             [
              0,
              "#0d0887"
             ],
             [
              0.1111111111111111,
              "#46039f"
             ],
             [
              0.2222222222222222,
              "#7201a8"
             ],
             [
              0.3333333333333333,
              "#9c179e"
             ],
             [
              0.4444444444444444,
              "#bd3786"
             ],
             [
              0.5555555555555556,
              "#d8576b"
             ],
             [
              0.6666666666666666,
              "#ed7953"
             ],
             [
              0.7777777777777778,
              "#fb9f3a"
             ],
             [
              0.8888888888888888,
              "#fdca26"
             ],
             [
              1,
              "#f0f921"
             ]
            ],
            "type": "contour"
           }
          ],
          "contourcarpet": [
           {
            "colorbar": {
             "outlinewidth": 0,
             "ticks": ""
            },
            "type": "contourcarpet"
           }
          ],
          "heatmap": [
           {
            "colorbar": {
             "outlinewidth": 0,
             "ticks": ""
            },
            "colorscale": [
             [
              0,
              "#0d0887"
             ],
             [
              0.1111111111111111,
              "#46039f"
             ],
             [
              0.2222222222222222,
              "#7201a8"
             ],
             [
              0.3333333333333333,
              "#9c179e"
             ],
             [
              0.4444444444444444,
              "#bd3786"
             ],
             [
              0.5555555555555556,
              "#d8576b"
             ],
             [
              0.6666666666666666,
              "#ed7953"
             ],
             [
              0.7777777777777778,
              "#fb9f3a"
             ],
             [
              0.8888888888888888,
              "#fdca26"
             ],
             [
              1,
              "#f0f921"
             ]
            ],
            "type": "heatmap"
           }
          ],
          "heatmapgl": [
           {
            "colorbar": {
             "outlinewidth": 0,
             "ticks": ""
            },
            "colorscale": [
             [
              0,
              "#0d0887"
             ],
             [
              0.1111111111111111,
              "#46039f"
             ],
             [
              0.2222222222222222,
              "#7201a8"
             ],
             [
              0.3333333333333333,
              "#9c179e"
             ],
             [
              0.4444444444444444,
              "#bd3786"
             ],
             [
              0.5555555555555556,
              "#d8576b"
             ],
             [
              0.6666666666666666,
              "#ed7953"
             ],
             [
              0.7777777777777778,
              "#fb9f3a"
             ],
             [
              0.8888888888888888,
              "#fdca26"
             ],
             [
              1,
              "#f0f921"
             ]
            ],
            "type": "heatmapgl"
           }
          ],
          "histogram": [
           {
            "marker": {
             "pattern": {
              "fillmode": "overlay",
              "size": 10,
              "solidity": 0.2
             }
            },
            "type": "histogram"
           }
          ],
          "histogram2d": [
           {
            "colorbar": {
             "outlinewidth": 0,
             "ticks": ""
            },
            "colorscale": [
             [
              0,
              "#0d0887"
             ],
             [
              0.1111111111111111,
              "#46039f"
             ],
             [
              0.2222222222222222,
              "#7201a8"
             ],
             [
              0.3333333333333333,
              "#9c179e"
             ],
             [
              0.4444444444444444,
              "#bd3786"
             ],
             [
              0.5555555555555556,
              "#d8576b"
             ],
             [
              0.6666666666666666,
              "#ed7953"
             ],
             [
              0.7777777777777778,
              "#fb9f3a"
             ],
             [
              0.8888888888888888,
              "#fdca26"
             ],
             [
              1,
              "#f0f921"
             ]
            ],
            "type": "histogram2d"
           }
          ],
          "histogram2dcontour": [
           {
            "colorbar": {
             "outlinewidth": 0,
             "ticks": ""
            },
            "colorscale": [
             [
              0,
              "#0d0887"
             ],
             [
              0.1111111111111111,
              "#46039f"
             ],
             [
              0.2222222222222222,
              "#7201a8"
             ],
             [
              0.3333333333333333,
              "#9c179e"
             ],
             [
              0.4444444444444444,
              "#bd3786"
             ],
             [
              0.5555555555555556,
              "#d8576b"
             ],
             [
              0.6666666666666666,
              "#ed7953"
             ],
             [
              0.7777777777777778,
              "#fb9f3a"
             ],
             [
              0.8888888888888888,
              "#fdca26"
             ],
             [
              1,
              "#f0f921"
             ]
            ],
            "type": "histogram2dcontour"
           }
          ],
          "mesh3d": [
           {
            "colorbar": {
             "outlinewidth": 0,
             "ticks": ""
            },
            "type": "mesh3d"
           }
          ],
          "parcoords": [
           {
            "line": {
             "colorbar": {
              "outlinewidth": 0,
              "ticks": ""
             }
            },
            "type": "parcoords"
           }
          ],
          "pie": [
           {
            "automargin": true,
            "type": "pie"
           }
          ],
          "scatter": [
           {
            "fillpattern": {
             "fillmode": "overlay",
             "size": 10,
             "solidity": 0.2
            },
            "type": "scatter"
           }
          ],
          "scatter3d": [
           {
            "line": {
             "colorbar": {
              "outlinewidth": 0,
              "ticks": ""
             }
            },
            "marker": {
             "colorbar": {
              "outlinewidth": 0,
              "ticks": ""
             }
            },
            "type": "scatter3d"
           }
          ],
          "scattercarpet": [
           {
            "marker": {
             "colorbar": {
              "outlinewidth": 0,
              "ticks": ""
             }
            },
            "type": "scattercarpet"
           }
          ],
          "scattergeo": [
           {
            "marker": {
             "colorbar": {
              "outlinewidth": 0,
              "ticks": ""
             }
            },
            "type": "scattergeo"
           }
          ],
          "scattergl": [
           {
            "marker": {
             "colorbar": {
              "outlinewidth": 0,
              "ticks": ""
             }
            },
            "type": "scattergl"
           }
          ],
          "scattermapbox": [
           {
            "marker": {
             "colorbar": {
              "outlinewidth": 0,
              "ticks": ""
             }
            },
            "type": "scattermapbox"
           }
          ],
          "scatterpolar": [
           {
            "marker": {
             "colorbar": {
              "outlinewidth": 0,
              "ticks": ""
             }
            },
            "type": "scatterpolar"
           }
          ],
          "scatterpolargl": [
           {
            "marker": {
             "colorbar": {
              "outlinewidth": 0,
              "ticks": ""
             }
            },
            "type": "scatterpolargl"
           }
          ],
          "scatterternary": [
           {
            "marker": {
             "colorbar": {
              "outlinewidth": 0,
              "ticks": ""
             }
            },
            "type": "scatterternary"
           }
          ],
          "surface": [
           {
            "colorbar": {
             "outlinewidth": 0,
             "ticks": ""
            },
            "colorscale": [
             [
              0,
              "#0d0887"
             ],
             [
              0.1111111111111111,
              "#46039f"
             ],
             [
              0.2222222222222222,
              "#7201a8"
             ],
             [
              0.3333333333333333,
              "#9c179e"
             ],
             [
              0.4444444444444444,
              "#bd3786"
             ],
             [
              0.5555555555555556,
              "#d8576b"
             ],
             [
              0.6666666666666666,
              "#ed7953"
             ],
             [
              0.7777777777777778,
              "#fb9f3a"
             ],
             [
              0.8888888888888888,
              "#fdca26"
             ],
             [
              1,
              "#f0f921"
             ]
            ],
            "type": "surface"
           }
          ],
          "table": [
           {
            "cells": {
             "fill": {
              "color": "#EBF0F8"
             },
             "line": {
              "color": "white"
             }
            },
            "header": {
             "fill": {
              "color": "#C8D4E3"
             },
             "line": {
              "color": "white"
             }
            },
            "type": "table"
           }
          ]
         },
         "layout": {
          "annotationdefaults": {
           "arrowcolor": "#2a3f5f",
           "arrowhead": 0,
           "arrowwidth": 1
          },
          "autotypenumbers": "strict",
          "coloraxis": {
           "colorbar": {
            "outlinewidth": 0,
            "ticks": ""
           }
          },
          "colorscale": {
           "diverging": [
            [
             0,
             "#8e0152"
            ],
            [
             0.1,
             "#c51b7d"
            ],
            [
             0.2,
             "#de77ae"
            ],
            [
             0.3,
             "#f1b6da"
            ],
            [
             0.4,
             "#fde0ef"
            ],
            [
             0.5,
             "#f7f7f7"
            ],
            [
             0.6,
             "#e6f5d0"
            ],
            [
             0.7,
             "#b8e186"
            ],
            [
             0.8,
             "#7fbc41"
            ],
            [
             0.9,
             "#4d9221"
            ],
            [
             1,
             "#276419"
            ]
           ],
           "sequential": [
            [
             0,
             "#0d0887"
            ],
            [
             0.1111111111111111,
             "#46039f"
            ],
            [
             0.2222222222222222,
             "#7201a8"
            ],
            [
             0.3333333333333333,
             "#9c179e"
            ],
            [
             0.4444444444444444,
             "#bd3786"
            ],
            [
             0.5555555555555556,
             "#d8576b"
            ],
            [
             0.6666666666666666,
             "#ed7953"
            ],
            [
             0.7777777777777778,
             "#fb9f3a"
            ],
            [
             0.8888888888888888,
             "#fdca26"
            ],
            [
             1,
             "#f0f921"
            ]
           ],
           "sequentialminus": [
            [
             0,
             "#0d0887"
            ],
            [
             0.1111111111111111,
             "#46039f"
            ],
            [
             0.2222222222222222,
             "#7201a8"
            ],
            [
             0.3333333333333333,
             "#9c179e"
            ],
            [
             0.4444444444444444,
             "#bd3786"
            ],
            [
             0.5555555555555556,
             "#d8576b"
            ],
            [
             0.6666666666666666,
             "#ed7953"
            ],
            [
             0.7777777777777778,
             "#fb9f3a"
            ],
            [
             0.8888888888888888,
             "#fdca26"
            ],
            [
             1,
             "#f0f921"
            ]
           ]
          },
          "colorway": [
           "#636efa",
           "#EF553B",
           "#00cc96",
           "#ab63fa",
           "#FFA15A",
           "#19d3f3",
           "#FF6692",
           "#B6E880",
           "#FF97FF",
           "#FECB52"
          ],
          "font": {
           "color": "#2a3f5f"
          },
          "geo": {
           "bgcolor": "white",
           "lakecolor": "white",
           "landcolor": "#E5ECF6",
           "showlakes": true,
           "showland": true,
           "subunitcolor": "white"
          },
          "hoverlabel": {
           "align": "left"
          },
          "hovermode": "closest",
          "mapbox": {
           "style": "light"
          },
          "paper_bgcolor": "white",
          "plot_bgcolor": "#E5ECF6",
          "polar": {
           "angularaxis": {
            "gridcolor": "white",
            "linecolor": "white",
            "ticks": ""
           },
           "bgcolor": "#E5ECF6",
           "radialaxis": {
            "gridcolor": "white",
            "linecolor": "white",
            "ticks": ""
           }
          },
          "scene": {
           "xaxis": {
            "backgroundcolor": "#E5ECF6",
            "gridcolor": "white",
            "gridwidth": 2,
            "linecolor": "white",
            "showbackground": true,
            "ticks": "",
            "zerolinecolor": "white"
           },
           "yaxis": {
            "backgroundcolor": "#E5ECF6",
            "gridcolor": "white",
            "gridwidth": 2,
            "linecolor": "white",
            "showbackground": true,
            "ticks": "",
            "zerolinecolor": "white"
           },
           "zaxis": {
            "backgroundcolor": "#E5ECF6",
            "gridcolor": "white",
            "gridwidth": 2,
            "linecolor": "white",
            "showbackground": true,
            "ticks": "",
            "zerolinecolor": "white"
           }
          },
          "shapedefaults": {
           "line": {
            "color": "#2a3f5f"
           }
          },
          "ternary": {
           "aaxis": {
            "gridcolor": "white",
            "linecolor": "white",
            "ticks": ""
           },
           "baxis": {
            "gridcolor": "white",
            "linecolor": "white",
            "ticks": ""
           },
           "bgcolor": "#E5ECF6",
           "caxis": {
            "gridcolor": "white",
            "linecolor": "white",
            "ticks": ""
           }
          },
          "title": {
           "x": 0.05
          },
          "xaxis": {
           "automargin": true,
           "gridcolor": "white",
           "linecolor": "white",
           "ticks": "",
           "title": {
            "standoff": 15
           },
           "zerolinecolor": "white",
           "zerolinewidth": 2
          },
          "yaxis": {
           "automargin": true,
           "gridcolor": "white",
           "linecolor": "white",
           "ticks": "",
           "title": {
            "standoff": 15
           },
           "zerolinecolor": "white",
           "zerolinewidth": 2
          }
         }
        },
        "xaxis": {
         "anchor": "y",
         "domain": [
          0,
          1
         ],
         "title": {
          "text": "value"
         }
        },
        "yaxis": {
         "anchor": "x",
         "domain": [
          0,
          1
         ],
         "title": {
          "text": "count"
         }
        }
       }
      }
     },
     "metadata": {},
     "output_type": "display_data"
    }
   ],
   "source": [
    "px.histogram(ind_diff)"
   ]
  },
  {
   "cell_type": "code",
   "execution_count": 8,
   "metadata": {},
   "outputs": [
    {
     "data": {
      "application/vnd.plotly.v1+json": {
       "config": {
        "plotlyServerURL": "https://plot.ly"
       },
       "data": [
        {
         "mode": "markers",
         "type": "scatter",
         "x": [
          -1.9983376793275958,
          -1.5945255337722446,
          -1.351036683971554,
          -1.1686392999985924,
          -1.018554967082019,
          -0.8884856002610938,
          -0.7719485449466916,
          -0.6650629838276675,
          -0.5652914921546426,
          -0.4708598518787342,
          -0.380457113851787,
          -0.2930663577816485,
          -0.20786197991189398,
          -0.12414301334911515,
          -0.04128668572275918,
          0.04128668572275918,
          0.12414301334911529,
          0.20786197991189398,
          0.2930663577816488,
          0.3804571138517872,
          0.4708598518787343,
          0.5652914921546429,
          0.6650629838276678,
          0.7719485449466921,
          0.8884856002610938,
          1.0185549670820198,
          1.1686392999985924,
          1.3510366839715544,
          1.594525533772246,
          1.9983376793275958
         ],
         "y": [
          -501,
          -365,
          -304,
          -258,
          -245,
          -224,
          -200,
          -144,
          -139,
          -138,
          -128,
          -127,
          -107,
          -93,
          -89,
          -79,
          -38,
          -21,
          -4,
          -2,
          0,
          0,
          0,
          12,
          17,
          82,
          141,
          143,
          230,
          262
         ]
        },
        {
         "mode": "lines",
         "type": "scatter",
         "x": [
          -1.9983376793275958,
          1.9983376793275958
         ],
         "y": [
          -419.8996860573537,
          265.29968605735365
         ]
        }
       ],
       "layout": {
        "showlegend": false,
        "template": {
         "data": {
          "bar": [
           {
            "error_x": {
             "color": "#2a3f5f"
            },
            "error_y": {
             "color": "#2a3f5f"
            },
            "marker": {
             "line": {
              "color": "#E5ECF6",
              "width": 0.5
             },
             "pattern": {
              "fillmode": "overlay",
              "size": 10,
              "solidity": 0.2
             }
            },
            "type": "bar"
           }
          ],
          "barpolar": [
           {
            "marker": {
             "line": {
              "color": "#E5ECF6",
              "width": 0.5
             },
             "pattern": {
              "fillmode": "overlay",
              "size": 10,
              "solidity": 0.2
             }
            },
            "type": "barpolar"
           }
          ],
          "carpet": [
           {
            "aaxis": {
             "endlinecolor": "#2a3f5f",
             "gridcolor": "white",
             "linecolor": "white",
             "minorgridcolor": "white",
             "startlinecolor": "#2a3f5f"
            },
            "baxis": {
             "endlinecolor": "#2a3f5f",
             "gridcolor": "white",
             "linecolor": "white",
             "minorgridcolor": "white",
             "startlinecolor": "#2a3f5f"
            },
            "type": "carpet"
           }
          ],
          "choropleth": [
           {
            "colorbar": {
             "outlinewidth": 0,
             "ticks": ""
            },
            "type": "choropleth"
           }
          ],
          "contour": [
           {
            "colorbar": {
             "outlinewidth": 0,
             "ticks": ""
            },
            "colorscale": [
             [
              0,
              "#0d0887"
             ],
             [
              0.1111111111111111,
              "#46039f"
             ],
             [
              0.2222222222222222,
              "#7201a8"
             ],
             [
              0.3333333333333333,
              "#9c179e"
             ],
             [
              0.4444444444444444,
              "#bd3786"
             ],
             [
              0.5555555555555556,
              "#d8576b"
             ],
             [
              0.6666666666666666,
              "#ed7953"
             ],
             [
              0.7777777777777778,
              "#fb9f3a"
             ],
             [
              0.8888888888888888,
              "#fdca26"
             ],
             [
              1,
              "#f0f921"
             ]
            ],
            "type": "contour"
           }
          ],
          "contourcarpet": [
           {
            "colorbar": {
             "outlinewidth": 0,
             "ticks": ""
            },
            "type": "contourcarpet"
           }
          ],
          "heatmap": [
           {
            "colorbar": {
             "outlinewidth": 0,
             "ticks": ""
            },
            "colorscale": [
             [
              0,
              "#0d0887"
             ],
             [
              0.1111111111111111,
              "#46039f"
             ],
             [
              0.2222222222222222,
              "#7201a8"
             ],
             [
              0.3333333333333333,
              "#9c179e"
             ],
             [
              0.4444444444444444,
              "#bd3786"
             ],
             [
              0.5555555555555556,
              "#d8576b"
             ],
             [
              0.6666666666666666,
              "#ed7953"
             ],
             [
              0.7777777777777778,
              "#fb9f3a"
             ],
             [
              0.8888888888888888,
              "#fdca26"
             ],
             [
              1,
              "#f0f921"
             ]
            ],
            "type": "heatmap"
           }
          ],
          "heatmapgl": [
           {
            "colorbar": {
             "outlinewidth": 0,
             "ticks": ""
            },
            "colorscale": [
             [
              0,
              "#0d0887"
             ],
             [
              0.1111111111111111,
              "#46039f"
             ],
             [
              0.2222222222222222,
              "#7201a8"
             ],
             [
              0.3333333333333333,
              "#9c179e"
             ],
             [
              0.4444444444444444,
              "#bd3786"
             ],
             [
              0.5555555555555556,
              "#d8576b"
             ],
             [
              0.6666666666666666,
              "#ed7953"
             ],
             [
              0.7777777777777778,
              "#fb9f3a"
             ],
             [
              0.8888888888888888,
              "#fdca26"
             ],
             [
              1,
              "#f0f921"
             ]
            ],
            "type": "heatmapgl"
           }
          ],
          "histogram": [
           {
            "marker": {
             "pattern": {
              "fillmode": "overlay",
              "size": 10,
              "solidity": 0.2
             }
            },
            "type": "histogram"
           }
          ],
          "histogram2d": [
           {
            "colorbar": {
             "outlinewidth": 0,
             "ticks": ""
            },
            "colorscale": [
             [
              0,
              "#0d0887"
             ],
             [
              0.1111111111111111,
              "#46039f"
             ],
             [
              0.2222222222222222,
              "#7201a8"
             ],
             [
              0.3333333333333333,
              "#9c179e"
             ],
             [
              0.4444444444444444,
              "#bd3786"
             ],
             [
              0.5555555555555556,
              "#d8576b"
             ],
             [
              0.6666666666666666,
              "#ed7953"
             ],
             [
              0.7777777777777778,
              "#fb9f3a"
             ],
             [
              0.8888888888888888,
              "#fdca26"
             ],
             [
              1,
              "#f0f921"
             ]
            ],
            "type": "histogram2d"
           }
          ],
          "histogram2dcontour": [
           {
            "colorbar": {
             "outlinewidth": 0,
             "ticks": ""
            },
            "colorscale": [
             [
              0,
              "#0d0887"
             ],
             [
              0.1111111111111111,
              "#46039f"
             ],
             [
              0.2222222222222222,
              "#7201a8"
             ],
             [
              0.3333333333333333,
              "#9c179e"
             ],
             [
              0.4444444444444444,
              "#bd3786"
             ],
             [
              0.5555555555555556,
              "#d8576b"
             ],
             [
              0.6666666666666666,
              "#ed7953"
             ],
             [
              0.7777777777777778,
              "#fb9f3a"
             ],
             [
              0.8888888888888888,
              "#fdca26"
             ],
             [
              1,
              "#f0f921"
             ]
            ],
            "type": "histogram2dcontour"
           }
          ],
          "mesh3d": [
           {
            "colorbar": {
             "outlinewidth": 0,
             "ticks": ""
            },
            "type": "mesh3d"
           }
          ],
          "parcoords": [
           {
            "line": {
             "colorbar": {
              "outlinewidth": 0,
              "ticks": ""
             }
            },
            "type": "parcoords"
           }
          ],
          "pie": [
           {
            "automargin": true,
            "type": "pie"
           }
          ],
          "scatter": [
           {
            "fillpattern": {
             "fillmode": "overlay",
             "size": 10,
             "solidity": 0.2
            },
            "type": "scatter"
           }
          ],
          "scatter3d": [
           {
            "line": {
             "colorbar": {
              "outlinewidth": 0,
              "ticks": ""
             }
            },
            "marker": {
             "colorbar": {
              "outlinewidth": 0,
              "ticks": ""
             }
            },
            "type": "scatter3d"
           }
          ],
          "scattercarpet": [
           {
            "marker": {
             "colorbar": {
              "outlinewidth": 0,
              "ticks": ""
             }
            },
            "type": "scattercarpet"
           }
          ],
          "scattergeo": [
           {
            "marker": {
             "colorbar": {
              "outlinewidth": 0,
              "ticks": ""
             }
            },
            "type": "scattergeo"
           }
          ],
          "scattergl": [
           {
            "marker": {
             "colorbar": {
              "outlinewidth": 0,
              "ticks": ""
             }
            },
            "type": "scattergl"
           }
          ],
          "scattermapbox": [
           {
            "marker": {
             "colorbar": {
              "outlinewidth": 0,
              "ticks": ""
             }
            },
            "type": "scattermapbox"
           }
          ],
          "scatterpolar": [
           {
            "marker": {
             "colorbar": {
              "outlinewidth": 0,
              "ticks": ""
             }
            },
            "type": "scatterpolar"
           }
          ],
          "scatterpolargl": [
           {
            "marker": {
             "colorbar": {
              "outlinewidth": 0,
              "ticks": ""
             }
            },
            "type": "scatterpolargl"
           }
          ],
          "scatterternary": [
           {
            "marker": {
             "colorbar": {
              "outlinewidth": 0,
              "ticks": ""
             }
            },
            "type": "scatterternary"
           }
          ],
          "surface": [
           {
            "colorbar": {
             "outlinewidth": 0,
             "ticks": ""
            },
            "colorscale": [
             [
              0,
              "#0d0887"
             ],
             [
              0.1111111111111111,
              "#46039f"
             ],
             [
              0.2222222222222222,
              "#7201a8"
             ],
             [
              0.3333333333333333,
              "#9c179e"
             ],
             [
              0.4444444444444444,
              "#bd3786"
             ],
             [
              0.5555555555555556,
              "#d8576b"
             ],
             [
              0.6666666666666666,
              "#ed7953"
             ],
             [
              0.7777777777777778,
              "#fb9f3a"
             ],
             [
              0.8888888888888888,
              "#fdca26"
             ],
             [
              1,
              "#f0f921"
             ]
            ],
            "type": "surface"
           }
          ],
          "table": [
           {
            "cells": {
             "fill": {
              "color": "#EBF0F8"
             },
             "line": {
              "color": "white"
             }
            },
            "header": {
             "fill": {
              "color": "#C8D4E3"
             },
             "line": {
              "color": "white"
             }
            },
            "type": "table"
           }
          ]
         },
         "layout": {
          "annotationdefaults": {
           "arrowcolor": "#2a3f5f",
           "arrowhead": 0,
           "arrowwidth": 1
          },
          "autotypenumbers": "strict",
          "coloraxis": {
           "colorbar": {
            "outlinewidth": 0,
            "ticks": ""
           }
          },
          "colorscale": {
           "diverging": [
            [
             0,
             "#8e0152"
            ],
            [
             0.1,
             "#c51b7d"
            ],
            [
             0.2,
             "#de77ae"
            ],
            [
             0.3,
             "#f1b6da"
            ],
            [
             0.4,
             "#fde0ef"
            ],
            [
             0.5,
             "#f7f7f7"
            ],
            [
             0.6,
             "#e6f5d0"
            ],
            [
             0.7,
             "#b8e186"
            ],
            [
             0.8,
             "#7fbc41"
            ],
            [
             0.9,
             "#4d9221"
            ],
            [
             1,
             "#276419"
            ]
           ],
           "sequential": [
            [
             0,
             "#0d0887"
            ],
            [
             0.1111111111111111,
             "#46039f"
            ],
            [
             0.2222222222222222,
             "#7201a8"
            ],
            [
             0.3333333333333333,
             "#9c179e"
            ],
            [
             0.4444444444444444,
             "#bd3786"
            ],
            [
             0.5555555555555556,
             "#d8576b"
            ],
            [
             0.6666666666666666,
             "#ed7953"
            ],
            [
             0.7777777777777778,
             "#fb9f3a"
            ],
            [
             0.8888888888888888,
             "#fdca26"
            ],
            [
             1,
             "#f0f921"
            ]
           ],
           "sequentialminus": [
            [
             0,
             "#0d0887"
            ],
            [
             0.1111111111111111,
             "#46039f"
            ],
            [
             0.2222222222222222,
             "#7201a8"
            ],
            [
             0.3333333333333333,
             "#9c179e"
            ],
            [
             0.4444444444444444,
             "#bd3786"
            ],
            [
             0.5555555555555556,
             "#d8576b"
            ],
            [
             0.6666666666666666,
             "#ed7953"
            ],
            [
             0.7777777777777778,
             "#fb9f3a"
            ],
            [
             0.8888888888888888,
             "#fdca26"
            ],
            [
             1,
             "#f0f921"
            ]
           ]
          },
          "colorway": [
           "#636efa",
           "#EF553B",
           "#00cc96",
           "#ab63fa",
           "#FFA15A",
           "#19d3f3",
           "#FF6692",
           "#B6E880",
           "#FF97FF",
           "#FECB52"
          ],
          "font": {
           "color": "#2a3f5f"
          },
          "geo": {
           "bgcolor": "white",
           "lakecolor": "white",
           "landcolor": "#E5ECF6",
           "showlakes": true,
           "showland": true,
           "subunitcolor": "white"
          },
          "hoverlabel": {
           "align": "left"
          },
          "hovermode": "closest",
          "mapbox": {
           "style": "light"
          },
          "paper_bgcolor": "white",
          "plot_bgcolor": "#E5ECF6",
          "polar": {
           "angularaxis": {
            "gridcolor": "white",
            "linecolor": "white",
            "ticks": ""
           },
           "bgcolor": "#E5ECF6",
           "radialaxis": {
            "gridcolor": "white",
            "linecolor": "white",
            "ticks": ""
           }
          },
          "scene": {
           "xaxis": {
            "backgroundcolor": "#E5ECF6",
            "gridcolor": "white",
            "gridwidth": 2,
            "linecolor": "white",
            "showbackground": true,
            "ticks": "",
            "zerolinecolor": "white"
           },
           "yaxis": {
            "backgroundcolor": "#E5ECF6",
            "gridcolor": "white",
            "gridwidth": 2,
            "linecolor": "white",
            "showbackground": true,
            "ticks": "",
            "zerolinecolor": "white"
           },
           "zaxis": {
            "backgroundcolor": "#E5ECF6",
            "gridcolor": "white",
            "gridwidth": 2,
            "linecolor": "white",
            "showbackground": true,
            "ticks": "",
            "zerolinecolor": "white"
           }
          },
          "shapedefaults": {
           "line": {
            "color": "#2a3f5f"
           }
          },
          "ternary": {
           "aaxis": {
            "gridcolor": "white",
            "linecolor": "white",
            "ticks": ""
           },
           "baxis": {
            "gridcolor": "white",
            "linecolor": "white",
            "ticks": ""
           },
           "bgcolor": "#E5ECF6",
           "caxis": {
            "gridcolor": "white",
            "linecolor": "white",
            "ticks": ""
           }
          },
          "title": {
           "x": 0.05
          },
          "xaxis": {
           "automargin": true,
           "gridcolor": "white",
           "linecolor": "white",
           "ticks": "",
           "title": {
            "standoff": 15
           },
           "zerolinecolor": "white",
           "zerolinewidth": 2
          },
          "yaxis": {
           "automargin": true,
           "gridcolor": "white",
           "linecolor": "white",
           "ticks": "",
           "title": {
            "standoff": 15
           },
           "zerolinecolor": "white",
           "zerolinewidth": 2
          }
         }
        }
       }
      }
     },
     "metadata": {},
     "output_type": "display_data"
    }
   ],
   "source": [
    "import numpy as np\n",
    "import plotly.graph_objects as go\n",
    "\n",
    "# CONVERTIR TODO ESTO EN UN MÉTODO!!!\n",
    "\n",
    "qq = stats.probplot(ind_diff, dist='norm')\n",
    "\n",
    "x = np.array([qq[0][0][0], qq[0][0][-1]])\n",
    "fig = go.Figure()\n",
    "fig.add_scatter(x=qq[0][0], y=qq[0][1], mode='markers')\n",
    "fig.add_scatter(x=x, y=qq[1][1] + qq[1][0]*x, mode='lines')\n",
    "fig.layout.update(showlegend=False)\n",
    "fig.show()\n"
   ]
  },
  {
   "attachments": {},
   "cell_type": "markdown",
   "metadata": {},
   "source": [
    "###"
   ]
  },
  {
   "attachments": {},
   "cell_type": "markdown",
   "metadata": {},
   "source": [
    "También hacemos tests para ver si siguen distribución normal. En ambos casos, la hipótesis nula es que siguen normal distribution. \n",
    "- En Shapiro test, el p-value es mayor que 0.05, -> _NO_ se rechaza la hipótesis nula -> los datos son normales\n",
    "- En Anderson test, el p-value no es mayor que ninguno de los critical-values, -> NO se rechaza la hipótesis nula\n",
    "\n",
    "(repasar Anderson test)^"
   ]
  },
  {
   "cell_type": "code",
   "execution_count": 9,
   "metadata": {},
   "outputs": [
    {
     "name": "stdout",
     "output_type": "stream",
     "text": [
      "ShapiroResult(statistic=0.9788524508476257, pvalue=0.7942844033241272)\n",
      "AndersonResult(statistic=0.3069887322460474, critical_values=array([0.521, 0.593, 0.712, 0.83 , 0.988]), significance_level=array([15. , 10. ,  5. ,  2.5,  1. ]))\n"
     ]
    }
   ],
   "source": [
    "print(stats.shapiro(ind_diff))\n",
    "print(stats.anderson(ind_diff))\n"
   ]
  },
  {
   "attachments": {},
   "cell_type": "markdown",
   "metadata": {},
   "source": [
    "### Equality of variances\n",
    "Ttests have the assumption of equality of variances. If variances are not equal, should perform another test. In Bartlett's test, $H_0: \\sigma^2_1 = \\sigma^2_2 = ... = \\sigma^2_n$. In this example, as pvalue > 0.05, we don't reject $H_0$. Therefore, we conduct a standard t-test instead of a Welch's t-test."
   ]
  },
  {
   "cell_type": "code",
   "execution_count": 20,
   "metadata": {},
   "outputs": [
    {
     "data": {
      "text/plain": [
       "BartlettResult(statistic=1.827411247734494, pvalue=0.1764336222524635)"
      ]
     },
     "execution_count": 20,
     "metadata": {},
     "output_type": "execute_result"
    }
   ],
   "source": [
    "bartlett = stats.bartlett(jaw_pre['Ludic'], jaw_game['Ludic'])\n",
    "bartlett"
   ]
  },
  {
   "cell_type": "code",
   "execution_count": 27,
   "metadata": {},
   "outputs": [
    {
     "data": {
      "text/plain": [
       "0.037994047349158074"
      ]
     },
     "execution_count": 27,
     "metadata": {},
     "output_type": "execute_result"
    }
   ],
   "source": [
    "stats.ttest_ind(jaw_pre['Ludic'], jaw_game['Ludic'], equal_var=False).pvalue"
   ]
  },
  {
   "cell_type": "code",
   "execution_count": 4,
   "metadata": {},
   "outputs": [
    {
     "data": {
      "text/plain": [
       "list"
      ]
     },
     "execution_count": 4,
     "metadata": {},
     "output_type": "execute_result"
    }
   ],
   "source": [
    "import yaml\n",
    "with open('config.yaml', 'r') as f:\n",
    "    config = yaml.load(f, Loader=yaml.FullLoader)\n",
    "type(config['DATASET']['subjects'])"
   ]
  },
  {
   "cell_type": "code",
   "execution_count": 5,
   "metadata": {},
   "outputs": [],
   "source": [
    "config['DATASET']['subjects'].append('All')"
   ]
  },
  {
   "cell_type": "code",
   "execution_count": 6,
   "metadata": {},
   "outputs": [
    {
     "data": {
      "text/plain": [
       "['Popo', 'Hadia', 'Karl', 'Locky', 'Storma', 'Jawie', 'All']"
      ]
     },
     "execution_count": 6,
     "metadata": {},
     "output_type": "execute_result"
    }
   ],
   "source": [
    "config['DATASET']['subjects']"
   ]
  },
  {
   "attachments": {},
   "cell_type": "markdown",
   "metadata": {},
   "source": [
    "### T-test vs paired t-test"
   ]
  },
  {
   "cell_type": "code",
   "execution_count": 60,
   "metadata": {},
   "outputs": [],
   "source": [
    "import pandas as pd\n",
    "import queries\n",
    "import scipy.stats as stats\n",
    "from data_manager import unstack_behaviors\n",
    "\n",
    "\n",
    "\n",
    "def ttests(df):\n",
    "    unstacked = unstack_behaviors(df)\n",
    "    unstacked.sort_values(by='subject', inplace=True)\n",
    "    results = {}\n",
    "    for sub in unstacked.subject.unique():\n",
    "        for bhv in df['macro_bhv'].unique():\n",
    "            ttest = single_ttest(sub, unstacked, bhv, 'pregame', 'game')\n",
    "            paired = paired_ttest(sub, unstacked, bhv, 'pregame', 'game')\n",
    "            results[(bhv, 'ttest')] = results.get((bhv, 'ttest'), [])\n",
    "            results[(bhv, 'ttest')].append(ttest)\n",
    "            results[(bhv, 'paired')] = results.get((bhv, 'paired'), [])\n",
    "            results[(bhv, 'paired')].append(paired)\n",
    "    return pd.DataFrame(results, index=unstacked.subject.unique())\n",
    "    \n",
    "    \n",
    "          \n",
    "def single_ttest(subject, df, behavior, periodA, periodB):\n",
    "    \"\"\"Returns ttest values to see if means of behavior between periodA and periodB are different\"\"\"\n",
    "    A_data = queries.filter_subject_period(df, subject, periodA) \\\n",
    "                    .reset_index()[behavior]\n",
    "    B_data = queries.filter_subject_period(df, subject, periodB) \\\n",
    "                    .reset_index()[behavior]\n",
    " \n",
    "    if len(A_data) < 30:\n",
    "        pd.concat([A_data, pd.Series(0, index=[30])])\n",
    "    if len(B_data) < 30:\n",
    "        pd.concat([B_data, pd.Series(0, index=[30])])\n",
    "    equal_var = stats.bartlett(A_data, B_data).pvalue > 0.05\n",
    "    ttest = stats.ttest_ind(A_data,B_data, equal_var=equal_var)\n",
    "\n",
    "    significative = ttest.pvalue < 0.05\n",
    "    signif_string = 'is' if significative else 'is not' \n",
    "    return ttest.pvalue\n",
    "\n",
    "def paired_ttest(subject, df, behavior, periodA, periodB):\n",
    "    \"\"\"Returns ttest values to see if means of behavior between periodA and periodB are different\"\"\"\n",
    "    A_data = queries.filter_subject_period(df, subject, periodA) \\\n",
    "                    .reset_index()[behavior]\n",
    "    B_data = queries.filter_subject_period(df, subject, periodB) \\\n",
    "                    .reset_index()[behavior]\n",
    "    if len(A_data) < 30:\n",
    "        A_data = pd.concat([A_data, pd.Series(0, index=[30])])\n",
    "    if len(B_data) < 30:\n",
    "        B_data = pd.concat([B_data, pd.Series(0, index=[30])])\n",
    "    equal_var = stats.bartlett(A_data, B_data).pvalue > 0.05\n",
    "    ttest = stats.ttest_rel(A_data,B_data)\n",
    "\n",
    "    significative = ttest.pvalue < 0.05\n",
    "    signif_string = 'is' if significative else 'is not' \n",
    "    return ttest.pvalue\n"
   ]
  },
  {
   "cell_type": "code",
   "execution_count": 61,
   "metadata": {},
   "outputs": [
    {
     "name": "stdout",
     "output_type": "stream",
     "text": [
      "Hadia Individual\n",
      "Hadia Social\n",
      "Hadia Social-Ludic\n",
      "Hadia Ludic\n",
      "Hadia Public\n",
      "Hadia Agonistic\n",
      "Hadia Sexual\n",
      "Jawie Individual\n",
      "Jawie Social\n",
      "Jawie Social-Ludic\n",
      "Jawie Ludic\n",
      "Jawie Public\n",
      "Jawie Agonistic\n",
      "Jawie Sexual\n",
      "Karl Individual\n",
      "Karl Social\n",
      "Karl Social-Ludic\n",
      "Karl Ludic\n",
      "Karl Public\n",
      "Karl Agonistic\n",
      "Karl Sexual\n",
      "Locky Individual\n",
      "Locky Social\n",
      "Locky Social-Ludic\n",
      "Locky Ludic\n",
      "Locky Public\n",
      "Locky Agonistic\n",
      "Locky Sexual\n",
      "Popo Individual\n",
      "Popo Social\n",
      "Popo Social-Ludic\n",
      "Popo Ludic\n",
      "Popo Public\n",
      "Popo Agonistic\n",
      "Popo Sexual\n",
      "Storma Individual\n",
      "Storma Social\n",
      "Storma Social-Ludic\n",
      "Storma Ludic\n",
      "Storma Public\n",
      "Storma Agonistic\n",
      "Storma Sexual\n"
     ]
    },
    {
     "name": "stderr",
     "output_type": "stream",
     "text": [
      "/Users/wildbass/anaconda3/envs/ds/lib/python3.10/site-packages/scipy/stats/_morestats.py:2507: RuntimeWarning: divide by zero encountered in log\n",
      "  numer = (Ntot*1.0 - k) * log(spsq) - np.sum((Ni - 1.0)*log(ssq), axis=0)\n",
      "/Users/wildbass/anaconda3/envs/ds/lib/python3.10/site-packages/scipy/stats/_morestats.py:2507: RuntimeWarning: invalid value encountered in double_scalars\n",
      "  numer = (Ntot*1.0 - k) * log(spsq) - np.sum((Ni - 1.0)*log(ssq), axis=0)\n",
      "/Users/wildbass/anaconda3/envs/ds/lib/python3.10/site-packages/scipy/stats/_morestats.py:2507: RuntimeWarning: divide by zero encountered in log\n",
      "  numer = (Ntot*1.0 - k) * log(spsq) - np.sum((Ni - 1.0)*log(ssq), axis=0)\n",
      "/Users/wildbass/anaconda3/envs/ds/lib/python3.10/site-packages/scipy/stats/_morestats.py:2507: RuntimeWarning: invalid value encountered in double_scalars\n",
      "  numer = (Ntot*1.0 - k) * log(spsq) - np.sum((Ni - 1.0)*log(ssq), axis=0)\n",
      "/Users/wildbass/anaconda3/envs/ds/lib/python3.10/site-packages/scipy/stats/_morestats.py:2507: RuntimeWarning: divide by zero encountered in log\n",
      "  numer = (Ntot*1.0 - k) * log(spsq) - np.sum((Ni - 1.0)*log(ssq), axis=0)\n",
      "/Users/wildbass/anaconda3/envs/ds/lib/python3.10/site-packages/scipy/stats/_morestats.py:2507: RuntimeWarning: divide by zero encountered in log\n",
      "  numer = (Ntot*1.0 - k) * log(spsq) - np.sum((Ni - 1.0)*log(ssq), axis=0)\n",
      "/Users/wildbass/anaconda3/envs/ds/lib/python3.10/site-packages/scipy/stats/_morestats.py:2507: RuntimeWarning: divide by zero encountered in log\n",
      "  numer = (Ntot*1.0 - k) * log(spsq) - np.sum((Ni - 1.0)*log(ssq), axis=0)\n",
      "/Users/wildbass/anaconda3/envs/ds/lib/python3.10/site-packages/scipy/stats/_morestats.py:2507: RuntimeWarning: invalid value encountered in double_scalars\n",
      "  numer = (Ntot*1.0 - k) * log(spsq) - np.sum((Ni - 1.0)*log(ssq), axis=0)\n",
      "/Users/wildbass/anaconda3/envs/ds/lib/python3.10/site-packages/scipy/stats/_morestats.py:2507: RuntimeWarning: divide by zero encountered in log\n",
      "  numer = (Ntot*1.0 - k) * log(spsq) - np.sum((Ni - 1.0)*log(ssq), axis=0)\n",
      "/Users/wildbass/anaconda3/envs/ds/lib/python3.10/site-packages/scipy/stats/_morestats.py:2507: RuntimeWarning: invalid value encountered in double_scalars\n",
      "  numer = (Ntot*1.0 - k) * log(spsq) - np.sum((Ni - 1.0)*log(ssq), axis=0)\n",
      "/Users/wildbass/anaconda3/envs/ds/lib/python3.10/site-packages/scipy/stats/_morestats.py:2507: RuntimeWarning: divide by zero encountered in log\n",
      "  numer = (Ntot*1.0 - k) * log(spsq) - np.sum((Ni - 1.0)*log(ssq), axis=0)\n",
      "/Users/wildbass/anaconda3/envs/ds/lib/python3.10/site-packages/scipy/stats/_morestats.py:2507: RuntimeWarning: divide by zero encountered in log\n",
      "  numer = (Ntot*1.0 - k) * log(spsq) - np.sum((Ni - 1.0)*log(ssq), axis=0)\n",
      "/Users/wildbass/anaconda3/envs/ds/lib/python3.10/site-packages/scipy/stats/_morestats.py:2507: RuntimeWarning: divide by zero encountered in log\n",
      "  numer = (Ntot*1.0 - k) * log(spsq) - np.sum((Ni - 1.0)*log(ssq), axis=0)\n",
      "/Users/wildbass/anaconda3/envs/ds/lib/python3.10/site-packages/scipy/stats/_morestats.py:2507: RuntimeWarning: invalid value encountered in double_scalars\n",
      "  numer = (Ntot*1.0 - k) * log(spsq) - np.sum((Ni - 1.0)*log(ssq), axis=0)\n",
      "/Users/wildbass/anaconda3/envs/ds/lib/python3.10/site-packages/scipy/stats/_morestats.py:2507: RuntimeWarning: divide by zero encountered in log\n",
      "  numer = (Ntot*1.0 - k) * log(spsq) - np.sum((Ni - 1.0)*log(ssq), axis=0)\n",
      "/Users/wildbass/anaconda3/envs/ds/lib/python3.10/site-packages/scipy/stats/_morestats.py:2507: RuntimeWarning: invalid value encountered in double_scalars\n",
      "  numer = (Ntot*1.0 - k) * log(spsq) - np.sum((Ni - 1.0)*log(ssq), axis=0)\n",
      "/Users/wildbass/anaconda3/envs/ds/lib/python3.10/site-packages/scipy/stats/_morestats.py:2507: RuntimeWarning: divide by zero encountered in log\n",
      "  numer = (Ntot*1.0 - k) * log(spsq) - np.sum((Ni - 1.0)*log(ssq), axis=0)\n",
      "/Users/wildbass/anaconda3/envs/ds/lib/python3.10/site-packages/scipy/stats/_morestats.py:2507: RuntimeWarning: divide by zero encountered in log\n",
      "  numer = (Ntot*1.0 - k) * log(spsq) - np.sum((Ni - 1.0)*log(ssq), axis=0)\n",
      "/Users/wildbass/anaconda3/envs/ds/lib/python3.10/site-packages/scipy/stats/_morestats.py:2507: RuntimeWarning: divide by zero encountered in log\n",
      "  numer = (Ntot*1.0 - k) * log(spsq) - np.sum((Ni - 1.0)*log(ssq), axis=0)\n",
      "/Users/wildbass/anaconda3/envs/ds/lib/python3.10/site-packages/scipy/stats/_morestats.py:2507: RuntimeWarning: invalid value encountered in double_scalars\n",
      "  numer = (Ntot*1.0 - k) * log(spsq) - np.sum((Ni - 1.0)*log(ssq), axis=0)\n",
      "/Users/wildbass/anaconda3/envs/ds/lib/python3.10/site-packages/scipy/stats/_morestats.py:2507: RuntimeWarning: divide by zero encountered in log\n",
      "  numer = (Ntot*1.0 - k) * log(spsq) - np.sum((Ni - 1.0)*log(ssq), axis=0)\n",
      "/Users/wildbass/anaconda3/envs/ds/lib/python3.10/site-packages/scipy/stats/_morestats.py:2507: RuntimeWarning: invalid value encountered in double_scalars\n",
      "  numer = (Ntot*1.0 - k) * log(spsq) - np.sum((Ni - 1.0)*log(ssq), axis=0)\n",
      "/Users/wildbass/anaconda3/envs/ds/lib/python3.10/site-packages/scipy/stats/_morestats.py:2507: RuntimeWarning: divide by zero encountered in log\n",
      "  numer = (Ntot*1.0 - k) * log(spsq) - np.sum((Ni - 1.0)*log(ssq), axis=0)\n",
      "/Users/wildbass/anaconda3/envs/ds/lib/python3.10/site-packages/scipy/stats/_morestats.py:2507: RuntimeWarning: invalid value encountered in double_scalars\n",
      "  numer = (Ntot*1.0 - k) * log(spsq) - np.sum((Ni - 1.0)*log(ssq), axis=0)\n",
      "/Users/wildbass/anaconda3/envs/ds/lib/python3.10/site-packages/scipy/stats/_morestats.py:2507: RuntimeWarning: divide by zero encountered in log\n",
      "  numer = (Ntot*1.0 - k) * log(spsq) - np.sum((Ni - 1.0)*log(ssq), axis=0)\n",
      "/Users/wildbass/anaconda3/envs/ds/lib/python3.10/site-packages/scipy/stats/_morestats.py:2507: RuntimeWarning: invalid value encountered in double_scalars\n",
      "  numer = (Ntot*1.0 - k) * log(spsq) - np.sum((Ni - 1.0)*log(ssq), axis=0)\n",
      "/Users/wildbass/anaconda3/envs/ds/lib/python3.10/site-packages/scipy/stats/_morestats.py:2507: RuntimeWarning: divide by zero encountered in log\n",
      "  numer = (Ntot*1.0 - k) * log(spsq) - np.sum((Ni - 1.0)*log(ssq), axis=0)\n",
      "/Users/wildbass/anaconda3/envs/ds/lib/python3.10/site-packages/scipy/stats/_morestats.py:2507: RuntimeWarning: invalid value encountered in double_scalars\n",
      "  numer = (Ntot*1.0 - k) * log(spsq) - np.sum((Ni - 1.0)*log(ssq), axis=0)\n",
      "/Users/wildbass/anaconda3/envs/ds/lib/python3.10/site-packages/scipy/stats/_morestats.py:2507: RuntimeWarning: divide by zero encountered in log\n",
      "  numer = (Ntot*1.0 - k) * log(spsq) - np.sum((Ni - 1.0)*log(ssq), axis=0)\n",
      "/Users/wildbass/anaconda3/envs/ds/lib/python3.10/site-packages/scipy/stats/_morestats.py:2507: RuntimeWarning: invalid value encountered in double_scalars\n",
      "  numer = (Ntot*1.0 - k) * log(spsq) - np.sum((Ni - 1.0)*log(ssq), axis=0)\n",
      "/Users/wildbass/anaconda3/envs/ds/lib/python3.10/site-packages/scipy/stats/_morestats.py:2507: RuntimeWarning: divide by zero encountered in log\n",
      "  numer = (Ntot*1.0 - k) * log(spsq) - np.sum((Ni - 1.0)*log(ssq), axis=0)\n",
      "/Users/wildbass/anaconda3/envs/ds/lib/python3.10/site-packages/scipy/stats/_morestats.py:2507: RuntimeWarning: divide by zero encountered in log\n",
      "  numer = (Ntot*1.0 - k) * log(spsq) - np.sum((Ni - 1.0)*log(ssq), axis=0)\n",
      "/Users/wildbass/anaconda3/envs/ds/lib/python3.10/site-packages/scipy/stats/_morestats.py:2507: RuntimeWarning: divide by zero encountered in log\n",
      "  numer = (Ntot*1.0 - k) * log(spsq) - np.sum((Ni - 1.0)*log(ssq), axis=0)\n",
      "/Users/wildbass/anaconda3/envs/ds/lib/python3.10/site-packages/scipy/stats/_morestats.py:2507: RuntimeWarning: divide by zero encountered in log\n",
      "  numer = (Ntot*1.0 - k) * log(spsq) - np.sum((Ni - 1.0)*log(ssq), axis=0)\n",
      "/Users/wildbass/anaconda3/envs/ds/lib/python3.10/site-packages/scipy/stats/_morestats.py:2507: RuntimeWarning: divide by zero encountered in log\n",
      "  numer = (Ntot*1.0 - k) * log(spsq) - np.sum((Ni - 1.0)*log(ssq), axis=0)\n",
      "/Users/wildbass/anaconda3/envs/ds/lib/python3.10/site-packages/scipy/stats/_morestats.py:2507: RuntimeWarning: divide by zero encountered in log\n",
      "  numer = (Ntot*1.0 - k) * log(spsq) - np.sum((Ni - 1.0)*log(ssq), axis=0)\n",
      "/Users/wildbass/anaconda3/envs/ds/lib/python3.10/site-packages/scipy/stats/_morestats.py:2507: RuntimeWarning: divide by zero encountered in log\n",
      "  numer = (Ntot*1.0 - k) * log(spsq) - np.sum((Ni - 1.0)*log(ssq), axis=0)\n",
      "/Users/wildbass/anaconda3/envs/ds/lib/python3.10/site-packages/scipy/stats/_morestats.py:2507: RuntimeWarning: invalid value encountered in double_scalars\n",
      "  numer = (Ntot*1.0 - k) * log(spsq) - np.sum((Ni - 1.0)*log(ssq), axis=0)\n",
      "/Users/wildbass/anaconda3/envs/ds/lib/python3.10/site-packages/scipy/stats/_morestats.py:2507: RuntimeWarning: divide by zero encountered in log\n",
      "  numer = (Ntot*1.0 - k) * log(spsq) - np.sum((Ni - 1.0)*log(ssq), axis=0)\n",
      "/Users/wildbass/anaconda3/envs/ds/lib/python3.10/site-packages/scipy/stats/_morestats.py:2507: RuntimeWarning: invalid value encountered in double_scalars\n",
      "  numer = (Ntot*1.0 - k) * log(spsq) - np.sum((Ni - 1.0)*log(ssq), axis=0)\n"
     ]
    }
   ],
   "source": [
    "df = pd.read_csv('../data/clean_df.csv', index_col=[0])\\\n",
    "    .groupby(['date', 'reg','subject','macro_bhv', 'period'])\\\n",
    "    ['duration'].sum().reset_index()\n",
    "unstacked = unstack_behaviors(df)\n",
    "unstacked.sort_values(by='subject', inplace=True)\n",
    "results = {}\n",
    "\n",
    "results = {}\n",
    "for sub in unstacked.subject.unique():\n",
    "    for bhv in df['macro_bhv'].unique():\n",
    "        print(sub, bhv)\n",
    "        ttest = single_ttest(sub, unstacked, bhv, 'pregame', 'game')\n",
    "        paired = paired_ttest(sub, unstacked, bhv, 'pregame', 'game')\n",
    "        results[(bhv, 'ttest')] = results.get((bhv, 'ttest'), [])\n",
    "        results[(bhv, 'ttest')].append(ttest)\n",
    "        results[(bhv, 'paired')] = results.get((bhv, 'paired'), [])\n",
    "        results[(bhv, 'paired')].append(paired)"
   ]
  },
  {
   "cell_type": "code",
   "execution_count": 65,
   "metadata": {},
   "outputs": [],
   "source": [
    "results = pd.DataFrame(results, index=df.subject.unique())"
   ]
  },
  {
   "cell_type": "code",
   "execution_count": 71,
   "metadata": {},
   "outputs": [],
   "source": [
    "res = pd.concat([results[bhv] for bhv in df.macro_bhv.unique()]).reset_index().fillna(0)"
   ]
  },
  {
   "cell_type": "code",
   "execution_count": 79,
   "metadata": {},
   "outputs": [
    {
     "data": {
      "text/html": [
       "<div>\n",
       "<style scoped>\n",
       "    .dataframe tbody tr th:only-of-type {\n",
       "        vertical-align: middle;\n",
       "    }\n",
       "\n",
       "    .dataframe tbody tr th {\n",
       "        vertical-align: top;\n",
       "    }\n",
       "\n",
       "    .dataframe thead tr th {\n",
       "        text-align: left;\n",
       "    }\n",
       "</style>\n",
       "<table border=\"1\" class=\"dataframe\">\n",
       "  <thead>\n",
       "    <tr>\n",
       "      <th></th>\n",
       "      <th colspan=\"2\" halign=\"left\">Individual</th>\n",
       "      <th colspan=\"2\" halign=\"left\">Social</th>\n",
       "      <th colspan=\"2\" halign=\"left\">Social-Ludic</th>\n",
       "      <th colspan=\"2\" halign=\"left\">Ludic</th>\n",
       "      <th colspan=\"2\" halign=\"left\">Public</th>\n",
       "      <th colspan=\"2\" halign=\"left\">Agonistic</th>\n",
       "      <th colspan=\"2\" halign=\"left\">Sexual</th>\n",
       "    </tr>\n",
       "    <tr>\n",
       "      <th></th>\n",
       "      <th>ttest</th>\n",
       "      <th>paired</th>\n",
       "      <th>ttest</th>\n",
       "      <th>paired</th>\n",
       "      <th>ttest</th>\n",
       "      <th>paired</th>\n",
       "      <th>ttest</th>\n",
       "      <th>paired</th>\n",
       "      <th>ttest</th>\n",
       "      <th>paired</th>\n",
       "      <th>ttest</th>\n",
       "      <th>paired</th>\n",
       "      <th>ttest</th>\n",
       "      <th>paired</th>\n",
       "    </tr>\n",
       "  </thead>\n",
       "  <tbody>\n",
       "    <tr>\n",
       "      <th>Hadia</th>\n",
       "      <td>0.067866</td>\n",
       "      <td>0.092298</td>\n",
       "      <td>0.053825</td>\n",
       "      <td>0.070056</td>\n",
       "      <td>0.402286</td>\n",
       "      <td>0.436591</td>\n",
       "      <td>0.220347</td>\n",
       "      <td>0.254894</td>\n",
       "      <td>0.447325</td>\n",
       "      <td>0.450974</td>\n",
       "      <td>0.253663</td>\n",
       "      <td>0.255730</td>\n",
       "      <td>NaN</td>\n",
       "      <td>NaN</td>\n",
       "    </tr>\n",
       "    <tr>\n",
       "      <th>Jawie</th>\n",
       "      <td>0.063922</td>\n",
       "      <td>0.082944</td>\n",
       "      <td>0.084890</td>\n",
       "      <td>0.120531</td>\n",
       "      <td>0.325582</td>\n",
       "      <td>0.325582</td>\n",
       "      <td>0.686289</td>\n",
       "      <td>0.695465</td>\n",
       "      <td>0.498849</td>\n",
       "      <td>0.503477</td>\n",
       "      <td>0.735358</td>\n",
       "      <td>0.745288</td>\n",
       "      <td>NaN</td>\n",
       "      <td>NaN</td>\n",
       "    </tr>\n",
       "    <tr>\n",
       "      <th>Karl</th>\n",
       "      <td>0.158034</td>\n",
       "      <td>0.644872</td>\n",
       "      <td>0.224075</td>\n",
       "      <td>0.225793</td>\n",
       "      <td>0.325582</td>\n",
       "      <td>0.325582</td>\n",
       "      <td>NaN</td>\n",
       "      <td>NaN</td>\n",
       "      <td>0.523213</td>\n",
       "      <td>0.536203</td>\n",
       "      <td>0.010703</td>\n",
       "      <td>0.010703</td>\n",
       "      <td>NaN</td>\n",
       "      <td>NaN</td>\n",
       "    </tr>\n",
       "    <tr>\n",
       "      <th>Locky</th>\n",
       "      <td>0.252563</td>\n",
       "      <td>0.286389</td>\n",
       "      <td>0.105047</td>\n",
       "      <td>0.128010</td>\n",
       "      <td>NaN</td>\n",
       "      <td>NaN</td>\n",
       "      <td>0.052647</td>\n",
       "      <td>0.053626</td>\n",
       "      <td>0.472155</td>\n",
       "      <td>0.495344</td>\n",
       "      <td>0.467822</td>\n",
       "      <td>0.463107</td>\n",
       "      <td>NaN</td>\n",
       "      <td>NaN</td>\n",
       "    </tr>\n",
       "    <tr>\n",
       "      <th>Popo</th>\n",
       "      <td>0.750731</td>\n",
       "      <td>0.742470</td>\n",
       "      <td>0.282580</td>\n",
       "      <td>0.314092</td>\n",
       "      <td>0.207556</td>\n",
       "      <td>0.176208</td>\n",
       "      <td>0.037726</td>\n",
       "      <td>0.056087</td>\n",
       "      <td>0.207883</td>\n",
       "      <td>0.207883</td>\n",
       "      <td>0.646879</td>\n",
       "      <td>0.656732</td>\n",
       "      <td>0.325582</td>\n",
       "      <td>0.325582</td>\n",
       "    </tr>\n",
       "    <tr>\n",
       "      <th>Storma</th>\n",
       "      <td>0.927918</td>\n",
       "      <td>0.928381</td>\n",
       "      <td>0.188812</td>\n",
       "      <td>0.191924</td>\n",
       "      <td>0.025407</td>\n",
       "      <td>0.023989</td>\n",
       "      <td>0.310687</td>\n",
       "      <td>0.342717</td>\n",
       "      <td>0.223541</td>\n",
       "      <td>0.223541</td>\n",
       "      <td>0.276946</td>\n",
       "      <td>0.279458</td>\n",
       "      <td>NaN</td>\n",
       "      <td>NaN</td>\n",
       "    </tr>\n",
       "  </tbody>\n",
       "</table>\n",
       "</div>"
      ],
      "text/plain": [
       "       Individual              Social           Social-Ludic            \\\n",
       "            ttest    paired     ttest    paired        ttest    paired   \n",
       "Hadia    0.067866  0.092298  0.053825  0.070056     0.402286  0.436591   \n",
       "Jawie    0.063922  0.082944  0.084890  0.120531     0.325582  0.325582   \n",
       "Karl     0.158034  0.644872  0.224075  0.225793     0.325582  0.325582   \n",
       "Locky    0.252563  0.286389  0.105047  0.128010          NaN       NaN   \n",
       "Popo     0.750731  0.742470  0.282580  0.314092     0.207556  0.176208   \n",
       "Storma   0.927918  0.928381  0.188812  0.191924     0.025407  0.023989   \n",
       "\n",
       "           Ludic              Public           Agonistic              Sexual  \\\n",
       "           ttest    paired     ttest    paired     ttest    paired     ttest   \n",
       "Hadia   0.220347  0.254894  0.447325  0.450974  0.253663  0.255730       NaN   \n",
       "Jawie   0.686289  0.695465  0.498849  0.503477  0.735358  0.745288       NaN   \n",
       "Karl         NaN       NaN  0.523213  0.536203  0.010703  0.010703       NaN   \n",
       "Locky   0.052647  0.053626  0.472155  0.495344  0.467822  0.463107       NaN   \n",
       "Popo    0.037726  0.056087  0.207883  0.207883  0.646879  0.656732  0.325582   \n",
       "Storma  0.310687  0.342717  0.223541  0.223541  0.276946  0.279458       NaN   \n",
       "\n",
       "                  \n",
       "          paired  \n",
       "Hadia        NaN  \n",
       "Jawie        NaN  \n",
       "Karl         NaN  \n",
       "Locky        NaN  \n",
       "Popo    0.325582  \n",
       "Storma       NaN  "
      ]
     },
     "execution_count": 79,
     "metadata": {},
     "output_type": "execute_result"
    }
   ],
   "source": [
    "results"
   ]
  },
  {
   "cell_type": "code",
   "execution_count": 4,
   "metadata": {},
   "outputs": [
    {
     "data": {
      "application/vnd.plotly.v1+json": {
       "config": {
        "plotlyServerURL": "https://plot.ly"
       },
       "data": [
        {
         "hovertemplate": "subject=Hadia<br>date=%{x}<br>Agonistic=%{y}<extra></extra>",
         "legendgroup": "Hadia",
         "marker": {
          "color": "#636efa",
          "symbol": "circle"
         },
         "mode": "markers",
         "name": "Hadia",
         "orientation": "v",
         "showlegend": true,
         "type": "scatter",
         "x": [
          "2019-05-20",
          "2019-05-20",
          "2019-05-22",
          "2019-05-22",
          "2019-05-23",
          "2019-05-23",
          "2019-05-24",
          "2019-05-27",
          "2019-05-27",
          "2019-05-28",
          "2019-05-28",
          "2019-05-29",
          "2019-05-29",
          "2019-05-30",
          "2019-05-30",
          "2019-05-31",
          "2019-05-31",
          "2019-06-06",
          "2019-06-06",
          "2019-06-07",
          "2019-06-07",
          "2019-06-10",
          "2019-06-10",
          "2019-06-11",
          "2019-06-11",
          "2019-06-13",
          "2019-06-13",
          "2019-06-14",
          "2019-06-14",
          "2019-06-17",
          "2019-06-25",
          "2019-06-25",
          "2019-06-26",
          "2019-06-26",
          "2019-06-27",
          "2019-06-27",
          "2019-06-28",
          "2019-06-28",
          "2019-07-01",
          "2019-07-01",
          "2019-07-02",
          "2019-07-02",
          "2019-07-05",
          "2019-07-05",
          "2019-07-08",
          "2019-07-08",
          "2019-07-09",
          "2019-07-09",
          "2019-07-11",
          "2019-07-11",
          "2019-07-12",
          "2019-07-12",
          "2019-07-16",
          "2019-07-16",
          "2019-07-17",
          "2019-07-17",
          "2019-07-18",
          "2019-07-18",
          "2019-07-19",
          "2019-07-19",
          "2019-04-15",
          "2019-04-15",
          "2019-04-16",
          "2019-04-16",
          "2019-04-17",
          "2019-04-17",
          "2019-04-18",
          "2019-04-18",
          "2019-04-19",
          "2019-04-19",
          "2019-04-22",
          "2019-04-22",
          "2019-04-23",
          "2019-04-23",
          "2019-04-24",
          "2019-04-25",
          "2019-04-25",
          "2019-04-26",
          "2019-04-26",
          "2019-04-29",
          "2019-04-29",
          "2019-04-30",
          "2019-04-30",
          "2019-05-01",
          "2019-05-01",
          "2019-05-03",
          "2019-05-03",
          "2019-05-06",
          "2019-05-06",
          "2019-05-07"
         ],
         "xaxis": "x",
         "y": [
          0,
          0,
          0,
          0,
          0,
          58,
          0,
          0,
          260,
          0,
          0,
          0,
          0,
          0,
          0,
          0,
          0,
          2,
          0,
          0,
          6,
          4,
          0,
          0,
          0,
          0,
          0,
          4,
          0,
          0,
          0,
          0,
          0,
          0,
          0,
          0,
          0,
          0,
          0,
          0,
          0,
          0,
          0,
          0,
          0,
          5,
          0,
          0,
          0,
          0,
          0,
          0,
          0,
          0,
          0,
          0,
          0,
          0,
          0,
          0,
          0,
          0,
          14,
          0,
          0,
          0,
          0,
          0,
          0,
          0,
          0,
          0,
          0,
          0,
          0,
          0,
          0,
          12,
          0,
          0,
          0,
          0,
          0,
          0,
          0,
          0,
          0,
          0,
          0,
          0
         ],
         "yaxis": "y"
        },
        {
         "hovertemplate": "subject=Jawie<br>date=%{x}<br>Agonistic=%{y}<extra></extra>",
         "legendgroup": "Jawie",
         "marker": {
          "color": "#EF553B",
          "symbol": "circle"
         },
         "mode": "markers",
         "name": "Jawie",
         "orientation": "v",
         "showlegend": true,
         "type": "scatter",
         "x": [
          "2019-05-20",
          "2019-05-20",
          "2019-05-22",
          "2019-05-22",
          "2019-05-23",
          "2019-05-23",
          "2019-05-24",
          "2019-05-27",
          "2019-05-27",
          "2019-05-28",
          "2019-05-28",
          "2019-05-29",
          "2019-05-29",
          "2019-05-30",
          "2019-05-30",
          "2019-05-31",
          "2019-05-31",
          "2019-06-06",
          "2019-06-06",
          "2019-06-07",
          "2019-06-07",
          "2019-06-10",
          "2019-06-10",
          "2019-06-11",
          "2019-06-11",
          "2019-06-13",
          "2019-06-13",
          "2019-06-14",
          "2019-06-14",
          "2019-06-17",
          "2019-06-25",
          "2019-06-25",
          "2019-06-26",
          "2019-06-26",
          "2019-06-27",
          "2019-06-27",
          "2019-06-28",
          "2019-06-28",
          "2019-07-01",
          "2019-07-01",
          "2019-07-02",
          "2019-07-02",
          "2019-07-05",
          "2019-07-05",
          "2019-07-08",
          "2019-07-08",
          "2019-07-09",
          "2019-07-09",
          "2019-07-11",
          "2019-07-11",
          "2019-07-12",
          "2019-07-12",
          "2019-07-16",
          "2019-07-16",
          "2019-07-17",
          "2019-07-17",
          "2019-07-18",
          "2019-07-18",
          "2019-07-19",
          "2019-07-19",
          "2019-04-15",
          "2019-04-15",
          "2019-04-16",
          "2019-04-16",
          "2019-04-17",
          "2019-04-17",
          "2019-04-18",
          "2019-04-18",
          "2019-04-19",
          "2019-04-19",
          "2019-04-22",
          "2019-04-22",
          "2019-04-23",
          "2019-04-23",
          "2019-04-24",
          "2019-04-25",
          "2019-04-25",
          "2019-04-26",
          "2019-04-26",
          "2019-04-29",
          "2019-04-29",
          "2019-04-30",
          "2019-04-30",
          "2019-05-01",
          "2019-05-01",
          "2019-05-03",
          "2019-05-03",
          "2019-05-06",
          "2019-05-06",
          "2019-05-07"
         ],
         "xaxis": "x",
         "y": [
          0,
          0,
          20,
          0,
          0,
          0,
          16,
          0,
          0,
          0,
          0,
          0,
          0,
          0,
          0,
          0,
          0,
          0,
          0,
          0,
          0,
          0,
          0,
          0,
          0,
          0,
          0,
          0,
          0,
          0,
          0,
          0,
          0,
          0,
          0,
          0,
          0,
          0,
          10,
          0,
          0,
          0.053,
          0,
          0,
          0,
          5,
          10,
          0,
          0,
          0,
          0,
          0,
          0,
          0,
          0,
          0,
          0,
          0,
          0,
          3,
          0,
          0,
          11,
          0,
          0,
          0,
          0,
          0,
          0,
          0,
          0,
          0,
          0,
          0,
          0,
          0,
          0,
          0,
          0,
          0,
          0,
          0,
          0,
          10,
          0,
          0,
          5,
          0,
          0,
          0
         ],
         "yaxis": "y"
        },
        {
         "hovertemplate": "subject=Karl<br>date=%{x}<br>Agonistic=%{y}<extra></extra>",
         "legendgroup": "Karl",
         "marker": {
          "color": "#00cc96",
          "symbol": "circle"
         },
         "mode": "markers",
         "name": "Karl",
         "orientation": "v",
         "showlegend": true,
         "type": "scatter",
         "x": [
          "2019-05-20",
          "2019-05-20",
          "2019-05-22",
          "2019-05-22",
          "2019-05-23",
          "2019-05-23",
          "2019-05-24",
          "2019-05-27",
          "2019-05-27",
          "2019-05-28",
          "2019-05-28",
          "2019-05-29",
          "2019-05-29",
          "2019-05-30",
          "2019-05-30",
          "2019-05-31",
          "2019-05-31",
          "2019-06-06",
          "2019-06-06",
          "2019-06-07",
          "2019-06-07",
          "2019-06-10",
          "2019-06-10",
          "2019-06-13",
          "2019-06-13",
          "2019-06-14",
          "2019-06-14",
          "2019-06-17",
          "2019-06-17",
          "2019-06-26",
          "2019-06-26",
          "2019-06-27",
          "2019-06-27",
          "2019-06-28",
          "2019-06-28",
          "2019-07-01",
          "2019-07-01",
          "2019-07-02",
          "2019-07-02",
          "2019-07-05",
          "2019-07-05",
          "2019-07-08",
          "2019-07-08",
          "2019-07-09",
          "2019-07-09",
          "2019-07-11",
          "2019-07-11",
          "2019-07-12",
          "2019-07-12",
          "2019-07-16",
          "2019-07-16",
          "2019-07-17",
          "2019-07-17",
          "2019-07-18",
          "2019-07-18",
          "2019-07-19",
          "2019-07-19",
          "2019-04-15",
          "2019-04-15",
          "2019-04-16",
          "2019-04-16",
          "2019-04-17",
          "2019-04-17",
          "2019-04-18",
          "2019-04-18",
          "2019-04-19",
          "2019-04-19",
          "2019-04-22",
          "2019-04-22",
          "2019-04-23",
          "2019-04-23",
          "2019-04-24",
          "2019-04-25",
          "2019-04-26",
          "2019-04-26",
          "2019-04-29",
          "2019-04-29",
          "2019-04-30",
          "2019-04-30",
          "2019-05-01",
          "2019-05-01",
          "2019-05-03",
          "2019-05-03",
          "2019-05-06",
          "2019-05-06",
          "2019-05-07",
          "2019-05-07"
         ],
         "xaxis": "x",
         "y": [
          0,
          0,
          0,
          0,
          0,
          0,
          0,
          0,
          0,
          0,
          0,
          0,
          0,
          0,
          0,
          0,
          0,
          0,
          0,
          0,
          0,
          0,
          0,
          0,
          0,
          0,
          0,
          0,
          0,
          0,
          0,
          0,
          0,
          0,
          0,
          0,
          2,
          0,
          0,
          0,
          0,
          0,
          0,
          0,
          0,
          0,
          10,
          0,
          0,
          0,
          0,
          0,
          0,
          0,
          0,
          0,
          0,
          0,
          0,
          0,
          0,
          0,
          0,
          5,
          3,
          0,
          8,
          10,
          5,
          0,
          0,
          0,
          0,
          0,
          0,
          23,
          8,
          0,
          0,
          0,
          0,
          0,
          0,
          0,
          9,
          0,
          24
         ],
         "yaxis": "y"
        },
        {
         "hovertemplate": "subject=Locky<br>date=%{x}<br>Agonistic=%{y}<extra></extra>",
         "legendgroup": "Locky",
         "marker": {
          "color": "#ab63fa",
          "symbol": "circle"
         },
         "mode": "markers",
         "name": "Locky",
         "orientation": "v",
         "showlegend": true,
         "type": "scatter",
         "x": [
          "2019-05-20",
          "2019-05-20",
          "2019-05-22",
          "2019-05-22",
          "2019-05-23",
          "2019-05-23",
          "2019-05-24",
          "2019-05-27",
          "2019-05-27",
          "2019-05-28",
          "2019-05-28",
          "2019-05-29",
          "2019-05-29",
          "2019-05-30",
          "2019-05-30",
          "2019-05-31",
          "2019-05-31",
          "2019-06-06",
          "2019-06-06",
          "2019-06-07",
          "2019-06-07",
          "2019-06-10",
          "2019-06-10",
          "2019-06-11",
          "2019-06-11",
          "2019-06-13",
          "2019-06-13",
          "2019-06-14",
          "2019-06-14",
          "2019-06-17",
          "2019-06-25",
          "2019-06-25",
          "2019-06-26",
          "2019-06-26",
          "2019-06-27",
          "2019-06-27",
          "2019-06-28",
          "2019-06-28",
          "2019-07-01",
          "2019-07-01",
          "2019-07-02",
          "2019-07-02",
          "2019-07-06",
          "2019-07-06",
          "2019-07-08",
          "2019-07-08",
          "2019-07-09",
          "2019-07-09",
          "2019-07-11",
          "2019-07-11",
          "2019-07-12",
          "2019-07-12",
          "2019-07-16",
          "2019-07-16",
          "2019-07-17",
          "2019-07-17",
          "2019-07-18",
          "2019-07-18",
          "2019-07-19",
          "2019-07-19",
          "2019-04-15",
          "2019-04-15",
          "2019-04-16",
          "2019-04-16",
          "2019-04-17",
          "2019-04-17",
          "2019-04-18",
          "2019-04-18",
          "2019-04-19",
          "2019-04-19",
          "2019-04-22",
          "2019-04-22",
          "2019-04-23",
          "2019-04-23",
          "2019-04-24",
          "2019-04-24",
          "2019-04-25",
          "2019-04-25",
          "2019-04-26",
          "2019-04-26",
          "2019-04-29",
          "2019-04-29",
          "2019-04-30",
          "2019-04-30",
          "2019-05-01",
          "2019-05-01",
          "2019-05-03",
          "2019-05-03",
          "2019-05-06",
          "2019-05-06"
         ],
         "xaxis": "x",
         "y": [
          0,
          0,
          0,
          10,
          0,
          0,
          0,
          0,
          110,
          0,
          0,
          0,
          0,
          0,
          22,
          0,
          0,
          0,
          0,
          0,
          0,
          0,
          0,
          0,
          0,
          0,
          0,
          0,
          0,
          0,
          0,
          0,
          0,
          0,
          0,
          0,
          0,
          0,
          0,
          0,
          0,
          118,
          0,
          0,
          5,
          0,
          0,
          0,
          0,
          0,
          0,
          0,
          0,
          0,
          0,
          0,
          0,
          0,
          0,
          0,
          0,
          0,
          0,
          0,
          0,
          0,
          0,
          0,
          0,
          0,
          0,
          0,
          0,
          0,
          39,
          0,
          0,
          0,
          0,
          0,
          0,
          0,
          0,
          0,
          4,
          0,
          0,
          12,
          0,
          0
         ],
         "yaxis": "y"
        },
        {
         "hovertemplate": "subject=Popo<br>date=%{x}<br>Agonistic=%{y}<extra></extra>",
         "legendgroup": "Popo",
         "marker": {
          "color": "#FFA15A",
          "symbol": "circle"
         },
         "mode": "markers",
         "name": "Popo",
         "orientation": "v",
         "showlegend": true,
         "type": "scatter",
         "x": [
          "2019-05-20",
          "2019-05-20",
          "2019-05-22",
          "2019-05-22",
          "2019-05-23",
          "2019-05-23",
          "2019-05-24",
          "2019-05-27",
          "2019-05-27",
          "2019-05-28",
          "2019-05-28",
          "2019-05-29",
          "2019-05-29",
          "2019-05-30",
          "2019-05-30",
          "2019-05-31",
          "2019-05-31",
          "2019-06-06",
          "2019-06-06",
          "2019-06-07",
          "2019-06-07",
          "2019-06-10",
          "2019-06-10",
          "2019-06-11",
          "2019-06-11",
          "2019-06-13",
          "2019-06-13",
          "2019-06-14",
          "2019-06-14",
          "2019-06-17",
          "2019-06-25",
          "2019-06-25",
          "2019-06-26",
          "2019-06-26",
          "2019-06-27",
          "2019-06-27",
          "2019-06-28",
          "2019-06-28",
          "2019-07-01",
          "2019-07-01",
          "2019-07-02",
          "2019-07-02",
          "2019-07-05",
          "2019-07-05",
          "2019-07-08",
          "2019-07-08",
          "2019-07-09",
          "2019-07-09",
          "2019-07-11",
          "2019-07-11",
          "2019-07-12",
          "2019-07-12",
          "2019-07-16",
          "2019-07-16",
          "2019-07-17",
          "2019-07-17",
          "2019-07-18",
          "2019-07-18",
          "2019-07-19",
          "2019-07-19",
          "2019-04-15",
          "2019-04-15",
          "2019-04-16",
          "2019-04-16",
          "2019-04-17",
          "2019-04-17",
          "2019-04-18",
          "2019-04-18",
          "2019-04-19",
          "2019-04-19",
          "2019-04-22",
          "2019-04-22",
          "2019-04-23",
          "2019-04-23",
          "2019-04-24",
          "2019-04-25",
          "2019-04-25",
          "2019-04-26",
          "2019-04-26",
          "2019-04-29",
          "2019-04-29",
          "2019-04-30",
          "2019-04-30",
          "2019-05-01",
          "2019-05-01",
          "2019-05-03",
          "2019-05-03",
          "2019-05-06",
          "2019-05-06",
          "2019-05-07"
         ],
         "xaxis": "x",
         "y": [
          0,
          0,
          0,
          0,
          0,
          0,
          0,
          0,
          0,
          0,
          41,
          0,
          0,
          0,
          0,
          0,
          11,
          0,
          0,
          14,
          0,
          0,
          0,
          0,
          0,
          0,
          0,
          0,
          0,
          0,
          0,
          0,
          0,
          0,
          0,
          0,
          0,
          0,
          0,
          0,
          0,
          0,
          0,
          0,
          0,
          0,
          0,
          0,
          0,
          0,
          0,
          0,
          0,
          0,
          0,
          0,
          0,
          0,
          0,
          0,
          0,
          0,
          0,
          0,
          0,
          0,
          0,
          0,
          0,
          0,
          0,
          39,
          0,
          0,
          0,
          0,
          0,
          0,
          0,
          0,
          0,
          0,
          0,
          0,
          0,
          0,
          0,
          0,
          0,
          0
         ],
         "yaxis": "y"
        },
        {
         "hovertemplate": "subject=Storma<br>date=%{x}<br>Agonistic=%{y}<extra></extra>",
         "legendgroup": "Storma",
         "marker": {
          "color": "#19d3f3",
          "symbol": "circle"
         },
         "mode": "markers",
         "name": "Storma",
         "orientation": "v",
         "showlegend": true,
         "type": "scatter",
         "x": [
          "2019-05-20",
          "2019-05-20",
          "2019-05-22",
          "2019-05-22",
          "2019-05-23",
          "2019-05-23",
          "2019-05-24",
          "2019-05-27",
          "2019-05-27",
          "2019-05-28",
          "2019-05-28",
          "2019-05-29",
          "2019-05-29",
          "2019-05-30",
          "2019-05-30",
          "2019-05-31",
          "2019-05-31",
          "2019-06-06",
          "2019-06-06",
          "2019-06-07",
          "2019-06-07",
          "2019-06-10",
          "2019-06-10",
          "2019-06-11",
          "2019-06-11",
          "2019-06-13",
          "2019-06-13",
          "2019-06-14",
          "2019-06-14",
          "2019-06-17",
          "2019-06-25",
          "2019-06-25",
          "2019-06-26",
          "2019-06-26",
          "2019-06-27",
          "2019-06-27",
          "2019-06-28",
          "2019-06-28",
          "2019-07-01",
          "2019-07-01",
          "2019-07-02",
          "2019-07-02",
          "2019-07-05",
          "2019-07-05",
          "2019-07-08",
          "2019-07-08",
          "2019-07-09",
          "2019-07-09",
          "2019-07-11",
          "2019-07-11",
          "2019-07-12",
          "2019-07-12",
          "2019-07-16",
          "2019-07-16",
          "2019-07-17",
          "2019-07-17",
          "2019-07-18",
          "2019-07-18",
          "2019-07-19",
          "2019-07-19",
          "2019-04-15",
          "2019-04-15",
          "2019-04-16",
          "2019-04-16",
          "2019-04-17",
          "2019-04-17",
          "2019-04-18",
          "2019-04-18",
          "2019-04-19",
          "2019-04-19",
          "2019-04-22",
          "2019-04-22",
          "2019-04-23",
          "2019-04-23",
          "2019-04-24",
          "2019-04-25",
          "2019-04-25",
          "2019-04-26",
          "2019-04-26",
          "2019-04-29",
          "2019-04-29",
          "2019-04-30",
          "2019-04-30",
          "2019-05-01",
          "2019-05-01",
          "2019-05-03",
          "2019-05-03",
          "2019-05-06",
          "2019-05-06",
          "2019-05-07"
         ],
         "xaxis": "x",
         "y": [
          0,
          0,
          0,
          0,
          0,
          0,
          0,
          0,
          0,
          0,
          0,
          0,
          0,
          0,
          0,
          0,
          0,
          0,
          0,
          0,
          0,
          0,
          0,
          2,
          0,
          0,
          0,
          0,
          0,
          5,
          0,
          0,
          0,
          0,
          0,
          0,
          0,
          0,
          0,
          0,
          0,
          0,
          0,
          0,
          0,
          0,
          0,
          0,
          0,
          0,
          0,
          0,
          2,
          0,
          0,
          0,
          0,
          0,
          0,
          0,
          0,
          0,
          0,
          0,
          0,
          0,
          0,
          0,
          0,
          0,
          0,
          0,
          0,
          0,
          57,
          0,
          0,
          0,
          0,
          0,
          0,
          0,
          0,
          0,
          0,
          0,
          0,
          0,
          0,
          15
         ],
         "yaxis": "y"
        }
       ],
       "layout": {
        "legend": {
         "title": {
          "text": "subject"
         },
         "tracegroupgap": 0
        },
        "margin": {
         "t": 60
        },
        "template": {
         "data": {
          "bar": [
           {
            "error_x": {
             "color": "#2a3f5f"
            },
            "error_y": {
             "color": "#2a3f5f"
            },
            "marker": {
             "line": {
              "color": "#E5ECF6",
              "width": 0.5
             },
             "pattern": {
              "fillmode": "overlay",
              "size": 10,
              "solidity": 0.2
             }
            },
            "type": "bar"
           }
          ],
          "barpolar": [
           {
            "marker": {
             "line": {
              "color": "#E5ECF6",
              "width": 0.5
             },
             "pattern": {
              "fillmode": "overlay",
              "size": 10,
              "solidity": 0.2
             }
            },
            "type": "barpolar"
           }
          ],
          "carpet": [
           {
            "aaxis": {
             "endlinecolor": "#2a3f5f",
             "gridcolor": "white",
             "linecolor": "white",
             "minorgridcolor": "white",
             "startlinecolor": "#2a3f5f"
            },
            "baxis": {
             "endlinecolor": "#2a3f5f",
             "gridcolor": "white",
             "linecolor": "white",
             "minorgridcolor": "white",
             "startlinecolor": "#2a3f5f"
            },
            "type": "carpet"
           }
          ],
          "choropleth": [
           {
            "colorbar": {
             "outlinewidth": 0,
             "ticks": ""
            },
            "type": "choropleth"
           }
          ],
          "contour": [
           {
            "colorbar": {
             "outlinewidth": 0,
             "ticks": ""
            },
            "colorscale": [
             [
              0,
              "#0d0887"
             ],
             [
              0.1111111111111111,
              "#46039f"
             ],
             [
              0.2222222222222222,
              "#7201a8"
             ],
             [
              0.3333333333333333,
              "#9c179e"
             ],
             [
              0.4444444444444444,
              "#bd3786"
             ],
             [
              0.5555555555555556,
              "#d8576b"
             ],
             [
              0.6666666666666666,
              "#ed7953"
             ],
             [
              0.7777777777777778,
              "#fb9f3a"
             ],
             [
              0.8888888888888888,
              "#fdca26"
             ],
             [
              1,
              "#f0f921"
             ]
            ],
            "type": "contour"
           }
          ],
          "contourcarpet": [
           {
            "colorbar": {
             "outlinewidth": 0,
             "ticks": ""
            },
            "type": "contourcarpet"
           }
          ],
          "heatmap": [
           {
            "colorbar": {
             "outlinewidth": 0,
             "ticks": ""
            },
            "colorscale": [
             [
              0,
              "#0d0887"
             ],
             [
              0.1111111111111111,
              "#46039f"
             ],
             [
              0.2222222222222222,
              "#7201a8"
             ],
             [
              0.3333333333333333,
              "#9c179e"
             ],
             [
              0.4444444444444444,
              "#bd3786"
             ],
             [
              0.5555555555555556,
              "#d8576b"
             ],
             [
              0.6666666666666666,
              "#ed7953"
             ],
             [
              0.7777777777777778,
              "#fb9f3a"
             ],
             [
              0.8888888888888888,
              "#fdca26"
             ],
             [
              1,
              "#f0f921"
             ]
            ],
            "type": "heatmap"
           }
          ],
          "heatmapgl": [
           {
            "colorbar": {
             "outlinewidth": 0,
             "ticks": ""
            },
            "colorscale": [
             [
              0,
              "#0d0887"
             ],
             [
              0.1111111111111111,
              "#46039f"
             ],
             [
              0.2222222222222222,
              "#7201a8"
             ],
             [
              0.3333333333333333,
              "#9c179e"
             ],
             [
              0.4444444444444444,
              "#bd3786"
             ],
             [
              0.5555555555555556,
              "#d8576b"
             ],
             [
              0.6666666666666666,
              "#ed7953"
             ],
             [
              0.7777777777777778,
              "#fb9f3a"
             ],
             [
              0.8888888888888888,
              "#fdca26"
             ],
             [
              1,
              "#f0f921"
             ]
            ],
            "type": "heatmapgl"
           }
          ],
          "histogram": [
           {
            "marker": {
             "pattern": {
              "fillmode": "overlay",
              "size": 10,
              "solidity": 0.2
             }
            },
            "type": "histogram"
           }
          ],
          "histogram2d": [
           {
            "colorbar": {
             "outlinewidth": 0,
             "ticks": ""
            },
            "colorscale": [
             [
              0,
              "#0d0887"
             ],
             [
              0.1111111111111111,
              "#46039f"
             ],
             [
              0.2222222222222222,
              "#7201a8"
             ],
             [
              0.3333333333333333,
              "#9c179e"
             ],
             [
              0.4444444444444444,
              "#bd3786"
             ],
             [
              0.5555555555555556,
              "#d8576b"
             ],
             [
              0.6666666666666666,
              "#ed7953"
             ],
             [
              0.7777777777777778,
              "#fb9f3a"
             ],
             [
              0.8888888888888888,
              "#fdca26"
             ],
             [
              1,
              "#f0f921"
             ]
            ],
            "type": "histogram2d"
           }
          ],
          "histogram2dcontour": [
           {
            "colorbar": {
             "outlinewidth": 0,
             "ticks": ""
            },
            "colorscale": [
             [
              0,
              "#0d0887"
             ],
             [
              0.1111111111111111,
              "#46039f"
             ],
             [
              0.2222222222222222,
              "#7201a8"
             ],
             [
              0.3333333333333333,
              "#9c179e"
             ],
             [
              0.4444444444444444,
              "#bd3786"
             ],
             [
              0.5555555555555556,
              "#d8576b"
             ],
             [
              0.6666666666666666,
              "#ed7953"
             ],
             [
              0.7777777777777778,
              "#fb9f3a"
             ],
             [
              0.8888888888888888,
              "#fdca26"
             ],
             [
              1,
              "#f0f921"
             ]
            ],
            "type": "histogram2dcontour"
           }
          ],
          "mesh3d": [
           {
            "colorbar": {
             "outlinewidth": 0,
             "ticks": ""
            },
            "type": "mesh3d"
           }
          ],
          "parcoords": [
           {
            "line": {
             "colorbar": {
              "outlinewidth": 0,
              "ticks": ""
             }
            },
            "type": "parcoords"
           }
          ],
          "pie": [
           {
            "automargin": true,
            "type": "pie"
           }
          ],
          "scatter": [
           {
            "fillpattern": {
             "fillmode": "overlay",
             "size": 10,
             "solidity": 0.2
            },
            "type": "scatter"
           }
          ],
          "scatter3d": [
           {
            "line": {
             "colorbar": {
              "outlinewidth": 0,
              "ticks": ""
             }
            },
            "marker": {
             "colorbar": {
              "outlinewidth": 0,
              "ticks": ""
             }
            },
            "type": "scatter3d"
           }
          ],
          "scattercarpet": [
           {
            "marker": {
             "colorbar": {
              "outlinewidth": 0,
              "ticks": ""
             }
            },
            "type": "scattercarpet"
           }
          ],
          "scattergeo": [
           {
            "marker": {
             "colorbar": {
              "outlinewidth": 0,
              "ticks": ""
             }
            },
            "type": "scattergeo"
           }
          ],
          "scattergl": [
           {
            "marker": {
             "colorbar": {
              "outlinewidth": 0,
              "ticks": ""
             }
            },
            "type": "scattergl"
           }
          ],
          "scattermapbox": [
           {
            "marker": {
             "colorbar": {
              "outlinewidth": 0,
              "ticks": ""
             }
            },
            "type": "scattermapbox"
           }
          ],
          "scatterpolar": [
           {
            "marker": {
             "colorbar": {
              "outlinewidth": 0,
              "ticks": ""
             }
            },
            "type": "scatterpolar"
           }
          ],
          "scatterpolargl": [
           {
            "marker": {
             "colorbar": {
              "outlinewidth": 0,
              "ticks": ""
             }
            },
            "type": "scatterpolargl"
           }
          ],
          "scatterternary": [
           {
            "marker": {
             "colorbar": {
              "outlinewidth": 0,
              "ticks": ""
             }
            },
            "type": "scatterternary"
           }
          ],
          "surface": [
           {
            "colorbar": {
             "outlinewidth": 0,
             "ticks": ""
            },
            "colorscale": [
             [
              0,
              "#0d0887"
             ],
             [
              0.1111111111111111,
              "#46039f"
             ],
             [
              0.2222222222222222,
              "#7201a8"
             ],
             [
              0.3333333333333333,
              "#9c179e"
             ],
             [
              0.4444444444444444,
              "#bd3786"
             ],
             [
              0.5555555555555556,
              "#d8576b"
             ],
             [
              0.6666666666666666,
              "#ed7953"
             ],
             [
              0.7777777777777778,
              "#fb9f3a"
             ],
             [
              0.8888888888888888,
              "#fdca26"
             ],
             [
              1,
              "#f0f921"
             ]
            ],
            "type": "surface"
           }
          ],
          "table": [
           {
            "cells": {
             "fill": {
              "color": "#EBF0F8"
             },
             "line": {
              "color": "white"
             }
            },
            "header": {
             "fill": {
              "color": "#C8D4E3"
             },
             "line": {
              "color": "white"
             }
            },
            "type": "table"
           }
          ]
         },
         "layout": {
          "annotationdefaults": {
           "arrowcolor": "#2a3f5f",
           "arrowhead": 0,
           "arrowwidth": 1
          },
          "autotypenumbers": "strict",
          "coloraxis": {
           "colorbar": {
            "outlinewidth": 0,
            "ticks": ""
           }
          },
          "colorscale": {
           "diverging": [
            [
             0,
             "#8e0152"
            ],
            [
             0.1,
             "#c51b7d"
            ],
            [
             0.2,
             "#de77ae"
            ],
            [
             0.3,
             "#f1b6da"
            ],
            [
             0.4,
             "#fde0ef"
            ],
            [
             0.5,
             "#f7f7f7"
            ],
            [
             0.6,
             "#e6f5d0"
            ],
            [
             0.7,
             "#b8e186"
            ],
            [
             0.8,
             "#7fbc41"
            ],
            [
             0.9,
             "#4d9221"
            ],
            [
             1,
             "#276419"
            ]
           ],
           "sequential": [
            [
             0,
             "#0d0887"
            ],
            [
             0.1111111111111111,
             "#46039f"
            ],
            [
             0.2222222222222222,
             "#7201a8"
            ],
            [
             0.3333333333333333,
             "#9c179e"
            ],
            [
             0.4444444444444444,
             "#bd3786"
            ],
            [
             0.5555555555555556,
             "#d8576b"
            ],
            [
             0.6666666666666666,
             "#ed7953"
            ],
            [
             0.7777777777777778,
             "#fb9f3a"
            ],
            [
             0.8888888888888888,
             "#fdca26"
            ],
            [
             1,
             "#f0f921"
            ]
           ],
           "sequentialminus": [
            [
             0,
             "#0d0887"
            ],
            [
             0.1111111111111111,
             "#46039f"
            ],
            [
             0.2222222222222222,
             "#7201a8"
            ],
            [
             0.3333333333333333,
             "#9c179e"
            ],
            [
             0.4444444444444444,
             "#bd3786"
            ],
            [
             0.5555555555555556,
             "#d8576b"
            ],
            [
             0.6666666666666666,
             "#ed7953"
            ],
            [
             0.7777777777777778,
             "#fb9f3a"
            ],
            [
             0.8888888888888888,
             "#fdca26"
            ],
            [
             1,
             "#f0f921"
            ]
           ]
          },
          "colorway": [
           "#636efa",
           "#EF553B",
           "#00cc96",
           "#ab63fa",
           "#FFA15A",
           "#19d3f3",
           "#FF6692",
           "#B6E880",
           "#FF97FF",
           "#FECB52"
          ],
          "font": {
           "color": "#2a3f5f"
          },
          "geo": {
           "bgcolor": "white",
           "lakecolor": "white",
           "landcolor": "#E5ECF6",
           "showlakes": true,
           "showland": true,
           "subunitcolor": "white"
          },
          "hoverlabel": {
           "align": "left"
          },
          "hovermode": "closest",
          "mapbox": {
           "style": "light"
          },
          "paper_bgcolor": "white",
          "plot_bgcolor": "#E5ECF6",
          "polar": {
           "angularaxis": {
            "gridcolor": "white",
            "linecolor": "white",
            "ticks": ""
           },
           "bgcolor": "#E5ECF6",
           "radialaxis": {
            "gridcolor": "white",
            "linecolor": "white",
            "ticks": ""
           }
          },
          "scene": {
           "xaxis": {
            "backgroundcolor": "#E5ECF6",
            "gridcolor": "white",
            "gridwidth": 2,
            "linecolor": "white",
            "showbackground": true,
            "ticks": "",
            "zerolinecolor": "white"
           },
           "yaxis": {
            "backgroundcolor": "#E5ECF6",
            "gridcolor": "white",
            "gridwidth": 2,
            "linecolor": "white",
            "showbackground": true,
            "ticks": "",
            "zerolinecolor": "white"
           },
           "zaxis": {
            "backgroundcolor": "#E5ECF6",
            "gridcolor": "white",
            "gridwidth": 2,
            "linecolor": "white",
            "showbackground": true,
            "ticks": "",
            "zerolinecolor": "white"
           }
          },
          "shapedefaults": {
           "line": {
            "color": "#2a3f5f"
           }
          },
          "ternary": {
           "aaxis": {
            "gridcolor": "white",
            "linecolor": "white",
            "ticks": ""
           },
           "baxis": {
            "gridcolor": "white",
            "linecolor": "white",
            "ticks": ""
           },
           "bgcolor": "#E5ECF6",
           "caxis": {
            "gridcolor": "white",
            "linecolor": "white",
            "ticks": ""
           }
          },
          "title": {
           "x": 0.05
          },
          "xaxis": {
           "automargin": true,
           "gridcolor": "white",
           "linecolor": "white",
           "ticks": "",
           "title": {
            "standoff": 15
           },
           "zerolinecolor": "white",
           "zerolinewidth": 2
          },
          "yaxis": {
           "automargin": true,
           "gridcolor": "white",
           "linecolor": "white",
           "ticks": "",
           "title": {
            "standoff": 15
           },
           "zerolinecolor": "white",
           "zerolinewidth": 2
          }
         }
        },
        "xaxis": {
         "anchor": "y",
         "domain": [
          0,
          1
         ],
         "title": {
          "text": "date"
         }
        },
        "yaxis": {
         "anchor": "x",
         "domain": [
          0,
          1
         ],
         "title": {
          "text": "Agonistic"
         }
        }
       }
      }
     },
     "metadata": {},
     "output_type": "display_data"
    }
   ],
   "source": [
    "px.scatter(df, x='date', y='Agonistic', color='subject')"
   ]
  },
  {
   "cell_type": "code",
   "execution_count": 36,
   "metadata": {},
   "outputs": [],
   "source": [
    "import pandas as pd\n",
    "df =pd.read_csv('../data/clean_df.csv', index_col=[0])\\\n",
    "                        .groupby(['date', 'reg','subject','macro_bhv', 'period'])\\\n",
    "                        ['duration'].sum().reset_index()"
   ]
  },
  {
   "cell_type": "code",
   "execution_count": 42,
   "metadata": {},
   "outputs": [
    {
     "data": {
      "text/html": [
       "<div>\n",
       "<style scoped>\n",
       "    .dataframe tbody tr th:only-of-type {\n",
       "        vertical-align: middle;\n",
       "    }\n",
       "\n",
       "    .dataframe tbody tr th {\n",
       "        vertical-align: top;\n",
       "    }\n",
       "\n",
       "    .dataframe thead th {\n",
       "        text-align: right;\n",
       "    }\n",
       "</style>\n",
       "<table border=\"1\" class=\"dataframe\">\n",
       "  <thead>\n",
       "    <tr style=\"text-align: right;\">\n",
       "      <th></th>\n",
       "      <th></th>\n",
       "      <th></th>\n",
       "      <th>index</th>\n",
       "      <th>duration</th>\n",
       "    </tr>\n",
       "    <tr>\n",
       "      <th>period</th>\n",
       "      <th>reg</th>\n",
       "      <th>date</th>\n",
       "      <th></th>\n",
       "      <th></th>\n",
       "    </tr>\n",
       "  </thead>\n",
       "  <tbody>\n",
       "    <tr>\n",
       "      <th rowspan=\"30\" valign=\"top\">pregame</th>\n",
       "      <th rowspan=\"15\" valign=\"top\">1</th>\n",
       "      <th>2019-04-15</th>\n",
       "      <td>15</td>\n",
       "      <td>602.0000</td>\n",
       "    </tr>\n",
       "    <tr>\n",
       "      <th>2019-04-16</th>\n",
       "      <td>75</td>\n",
       "      <td>600.0000</td>\n",
       "    </tr>\n",
       "    <tr>\n",
       "      <th>2019-04-17</th>\n",
       "      <td>174</td>\n",
       "      <td>521.0000</td>\n",
       "    </tr>\n",
       "    <tr>\n",
       "      <th>2019-04-18</th>\n",
       "      <td>90</td>\n",
       "      <td>605.0000</td>\n",
       "    </tr>\n",
       "    <tr>\n",
       "      <th>2019-04-19</th>\n",
       "      <td>114</td>\n",
       "      <td>600.0000</td>\n",
       "    </tr>\n",
       "    <tr>\n",
       "      <th>2019-04-22</th>\n",
       "      <td>141</td>\n",
       "      <td>600.0000</td>\n",
       "    </tr>\n",
       "    <tr>\n",
       "      <th>2019-04-23</th>\n",
       "      <td>167</td>\n",
       "      <td>600.0000</td>\n",
       "    </tr>\n",
       "    <tr>\n",
       "      <th>2019-04-24</th>\n",
       "      <td>782</td>\n",
       "      <td>600.0000</td>\n",
       "    </tr>\n",
       "    <tr>\n",
       "      <th>2019-04-25</th>\n",
       "      <td>423</td>\n",
       "      <td>620.0000</td>\n",
       "    </tr>\n",
       "    <tr>\n",
       "      <th>2019-04-26</th>\n",
       "      <td>483</td>\n",
       "      <td>605.0000</td>\n",
       "    </tr>\n",
       "    <tr>\n",
       "      <th>2019-04-29</th>\n",
       "      <td>267</td>\n",
       "      <td>600.0000</td>\n",
       "    </tr>\n",
       "    <tr>\n",
       "      <th>2019-04-30</th>\n",
       "      <td>577</td>\n",
       "      <td>615.0000</td>\n",
       "    </tr>\n",
       "    <tr>\n",
       "      <th>2019-05-01</th>\n",
       "      <td>960</td>\n",
       "      <td>611.0000</td>\n",
       "    </tr>\n",
       "    <tr>\n",
       "      <th>2019-05-03</th>\n",
       "      <td>347</td>\n",
       "      <td>600.0000</td>\n",
       "    </tr>\n",
       "    <tr>\n",
       "      <th>2019-05-06</th>\n",
       "      <td>743</td>\n",
       "      <td>615.0000</td>\n",
       "    </tr>\n",
       "    <tr>\n",
       "      <th rowspan=\"15\" valign=\"top\">2</th>\n",
       "      <th>2019-04-15</th>\n",
       "      <td>63</td>\n",
       "      <td>635.0000</td>\n",
       "    </tr>\n",
       "    <tr>\n",
       "      <th>2019-04-16</th>\n",
       "      <td>49</td>\n",
       "      <td>600.0000</td>\n",
       "    </tr>\n",
       "    <tr>\n",
       "      <th>2019-04-17</th>\n",
       "      <td>143</td>\n",
       "      <td>605.0000</td>\n",
       "    </tr>\n",
       "    <tr>\n",
       "      <th>2019-04-18</th>\n",
       "      <td>102</td>\n",
       "      <td>600.0000</td>\n",
       "    </tr>\n",
       "    <tr>\n",
       "      <th>2019-04-19</th>\n",
       "      <td>255</td>\n",
       "      <td>610.0000</td>\n",
       "    </tr>\n",
       "    <tr>\n",
       "      <th>2019-04-22</th>\n",
       "      <td>462</td>\n",
       "      <td>600.0000</td>\n",
       "    </tr>\n",
       "    <tr>\n",
       "      <th>2019-04-23</th>\n",
       "      <td>546</td>\n",
       "      <td>610.0000</td>\n",
       "    </tr>\n",
       "    <tr>\n",
       "      <th>2019-04-24</th>\n",
       "      <td>409</td>\n",
       "      <td>261.0000</td>\n",
       "    </tr>\n",
       "    <tr>\n",
       "      <th>2019-04-25</th>\n",
       "      <td>455</td>\n",
       "      <td>605.0000</td>\n",
       "    </tr>\n",
       "    <tr>\n",
       "      <th>2019-04-26</th>\n",
       "      <td>509</td>\n",
       "      <td>625.0000</td>\n",
       "    </tr>\n",
       "    <tr>\n",
       "      <th>2019-04-29</th>\n",
       "      <td>276</td>\n",
       "      <td>600.0000</td>\n",
       "    </tr>\n",
       "    <tr>\n",
       "      <th>2019-04-30</th>\n",
       "      <td>915</td>\n",
       "      <td>615.0000</td>\n",
       "    </tr>\n",
       "    <tr>\n",
       "      <th>2019-05-01</th>\n",
       "      <td>671</td>\n",
       "      <td>497.0153</td>\n",
       "    </tr>\n",
       "    <tr>\n",
       "      <th>2019-05-03</th>\n",
       "      <td>1438</td>\n",
       "      <td>493.0000</td>\n",
       "    </tr>\n",
       "    <tr>\n",
       "      <th>2019-05-06</th>\n",
       "      <td>775</td>\n",
       "      <td>618.0000</td>\n",
       "    </tr>\n",
       "  </tbody>\n",
       "</table>\n",
       "</div>"
      ],
      "text/plain": [
       "                        index  duration\n",
       "period  reg date                       \n",
       "pregame 1   2019-04-15     15  602.0000\n",
       "            2019-04-16     75  600.0000\n",
       "            2019-04-17    174  521.0000\n",
       "            2019-04-18     90  605.0000\n",
       "            2019-04-19    114  600.0000\n",
       "            2019-04-22    141  600.0000\n",
       "            2019-04-23    167  600.0000\n",
       "            2019-04-24    782  600.0000\n",
       "            2019-04-25    423  620.0000\n",
       "            2019-04-26    483  605.0000\n",
       "            2019-04-29    267  600.0000\n",
       "            2019-04-30    577  615.0000\n",
       "            2019-05-01    960  611.0000\n",
       "            2019-05-03    347  600.0000\n",
       "            2019-05-06    743  615.0000\n",
       "        2   2019-04-15     63  635.0000\n",
       "            2019-04-16     49  600.0000\n",
       "            2019-04-17    143  605.0000\n",
       "            2019-04-18    102  600.0000\n",
       "            2019-04-19    255  610.0000\n",
       "            2019-04-22    462  600.0000\n",
       "            2019-04-23    546  610.0000\n",
       "            2019-04-24    409  261.0000\n",
       "            2019-04-25    455  605.0000\n",
       "            2019-04-26    509  625.0000\n",
       "            2019-04-29    276  600.0000\n",
       "            2019-04-30    915  615.0000\n",
       "            2019-05-01    671  497.0153\n",
       "            2019-05-03   1438  493.0000\n",
       "            2019-05-06    775  618.0000"
      ]
     },
     "execution_count": 42,
     "metadata": {},
     "output_type": "execute_result"
    }
   ],
   "source": [
    "import queries\n",
    "\n",
    "queries.filter_subject_period(df, 'Locky', 'pregame').reset_index().groupby(['period','reg', 'date']).sum('duration')"
   ]
  },
  {
   "cell_type": "code",
   "execution_count": 21,
   "metadata": {},
   "outputs": [
    {
     "data": {
      "text/plain": [
       "(159, 166)"
      ]
     },
     "execution_count": 21,
     "metadata": {},
     "output_type": "execute_result"
    }
   ],
   "source": [
    "import plotly.express as px\n",
    "\n",
    "pre = df[(df['macro_bhv']=='Individual')&(df['period']=='pregame')]\n",
    "game = df[(df['macro_bhv']=='Individual')&(df['period']=='game')]\n",
    "len(pre), len(game)"
   ]
  },
  {
   "cell_type": "code",
   "execution_count": 22,
   "metadata": {},
   "outputs": [],
   "source": [
    "diff = pre['duration'].reset_index() - game[:len(pre)]['duration'].reset_index()\n"
   ]
  },
  {
   "cell_type": "code",
   "execution_count": 23,
   "metadata": {},
   "outputs": [
    {
     "data": {
      "application/vnd.plotly.v1+json": {
       "config": {
        "plotlyServerURL": "https://plot.ly"
       },
       "data": [
        {
         "alignmentgroup": "True",
         "bingroup": "x",
         "hovertemplate": "variable=duration<br>value=%{x}<br>count=%{y}<extra></extra>",
         "legendgroup": "duration",
         "marker": {
          "color": "#636efa",
          "pattern": {
           "shape": ""
          }
         },
         "name": "duration",
         "offsetgroup": "duration",
         "orientation": "v",
         "showlegend": true,
         "type": "histogram",
         "x": [
          -402,
          -121,
          14,
          187,
          -593,
          -100,
          -256,
          0,
          -65,
          13,
          155,
          53,
          -410,
          0,
          555,
          26,
          -139,
          63,
          -471,
          8,
          -115,
          501,
          -113,
          396,
          27,
          -228,
          -196,
          354,
          189,
          315,
          -85,
          -468,
          25,
          -16,
          123,
          481,
          -391,
          -416,
          470,
          2,
          -261,
          -428,
          -598,
          187,
          438,
          -18,
          524,
          -514,
          -84,
          272,
          222,
          -260,
          106,
          -452,
          -50,
          -496,
          243,
          -359,
          178,
          -12,
          -79,
          -397,
          294,
          -480,
          14,
          185,
          -518,
          -4,
          6,
          419,
          206,
          -326,
          -562,
          67,
          44,
          -70,
          401,
          -161,
          150,
          -278,
          3,
          -483,
          -83,
          -137,
          -247,
          204,
          -155,
          185,
          0,
          521,
          -56.018,
          -109,
          -505,
          346,
          220,
          -437,
          -252,
          20,
          0,
          -280,
          24,
          -135,
          -282,
          -3,
          -306,
          544,
          -72,
          486,
          -249,
          -457,
          -284,
          286,
          -118,
          115,
          96,
          -402,
          -273,
          414,
          -13,
          98,
          -95,
          -134,
          49,
          126,
          311,
          -164,
          -330,
          -63,
          242,
          0,
          -33,
          326,
          -97,
          560,
          -540,
          545,
          -470,
          218,
          1,
          -343,
          63,
          -221,
          295,
          23,
          169,
          -470,
          -211,
          -467,
          233,
          590,
          -4,
          -292,
          -194,
          322,
          -65,
          394,
          300,
          -537,
          -88
         ],
         "xaxis": "x",
         "yaxis": "y"
        }
       ],
       "layout": {
        "barmode": "relative",
        "legend": {
         "title": {
          "text": "variable"
         },
         "tracegroupgap": 0
        },
        "margin": {
         "t": 60
        },
        "template": {
         "data": {
          "bar": [
           {
            "error_x": {
             "color": "#2a3f5f"
            },
            "error_y": {
             "color": "#2a3f5f"
            },
            "marker": {
             "line": {
              "color": "#E5ECF6",
              "width": 0.5
             },
             "pattern": {
              "fillmode": "overlay",
              "size": 10,
              "solidity": 0.2
             }
            },
            "type": "bar"
           }
          ],
          "barpolar": [
           {
            "marker": {
             "line": {
              "color": "#E5ECF6",
              "width": 0.5
             },
             "pattern": {
              "fillmode": "overlay",
              "size": 10,
              "solidity": 0.2
             }
            },
            "type": "barpolar"
           }
          ],
          "carpet": [
           {
            "aaxis": {
             "endlinecolor": "#2a3f5f",
             "gridcolor": "white",
             "linecolor": "white",
             "minorgridcolor": "white",
             "startlinecolor": "#2a3f5f"
            },
            "baxis": {
             "endlinecolor": "#2a3f5f",
             "gridcolor": "white",
             "linecolor": "white",
             "minorgridcolor": "white",
             "startlinecolor": "#2a3f5f"
            },
            "type": "carpet"
           }
          ],
          "choropleth": [
           {
            "colorbar": {
             "outlinewidth": 0,
             "ticks": ""
            },
            "type": "choropleth"
           }
          ],
          "contour": [
           {
            "colorbar": {
             "outlinewidth": 0,
             "ticks": ""
            },
            "colorscale": [
             [
              0,
              "#0d0887"
             ],
             [
              0.1111111111111111,
              "#46039f"
             ],
             [
              0.2222222222222222,
              "#7201a8"
             ],
             [
              0.3333333333333333,
              "#9c179e"
             ],
             [
              0.4444444444444444,
              "#bd3786"
             ],
             [
              0.5555555555555556,
              "#d8576b"
             ],
             [
              0.6666666666666666,
              "#ed7953"
             ],
             [
              0.7777777777777778,
              "#fb9f3a"
             ],
             [
              0.8888888888888888,
              "#fdca26"
             ],
             [
              1,
              "#f0f921"
             ]
            ],
            "type": "contour"
           }
          ],
          "contourcarpet": [
           {
            "colorbar": {
             "outlinewidth": 0,
             "ticks": ""
            },
            "type": "contourcarpet"
           }
          ],
          "heatmap": [
           {
            "colorbar": {
             "outlinewidth": 0,
             "ticks": ""
            },
            "colorscale": [
             [
              0,
              "#0d0887"
             ],
             [
              0.1111111111111111,
              "#46039f"
             ],
             [
              0.2222222222222222,
              "#7201a8"
             ],
             [
              0.3333333333333333,
              "#9c179e"
             ],
             [
              0.4444444444444444,
              "#bd3786"
             ],
             [
              0.5555555555555556,
              "#d8576b"
             ],
             [
              0.6666666666666666,
              "#ed7953"
             ],
             [
              0.7777777777777778,
              "#fb9f3a"
             ],
             [
              0.8888888888888888,
              "#fdca26"
             ],
             [
              1,
              "#f0f921"
             ]
            ],
            "type": "heatmap"
           }
          ],
          "heatmapgl": [
           {
            "colorbar": {
             "outlinewidth": 0,
             "ticks": ""
            },
            "colorscale": [
             [
              0,
              "#0d0887"
             ],
             [
              0.1111111111111111,
              "#46039f"
             ],
             [
              0.2222222222222222,
              "#7201a8"
             ],
             [
              0.3333333333333333,
              "#9c179e"
             ],
             [
              0.4444444444444444,
              "#bd3786"
             ],
             [
              0.5555555555555556,
              "#d8576b"
             ],
             [
              0.6666666666666666,
              "#ed7953"
             ],
             [
              0.7777777777777778,
              "#fb9f3a"
             ],
             [
              0.8888888888888888,
              "#fdca26"
             ],
             [
              1,
              "#f0f921"
             ]
            ],
            "type": "heatmapgl"
           }
          ],
          "histogram": [
           {
            "marker": {
             "pattern": {
              "fillmode": "overlay",
              "size": 10,
              "solidity": 0.2
             }
            },
            "type": "histogram"
           }
          ],
          "histogram2d": [
           {
            "colorbar": {
             "outlinewidth": 0,
             "ticks": ""
            },
            "colorscale": [
             [
              0,
              "#0d0887"
             ],
             [
              0.1111111111111111,
              "#46039f"
             ],
             [
              0.2222222222222222,
              "#7201a8"
             ],
             [
              0.3333333333333333,
              "#9c179e"
             ],
             [
              0.4444444444444444,
              "#bd3786"
             ],
             [
              0.5555555555555556,
              "#d8576b"
             ],
             [
              0.6666666666666666,
              "#ed7953"
             ],
             [
              0.7777777777777778,
              "#fb9f3a"
             ],
             [
              0.8888888888888888,
              "#fdca26"
             ],
             [
              1,
              "#f0f921"
             ]
            ],
            "type": "histogram2d"
           }
          ],
          "histogram2dcontour": [
           {
            "colorbar": {
             "outlinewidth": 0,
             "ticks": ""
            },
            "colorscale": [
             [
              0,
              "#0d0887"
             ],
             [
              0.1111111111111111,
              "#46039f"
             ],
             [
              0.2222222222222222,
              "#7201a8"
             ],
             [
              0.3333333333333333,
              "#9c179e"
             ],
             [
              0.4444444444444444,
              "#bd3786"
             ],
             [
              0.5555555555555556,
              "#d8576b"
             ],
             [
              0.6666666666666666,
              "#ed7953"
             ],
             [
              0.7777777777777778,
              "#fb9f3a"
             ],
             [
              0.8888888888888888,
              "#fdca26"
             ],
             [
              1,
              "#f0f921"
             ]
            ],
            "type": "histogram2dcontour"
           }
          ],
          "mesh3d": [
           {
            "colorbar": {
             "outlinewidth": 0,
             "ticks": ""
            },
            "type": "mesh3d"
           }
          ],
          "parcoords": [
           {
            "line": {
             "colorbar": {
              "outlinewidth": 0,
              "ticks": ""
             }
            },
            "type": "parcoords"
           }
          ],
          "pie": [
           {
            "automargin": true,
            "type": "pie"
           }
          ],
          "scatter": [
           {
            "fillpattern": {
             "fillmode": "overlay",
             "size": 10,
             "solidity": 0.2
            },
            "type": "scatter"
           }
          ],
          "scatter3d": [
           {
            "line": {
             "colorbar": {
              "outlinewidth": 0,
              "ticks": ""
             }
            },
            "marker": {
             "colorbar": {
              "outlinewidth": 0,
              "ticks": ""
             }
            },
            "type": "scatter3d"
           }
          ],
          "scattercarpet": [
           {
            "marker": {
             "colorbar": {
              "outlinewidth": 0,
              "ticks": ""
             }
            },
            "type": "scattercarpet"
           }
          ],
          "scattergeo": [
           {
            "marker": {
             "colorbar": {
              "outlinewidth": 0,
              "ticks": ""
             }
            },
            "type": "scattergeo"
           }
          ],
          "scattergl": [
           {
            "marker": {
             "colorbar": {
              "outlinewidth": 0,
              "ticks": ""
             }
            },
            "type": "scattergl"
           }
          ],
          "scattermapbox": [
           {
            "marker": {
             "colorbar": {
              "outlinewidth": 0,
              "ticks": ""
             }
            },
            "type": "scattermapbox"
           }
          ],
          "scatterpolar": [
           {
            "marker": {
             "colorbar": {
              "outlinewidth": 0,
              "ticks": ""
             }
            },
            "type": "scatterpolar"
           }
          ],
          "scatterpolargl": [
           {
            "marker": {
             "colorbar": {
              "outlinewidth": 0,
              "ticks": ""
             }
            },
            "type": "scatterpolargl"
           }
          ],
          "scatterternary": [
           {
            "marker": {
             "colorbar": {
              "outlinewidth": 0,
              "ticks": ""
             }
            },
            "type": "scatterternary"
           }
          ],
          "surface": [
           {
            "colorbar": {
             "outlinewidth": 0,
             "ticks": ""
            },
            "colorscale": [
             [
              0,
              "#0d0887"
             ],
             [
              0.1111111111111111,
              "#46039f"
             ],
             [
              0.2222222222222222,
              "#7201a8"
             ],
             [
              0.3333333333333333,
              "#9c179e"
             ],
             [
              0.4444444444444444,
              "#bd3786"
             ],
             [
              0.5555555555555556,
              "#d8576b"
             ],
             [
              0.6666666666666666,
              "#ed7953"
             ],
             [
              0.7777777777777778,
              "#fb9f3a"
             ],
             [
              0.8888888888888888,
              "#fdca26"
             ],
             [
              1,
              "#f0f921"
             ]
            ],
            "type": "surface"
           }
          ],
          "table": [
           {
            "cells": {
             "fill": {
              "color": "#EBF0F8"
             },
             "line": {
              "color": "white"
             }
            },
            "header": {
             "fill": {
              "color": "#C8D4E3"
             },
             "line": {
              "color": "white"
             }
            },
            "type": "table"
           }
          ]
         },
         "layout": {
          "annotationdefaults": {
           "arrowcolor": "#2a3f5f",
           "arrowhead": 0,
           "arrowwidth": 1
          },
          "autotypenumbers": "strict",
          "coloraxis": {
           "colorbar": {
            "outlinewidth": 0,
            "ticks": ""
           }
          },
          "colorscale": {
           "diverging": [
            [
             0,
             "#8e0152"
            ],
            [
             0.1,
             "#c51b7d"
            ],
            [
             0.2,
             "#de77ae"
            ],
            [
             0.3,
             "#f1b6da"
            ],
            [
             0.4,
             "#fde0ef"
            ],
            [
             0.5,
             "#f7f7f7"
            ],
            [
             0.6,
             "#e6f5d0"
            ],
            [
             0.7,
             "#b8e186"
            ],
            [
             0.8,
             "#7fbc41"
            ],
            [
             0.9,
             "#4d9221"
            ],
            [
             1,
             "#276419"
            ]
           ],
           "sequential": [
            [
             0,
             "#0d0887"
            ],
            [
             0.1111111111111111,
             "#46039f"
            ],
            [
             0.2222222222222222,
             "#7201a8"
            ],
            [
             0.3333333333333333,
             "#9c179e"
            ],
            [
             0.4444444444444444,
             "#bd3786"
            ],
            [
             0.5555555555555556,
             "#d8576b"
            ],
            [
             0.6666666666666666,
             "#ed7953"
            ],
            [
             0.7777777777777778,
             "#fb9f3a"
            ],
            [
             0.8888888888888888,
             "#fdca26"
            ],
            [
             1,
             "#f0f921"
            ]
           ],
           "sequentialminus": [
            [
             0,
             "#0d0887"
            ],
            [
             0.1111111111111111,
             "#46039f"
            ],
            [
             0.2222222222222222,
             "#7201a8"
            ],
            [
             0.3333333333333333,
             "#9c179e"
            ],
            [
             0.4444444444444444,
             "#bd3786"
            ],
            [
             0.5555555555555556,
             "#d8576b"
            ],
            [
             0.6666666666666666,
             "#ed7953"
            ],
            [
             0.7777777777777778,
             "#fb9f3a"
            ],
            [
             0.8888888888888888,
             "#fdca26"
            ],
            [
             1,
             "#f0f921"
            ]
           ]
          },
          "colorway": [
           "#636efa",
           "#EF553B",
           "#00cc96",
           "#ab63fa",
           "#FFA15A",
           "#19d3f3",
           "#FF6692",
           "#B6E880",
           "#FF97FF",
           "#FECB52"
          ],
          "font": {
           "color": "#2a3f5f"
          },
          "geo": {
           "bgcolor": "white",
           "lakecolor": "white",
           "landcolor": "#E5ECF6",
           "showlakes": true,
           "showland": true,
           "subunitcolor": "white"
          },
          "hoverlabel": {
           "align": "left"
          },
          "hovermode": "closest",
          "mapbox": {
           "style": "light"
          },
          "paper_bgcolor": "white",
          "plot_bgcolor": "#E5ECF6",
          "polar": {
           "angularaxis": {
            "gridcolor": "white",
            "linecolor": "white",
            "ticks": ""
           },
           "bgcolor": "#E5ECF6",
           "radialaxis": {
            "gridcolor": "white",
            "linecolor": "white",
            "ticks": ""
           }
          },
          "scene": {
           "xaxis": {
            "backgroundcolor": "#E5ECF6",
            "gridcolor": "white",
            "gridwidth": 2,
            "linecolor": "white",
            "showbackground": true,
            "ticks": "",
            "zerolinecolor": "white"
           },
           "yaxis": {
            "backgroundcolor": "#E5ECF6",
            "gridcolor": "white",
            "gridwidth": 2,
            "linecolor": "white",
            "showbackground": true,
            "ticks": "",
            "zerolinecolor": "white"
           },
           "zaxis": {
            "backgroundcolor": "#E5ECF6",
            "gridcolor": "white",
            "gridwidth": 2,
            "linecolor": "white",
            "showbackground": true,
            "ticks": "",
            "zerolinecolor": "white"
           }
          },
          "shapedefaults": {
           "line": {
            "color": "#2a3f5f"
           }
          },
          "ternary": {
           "aaxis": {
            "gridcolor": "white",
            "linecolor": "white",
            "ticks": ""
           },
           "baxis": {
            "gridcolor": "white",
            "linecolor": "white",
            "ticks": ""
           },
           "bgcolor": "#E5ECF6",
           "caxis": {
            "gridcolor": "white",
            "linecolor": "white",
            "ticks": ""
           }
          },
          "title": {
           "x": 0.05
          },
          "xaxis": {
           "automargin": true,
           "gridcolor": "white",
           "linecolor": "white",
           "ticks": "",
           "title": {
            "standoff": 15
           },
           "zerolinecolor": "white",
           "zerolinewidth": 2
          },
          "yaxis": {
           "automargin": true,
           "gridcolor": "white",
           "linecolor": "white",
           "ticks": "",
           "title": {
            "standoff": 15
           },
           "zerolinecolor": "white",
           "zerolinewidth": 2
          }
         }
        },
        "xaxis": {
         "anchor": "y",
         "domain": [
          0,
          1
         ],
         "title": {
          "text": "value"
         }
        },
        "yaxis": {
         "anchor": "x",
         "domain": [
          0,
          1
         ],
         "title": {
          "text": "count"
         }
        }
       }
      }
     },
     "metadata": {},
     "output_type": "display_data"
    }
   ],
   "source": [
    "px.histogram(diff['duration'])"
   ]
  },
  {
   "attachments": {},
   "cell_type": "markdown",
   "metadata": {},
   "source": [
    "# Linear Mixed Models"
   ]
  },
  {
   "cell_type": "code",
   "execution_count": 13,
   "metadata": {},
   "outputs": [
    {
     "data": {
      "text/html": [
       "<div>\n",
       "<style scoped>\n",
       "    .dataframe tbody tr th:only-of-type {\n",
       "        vertical-align: middle;\n",
       "    }\n",
       "\n",
       "    .dataframe tbody tr th {\n",
       "        vertical-align: top;\n",
       "    }\n",
       "\n",
       "    .dataframe thead th {\n",
       "        text-align: right;\n",
       "    }\n",
       "</style>\n",
       "<table border=\"1\" class=\"dataframe\">\n",
       "  <thead>\n",
       "    <tr style=\"text-align: right;\">\n",
       "      <th>macro_bhv</th>\n",
       "      <th>period</th>\n",
       "      <th>date</th>\n",
       "      <th>subject</th>\n",
       "      <th>reg</th>\n",
       "      <th>Agonistic</th>\n",
       "      <th>Individual</th>\n",
       "      <th>Ludic</th>\n",
       "      <th>Public</th>\n",
       "      <th>Sexual</th>\n",
       "      <th>Social</th>\n",
       "      <th>Social-Ludic</th>\n",
       "    </tr>\n",
       "  </thead>\n",
       "  <tbody>\n",
       "    <tr>\n",
       "      <th>536</th>\n",
       "      <td>pregame</td>\n",
       "      <td>2019-05-07</td>\n",
       "      <td>Storma</td>\n",
       "      <td>2</td>\n",
       "      <td>15.0</td>\n",
       "      <td>498.0</td>\n",
       "      <td>0.0</td>\n",
       "      <td>0.0</td>\n",
       "      <td>0.0</td>\n",
       "      <td>38.0</td>\n",
       "      <td>0.0</td>\n",
       "    </tr>\n",
       "    <tr>\n",
       "      <th>420</th>\n",
       "      <td>pregame</td>\n",
       "      <td>2019-04-22</td>\n",
       "      <td>Jawie</td>\n",
       "      <td>2</td>\n",
       "      <td>0.0</td>\n",
       "      <td>387.0</td>\n",
       "      <td>0.0</td>\n",
       "      <td>0.0</td>\n",
       "      <td>0.0</td>\n",
       "      <td>179.0</td>\n",
       "      <td>0.0</td>\n",
       "    </tr>\n",
       "    <tr>\n",
       "      <th>419</th>\n",
       "      <td>pregame</td>\n",
       "      <td>2019-04-22</td>\n",
       "      <td>Jawie</td>\n",
       "      <td>1</td>\n",
       "      <td>0.0</td>\n",
       "      <td>131.0</td>\n",
       "      <td>0.0</td>\n",
       "      <td>0.0</td>\n",
       "      <td>0.0</td>\n",
       "      <td>469.0</td>\n",
       "      <td>0.0</td>\n",
       "    </tr>\n",
       "    <tr>\n",
       "      <th>418</th>\n",
       "      <td>pregame</td>\n",
       "      <td>2019-04-22</td>\n",
       "      <td>Hadia</td>\n",
       "      <td>2</td>\n",
       "      <td>0.0</td>\n",
       "      <td>34.0</td>\n",
       "      <td>0.0</td>\n",
       "      <td>0.0</td>\n",
       "      <td>0.0</td>\n",
       "      <td>566.0</td>\n",
       "      <td>0.0</td>\n",
       "    </tr>\n",
       "    <tr>\n",
       "      <th>417</th>\n",
       "      <td>pregame</td>\n",
       "      <td>2019-04-22</td>\n",
       "      <td>Hadia</td>\n",
       "      <td>1</td>\n",
       "      <td>0.0</td>\n",
       "      <td>0.0</td>\n",
       "      <td>0.0</td>\n",
       "      <td>0.0</td>\n",
       "      <td>0.0</td>\n",
       "      <td>600.0</td>\n",
       "      <td>0.0</td>\n",
       "    </tr>\n",
       "  </tbody>\n",
       "</table>\n",
       "</div>"
      ],
      "text/plain": [
       "macro_bhv   period        date subject  reg  Agonistic  Individual  Ludic  \\\n",
       "536        pregame  2019-05-07  Storma    2       15.0       498.0    0.0   \n",
       "420        pregame  2019-04-22   Jawie    2        0.0       387.0    0.0   \n",
       "419        pregame  2019-04-22   Jawie    1        0.0       131.0    0.0   \n",
       "418        pregame  2019-04-22   Hadia    2        0.0        34.0    0.0   \n",
       "417        pregame  2019-04-22   Hadia    1        0.0         0.0    0.0   \n",
       "\n",
       "macro_bhv  Public  Sexual  Social  Social-Ludic  \n",
       "536           0.0     0.0    38.0           0.0  \n",
       "420           0.0     0.0   179.0           0.0  \n",
       "419           0.0     0.0   469.0           0.0  \n",
       "418           0.0     0.0   566.0           0.0  \n",
       "417           0.0     0.0   600.0           0.0  "
      ]
     },
     "execution_count": 13,
     "metadata": {},
     "output_type": "execute_result"
    }
   ],
   "source": [
    "import statsmodels.formula.api as smf\n",
    "import pandas as pd\n",
    "import plotly.express as px\n",
    "import data_manager as dm\n",
    "\n",
    "df = dm.unstack_behaviors(pd.read_csv('../data/clean_df.csv'))\n",
    "df['period'] = pd.Categorical(df['period'], ['pregame', 'game', 'postgame'])\n",
    "df.sort_values('period', inplace=True)\n",
    "df.head()\n"
   ]
  },
  {
   "cell_type": "code",
   "execution_count": 17,
   "metadata": {},
   "outputs": [
    {
     "data": {
      "application/vnd.plotly.v1+json": {
       "config": {
        "plotlyServerURL": "https://plot.ly"
       },
       "data": [
        {
         "alignmentgroup": "True",
         "hovertemplate": "period=%{x}<br>Ludic=%{y}<extra></extra>",
         "legendgroup": "",
         "marker": {
          "color": "#636efa"
         },
         "name": "",
         "notched": false,
         "offsetgroup": "",
         "orientation": "v",
         "showlegend": false,
         "type": "box",
         "x": [
          "pregame",
          "pregame",
          "pregame",
          "pregame",
          "pregame",
          "pregame",
          "pregame",
          "pregame",
          "pregame",
          "pregame",
          "pregame",
          "pregame",
          "pregame",
          "pregame",
          "pregame",
          "pregame",
          "pregame",
          "pregame",
          "pregame",
          "pregame",
          "pregame",
          "pregame",
          "pregame",
          "pregame",
          "pregame",
          "pregame",
          "pregame",
          "pregame",
          "pregame",
          "pregame",
          "game",
          "game",
          "game",
          "game",
          "game",
          "game",
          "game",
          "game",
          "game",
          "game",
          "game",
          "game",
          "game",
          "game",
          "game",
          "game",
          "game",
          "game",
          "game",
          "game",
          "game",
          "game",
          "game",
          "game",
          "game",
          "game",
          "game",
          "game",
          "game",
          "game",
          "postgame",
          "postgame",
          "postgame",
          "postgame",
          "postgame",
          "postgame",
          "postgame",
          "postgame",
          "postgame",
          "postgame",
          "postgame",
          "postgame",
          "postgame",
          "postgame",
          "postgame",
          "postgame",
          "postgame",
          "postgame",
          "postgame",
          "postgame",
          "postgame",
          "postgame",
          "postgame",
          "postgame",
          "postgame",
          "postgame",
          "postgame",
          "postgame",
          "postgame",
          "postgame"
         ],
         "x0": " ",
         "xaxis": "x",
         "y": [
          99,
          247,
          0,
          0,
          0,
          0,
          141,
          230,
          0,
          25,
          0,
          0,
          55,
          58,
          375,
          30,
          69,
          0,
          42,
          0,
          144,
          0,
          173,
          192,
          146,
          0,
          9,
          231,
          0,
          469,
          207,
          596,
          89,
          136,
          3,
          128,
          194,
          373,
          402,
          0,
          63,
          0,
          501,
          208,
          13,
          293,
          202,
          0,
          279,
          38,
          245,
          304,
          104,
          4,
          138,
          0,
          0,
          235,
          192,
          107,
          0,
          0,
          9,
          160,
          0,
          220,
          110,
          96,
          0,
          297,
          0,
          16,
          10,
          0,
          130,
          0,
          34,
          11,
          70,
          0,
          5,
          41,
          92,
          73,
          123,
          412,
          12,
          2,
          67,
          6
         ],
         "y0": " ",
         "yaxis": "y"
        }
       ],
       "layout": {
        "boxmode": "group",
        "legend": {
         "tracegroupgap": 0
        },
        "margin": {
         "t": 60
        },
        "template": {
         "data": {
          "bar": [
           {
            "error_x": {
             "color": "#2a3f5f"
            },
            "error_y": {
             "color": "#2a3f5f"
            },
            "marker": {
             "line": {
              "color": "#E5ECF6",
              "width": 0.5
             },
             "pattern": {
              "fillmode": "overlay",
              "size": 10,
              "solidity": 0.2
             }
            },
            "type": "bar"
           }
          ],
          "barpolar": [
           {
            "marker": {
             "line": {
              "color": "#E5ECF6",
              "width": 0.5
             },
             "pattern": {
              "fillmode": "overlay",
              "size": 10,
              "solidity": 0.2
             }
            },
            "type": "barpolar"
           }
          ],
          "carpet": [
           {
            "aaxis": {
             "endlinecolor": "#2a3f5f",
             "gridcolor": "white",
             "linecolor": "white",
             "minorgridcolor": "white",
             "startlinecolor": "#2a3f5f"
            },
            "baxis": {
             "endlinecolor": "#2a3f5f",
             "gridcolor": "white",
             "linecolor": "white",
             "minorgridcolor": "white",
             "startlinecolor": "#2a3f5f"
            },
            "type": "carpet"
           }
          ],
          "choropleth": [
           {
            "colorbar": {
             "outlinewidth": 0,
             "ticks": ""
            },
            "type": "choropleth"
           }
          ],
          "contour": [
           {
            "colorbar": {
             "outlinewidth": 0,
             "ticks": ""
            },
            "colorscale": [
             [
              0,
              "#0d0887"
             ],
             [
              0.1111111111111111,
              "#46039f"
             ],
             [
              0.2222222222222222,
              "#7201a8"
             ],
             [
              0.3333333333333333,
              "#9c179e"
             ],
             [
              0.4444444444444444,
              "#bd3786"
             ],
             [
              0.5555555555555556,
              "#d8576b"
             ],
             [
              0.6666666666666666,
              "#ed7953"
             ],
             [
              0.7777777777777778,
              "#fb9f3a"
             ],
             [
              0.8888888888888888,
              "#fdca26"
             ],
             [
              1,
              "#f0f921"
             ]
            ],
            "type": "contour"
           }
          ],
          "contourcarpet": [
           {
            "colorbar": {
             "outlinewidth": 0,
             "ticks": ""
            },
            "type": "contourcarpet"
           }
          ],
          "heatmap": [
           {
            "colorbar": {
             "outlinewidth": 0,
             "ticks": ""
            },
            "colorscale": [
             [
              0,
              "#0d0887"
             ],
             [
              0.1111111111111111,
              "#46039f"
             ],
             [
              0.2222222222222222,
              "#7201a8"
             ],
             [
              0.3333333333333333,
              "#9c179e"
             ],
             [
              0.4444444444444444,
              "#bd3786"
             ],
             [
              0.5555555555555556,
              "#d8576b"
             ],
             [
              0.6666666666666666,
              "#ed7953"
             ],
             [
              0.7777777777777778,
              "#fb9f3a"
             ],
             [
              0.8888888888888888,
              "#fdca26"
             ],
             [
              1,
              "#f0f921"
             ]
            ],
            "type": "heatmap"
           }
          ],
          "heatmapgl": [
           {
            "colorbar": {
             "outlinewidth": 0,
             "ticks": ""
            },
            "colorscale": [
             [
              0,
              "#0d0887"
             ],
             [
              0.1111111111111111,
              "#46039f"
             ],
             [
              0.2222222222222222,
              "#7201a8"
             ],
             [
              0.3333333333333333,
              "#9c179e"
             ],
             [
              0.4444444444444444,
              "#bd3786"
             ],
             [
              0.5555555555555556,
              "#d8576b"
             ],
             [
              0.6666666666666666,
              "#ed7953"
             ],
             [
              0.7777777777777778,
              "#fb9f3a"
             ],
             [
              0.8888888888888888,
              "#fdca26"
             ],
             [
              1,
              "#f0f921"
             ]
            ],
            "type": "heatmapgl"
           }
          ],
          "histogram": [
           {
            "marker": {
             "pattern": {
              "fillmode": "overlay",
              "size": 10,
              "solidity": 0.2
             }
            },
            "type": "histogram"
           }
          ],
          "histogram2d": [
           {
            "colorbar": {
             "outlinewidth": 0,
             "ticks": ""
            },
            "colorscale": [
             [
              0,
              "#0d0887"
             ],
             [
              0.1111111111111111,
              "#46039f"
             ],
             [
              0.2222222222222222,
              "#7201a8"
             ],
             [
              0.3333333333333333,
              "#9c179e"
             ],
             [
              0.4444444444444444,
              "#bd3786"
             ],
             [
              0.5555555555555556,
              "#d8576b"
             ],
             [
              0.6666666666666666,
              "#ed7953"
             ],
             [
              0.7777777777777778,
              "#fb9f3a"
             ],
             [
              0.8888888888888888,
              "#fdca26"
             ],
             [
              1,
              "#f0f921"
             ]
            ],
            "type": "histogram2d"
           }
          ],
          "histogram2dcontour": [
           {
            "colorbar": {
             "outlinewidth": 0,
             "ticks": ""
            },
            "colorscale": [
             [
              0,
              "#0d0887"
             ],
             [
              0.1111111111111111,
              "#46039f"
             ],
             [
              0.2222222222222222,
              "#7201a8"
             ],
             [
              0.3333333333333333,
              "#9c179e"
             ],
             [
              0.4444444444444444,
              "#bd3786"
             ],
             [
              0.5555555555555556,
              "#d8576b"
             ],
             [
              0.6666666666666666,
              "#ed7953"
             ],
             [
              0.7777777777777778,
              "#fb9f3a"
             ],
             [
              0.8888888888888888,
              "#fdca26"
             ],
             [
              1,
              "#f0f921"
             ]
            ],
            "type": "histogram2dcontour"
           }
          ],
          "mesh3d": [
           {
            "colorbar": {
             "outlinewidth": 0,
             "ticks": ""
            },
            "type": "mesh3d"
           }
          ],
          "parcoords": [
           {
            "line": {
             "colorbar": {
              "outlinewidth": 0,
              "ticks": ""
             }
            },
            "type": "parcoords"
           }
          ],
          "pie": [
           {
            "automargin": true,
            "type": "pie"
           }
          ],
          "scatter": [
           {
            "fillpattern": {
             "fillmode": "overlay",
             "size": 10,
             "solidity": 0.2
            },
            "type": "scatter"
           }
          ],
          "scatter3d": [
           {
            "line": {
             "colorbar": {
              "outlinewidth": 0,
              "ticks": ""
             }
            },
            "marker": {
             "colorbar": {
              "outlinewidth": 0,
              "ticks": ""
             }
            },
            "type": "scatter3d"
           }
          ],
          "scattercarpet": [
           {
            "marker": {
             "colorbar": {
              "outlinewidth": 0,
              "ticks": ""
             }
            },
            "type": "scattercarpet"
           }
          ],
          "scattergeo": [
           {
            "marker": {
             "colorbar": {
              "outlinewidth": 0,
              "ticks": ""
             }
            },
            "type": "scattergeo"
           }
          ],
          "scattergl": [
           {
            "marker": {
             "colorbar": {
              "outlinewidth": 0,
              "ticks": ""
             }
            },
            "type": "scattergl"
           }
          ],
          "scattermapbox": [
           {
            "marker": {
             "colorbar": {
              "outlinewidth": 0,
              "ticks": ""
             }
            },
            "type": "scattermapbox"
           }
          ],
          "scatterpolar": [
           {
            "marker": {
             "colorbar": {
              "outlinewidth": 0,
              "ticks": ""
             }
            },
            "type": "scatterpolar"
           }
          ],
          "scatterpolargl": [
           {
            "marker": {
             "colorbar": {
              "outlinewidth": 0,
              "ticks": ""
             }
            },
            "type": "scatterpolargl"
           }
          ],
          "scatterternary": [
           {
            "marker": {
             "colorbar": {
              "outlinewidth": 0,
              "ticks": ""
             }
            },
            "type": "scatterternary"
           }
          ],
          "surface": [
           {
            "colorbar": {
             "outlinewidth": 0,
             "ticks": ""
            },
            "colorscale": [
             [
              0,
              "#0d0887"
             ],
             [
              0.1111111111111111,
              "#46039f"
             ],
             [
              0.2222222222222222,
              "#7201a8"
             ],
             [
              0.3333333333333333,
              "#9c179e"
             ],
             [
              0.4444444444444444,
              "#bd3786"
             ],
             [
              0.5555555555555556,
              "#d8576b"
             ],
             [
              0.6666666666666666,
              "#ed7953"
             ],
             [
              0.7777777777777778,
              "#fb9f3a"
             ],
             [
              0.8888888888888888,
              "#fdca26"
             ],
             [
              1,
              "#f0f921"
             ]
            ],
            "type": "surface"
           }
          ],
          "table": [
           {
            "cells": {
             "fill": {
              "color": "#EBF0F8"
             },
             "line": {
              "color": "white"
             }
            },
            "header": {
             "fill": {
              "color": "#C8D4E3"
             },
             "line": {
              "color": "white"
             }
            },
            "type": "table"
           }
          ]
         },
         "layout": {
          "annotationdefaults": {
           "arrowcolor": "#2a3f5f",
           "arrowhead": 0,
           "arrowwidth": 1
          },
          "autotypenumbers": "strict",
          "coloraxis": {
           "colorbar": {
            "outlinewidth": 0,
            "ticks": ""
           }
          },
          "colorscale": {
           "diverging": [
            [
             0,
             "#8e0152"
            ],
            [
             0.1,
             "#c51b7d"
            ],
            [
             0.2,
             "#de77ae"
            ],
            [
             0.3,
             "#f1b6da"
            ],
            [
             0.4,
             "#fde0ef"
            ],
            [
             0.5,
             "#f7f7f7"
            ],
            [
             0.6,
             "#e6f5d0"
            ],
            [
             0.7,
             "#b8e186"
            ],
            [
             0.8,
             "#7fbc41"
            ],
            [
             0.9,
             "#4d9221"
            ],
            [
             1,
             "#276419"
            ]
           ],
           "sequential": [
            [
             0,
             "#0d0887"
            ],
            [
             0.1111111111111111,
             "#46039f"
            ],
            [
             0.2222222222222222,
             "#7201a8"
            ],
            [
             0.3333333333333333,
             "#9c179e"
            ],
            [
             0.4444444444444444,
             "#bd3786"
            ],
            [
             0.5555555555555556,
             "#d8576b"
            ],
            [
             0.6666666666666666,
             "#ed7953"
            ],
            [
             0.7777777777777778,
             "#fb9f3a"
            ],
            [
             0.8888888888888888,
             "#fdca26"
            ],
            [
             1,
             "#f0f921"
            ]
           ],
           "sequentialminus": [
            [
             0,
             "#0d0887"
            ],
            [
             0.1111111111111111,
             "#46039f"
            ],
            [
             0.2222222222222222,
             "#7201a8"
            ],
            [
             0.3333333333333333,
             "#9c179e"
            ],
            [
             0.4444444444444444,
             "#bd3786"
            ],
            [
             0.5555555555555556,
             "#d8576b"
            ],
            [
             0.6666666666666666,
             "#ed7953"
            ],
            [
             0.7777777777777778,
             "#fb9f3a"
            ],
            [
             0.8888888888888888,
             "#fdca26"
            ],
            [
             1,
             "#f0f921"
            ]
           ]
          },
          "colorway": [
           "#636efa",
           "#EF553B",
           "#00cc96",
           "#ab63fa",
           "#FFA15A",
           "#19d3f3",
           "#FF6692",
           "#B6E880",
           "#FF97FF",
           "#FECB52"
          ],
          "font": {
           "color": "#2a3f5f"
          },
          "geo": {
           "bgcolor": "white",
           "lakecolor": "white",
           "landcolor": "#E5ECF6",
           "showlakes": true,
           "showland": true,
           "subunitcolor": "white"
          },
          "hoverlabel": {
           "align": "left"
          },
          "hovermode": "closest",
          "mapbox": {
           "style": "light"
          },
          "paper_bgcolor": "white",
          "plot_bgcolor": "#E5ECF6",
          "polar": {
           "angularaxis": {
            "gridcolor": "white",
            "linecolor": "white",
            "ticks": ""
           },
           "bgcolor": "#E5ECF6",
           "radialaxis": {
            "gridcolor": "white",
            "linecolor": "white",
            "ticks": ""
           }
          },
          "scene": {
           "xaxis": {
            "backgroundcolor": "#E5ECF6",
            "gridcolor": "white",
            "gridwidth": 2,
            "linecolor": "white",
            "showbackground": true,
            "ticks": "",
            "zerolinecolor": "white"
           },
           "yaxis": {
            "backgroundcolor": "#E5ECF6",
            "gridcolor": "white",
            "gridwidth": 2,
            "linecolor": "white",
            "showbackground": true,
            "ticks": "",
            "zerolinecolor": "white"
           },
           "zaxis": {
            "backgroundcolor": "#E5ECF6",
            "gridcolor": "white",
            "gridwidth": 2,
            "linecolor": "white",
            "showbackground": true,
            "ticks": "",
            "zerolinecolor": "white"
           }
          },
          "shapedefaults": {
           "line": {
            "color": "#2a3f5f"
           }
          },
          "ternary": {
           "aaxis": {
            "gridcolor": "white",
            "linecolor": "white",
            "ticks": ""
           },
           "baxis": {
            "gridcolor": "white",
            "linecolor": "white",
            "ticks": ""
           },
           "bgcolor": "#E5ECF6",
           "caxis": {
            "gridcolor": "white",
            "linecolor": "white",
            "ticks": ""
           }
          },
          "title": {
           "x": 0.05
          },
          "xaxis": {
           "automargin": true,
           "gridcolor": "white",
           "linecolor": "white",
           "ticks": "",
           "title": {
            "standoff": 15
           },
           "zerolinecolor": "white",
           "zerolinewidth": 2
          },
          "yaxis": {
           "automargin": true,
           "gridcolor": "white",
           "linecolor": "white",
           "ticks": "",
           "title": {
            "standoff": 15
           },
           "zerolinecolor": "white",
           "zerolinewidth": 2
          }
         }
        },
        "xaxis": {
         "anchor": "y",
         "domain": [
          0,
          1
         ],
         "title": {
          "text": "period"
         }
        },
        "yaxis": {
         "anchor": "x",
         "domain": [
          0,
          1
         ],
         "title": {
          "text": "Ludic"
         }
        }
       }
      }
     },
     "metadata": {},
     "output_type": "display_data"
    }
   ],
   "source": [
    "df['Positive'] = df['Ludic'] + df['Social'] + df['Social-Ludic']\n",
    "df['Negative'] = df['Agonistic'] + df['Public']\n",
    "px.box(df[df['subject']=='Popo'], x='period', y='Ludic')\n"
   ]
  },
  {
   "cell_type": "code",
   "execution_count": 49,
   "metadata": {},
   "outputs": [
    {
     "name": "stderr",
     "output_type": "stream",
     "text": [
      "/Users/wildbass/anaconda3/envs/ds/lib/python3.10/site-packages/statsmodels/base/model.py:604: ConvergenceWarning:\n",
      "\n",
      "Maximum Likelihood optimization failed to converge. Check mle_retvals\n",
      "\n",
      "/Users/wildbass/anaconda3/envs/ds/lib/python3.10/site-packages/statsmodels/regression/mixed_linear_model.py:2200: ConvergenceWarning:\n",
      "\n",
      "Retrying MixedLM optimization with lbfgs\n",
      "\n"
     ]
    },
    {
     "data": {
      "text/html": [
       "<table class=\"simpletable\">\n",
       "<tr>\n",
       "       <td>Model:</td>       <td>MixedLM</td> <td>Dependent Variable:</td>    <td>Ludic</td>  \n",
       "</tr>\n",
       "<tr>\n",
       "  <td>No. Observations:</td>   <td>537</td>         <td>Method:</td>          <td>REML</td>   \n",
       "</tr>\n",
       "<tr>\n",
       "     <td>No. Groups:</td>       <td>6</td>          <td>Scale:</td>         <td>6731.8192</td>\n",
       "</tr>\n",
       "<tr>\n",
       "  <td>Min. group size:</td>    <td>87</td>      <td>Log-Likelihood:</td>   <td>-3131.2550</td>\n",
       "</tr>\n",
       "<tr>\n",
       "  <td>Max. group size:</td>    <td>90</td>        <td>Converged:</td>          <td>Yes</td>   \n",
       "</tr>\n",
       "<tr>\n",
       "  <td>Mean group size:</td>   <td>89.5</td>            <td></td>                <td></td>     \n",
       "</tr>\n",
       "</table>\n",
       "<table class=\"simpletable\">\n",
       "<tr>\n",
       "                        <td></td>                          <th>Coef.</th>  <th>Std.Err.</th>   <th>z</th>   <th>P>|z|</th> <th>[0.025</th>  <th>0.975]</th>\n",
       "</tr>\n",
       "<tr>\n",
       "  <th>Intercept</th>                                      <td>32.711</td>   <td>16.534</td>  <td>1.978</td> <td>0.048</td>  <td>0.304</td>  <td>65.118</td>\n",
       "</tr>\n",
       "<tr>\n",
       "  <th>C(period)[T.game]</th>                              <td>20.677</td>   <td>15.046</td>  <td>1.374</td> <td>0.169</td> <td>-8.812</td>  <td>50.166</td>\n",
       "</tr>\n",
       "<tr>\n",
       "  <th>C(period)[T.postgame]</th>                           <td>8.239</td>   <td>14.608</td>  <td>0.564</td> <td>0.573</td> <td>-20.392</td> <td>36.870</td>\n",
       "</tr>\n",
       "<tr>\n",
       "  <th>Group Var</th>                                     <td>1415.908</td>  <td>14.905</td>    <td></td>      <td></td>       <td></td>        <td></td>   \n",
       "</tr>\n",
       "<tr>\n",
       "  <th>Group x C(period)[T.game] Cov</th>                 <td>1133.934</td>  <td>12.919</td>    <td></td>      <td></td>       <td></td>        <td></td>   \n",
       "</tr>\n",
       "<tr>\n",
       "  <th>C(period)[T.game] Var</th>                          <td>908.191</td>  <td>18.245</td>    <td></td>      <td></td>       <td></td>        <td></td>   \n",
       "</tr>\n",
       "<tr>\n",
       "  <th>Group x C(period)[T.postgame] Cov</th>              <td>111.473</td>  <td>12.146</td>    <td></td>      <td></td>       <td></td>        <td></td>   \n",
       "</tr>\n",
       "<tr>\n",
       "  <th>C(period)[T.game] x C(period)[T.postgame] Cov</th>  <td>88.457</td>   <td>15.340</td>    <td></td>      <td></td>       <td></td>        <td></td>   \n",
       "</tr>\n",
       "<tr>\n",
       "  <th>C(period)[T.postgame] Var</th>                      <td>828.958</td>  <td>16.880</td>    <td></td>      <td></td>       <td></td>        <td></td>   \n",
       "</tr>\n",
       "</table>"
      ],
      "text/plain": [
       "<class 'statsmodels.iolib.summary2.Summary'>\n",
       "\"\"\"\n",
       "                          Mixed Linear Model Regression Results\n",
       "==========================================================================================\n",
       "Model:                        MixedLM            Dependent Variable:            Ludic     \n",
       "No. Observations:             537                Method:                        REML      \n",
       "No. Groups:                   6                  Scale:                         6731.8192 \n",
       "Min. group size:              87                 Log-Likelihood:                -3131.2550\n",
       "Max. group size:              90                 Converged:                     Yes       \n",
       "Mean group size:              89.5                                                        \n",
       "------------------------------------------------------------------------------------------\n",
       "                                               Coef.   Std.Err.   z   P>|z|  [0.025 0.975]\n",
       "------------------------------------------------------------------------------------------\n",
       "Intercept                                       32.711   16.534 1.978 0.048   0.304 65.118\n",
       "C(period)[T.game]                               20.677   15.046 1.374 0.169  -8.812 50.166\n",
       "C(period)[T.postgame]                            8.239   14.608 0.564 0.573 -20.392 36.870\n",
       "Group Var                                     1415.908   14.905                           \n",
       "Group x C(period)[T.game] Cov                 1133.934   12.919                           \n",
       "C(period)[T.game] Var                          908.191   18.245                           \n",
       "Group x C(period)[T.postgame] Cov              111.473   12.146                           \n",
       "C(period)[T.game] x C(period)[T.postgame] Cov   88.457   15.340                           \n",
       "C(period)[T.postgame] Var                      828.958   16.880                           \n",
       "==========================================================================================\n",
       "\n",
       "\"\"\""
      ]
     },
     "execution_count": 49,
     "metadata": {},
     "output_type": "execute_result"
    }
   ],
   "source": [
    "lmm = smf.mixedlm('Ludic ~ C(period)', df, groups=df['subject'], re_formula='~1+C(period)').fit()\n",
    "lmm.summary()"
   ]
  },
  {
   "attachments": {},
   "cell_type": "markdown",
   "metadata": {},
   "source": [
    "Model:\tMixedLM         |\tDependent Variable:\tLudic\n",
    "No. Observations:\t537 |\tMethod:\tREML\n",
    "No. Groups:\t6           |\tScale:\t7041.3338\n",
    "Min. group size:\t87  |\tLog-Likelihood:\t-3139.6742\n",
    "Max. group size:\t90  |\tConverged:\tYes\n",
    "Mean group size:\t89.5|\t\t\n",
    "\n",
    " \n",
    "|      .                | Coef.    | \tStd.Err. | z\t | P>z\t |  [0.025\t| 0.975] |\n",
    "|-----------------------|----------|----         | ----  | ----  |  ----    | ----   |\n",
    "| Intercept\t            |  32.711  | 21.170\t     | 1.545 | 0.122 | \t-8.781\t| 74.204 |\n",
    "| C(period)[T.game]\t    | 20.747   | 8.858\t     | 2.342 | 0.019 | 3.387\t| 38.108 |\n",
    "| C(period)[T.postgame]\t| 8.217    | 8.870\t     | 0.926 | 0.354 | \t-9.169  | 25.602 |\n",
    "| Group Var\t            |2454.321  | 19.178      | \t.\t | .     |  .       | .      |\n"
   ]
  },
  {
   "cell_type": "code",
   "execution_count": 50,
   "metadata": {},
   "outputs": [
    {
     "data": {
      "text/plain": [
       "Intercept                                        32.711111\n",
       "C(period)[T.game]                                20.676877\n",
       "C(period)[T.postgame]                             8.239004\n",
       "Group Var                                         0.210331\n",
       "Group x C(period)[T.game] Cov                     0.168444\n",
       "C(period)[T.game] Var                             0.134910\n",
       "Group x C(period)[T.postgame] Cov                 0.016559\n",
       "C(period)[T.game] x C(period)[T.postgame] Cov     0.013140\n",
       "C(period)[T.postgame] Var                         0.123140\n",
       "dtype: float64"
      ]
     },
     "execution_count": 50,
     "metadata": {},
     "output_type": "execute_result"
    }
   ],
   "source": [
    "lmm.params"
   ]
  },
  {
   "cell_type": "code",
   "execution_count": 51,
   "metadata": {},
   "outputs": [
    {
     "data": {
      "text/plain": [
       "{'Hadia': Group                    33.821037\n",
       " C(period)[T.game]        27.039239\n",
       " C(period)[T.postgame]    47.422042\n",
       " dtype: float64,\n",
       " 'Jawie': Group                   -28.573277\n",
       " C(period)[T.game]       -22.876142\n",
       " C(period)[T.postgame]    -9.076010\n",
       " dtype: float64,\n",
       " 'Karl': Group                   -29.739776\n",
       " C(period)[T.game]       -23.810306\n",
       " C(period)[T.postgame]    -9.200016\n",
       " dtype: float64,\n",
       " 'Locky': Group                   -18.911461\n",
       " C(period)[T.game]       -15.149293\n",
       " C(period)[T.postgame]     4.121671\n",
       " dtype: float64,\n",
       " 'Popo': Group                    58.383729\n",
       " C(period)[T.game]        46.789343\n",
       " C(period)[T.postgame]   -24.774695\n",
       " dtype: float64,\n",
       " 'Storma': Group                   -14.980252\n",
       " C(period)[T.game]       -11.992840\n",
       " C(period)[T.postgame]    -8.492992\n",
       " dtype: float64}"
      ]
     },
     "execution_count": 51,
     "metadata": {},
     "output_type": "execute_result"
    }
   ],
   "source": [
    "lmm.random_effects"
   ]
  },
  {
   "attachments": {},
   "cell_type": "markdown",
   "metadata": {},
   "source": [
    "# Trendlines"
   ]
  },
  {
   "cell_type": "code",
   "execution_count": 31,
   "metadata": {},
   "outputs": [
    {
     "data": {
      "application/vnd.plotly.v1+json": {
       "config": {
        "plotlyServerURL": "https://plot.ly"
       },
       "data": [
        {
         "hovertemplate": "date=%{x}<br>Ludic=%{y}<extra></extra>",
         "legendgroup": "",
         "marker": {
          "color": "#636efa",
          "symbol": "circle"
         },
         "mode": "markers",
         "name": "",
         "orientation": "v",
         "showlegend": false,
         "type": "scatter",
         "x": [
          "2019-04-19",
          "2019-04-19",
          "2019-04-23",
          "2019-04-23",
          "2019-04-22",
          "2019-04-22",
          "2019-04-18",
          "2019-04-18",
          "2019-04-15",
          "2019-04-15",
          "2019-04-16",
          "2019-04-16",
          "2019-04-17",
          "2019-04-17",
          "2019-04-24",
          "2019-05-01",
          "2019-05-01",
          "2019-05-03",
          "2019-05-06",
          "2019-05-06",
          "2019-05-03",
          "2019-04-30",
          "2019-04-30",
          "2019-04-25",
          "2019-04-25",
          "2019-04-26",
          "2019-04-26",
          "2019-04-29",
          "2019-04-29",
          "2019-05-07",
          "2019-06-17",
          "2019-06-07",
          "2019-06-07",
          "2019-06-06",
          "2019-05-31",
          "2019-06-06",
          "2019-05-31",
          "2019-06-10",
          "2019-06-13",
          "2019-06-14",
          "2019-06-14",
          "2019-06-13",
          "2019-06-10",
          "2019-06-11",
          "2019-06-11",
          "2019-05-30",
          "2019-05-23",
          "2019-05-24",
          "2019-05-23",
          "2019-05-22",
          "2019-05-22",
          "2019-05-20",
          "2019-05-20",
          "2019-05-29",
          "2019-05-29",
          "2019-05-30",
          "2019-05-27",
          "2019-05-27",
          "2019-05-28",
          "2019-05-28",
          "2019-07-02",
          "2019-07-01",
          "2019-07-01",
          "2019-07-02",
          "2019-07-05",
          "2019-07-05",
          "2019-06-26",
          "2019-06-26",
          "2019-06-25",
          "2019-06-25",
          "2019-06-28",
          "2019-06-28",
          "2019-06-27",
          "2019-06-27",
          "2019-07-08",
          "2019-07-17",
          "2019-07-17",
          "2019-07-16",
          "2019-07-16",
          "2019-07-19",
          "2019-07-19",
          "2019-07-18",
          "2019-07-18",
          "2019-07-09",
          "2019-07-09",
          "2019-07-12",
          "2019-07-12",
          "2019-07-11",
          "2019-07-11",
          "2019-07-08"
         ],
         "xaxis": "x",
         "y": [
          99,
          247,
          0,
          0,
          0,
          0,
          141,
          230,
          0,
          25,
          0,
          0,
          55,
          58,
          375,
          30,
          69,
          0,
          42,
          0,
          144,
          0,
          173,
          192,
          146,
          0,
          9,
          231,
          0,
          469,
          207,
          596,
          89,
          136,
          3,
          128,
          194,
          373,
          402,
          0,
          63,
          0,
          501,
          208,
          13,
          293,
          202,
          0,
          279,
          38,
          245,
          304,
          104,
          4,
          138,
          0,
          0,
          235,
          192,
          107,
          0,
          0,
          9,
          160,
          0,
          220,
          110,
          96,
          0,
          297,
          0,
          16,
          10,
          0,
          130,
          0,
          34,
          11,
          70,
          0,
          5,
          41,
          92,
          73,
          123,
          412,
          12,
          2,
          67,
          6
         ],
         "yaxis": "y"
        }
       ],
       "layout": {
        "legend": {
         "tracegroupgap": 0
        },
        "margin": {
         "t": 60
        },
        "template": {
         "data": {
          "bar": [
           {
            "error_x": {
             "color": "#2a3f5f"
            },
            "error_y": {
             "color": "#2a3f5f"
            },
            "marker": {
             "line": {
              "color": "#E5ECF6",
              "width": 0.5
             },
             "pattern": {
              "fillmode": "overlay",
              "size": 10,
              "solidity": 0.2
             }
            },
            "type": "bar"
           }
          ],
          "barpolar": [
           {
            "marker": {
             "line": {
              "color": "#E5ECF6",
              "width": 0.5
             },
             "pattern": {
              "fillmode": "overlay",
              "size": 10,
              "solidity": 0.2
             }
            },
            "type": "barpolar"
           }
          ],
          "carpet": [
           {
            "aaxis": {
             "endlinecolor": "#2a3f5f",
             "gridcolor": "white",
             "linecolor": "white",
             "minorgridcolor": "white",
             "startlinecolor": "#2a3f5f"
            },
            "baxis": {
             "endlinecolor": "#2a3f5f",
             "gridcolor": "white",
             "linecolor": "white",
             "minorgridcolor": "white",
             "startlinecolor": "#2a3f5f"
            },
            "type": "carpet"
           }
          ],
          "choropleth": [
           {
            "colorbar": {
             "outlinewidth": 0,
             "ticks": ""
            },
            "type": "choropleth"
           }
          ],
          "contour": [
           {
            "colorbar": {
             "outlinewidth": 0,
             "ticks": ""
            },
            "colorscale": [
             [
              0,
              "#0d0887"
             ],
             [
              0.1111111111111111,
              "#46039f"
             ],
             [
              0.2222222222222222,
              "#7201a8"
             ],
             [
              0.3333333333333333,
              "#9c179e"
             ],
             [
              0.4444444444444444,
              "#bd3786"
             ],
             [
              0.5555555555555556,
              "#d8576b"
             ],
             [
              0.6666666666666666,
              "#ed7953"
             ],
             [
              0.7777777777777778,
              "#fb9f3a"
             ],
             [
              0.8888888888888888,
              "#fdca26"
             ],
             [
              1,
              "#f0f921"
             ]
            ],
            "type": "contour"
           }
          ],
          "contourcarpet": [
           {
            "colorbar": {
             "outlinewidth": 0,
             "ticks": ""
            },
            "type": "contourcarpet"
           }
          ],
          "heatmap": [
           {
            "colorbar": {
             "outlinewidth": 0,
             "ticks": ""
            },
            "colorscale": [
             [
              0,
              "#0d0887"
             ],
             [
              0.1111111111111111,
              "#46039f"
             ],
             [
              0.2222222222222222,
              "#7201a8"
             ],
             [
              0.3333333333333333,
              "#9c179e"
             ],
             [
              0.4444444444444444,
              "#bd3786"
             ],
             [
              0.5555555555555556,
              "#d8576b"
             ],
             [
              0.6666666666666666,
              "#ed7953"
             ],
             [
              0.7777777777777778,
              "#fb9f3a"
             ],
             [
              0.8888888888888888,
              "#fdca26"
             ],
             [
              1,
              "#f0f921"
             ]
            ],
            "type": "heatmap"
           }
          ],
          "heatmapgl": [
           {
            "colorbar": {
             "outlinewidth": 0,
             "ticks": ""
            },
            "colorscale": [
             [
              0,
              "#0d0887"
             ],
             [
              0.1111111111111111,
              "#46039f"
             ],
             [
              0.2222222222222222,
              "#7201a8"
             ],
             [
              0.3333333333333333,
              "#9c179e"
             ],
             [
              0.4444444444444444,
              "#bd3786"
             ],
             [
              0.5555555555555556,
              "#d8576b"
             ],
             [
              0.6666666666666666,
              "#ed7953"
             ],
             [
              0.7777777777777778,
              "#fb9f3a"
             ],
             [
              0.8888888888888888,
              "#fdca26"
             ],
             [
              1,
              "#f0f921"
             ]
            ],
            "type": "heatmapgl"
           }
          ],
          "histogram": [
           {
            "marker": {
             "pattern": {
              "fillmode": "overlay",
              "size": 10,
              "solidity": 0.2
             }
            },
            "type": "histogram"
           }
          ],
          "histogram2d": [
           {
            "colorbar": {
             "outlinewidth": 0,
             "ticks": ""
            },
            "colorscale": [
             [
              0,
              "#0d0887"
             ],
             [
              0.1111111111111111,
              "#46039f"
             ],
             [
              0.2222222222222222,
              "#7201a8"
             ],
             [
              0.3333333333333333,
              "#9c179e"
             ],
             [
              0.4444444444444444,
              "#bd3786"
             ],
             [
              0.5555555555555556,
              "#d8576b"
             ],
             [
              0.6666666666666666,
              "#ed7953"
             ],
             [
              0.7777777777777778,
              "#fb9f3a"
             ],
             [
              0.8888888888888888,
              "#fdca26"
             ],
             [
              1,
              "#f0f921"
             ]
            ],
            "type": "histogram2d"
           }
          ],
          "histogram2dcontour": [
           {
            "colorbar": {
             "outlinewidth": 0,
             "ticks": ""
            },
            "colorscale": [
             [
              0,
              "#0d0887"
             ],
             [
              0.1111111111111111,
              "#46039f"
             ],
             [
              0.2222222222222222,
              "#7201a8"
             ],
             [
              0.3333333333333333,
              "#9c179e"
             ],
             [
              0.4444444444444444,
              "#bd3786"
             ],
             [
              0.5555555555555556,
              "#d8576b"
             ],
             [
              0.6666666666666666,
              "#ed7953"
             ],
             [
              0.7777777777777778,
              "#fb9f3a"
             ],
             [
              0.8888888888888888,
              "#fdca26"
             ],
             [
              1,
              "#f0f921"
             ]
            ],
            "type": "histogram2dcontour"
           }
          ],
          "mesh3d": [
           {
            "colorbar": {
             "outlinewidth": 0,
             "ticks": ""
            },
            "type": "mesh3d"
           }
          ],
          "parcoords": [
           {
            "line": {
             "colorbar": {
              "outlinewidth": 0,
              "ticks": ""
             }
            },
            "type": "parcoords"
           }
          ],
          "pie": [
           {
            "automargin": true,
            "type": "pie"
           }
          ],
          "scatter": [
           {
            "fillpattern": {
             "fillmode": "overlay",
             "size": 10,
             "solidity": 0.2
            },
            "type": "scatter"
           }
          ],
          "scatter3d": [
           {
            "line": {
             "colorbar": {
              "outlinewidth": 0,
              "ticks": ""
             }
            },
            "marker": {
             "colorbar": {
              "outlinewidth": 0,
              "ticks": ""
             }
            },
            "type": "scatter3d"
           }
          ],
          "scattercarpet": [
           {
            "marker": {
             "colorbar": {
              "outlinewidth": 0,
              "ticks": ""
             }
            },
            "type": "scattercarpet"
           }
          ],
          "scattergeo": [
           {
            "marker": {
             "colorbar": {
              "outlinewidth": 0,
              "ticks": ""
             }
            },
            "type": "scattergeo"
           }
          ],
          "scattergl": [
           {
            "marker": {
             "colorbar": {
              "outlinewidth": 0,
              "ticks": ""
             }
            },
            "type": "scattergl"
           }
          ],
          "scattermapbox": [
           {
            "marker": {
             "colorbar": {
              "outlinewidth": 0,
              "ticks": ""
             }
            },
            "type": "scattermapbox"
           }
          ],
          "scatterpolar": [
           {
            "marker": {
             "colorbar": {
              "outlinewidth": 0,
              "ticks": ""
             }
            },
            "type": "scatterpolar"
           }
          ],
          "scatterpolargl": [
           {
            "marker": {
             "colorbar": {
              "outlinewidth": 0,
              "ticks": ""
             }
            },
            "type": "scatterpolargl"
           }
          ],
          "scatterternary": [
           {
            "marker": {
             "colorbar": {
              "outlinewidth": 0,
              "ticks": ""
             }
            },
            "type": "scatterternary"
           }
          ],
          "surface": [
           {
            "colorbar": {
             "outlinewidth": 0,
             "ticks": ""
            },
            "colorscale": [
             [
              0,
              "#0d0887"
             ],
             [
              0.1111111111111111,
              "#46039f"
             ],
             [
              0.2222222222222222,
              "#7201a8"
             ],
             [
              0.3333333333333333,
              "#9c179e"
             ],
             [
              0.4444444444444444,
              "#bd3786"
             ],
             [
              0.5555555555555556,
              "#d8576b"
             ],
             [
              0.6666666666666666,
              "#ed7953"
             ],
             [
              0.7777777777777778,
              "#fb9f3a"
             ],
             [
              0.8888888888888888,
              "#fdca26"
             ],
             [
              1,
              "#f0f921"
             ]
            ],
            "type": "surface"
           }
          ],
          "table": [
           {
            "cells": {
             "fill": {
              "color": "#EBF0F8"
             },
             "line": {
              "color": "white"
             }
            },
            "header": {
             "fill": {
              "color": "#C8D4E3"
             },
             "line": {
              "color": "white"
             }
            },
            "type": "table"
           }
          ]
         },
         "layout": {
          "annotationdefaults": {
           "arrowcolor": "#2a3f5f",
           "arrowhead": 0,
           "arrowwidth": 1
          },
          "autotypenumbers": "strict",
          "coloraxis": {
           "colorbar": {
            "outlinewidth": 0,
            "ticks": ""
           }
          },
          "colorscale": {
           "diverging": [
            [
             0,
             "#8e0152"
            ],
            [
             0.1,
             "#c51b7d"
            ],
            [
             0.2,
             "#de77ae"
            ],
            [
             0.3,
             "#f1b6da"
            ],
            [
             0.4,
             "#fde0ef"
            ],
            [
             0.5,
             "#f7f7f7"
            ],
            [
             0.6,
             "#e6f5d0"
            ],
            [
             0.7,
             "#b8e186"
            ],
            [
             0.8,
             "#7fbc41"
            ],
            [
             0.9,
             "#4d9221"
            ],
            [
             1,
             "#276419"
            ]
           ],
           "sequential": [
            [
             0,
             "#0d0887"
            ],
            [
             0.1111111111111111,
             "#46039f"
            ],
            [
             0.2222222222222222,
             "#7201a8"
            ],
            [
             0.3333333333333333,
             "#9c179e"
            ],
            [
             0.4444444444444444,
             "#bd3786"
            ],
            [
             0.5555555555555556,
             "#d8576b"
            ],
            [
             0.6666666666666666,
             "#ed7953"
            ],
            [
             0.7777777777777778,
             "#fb9f3a"
            ],
            [
             0.8888888888888888,
             "#fdca26"
            ],
            [
             1,
             "#f0f921"
            ]
           ],
           "sequentialminus": [
            [
             0,
             "#0d0887"
            ],
            [
             0.1111111111111111,
             "#46039f"
            ],
            [
             0.2222222222222222,
             "#7201a8"
            ],
            [
             0.3333333333333333,
             "#9c179e"
            ],
            [
             0.4444444444444444,
             "#bd3786"
            ],
            [
             0.5555555555555556,
             "#d8576b"
            ],
            [
             0.6666666666666666,
             "#ed7953"
            ],
            [
             0.7777777777777778,
             "#fb9f3a"
            ],
            [
             0.8888888888888888,
             "#fdca26"
            ],
            [
             1,
             "#f0f921"
            ]
           ]
          },
          "colorway": [
           "#636efa",
           "#EF553B",
           "#00cc96",
           "#ab63fa",
           "#FFA15A",
           "#19d3f3",
           "#FF6692",
           "#B6E880",
           "#FF97FF",
           "#FECB52"
          ],
          "font": {
           "color": "#2a3f5f"
          },
          "geo": {
           "bgcolor": "white",
           "lakecolor": "white",
           "landcolor": "#E5ECF6",
           "showlakes": true,
           "showland": true,
           "subunitcolor": "white"
          },
          "hoverlabel": {
           "align": "left"
          },
          "hovermode": "closest",
          "mapbox": {
           "style": "light"
          },
          "paper_bgcolor": "white",
          "plot_bgcolor": "#E5ECF6",
          "polar": {
           "angularaxis": {
            "gridcolor": "white",
            "linecolor": "white",
            "ticks": ""
           },
           "bgcolor": "#E5ECF6",
           "radialaxis": {
            "gridcolor": "white",
            "linecolor": "white",
            "ticks": ""
           }
          },
          "scene": {
           "xaxis": {
            "backgroundcolor": "#E5ECF6",
            "gridcolor": "white",
            "gridwidth": 2,
            "linecolor": "white",
            "showbackground": true,
            "ticks": "",
            "zerolinecolor": "white"
           },
           "yaxis": {
            "backgroundcolor": "#E5ECF6",
            "gridcolor": "white",
            "gridwidth": 2,
            "linecolor": "white",
            "showbackground": true,
            "ticks": "",
            "zerolinecolor": "white"
           },
           "zaxis": {
            "backgroundcolor": "#E5ECF6",
            "gridcolor": "white",
            "gridwidth": 2,
            "linecolor": "white",
            "showbackground": true,
            "ticks": "",
            "zerolinecolor": "white"
           }
          },
          "shapedefaults": {
           "line": {
            "color": "#2a3f5f"
           }
          },
          "ternary": {
           "aaxis": {
            "gridcolor": "white",
            "linecolor": "white",
            "ticks": ""
           },
           "baxis": {
            "gridcolor": "white",
            "linecolor": "white",
            "ticks": ""
           },
           "bgcolor": "#E5ECF6",
           "caxis": {
            "gridcolor": "white",
            "linecolor": "white",
            "ticks": ""
           }
          },
          "title": {
           "x": 0.05
          },
          "xaxis": {
           "automargin": true,
           "gridcolor": "white",
           "linecolor": "white",
           "ticks": "",
           "title": {
            "standoff": 15
           },
           "zerolinecolor": "white",
           "zerolinewidth": 2
          },
          "yaxis": {
           "automargin": true,
           "gridcolor": "white",
           "linecolor": "white",
           "ticks": "",
           "title": {
            "standoff": 15
           },
           "zerolinecolor": "white",
           "zerolinewidth": 2
          }
         }
        },
        "xaxis": {
         "anchor": "y",
         "domain": [
          0,
          1
         ],
         "title": {
          "text": "date"
         }
        },
        "yaxis": {
         "anchor": "x",
         "domain": [
          0,
          1
         ],
         "title": {
          "text": "Ludic"
         }
        }
       }
      }
     },
     "metadata": {},
     "output_type": "display_data"
    }
   ],
   "source": [
    "px.scatter(df[df['subject']=='Popo'], x='date', y='Ludic')"
   ]
  },
  {
   "cell_type": "code",
   "execution_count": 33,
   "metadata": {},
   "outputs": [],
   "source": [
    "df.sort_values(by='date', inplace=True)"
   ]
  },
  {
   "cell_type": "code",
   "execution_count": 46,
   "metadata": {},
   "outputs": [
    {
     "data": {
      "application/vnd.plotly.v1+json": {
       "config": {
        "plotlyServerURL": "https://plot.ly"
       },
       "data": [
        {
         "type": "scatter",
         "x": [
          "2019-04-15",
          "2019-04-15",
          "2019-04-16",
          "2019-04-16",
          "2019-04-17",
          "2019-04-17",
          "2019-04-18",
          "2019-04-18",
          "2019-04-19",
          "2019-04-19",
          "2019-04-22",
          "2019-04-22",
          "2019-04-23",
          "2019-04-23",
          "2019-04-24",
          "2019-04-25",
          "2019-04-25",
          "2019-04-26",
          "2019-04-26",
          "2019-04-29",
          "2019-04-29",
          "2019-04-30",
          "2019-04-30",
          "2019-05-01",
          "2019-05-01",
          "2019-05-03",
          "2019-05-03",
          "2019-05-06",
          "2019-05-06",
          "2019-05-07",
          "2019-05-20",
          "2019-05-20",
          "2019-05-22",
          "2019-05-22",
          "2019-05-23",
          "2019-05-23",
          "2019-05-24",
          "2019-05-27",
          "2019-05-27",
          "2019-05-28",
          "2019-05-28",
          "2019-05-29",
          "2019-05-29",
          "2019-05-30",
          "2019-05-30",
          "2019-05-31",
          "2019-05-31",
          "2019-06-06",
          "2019-06-06",
          "2019-06-07",
          "2019-06-07",
          "2019-06-10",
          "2019-06-10",
          "2019-06-11",
          "2019-06-11",
          "2019-06-13",
          "2019-06-13",
          "2019-06-14",
          "2019-06-14",
          "2019-06-17",
          "2019-06-25",
          "2019-06-25",
          "2019-06-26",
          "2019-06-26",
          "2019-06-27",
          "2019-06-27",
          "2019-06-28",
          "2019-06-28",
          "2019-07-01",
          "2019-07-01",
          "2019-07-02",
          "2019-07-02",
          "2019-07-05",
          "2019-07-05",
          "2019-07-08",
          "2019-07-08",
          "2019-07-09",
          "2019-07-09",
          "2019-07-11",
          "2019-07-11",
          "2019-07-12",
          "2019-07-12",
          "2019-07-16",
          "2019-07-16",
          "2019-07-17",
          "2019-07-17",
          "2019-07-18",
          "2019-07-18",
          "2019-07-19",
          "2019-07-19"
         ],
         "y": [
          null,
          null,
          null,
          null,
          null,
          null,
          null,
          null,
          null,
          119.1,
          115.2,
          59.3,
          95.7,
          95.7,
          64,
          86.5,
          129.4,
          136.7,
          119.8,
          119.8,
          119.8,
          120.9,
          105.8,
          106.6,
          112.4,
          85.1,
          42.2,
          29,
          70.9,
          70.9,
          70.9,
          69.8,
          66.9,
          67.5,
          75.1,
          76.2,
          76.2,
          76.2,
          37,
          38.2,
          43.1,
          43.1,
          24.7,
          23.3,
          9.9,
          8.8,
          8.8,
          54.7,
          72.9,
          89.2,
          84.3,
          84.3,
          84.3,
          84.3,
          119.9,
          128.4,
          128.4,
          82.5,
          61.6,
          44.1,
          46,
          46,
          46,
          69.7,
          34.1,
          71.5,
          71.7,
          90.7,
          93.7,
          93.7,
          91.8,
          112.1,
          172.1,
          152.4,
          152.4,
          107.7,
          107.5,
          94.4,
          105.4,
          137.7,
          142.7,
          122.4,
          72.6,
          127.5,
          131.2,
          130,
          130.8,
          145.9,
          131.9,
          99.6
         ]
        },
        {
         "mode": "markers",
         "type": "scatter",
         "x": [
          "2019-04-15",
          "2019-04-15",
          "2019-04-16",
          "2019-04-16",
          "2019-04-17",
          "2019-04-17",
          "2019-04-18",
          "2019-04-18",
          "2019-04-19",
          "2019-04-19",
          "2019-04-22",
          "2019-04-22",
          "2019-04-23",
          "2019-04-23",
          "2019-04-24",
          "2019-04-25",
          "2019-04-25",
          "2019-04-26",
          "2019-04-26",
          "2019-04-29",
          "2019-04-29",
          "2019-04-30",
          "2019-04-30",
          "2019-05-01",
          "2019-05-01",
          "2019-05-03",
          "2019-05-03",
          "2019-05-06",
          "2019-05-06",
          "2019-05-07",
          "2019-05-20",
          "2019-05-20",
          "2019-05-22",
          "2019-05-22",
          "2019-05-23",
          "2019-05-23",
          "2019-05-24",
          "2019-05-27",
          "2019-05-27",
          "2019-05-28",
          "2019-05-28",
          "2019-05-29",
          "2019-05-29",
          "2019-05-30",
          "2019-05-30",
          "2019-05-31",
          "2019-05-31",
          "2019-06-06",
          "2019-06-06",
          "2019-06-07",
          "2019-06-07",
          "2019-06-10",
          "2019-06-10",
          "2019-06-11",
          "2019-06-11",
          "2019-06-13",
          "2019-06-13",
          "2019-06-14",
          "2019-06-14",
          "2019-06-17",
          "2019-06-25",
          "2019-06-25",
          "2019-06-26",
          "2019-06-26",
          "2019-06-27",
          "2019-06-27",
          "2019-06-28",
          "2019-06-28",
          "2019-07-01",
          "2019-07-01",
          "2019-07-02",
          "2019-07-02",
          "2019-07-05",
          "2019-07-05",
          "2019-07-08",
          "2019-07-08",
          "2019-07-09",
          "2019-07-09",
          "2019-07-11",
          "2019-07-11",
          "2019-07-12",
          "2019-07-12",
          "2019-07-16",
          "2019-07-16",
          "2019-07-17",
          "2019-07-17",
          "2019-07-18",
          "2019-07-18",
          "2019-07-19",
          "2019-07-19"
         ],
         "y": [
          39,
          559,
          0,
          0,
          317,
          48,
          0,
          59,
          169,
          0,
          0,
          0,
          364,
          0,
          0,
          273,
          429,
          132,
          0,
          0,
          0,
          11,
          213,
          8,
          58,
          0,
          0,
          0,
          419,
          0,
          0,
          0,
          184,
          14,
          134,
          11,
          0,
          0,
          27,
          12,
          49,
          0,
          0,
          0,
          0,
          0,
          0,
          459,
          209,
          175,
          0,
          0,
          0,
          0,
          356,
          85,
          0,
          0,
          0,
          0,
          19,
          0,
          0,
          237,
          0,
          459,
          2,
          190,
          30,
          0,
          0,
          203,
          600,
          40,
          0,
          12,
          0,
          59,
          140,
          323,
          50,
          0,
          102,
          589,
          37,
          0,
          8,
          210,
          0,
          0
         ]
        }
       ],
       "layout": {
        "template": {
         "data": {
          "bar": [
           {
            "error_x": {
             "color": "#2a3f5f"
            },
            "error_y": {
             "color": "#2a3f5f"
            },
            "marker": {
             "line": {
              "color": "#E5ECF6",
              "width": 0.5
             },
             "pattern": {
              "fillmode": "overlay",
              "size": 10,
              "solidity": 0.2
             }
            },
            "type": "bar"
           }
          ],
          "barpolar": [
           {
            "marker": {
             "line": {
              "color": "#E5ECF6",
              "width": 0.5
             },
             "pattern": {
              "fillmode": "overlay",
              "size": 10,
              "solidity": 0.2
             }
            },
            "type": "barpolar"
           }
          ],
          "carpet": [
           {
            "aaxis": {
             "endlinecolor": "#2a3f5f",
             "gridcolor": "white",
             "linecolor": "white",
             "minorgridcolor": "white",
             "startlinecolor": "#2a3f5f"
            },
            "baxis": {
             "endlinecolor": "#2a3f5f",
             "gridcolor": "white",
             "linecolor": "white",
             "minorgridcolor": "white",
             "startlinecolor": "#2a3f5f"
            },
            "type": "carpet"
           }
          ],
          "choropleth": [
           {
            "colorbar": {
             "outlinewidth": 0,
             "ticks": ""
            },
            "type": "choropleth"
           }
          ],
          "contour": [
           {
            "colorbar": {
             "outlinewidth": 0,
             "ticks": ""
            },
            "colorscale": [
             [
              0,
              "#0d0887"
             ],
             [
              0.1111111111111111,
              "#46039f"
             ],
             [
              0.2222222222222222,
              "#7201a8"
             ],
             [
              0.3333333333333333,
              "#9c179e"
             ],
             [
              0.4444444444444444,
              "#bd3786"
             ],
             [
              0.5555555555555556,
              "#d8576b"
             ],
             [
              0.6666666666666666,
              "#ed7953"
             ],
             [
              0.7777777777777778,
              "#fb9f3a"
             ],
             [
              0.8888888888888888,
              "#fdca26"
             ],
             [
              1,
              "#f0f921"
             ]
            ],
            "type": "contour"
           }
          ],
          "contourcarpet": [
           {
            "colorbar": {
             "outlinewidth": 0,
             "ticks": ""
            },
            "type": "contourcarpet"
           }
          ],
          "heatmap": [
           {
            "colorbar": {
             "outlinewidth": 0,
             "ticks": ""
            },
            "colorscale": [
             [
              0,
              "#0d0887"
             ],
             [
              0.1111111111111111,
              "#46039f"
             ],
             [
              0.2222222222222222,
              "#7201a8"
             ],
             [
              0.3333333333333333,
              "#9c179e"
             ],
             [
              0.4444444444444444,
              "#bd3786"
             ],
             [
              0.5555555555555556,
              "#d8576b"
             ],
             [
              0.6666666666666666,
              "#ed7953"
             ],
             [
              0.7777777777777778,
              "#fb9f3a"
             ],
             [
              0.8888888888888888,
              "#fdca26"
             ],
             [
              1,
              "#f0f921"
             ]
            ],
            "type": "heatmap"
           }
          ],
          "heatmapgl": [
           {
            "colorbar": {
             "outlinewidth": 0,
             "ticks": ""
            },
            "colorscale": [
             [
              0,
              "#0d0887"
             ],
             [
              0.1111111111111111,
              "#46039f"
             ],
             [
              0.2222222222222222,
              "#7201a8"
             ],
             [
              0.3333333333333333,
              "#9c179e"
             ],
             [
              0.4444444444444444,
              "#bd3786"
             ],
             [
              0.5555555555555556,
              "#d8576b"
             ],
             [
              0.6666666666666666,
              "#ed7953"
             ],
             [
              0.7777777777777778,
              "#fb9f3a"
             ],
             [
              0.8888888888888888,
              "#fdca26"
             ],
             [
              1,
              "#f0f921"
             ]
            ],
            "type": "heatmapgl"
           }
          ],
          "histogram": [
           {
            "marker": {
             "pattern": {
              "fillmode": "overlay",
              "size": 10,
              "solidity": 0.2
             }
            },
            "type": "histogram"
           }
          ],
          "histogram2d": [
           {
            "colorbar": {
             "outlinewidth": 0,
             "ticks": ""
            },
            "colorscale": [
             [
              0,
              "#0d0887"
             ],
             [
              0.1111111111111111,
              "#46039f"
             ],
             [
              0.2222222222222222,
              "#7201a8"
             ],
             [
              0.3333333333333333,
              "#9c179e"
             ],
             [
              0.4444444444444444,
              "#bd3786"
             ],
             [
              0.5555555555555556,
              "#d8576b"
             ],
             [
              0.6666666666666666,
              "#ed7953"
             ],
             [
              0.7777777777777778,
              "#fb9f3a"
             ],
             [
              0.8888888888888888,
              "#fdca26"
             ],
             [
              1,
              "#f0f921"
             ]
            ],
            "type": "histogram2d"
           }
          ],
          "histogram2dcontour": [
           {
            "colorbar": {
             "outlinewidth": 0,
             "ticks": ""
            },
            "colorscale": [
             [
              0,
              "#0d0887"
             ],
             [
              0.1111111111111111,
              "#46039f"
             ],
             [
              0.2222222222222222,
              "#7201a8"
             ],
             [
              0.3333333333333333,
              "#9c179e"
             ],
             [
              0.4444444444444444,
              "#bd3786"
             ],
             [
              0.5555555555555556,
              "#d8576b"
             ],
             [
              0.6666666666666666,
              "#ed7953"
             ],
             [
              0.7777777777777778,
              "#fb9f3a"
             ],
             [
              0.8888888888888888,
              "#fdca26"
             ],
             [
              1,
              "#f0f921"
             ]
            ],
            "type": "histogram2dcontour"
           }
          ],
          "mesh3d": [
           {
            "colorbar": {
             "outlinewidth": 0,
             "ticks": ""
            },
            "type": "mesh3d"
           }
          ],
          "parcoords": [
           {
            "line": {
             "colorbar": {
              "outlinewidth": 0,
              "ticks": ""
             }
            },
            "type": "parcoords"
           }
          ],
          "pie": [
           {
            "automargin": true,
            "type": "pie"
           }
          ],
          "scatter": [
           {
            "fillpattern": {
             "fillmode": "overlay",
             "size": 10,
             "solidity": 0.2
            },
            "type": "scatter"
           }
          ],
          "scatter3d": [
           {
            "line": {
             "colorbar": {
              "outlinewidth": 0,
              "ticks": ""
             }
            },
            "marker": {
             "colorbar": {
              "outlinewidth": 0,
              "ticks": ""
             }
            },
            "type": "scatter3d"
           }
          ],
          "scattercarpet": [
           {
            "marker": {
             "colorbar": {
              "outlinewidth": 0,
              "ticks": ""
             }
            },
            "type": "scattercarpet"
           }
          ],
          "scattergeo": [
           {
            "marker": {
             "colorbar": {
              "outlinewidth": 0,
              "ticks": ""
             }
            },
            "type": "scattergeo"
           }
          ],
          "scattergl": [
           {
            "marker": {
             "colorbar": {
              "outlinewidth": 0,
              "ticks": ""
             }
            },
            "type": "scattergl"
           }
          ],
          "scattermapbox": [
           {
            "marker": {
             "colorbar": {
              "outlinewidth": 0,
              "ticks": ""
             }
            },
            "type": "scattermapbox"
           }
          ],
          "scatterpolar": [
           {
            "marker": {
             "colorbar": {
              "outlinewidth": 0,
              "ticks": ""
             }
            },
            "type": "scatterpolar"
           }
          ],
          "scatterpolargl": [
           {
            "marker": {
             "colorbar": {
              "outlinewidth": 0,
              "ticks": ""
             }
            },
            "type": "scatterpolargl"
           }
          ],
          "scatterternary": [
           {
            "marker": {
             "colorbar": {
              "outlinewidth": 0,
              "ticks": ""
             }
            },
            "type": "scatterternary"
           }
          ],
          "surface": [
           {
            "colorbar": {
             "outlinewidth": 0,
             "ticks": ""
            },
            "colorscale": [
             [
              0,
              "#0d0887"
             ],
             [
              0.1111111111111111,
              "#46039f"
             ],
             [
              0.2222222222222222,
              "#7201a8"
             ],
             [
              0.3333333333333333,
              "#9c179e"
             ],
             [
              0.4444444444444444,
              "#bd3786"
             ],
             [
              0.5555555555555556,
              "#d8576b"
             ],
             [
              0.6666666666666666,
              "#ed7953"
             ],
             [
              0.7777777777777778,
              "#fb9f3a"
             ],
             [
              0.8888888888888888,
              "#fdca26"
             ],
             [
              1,
              "#f0f921"
             ]
            ],
            "type": "surface"
           }
          ],
          "table": [
           {
            "cells": {
             "fill": {
              "color": "#EBF0F8"
             },
             "line": {
              "color": "white"
             }
            },
            "header": {
             "fill": {
              "color": "#C8D4E3"
             },
             "line": {
              "color": "white"
             }
            },
            "type": "table"
           }
          ]
         },
         "layout": {
          "annotationdefaults": {
           "arrowcolor": "#2a3f5f",
           "arrowhead": 0,
           "arrowwidth": 1
          },
          "autotypenumbers": "strict",
          "coloraxis": {
           "colorbar": {
            "outlinewidth": 0,
            "ticks": ""
           }
          },
          "colorscale": {
           "diverging": [
            [
             0,
             "#8e0152"
            ],
            [
             0.1,
             "#c51b7d"
            ],
            [
             0.2,
             "#de77ae"
            ],
            [
             0.3,
             "#f1b6da"
            ],
            [
             0.4,
             "#fde0ef"
            ],
            [
             0.5,
             "#f7f7f7"
            ],
            [
             0.6,
             "#e6f5d0"
            ],
            [
             0.7,
             "#b8e186"
            ],
            [
             0.8,
             "#7fbc41"
            ],
            [
             0.9,
             "#4d9221"
            ],
            [
             1,
             "#276419"
            ]
           ],
           "sequential": [
            [
             0,
             "#0d0887"
            ],
            [
             0.1111111111111111,
             "#46039f"
            ],
            [
             0.2222222222222222,
             "#7201a8"
            ],
            [
             0.3333333333333333,
             "#9c179e"
            ],
            [
             0.4444444444444444,
             "#bd3786"
            ],
            [
             0.5555555555555556,
             "#d8576b"
            ],
            [
             0.6666666666666666,
             "#ed7953"
            ],
            [
             0.7777777777777778,
             "#fb9f3a"
            ],
            [
             0.8888888888888888,
             "#fdca26"
            ],
            [
             1,
             "#f0f921"
            ]
           ],
           "sequentialminus": [
            [
             0,
             "#0d0887"
            ],
            [
             0.1111111111111111,
             "#46039f"
            ],
            [
             0.2222222222222222,
             "#7201a8"
            ],
            [
             0.3333333333333333,
             "#9c179e"
            ],
            [
             0.4444444444444444,
             "#bd3786"
            ],
            [
             0.5555555555555556,
             "#d8576b"
            ],
            [
             0.6666666666666666,
             "#ed7953"
            ],
            [
             0.7777777777777778,
             "#fb9f3a"
            ],
            [
             0.8888888888888888,
             "#fdca26"
            ],
            [
             1,
             "#f0f921"
            ]
           ]
          },
          "colorway": [
           "#636efa",
           "#EF553B",
           "#00cc96",
           "#ab63fa",
           "#FFA15A",
           "#19d3f3",
           "#FF6692",
           "#B6E880",
           "#FF97FF",
           "#FECB52"
          ],
          "font": {
           "color": "#2a3f5f"
          },
          "geo": {
           "bgcolor": "white",
           "lakecolor": "white",
           "landcolor": "#E5ECF6",
           "showlakes": true,
           "showland": true,
           "subunitcolor": "white"
          },
          "hoverlabel": {
           "align": "left"
          },
          "hovermode": "closest",
          "mapbox": {
           "style": "light"
          },
          "paper_bgcolor": "white",
          "plot_bgcolor": "#E5ECF6",
          "polar": {
           "angularaxis": {
            "gridcolor": "white",
            "linecolor": "white",
            "ticks": ""
           },
           "bgcolor": "#E5ECF6",
           "radialaxis": {
            "gridcolor": "white",
            "linecolor": "white",
            "ticks": ""
           }
          },
          "scene": {
           "xaxis": {
            "backgroundcolor": "#E5ECF6",
            "gridcolor": "white",
            "gridwidth": 2,
            "linecolor": "white",
            "showbackground": true,
            "ticks": "",
            "zerolinecolor": "white"
           },
           "yaxis": {
            "backgroundcolor": "#E5ECF6",
            "gridcolor": "white",
            "gridwidth": 2,
            "linecolor": "white",
            "showbackground": true,
            "ticks": "",
            "zerolinecolor": "white"
           },
           "zaxis": {
            "backgroundcolor": "#E5ECF6",
            "gridcolor": "white",
            "gridwidth": 2,
            "linecolor": "white",
            "showbackground": true,
            "ticks": "",
            "zerolinecolor": "white"
           }
          },
          "shapedefaults": {
           "line": {
            "color": "#2a3f5f"
           }
          },
          "ternary": {
           "aaxis": {
            "gridcolor": "white",
            "linecolor": "white",
            "ticks": ""
           },
           "baxis": {
            "gridcolor": "white",
            "linecolor": "white",
            "ticks": ""
           },
           "bgcolor": "#E5ECF6",
           "caxis": {
            "gridcolor": "white",
            "linecolor": "white",
            "ticks": ""
           }
          },
          "title": {
           "x": 0.05
          },
          "xaxis": {
           "automargin": true,
           "gridcolor": "white",
           "linecolor": "white",
           "ticks": "",
           "title": {
            "standoff": 15
           },
           "zerolinecolor": "white",
           "zerolinewidth": 2
          },
          "yaxis": {
           "automargin": true,
           "gridcolor": "white",
           "linecolor": "white",
           "ticks": "",
           "title": {
            "standoff": 15
           },
           "zerolinecolor": "white",
           "zerolinewidth": 2
          }
         }
        },
        "xaxis": {
         "anchor": "y",
         "domain": [
          0,
          1
         ]
        },
        "yaxis": {
         "anchor": "x",
         "domain": [
          0,
          1
         ]
        }
       }
      }
     },
     "metadata": {},
     "output_type": "display_data"
    }
   ],
   "source": [
    "from plotly.subplots import make_subplots\n",
    "import plotly.graph_objects as go\n",
    "\n",
    "ma = df.loc[df['subject']=='Popo', 'Social-Ludic'].rolling(10).mean()\n",
    "fig = make_subplots()\n",
    "fig.add_trace(go.Scatter(x=df.loc[df['subject']=='Popo', 'date'], y=ma))\n",
    "fig.add_trace(go.Scatter(x=df.loc[df['subject']=='Popo', 'date'], y=df.loc[df['subject']=='Popo', 'Social-Ludic'], mode='markers'))\n",
    "fig.show()\n"
   ]
  },
  {
   "cell_type": "code",
   "execution_count": null,
   "metadata": {},
   "outputs": [],
   "source": []
  }
 ],
 "metadata": {
  "kernelspec": {
   "display_name": "ds",
   "language": "python",
   "name": "python3"
  },
  "language_info": {
   "codemirror_mode": {
    "name": "ipython",
    "version": 3
   },
   "file_extension": ".py",
   "mimetype": "text/x-python",
   "name": "python",
   "nbconvert_exporter": "python",
   "pygments_lexer": "ipython3",
   "version": "3.10.11"
  },
  "orig_nbformat": 4,
  "vscode": {
   "interpreter": {
    "hash": "51fb76d8006b5ab0e0c4fcd365bc9e8f1c8f496fafcc4f75d4d513b2517b500d"
   }
  }
 },
 "nbformat": 4,
 "nbformat_minor": 2
}
